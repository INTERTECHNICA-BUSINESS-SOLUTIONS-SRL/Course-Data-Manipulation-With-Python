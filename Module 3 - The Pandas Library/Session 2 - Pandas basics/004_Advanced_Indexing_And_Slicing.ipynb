{
  "cells": [
    {
      "cell_type": "markdown",
      "metadata": {
        "id": "KDuU6OSWXKo4"
      },
      "source": [
        "![*INTERTECHNICA - SOLON EDUCATIONAL PROGRAMS - TECHNOLOGY LINE*](https://solon.intertechnica.com/assets/IntertechnicaSolonEducationalPrograms-TechnologyLine.png)"
      ]
    },
    {
      "cell_type": "markdown",
      "metadata": {
        "id": "OeBbVwSSXKo9"
      },
      "source": [
        "# Data Manipulation with Python - The Pandas Library - Advanced Indexing and Slicing"
      ]
    },
    {
      "cell_type": "markdown",
      "metadata": {
        "id": "uUhqqWdPXKpA"
      },
      "source": [
        "*Basic initialization of the workspace.*"
      ]
    },
    {
      "cell_type": "code",
      "source": [
        "!python -m pip install numpy\n",
        "import numpy as np\n",
        "print (\"NumPy installed at version: {}\".format(np.__version__))"
      ],
      "metadata": {
        "colab": {
          "base_uri": "https://localhost:8080/"
        },
        "id": "OJzCFKioH6UR",
        "outputId": "a3de2121-8dd0-40ce-916c-130b9f67702d"
      },
      "execution_count": 1,
      "outputs": [
        {
          "output_type": "stream",
          "name": "stdout",
          "text": [
            "Requirement already satisfied: numpy in /usr/local/lib/python3.7/dist-packages (1.19.5)\n",
            "NumPy installed at version: 1.19.5\n"
          ]
        }
      ]
    },
    {
      "cell_type": "code",
      "execution_count": 2,
      "metadata": {
        "colab": {
          "base_uri": "https://localhost:8080/"
        },
        "id": "AjAZRU7GXKpE",
        "outputId": "21256a7b-8959-447a-ad87-2ae75cbf7c13"
      },
      "outputs": [
        {
          "output_type": "stream",
          "name": "stdout",
          "text": [
            "Requirement already satisfied: pandas in /usr/local/lib/python3.7/dist-packages (1.1.5)\n",
            "Requirement already satisfied: numpy>=1.15.4 in /usr/local/lib/python3.7/dist-packages (from pandas) (1.19.5)\n",
            "Requirement already satisfied: pytz>=2017.2 in /usr/local/lib/python3.7/dist-packages (from pandas) (2018.9)\n",
            "Requirement already satisfied: python-dateutil>=2.7.3 in /usr/local/lib/python3.7/dist-packages (from pandas) (2.8.2)\n",
            "Requirement already satisfied: six>=1.5 in /usr/local/lib/python3.7/dist-packages (from python-dateutil>=2.7.3->pandas) (1.15.0)\n",
            "Pandas installed at version: 1.1.5\n"
          ]
        }
      ],
      "source": [
        "!python -m pip install pandas\n",
        "import pandas as pd\n",
        "print (\"Pandas installed at version: {}\".format(pd.__version__))\n",
        "\n",
        "#adjust pandas DataFrame display for a wider target \n",
        "pd.set_option('display.expand_frame_repr', False)"
      ]
    },
    {
      "cell_type": "code",
      "source": [
        "# load a sample data series\n",
        "sample_data_series = pd.read_excel(\n",
        "   \"https://raw.githubusercontent.com/INTERTECHNICA-BUSINESS-SOLUTIONS-SRL/CourseDataManipulationWithPython/main/Module%203%20-%20The%20Pandas%20Library/Session%202%20-%20Pandas%20basics/data/RO_Urban_Air_Polution.xlsx\",\n",
        "   skiprows = 1,\n",
        "   index_col = 0  \n",
        ").squeeze()\n",
        "\n",
        "# load a sample data frame\n",
        "sample_data_frame = pd.read_excel(\n",
        "    \"https://github.com/INTERTECHNICA-BUSINESS-SOLUTIONS-SRL/CourseDataManipulationWithPython/raw/main/Module%203%20-%20The%20Pandas%20Library/Session%202%20-%20Pandas%20basics/data/RO_Science_And_Technology.xlsx\",\n",
        " )\n"
      ],
      "metadata": {
        "id": "yxQNVd_YTSJJ"
      },
      "execution_count": 3,
      "outputs": []
    },
    {
      "cell_type": "markdown",
      "metadata": {
        "id": "LlxTCVx0XKpJ"
      },
      "source": [
        "## 1. Series indexing and slicing"
      ]
    },
    {
      "cell_type": "markdown",
      "source": [
        "While similar to NumPy, the Pandas index and slicing mechanisms are an improvement: they ensure both index and positional approach for data selection."
      ],
      "metadata": {
        "id": "DwQTc3Cj9xTH"
      }
    },
    {
      "cell_type": "markdown",
      "source": [
        "### 1.1 Accessing the series index and values"
      ],
      "metadata": {
        "id": "3L5Y1XHc9pot"
      }
    },
    {
      "cell_type": "markdown",
      "source": [
        "The Pandas series index and values can be accessed by the **index** and **values** properties:"
      ],
      "metadata": {
        "id": "PwGBHe5P4Bib"
      }
    },
    {
      "cell_type": "code",
      "source": [
        "# display the index and values for the data series\n",
        "print(\n",
        "    \"The data series \\n{} n has the index \\n{}\\n and the values \\n{}\\n\".format(\n",
        "        sample_data_series,\n",
        "        sample_data_series.index,\n",
        "        sample_data_series.values\n",
        "    )\n",
        ")"
      ],
      "metadata": {
        "colab": {
          "base_uri": "https://localhost:8080/"
        },
        "id": "l_WAt1UI4epv",
        "outputId": "95a45292-c05d-453b-dd84-d4558a8187ed"
      },
      "execution_count": 4,
      "outputs": [
        {
          "output_type": "stream",
          "name": "stdout",
          "text": [
            "The data series \n",
            "Year\n",
            "1990    20.32\n",
            "1995    18.57\n",
            "2000    17.70\n",
            "2005    17.16\n",
            "2010    17.06\n",
            "2011    17.64\n",
            "2012    16.32\n",
            "2013    15.37\n",
            "2014    15.01\n",
            "2015    15.43\n",
            "2016    14.54\n",
            "2017    14.61\n",
            "Name: Air Pollution Mean Exposure, dtype: float64 n has the index \n",
            "Int64Index([1990, 1995, 2000, 2005, 2010, 2011, 2012, 2013, 2014, 2015, 2016,\n",
            "            2017],\n",
            "           dtype='int64', name='Year')\n",
            " and the values \n",
            "[20.32 18.57 17.7  17.16 17.06 17.64 16.32 15.37 15.01 15.43 14.54 14.61]\n",
            "\n"
          ]
        }
      ]
    },
    {
      "cell_type": "markdown",
      "source": [
        "The **values** attributes of the index allows the access of the index values as an array: "
      ],
      "metadata": {
        "id": "uQaWu0p75RiT"
      }
    },
    {
      "cell_type": "code",
      "source": [
        "print(\n",
        "    \"The values of the index \\n{}\\n are \\n{}\\n\".format(\n",
        "        sample_data_series.index,\n",
        "        sample_data_series.index.values        \n",
        "    )\n",
        ")"
      ],
      "metadata": {
        "colab": {
          "base_uri": "https://localhost:8080/"
        },
        "id": "Jm8jX7305QjK",
        "outputId": "705772bf-3d4c-476a-a365-91b9f5076c5c"
      },
      "execution_count": 5,
      "outputs": [
        {
          "output_type": "stream",
          "name": "stdout",
          "text": [
            "The values of the index \n",
            "Int64Index([1990, 1995, 2000, 2005, 2010, 2011, 2012, 2013, 2014, 2015, 2016,\n",
            "            2017],\n",
            "           dtype='int64', name='Year')\n",
            " are \n",
            "[1990 1995 2000 2005 2010 2011 2012 2013 2014 2015 2016 2017]\n",
            "\n"
          ]
        }
      ]
    },
    {
      "cell_type": "markdown",
      "source": [
        "It is important to note that in case the index of the series is a datetime type, the series is usually known as **timeseries**. They are frequently used in industry, being very important for temporal data analysis. "
      ],
      "metadata": {
        "id": "SoKFHkH3W_Bv"
      }
    },
    {
      "cell_type": "code",
      "source": [
        "# create a timeseries based on existing data\n",
        "time_series_index = [pd.Timestamp(str(value) + \"-01-01\") for value in sample_data_series.index]\n",
        "time_series_values = sample_data_series.values;\n",
        "\n",
        "time_series = pd.Series(\n",
        "    data = time_series_values,\n",
        "    index = time_series_index\n",
        ")\n",
        "\n",
        "print(\n",
        "    \"The generated timeseries is: \\n{}\".format(\n",
        "        time_series\n",
        "    )\n",
        ")"
      ],
      "metadata": {
        "colab": {
          "base_uri": "https://localhost:8080/"
        },
        "id": "P-Mn8dLNHpUm",
        "outputId": "55b94b33-f7c1-4f5d-927b-8eeed7a73363"
      },
      "execution_count": 6,
      "outputs": [
        {
          "output_type": "stream",
          "name": "stdout",
          "text": [
            "The generated timeseries is: \n",
            "1990-01-01    20.32\n",
            "1995-01-01    18.57\n",
            "2000-01-01    17.70\n",
            "2005-01-01    17.16\n",
            "2010-01-01    17.06\n",
            "2011-01-01    17.64\n",
            "2012-01-01    16.32\n",
            "2013-01-01    15.37\n",
            "2014-01-01    15.01\n",
            "2015-01-01    15.43\n",
            "2016-01-01    14.54\n",
            "2017-01-01    14.61\n",
            "dtype: float64\n"
          ]
        }
      ]
    },
    {
      "cell_type": "markdown",
      "source": [
        "In case of timeseries, the elements can be accessed by timestamp data:"
      ],
      "metadata": {
        "id": "fWAgRv8OK5hU"
      }
    },
    {
      "cell_type": "code",
      "source": [
        "# select data based on timestamp indexes\n",
        "timestamps = [pd.Timestamp(\"1990-01-01\"), pd.Timestamp(\"2017-01-01\")]\n",
        "\n",
        "print(\n",
        "    \"The elements at index {} are \\n{}\".format(\n",
        "      timestamps,\n",
        "      time_series.loc[timestamps]        \n",
        "    )\n",
        ")\n",
        "\n"
      ],
      "metadata": {
        "colab": {
          "base_uri": "https://localhost:8080/"
        },
        "outputId": "5dd8b7e0-ddd9-4860-c9e8-999b000ced36",
        "id": "yAWBfzFSKIm0"
      },
      "execution_count": 7,
      "outputs": [
        {
          "output_type": "stream",
          "name": "stdout",
          "text": [
            "The elements at index [Timestamp('1990-01-01 00:00:00'), Timestamp('2017-01-01 00:00:00')] are \n",
            "1990-01-01    20.32\n",
            "2017-01-01    14.61\n",
            "dtype: float64\n"
          ]
        }
      ]
    },
    {
      "cell_type": "markdown",
      "source": [
        "Indexed access is used also in order to remove elements by index via the [**drop**](https://pandas.pydata.org/docs/reference/api/pandas.Series.drop.html) method; it returns by default a new series with the elements associated to a specified index removed: "
      ],
      "metadata": {
        "id": "RPdlsyKwBavm"
      }
    },
    {
      "cell_type": "code",
      "source": [
        "# select series data by positional value\n",
        "drop_index_values = [1990, 1995]\n",
        "print(\n",
        "    \"After dropping the elements with the index {}, the new series is \\n{}\".format(\n",
        "      drop_index_values,\n",
        "      sample_data_series.drop(drop_index_values)        \n",
        "    )\n",
        ")"
      ],
      "metadata": {
        "colab": {
          "base_uri": "https://localhost:8080/"
        },
        "id": "rmKGmK-QCXT6",
        "outputId": "35d44e59-aabd-4369-b685-c30654a37c4c"
      },
      "execution_count": 8,
      "outputs": [
        {
          "output_type": "stream",
          "name": "stdout",
          "text": [
            "After dropping the elements with the index [1990, 1995], the new series is \n",
            "Year\n",
            "2000    17.70\n",
            "2005    17.16\n",
            "2010    17.06\n",
            "2011    17.64\n",
            "2012    16.32\n",
            "2013    15.37\n",
            "2014    15.01\n",
            "2015    15.43\n",
            "2016    14.54\n",
            "2017    14.61\n",
            "Name: Air Pollution Mean Exposure, dtype: float64\n"
          ]
        }
      ]
    },
    {
      "cell_type": "markdown",
      "source": [
        "### 1.2 Index and positional access"
      ],
      "metadata": {
        "id": "_aLWPK3X-NtI"
      }
    },
    {
      "cell_type": "markdown",
      "source": [
        "The access of series data by using index values is enabled by the [**loc**](https://pandas.pydata.org/docs/reference/api/pandas.Series.loc.html) property:   "
      ],
      "metadata": {
        "id": "DhDlCBBr7dPs"
      }
    },
    {
      "cell_type": "code",
      "source": [
        "# select series data by index value\n",
        "index_values = [2000, 2005 , 2010]\n",
        "print(\n",
        "    \"The elements in the data series with index {} are \\n{}\".format(\n",
        "      index_values,\n",
        "      sample_data_series.loc[index_values]        \n",
        "    )\n",
        ")"
      ],
      "metadata": {
        "colab": {
          "base_uri": "https://localhost:8080/"
        },
        "id": "Ot78UDRs7chS",
        "outputId": "899b5bbd-02c6-4987-f7c0-a0a047d3a2da"
      },
      "execution_count": 9,
      "outputs": [
        {
          "output_type": "stream",
          "name": "stdout",
          "text": [
            "The elements in the data series with index [2000, 2005, 2010] are \n",
            "Year\n",
            "2000    17.70\n",
            "2005    17.16\n",
            "2010    17.06\n",
            "Name: Air Pollution Mean Exposure, dtype: float64\n"
          ]
        }
      ]
    },
    {
      "cell_type": "markdown",
      "source": [
        "In the same manner, to access data series by position, the [**iloc**](https://pandas.pydata.org/docs/reference/api/pandas.Series.iloc.html) property is used:"
      ],
      "metadata": {
        "id": "KFUszMCo8uD3"
      }
    },
    {
      "cell_type": "code",
      "source": [
        "# select series data by positional value\n",
        "positional_values = [2, 3, 4]\n",
        "print(\n",
        "    \"The elements in the data series with positional values {} are \\n{}\".format(\n",
        "      positional_values,\n",
        "      sample_data_series.iloc[positional_values]        \n",
        "    )\n",
        ")"
      ],
      "metadata": {
        "colab": {
          "base_uri": "https://localhost:8080/"
        },
        "id": "Z1GXWQk-9M26",
        "outputId": "accc0fbb-a2f5-43c2-9adc-7ad22a67d08d"
      },
      "execution_count": 10,
      "outputs": [
        {
          "output_type": "stream",
          "name": "stdout",
          "text": [
            "The elements in the data series with positional values [2, 3, 4] are \n",
            "Year\n",
            "2000    17.70\n",
            "2005    17.16\n",
            "2010    17.06\n",
            "Name: Air Pollution Mean Exposure, dtype: float64\n"
          ]
        }
      ]
    },
    {
      "cell_type": "markdown",
      "source": [
        "It must be noted that using the access based on the **loc** mechanism, the **last element of an interval is returned as well** (unlike the case of NumPy index interval access):"
      ],
      "metadata": {
        "id": "s_RCCB35d4_L"
      }
    },
    {
      "cell_type": "code",
      "source": [
        "interval_low_limit = 2000\n",
        "interval_high_limit = 2010\n",
        "\n",
        "print(\n",
        "    \"The elements in the index interval [{} - {}] are \\n{}\".format(\n",
        "      interval_low_limit,\n",
        "      interval_high_limit,\n",
        "      sample_data_series.loc[interval_low_limit: interval_high_limit]        \n",
        "    ))"
      ],
      "metadata": {
        "colab": {
          "base_uri": "https://localhost:8080/"
        },
        "id": "oUxBMHovdpgE",
        "outputId": "37c14158-7a05-4bdc-a9ad-f2bdc92f915a"
      },
      "execution_count": 11,
      "outputs": [
        {
          "output_type": "stream",
          "name": "stdout",
          "text": [
            "The elements in the index interval [2000 - 2010] are \n",
            "Year\n",
            "2000    17.70\n",
            "2005    17.16\n",
            "2010    17.06\n",
            "Name: Air Pollution Mean Exposure, dtype: float64\n"
          ]
        }
      ]
    },
    {
      "cell_type": "markdown",
      "source": [
        "Furthermore, it must be noted that both **loc** and **iloc** support boolean indexes (logical masking)."
      ],
      "metadata": {
        "id": "nrRhGlDD-h3z"
      }
    },
    {
      "cell_type": "markdown",
      "source": [
        "### 1.3 NumPy-like indexing and slicing"
      ],
      "metadata": {
        "id": "XYc9Oj6R-rYE"
      }
    },
    {
      "cell_type": "markdown",
      "source": [
        "The Pandas series support standard slicing operations that are presents in NumPy, in these cases the numeric slicing values being considered as applied to positional access:"
      ],
      "metadata": {
        "id": "ks9uJpoBUJDb"
      }
    },
    {
      "cell_type": "code",
      "source": [
        "# getting the shape of the data series\n",
        "print(\n",
        "    \"The data series shape is {}\".format(\n",
        "      sample_data_series.shape        \n",
        "    )\n",
        ")"
      ],
      "metadata": {
        "colab": {
          "base_uri": "https://localhost:8080/"
        },
        "id": "QDKVEFD1gL2B",
        "outputId": "ad2b6131-ca2e-4872-8e79-01487f030578"
      },
      "execution_count": 12,
      "outputs": [
        {
          "output_type": "stream",
          "name": "stdout",
          "text": [
            "The data series shape is (12,)\n"
          ]
        }
      ]
    },
    {
      "cell_type": "code",
      "source": [
        "# selecting the first elements\n",
        "num_elements = 3\n",
        "print(\n",
        "    \"The first {} elements in the data series are {}\".format(\n",
        "      num_elements,\n",
        "      sample_data_series[0:num_elements]        \n",
        "    )\n",
        ")"
      ],
      "metadata": {
        "colab": {
          "base_uri": "https://localhost:8080/"
        },
        "id": "CZG1BdQFiMs7",
        "outputId": "4106d069-6864-4896-c511-637c30d5ade8"
      },
      "execution_count": 13,
      "outputs": [
        {
          "output_type": "stream",
          "name": "stdout",
          "text": [
            "The first 3 elements in the data series are Year\n",
            "1990    20.32\n",
            "1995    18.57\n",
            "2000    17.70\n",
            "Name: Air Pollution Mean Exposure, dtype: float64\n"
          ]
        }
      ]
    },
    {
      "cell_type": "code",
      "source": [
        "# selecting the last elements\n",
        "print(\n",
        "    \"The last {} elements in the data series are {}\".format(\n",
        "      num_elements,\n",
        "      sample_data_series[-num_elements:]        \n",
        "    )\n",
        ")"
      ],
      "metadata": {
        "colab": {
          "base_uri": "https://localhost:8080/"
        },
        "id": "MOjPuQt0iSut",
        "outputId": "9f4bfb6b-a1b1-4226-85e9-1d476999903e"
      },
      "execution_count": 14,
      "outputs": [
        {
          "output_type": "stream",
          "name": "stdout",
          "text": [
            "The last 3 elements in the data series are Year\n",
            "2015    15.43\n",
            "2016    14.54\n",
            "2017    14.61\n",
            "Name: Air Pollution Mean Exposure, dtype: float64\n"
          ]
        }
      ]
    },
    {
      "cell_type": "code",
      "source": [
        "# selecting elements where value is higher than a limit\n",
        "value_lower_limit = 18\n",
        "print(\n",
        "    \"The elements where value is higher than {} are \\n{}\".format(\n",
        "      value_lower_limit,\n",
        "      sample_data_series[sample_data_series > value_lower_limit]        \n",
        "    )\n",
        ")"
      ],
      "metadata": {
        "colab": {
          "base_uri": "https://localhost:8080/"
        },
        "id": "-lQYUbcH50ho",
        "outputId": "4121d9cf-c56f-456a-e171-4fee3ff14872"
      },
      "execution_count": 15,
      "outputs": [
        {
          "output_type": "stream",
          "name": "stdout",
          "text": [
            "The elements where value is higher than 18 are \n",
            "Year\n",
            "1990    20.32\n",
            "1995    18.57\n",
            "Name: Air Pollution Mean Exposure, dtype: float64\n"
          ]
        }
      ]
    },
    {
      "cell_type": "code",
      "source": [
        "# selecting elements where index is higher than a value\n",
        "index_lower_limit = 2000\n",
        "print(\n",
        "    \"The elements where index is higher than {} are \\n{}\".format(\n",
        "      index_lower_limit,\n",
        "      sample_data_series[sample_data_series.index > index_lower_limit]        \n",
        "    )\n",
        ")"
      ],
      "metadata": {
        "colab": {
          "base_uri": "https://localhost:8080/"
        },
        "outputId": "22bee3a5-cc76-4f9c-bd1c-37190d5f13de",
        "id": "LXdR2bAm6dn-"
      },
      "execution_count": 16,
      "outputs": [
        {
          "output_type": "stream",
          "name": "stdout",
          "text": [
            "The elements where index is higher than 2000 are \n",
            "Year\n",
            "2005    17.16\n",
            "2010    17.06\n",
            "2011    17.64\n",
            "2012    16.32\n",
            "2013    15.37\n",
            "2014    15.01\n",
            "2015    15.43\n",
            "2016    14.54\n",
            "2017    14.61\n",
            "Name: Air Pollution Mean Exposure, dtype: float64\n"
          ]
        }
      ]
    },
    {
      "cell_type": "markdown",
      "source": [
        "## 2. DataFrames indexing and slicing"
      ],
      "metadata": {
        "id": "3BpUqQUjMGu8"
      }
    },
    {
      "cell_type": "markdown",
      "source": [
        "Unlike Pandas series, the Pandas DataFrame allows the access by considering two dimensions: the rows and columns. We need to remember that any DataFrame column is the equivalent of a data series."
      ],
      "metadata": {
        "id": "9Nc8Qv1cSIIL"
      }
    },
    {
      "cell_type": "markdown",
      "source": [
        "### 2.1 Accessing the index and values of a DataFrame"
      ],
      "metadata": {
        "id": "30yVdyXfS6Ic"
      }
    },
    {
      "cell_type": "markdown",
      "source": [
        "The index and values of a data frame is accessed in the same manner as for series, via the [**index**](https://pandas.pydata.org/docs/reference/api/pandas.DataFrame.index.html) and values [**values**](https://pandas.pydata.org/docs/reference/api/pandas.DataFrame.values.html) properties:"
      ],
      "metadata": {
        "id": "Kr36wwQkTDTf"
      }
    },
    {
      "cell_type": "code",
      "source": [
        "# access the dataframe's index and the index values\n",
        "print(\n",
        "    \"The index of the data series is {} with the index values \\n{}\".format(\n",
        "        sample_data_frame.index,\n",
        "        sample_data_frame.index.values\n",
        "    )\n",
        ")"
      ],
      "metadata": {
        "colab": {
          "base_uri": "https://localhost:8080/"
        },
        "id": "tNvdkGz8TNIu",
        "outputId": "8a0873e5-6c3e-478f-c280-57e6be1fdbe8"
      },
      "execution_count": 17,
      "outputs": [
        {
          "output_type": "stream",
          "name": "stdout",
          "text": [
            "The index of the data series is RangeIndex(start=0, stop=415, step=1) with the index values \n",
            "[  0   1   2   3   4   5   6   7   8   9  10  11  12  13  14  15  16  17\n",
            "  18  19  20  21  22  23  24  25  26  27  28  29  30  31  32  33  34  35\n",
            "  36  37  38  39  40  41  42  43  44  45  46  47  48  49  50  51  52  53\n",
            "  54  55  56  57  58  59  60  61  62  63  64  65  66  67  68  69  70  71\n",
            "  72  73  74  75  76  77  78  79  80  81  82  83  84  85  86  87  88  89\n",
            "  90  91  92  93  94  95  96  97  98  99 100 101 102 103 104 105 106 107\n",
            " 108 109 110 111 112 113 114 115 116 117 118 119 120 121 122 123 124 125\n",
            " 126 127 128 129 130 131 132 133 134 135 136 137 138 139 140 141 142 143\n",
            " 144 145 146 147 148 149 150 151 152 153 154 155 156 157 158 159 160 161\n",
            " 162 163 164 165 166 167 168 169 170 171 172 173 174 175 176 177 178 179\n",
            " 180 181 182 183 184 185 186 187 188 189 190 191 192 193 194 195 196 197\n",
            " 198 199 200 201 202 203 204 205 206 207 208 209 210 211 212 213 214 215\n",
            " 216 217 218 219 220 221 222 223 224 225 226 227 228 229 230 231 232 233\n",
            " 234 235 236 237 238 239 240 241 242 243 244 245 246 247 248 249 250 251\n",
            " 252 253 254 255 256 257 258 259 260 261 262 263 264 265 266 267 268 269\n",
            " 270 271 272 273 274 275 276 277 278 279 280 281 282 283 284 285 286 287\n",
            " 288 289 290 291 292 293 294 295 296 297 298 299 300 301 302 303 304 305\n",
            " 306 307 308 309 310 311 312 313 314 315 316 317 318 319 320 321 322 323\n",
            " 324 325 326 327 328 329 330 331 332 333 334 335 336 337 338 339 340 341\n",
            " 342 343 344 345 346 347 348 349 350 351 352 353 354 355 356 357 358 359\n",
            " 360 361 362 363 364 365 366 367 368 369 370 371 372 373 374 375 376 377\n",
            " 378 379 380 381 382 383 384 385 386 387 388 389 390 391 392 393 394 395\n",
            " 396 397 398 399 400 401 402 403 404 405 406 407 408 409 410 411 412 413\n",
            " 414]\n"
          ]
        }
      ]
    },
    {
      "cell_type": "code",
      "source": [
        "# access the dataframe's values and its shape\n",
        "print(\n",
        "    \"The values of the data series are \\n{}\\n with the shape \\n{}\".format(\n",
        "        sample_data_frame.values,\n",
        "        sample_data_frame.values.shape\n",
        "    )\n",
        ")"
      ],
      "metadata": {
        "colab": {
          "base_uri": "https://localhost:8080/"
        },
        "id": "ZrjQ072bU4-V",
        "outputId": "9ab8f0a9-d793-4f4d-ad7a-e1ed94442138"
      },
      "execution_count": 18,
      "outputs": [
        {
          "output_type": "stream",
          "name": "stdout",
          "text": [
            "The values of the data series are \n",
            "[['Romania' 'ROU' 2020\n",
            "  'Charges for the use of intellectual property, payments (BoP, current US$)'\n",
            "  'BM.GSR.ROYL.CD' 886842442.49073]\n",
            " ['Romania' 'ROU' 2019\n",
            "  'Charges for the use of intellectual property, payments (BoP, current US$)'\n",
            "  'BM.GSR.ROYL.CD' 936735170.387543]\n",
            " ['Romania' 'ROU' 2018\n",
            "  'Charges for the use of intellectual property, payments (BoP, current US$)'\n",
            "  'BM.GSR.ROYL.CD' 962384646.507165]\n",
            " ...\n",
            " ['Romania' 'ROU' 2009\n",
            "  'High-technology exports (% of manufactured exports)'\n",
            "  'TX.VAL.TECH.MF.ZS' 10.367542909696]\n",
            " ['Romania' 'ROU' 2008\n",
            "  'High-technology exports (% of manufactured exports)'\n",
            "  'TX.VAL.TECH.MF.ZS' 6.92214905365052]\n",
            " ['Romania' 'ROU' 2007\n",
            "  'High-technology exports (% of manufactured exports)'\n",
            "  'TX.VAL.TECH.MF.ZS' 4.41427750893872]]\n",
            " with the shape \n",
            "(415, 6)\n"
          ]
        }
      ]
    },
    {
      "cell_type": "markdown",
      "source": [
        "### 2.2 Accessing DataFrame's data by rows and columns "
      ],
      "metadata": {
        "id": "TWtwUcTaXif0"
      }
    },
    {
      "cell_type": "markdown",
      "source": [
        "Tha data frame's rows can be accessed by index, as in case of data series, by using the [**loc**](https://pandas.pydata.org/docs/reference/api/pandas.DataFrame.loc.html) and [**iloc**](https://pandas.pydata.org/docs/reference/api/pandas.DataFrame.iloc.html) methods."
      ],
      "metadata": {
        "id": "1pnwvn-GXpjW"
      }
    },
    {
      "cell_type": "code",
      "source": [
        "# select a sequence of elements by index value\n",
        "num_elements = 3\n",
        "start_index_values = sample_data_frame.index[0: num_elements]\n",
        "print(\n",
        "    \"The first {} elements in the data frame by index value are \\n{}\".format(\n",
        "        num_elements,\n",
        "        sample_data_frame.loc[start_index_values]\n",
        "    )\n",
        ")"
      ],
      "metadata": {
        "colab": {
          "base_uri": "https://localhost:8080/"
        },
        "id": "GlH-nWPtc1qf",
        "outputId": "e8065462-923a-4bbf-a227-60351e439de3"
      },
      "execution_count": 19,
      "outputs": [
        {
          "output_type": "stream",
          "name": "stdout",
          "text": [
            "The first 3 elements in the data frame by index value are \n",
            "  Country Name Country ISO3  Year                                     Indicator Name  Indicator Code         Value\n",
            "0      Romania          ROU  2020  Charges for the use of intellectual property, ...  BM.GSR.ROYL.CD  8.868424e+08\n",
            "1      Romania          ROU  2019  Charges for the use of intellectual property, ...  BM.GSR.ROYL.CD  9.367352e+08\n",
            "2      Romania          ROU  2018  Charges for the use of intellectual property, ...  BM.GSR.ROYL.CD  9.623846e+08\n"
          ]
        }
      ]
    },
    {
      "cell_type": "code",
      "source": [
        "# select a sequence of elements by positional value\n",
        "print(\n",
        "    \"The last {} elements in the data frame by positional value are \\n{}\".format(\n",
        "        num_elements,\n",
        "        sample_data_frame.iloc[-num_elements:]\n",
        "    )\n",
        ")"
      ],
      "metadata": {
        "colab": {
          "base_uri": "https://localhost:8080/"
        },
        "id": "blN7B_xWhLId",
        "outputId": "f4471690-49b1-4aa1-b6f5-b712c6880640"
      },
      "execution_count": 20,
      "outputs": [
        {
          "output_type": "stream",
          "name": "stdout",
          "text": [
            "The last 3 elements in the data frame by positional value are \n",
            "    Country Name Country ISO3  Year                                     Indicator Name     Indicator Code      Value\n",
            "412      Romania          ROU  2009  High-technology exports (% of manufactured exp...  TX.VAL.TECH.MF.ZS  10.367543\n",
            "413      Romania          ROU  2008  High-technology exports (% of manufactured exp...  TX.VAL.TECH.MF.ZS   6.922149\n",
            "414      Romania          ROU  2007  High-technology exports (% of manufactured exp...  TX.VAL.TECH.MF.ZS   4.414278\n"
          ]
        }
      ]
    },
    {
      "cell_type": "markdown",
      "source": [
        "The rows from data frames can be removed via the [**drop**](https://) method (the same mechanism as in the case of data series). The index values are used to identify the rows to be removed and the parameter axis should be set to 0:"
      ],
      "metadata": {
        "id": "sSbYR1b8nL38"
      }
    },
    {
      "cell_type": "code",
      "source": [
        "# removing rows from a data frame\n",
        "rows_to_keep = 10\n",
        "print(\n",
        "    \"The records from the data frame with all records removed, except the last {} rows are \\n{}\".format(\n",
        "        rows_to_keep,\n",
        "        sample_data_frame.drop(\n",
        "            sample_data_frame.index.values[0:-rows_to_keep],\n",
        "            axis = 0,\n",
        "        )\n",
        "      )\n",
        "    )"
      ],
      "metadata": {
        "colab": {
          "base_uri": "https://localhost:8080/"
        },
        "id": "4rxR8baaoBRj",
        "outputId": "249ef249-0926-461a-d7b9-f3b396d9db4d"
      },
      "execution_count": 21,
      "outputs": [
        {
          "output_type": "stream",
          "name": "stdout",
          "text": [
            "The records from the data frame with all records removed, except the last 10 rows are \n",
            "    Country Name Country ISO3  Year                                     Indicator Name     Indicator Code      Value\n",
            "405      Romania          ROU  2016  High-technology exports (% of manufactured exp...  TX.VAL.TECH.MF.ZS  10.392441\n",
            "406      Romania          ROU  2015  High-technology exports (% of manufactured exp...  TX.VAL.TECH.MF.ZS   9.414148\n",
            "407      Romania          ROU  2014  High-technology exports (% of manufactured exp...  TX.VAL.TECH.MF.ZS   8.409232\n",
            "408      Romania          ROU  2013  High-technology exports (% of manufactured exp...  TX.VAL.TECH.MF.ZS   7.398176\n",
            "409      Romania          ROU  2012  High-technology exports (% of manufactured exp...  TX.VAL.TECH.MF.ZS   8.179880\n",
            "410      Romania          ROU  2011  High-technology exports (% of manufactured exp...  TX.VAL.TECH.MF.ZS  11.635839\n",
            "411      Romania          ROU  2010  High-technology exports (% of manufactured exp...  TX.VAL.TECH.MF.ZS  12.528235\n",
            "412      Romania          ROU  2009  High-technology exports (% of manufactured exp...  TX.VAL.TECH.MF.ZS  10.367543\n",
            "413      Romania          ROU  2008  High-technology exports (% of manufactured exp...  TX.VAL.TECH.MF.ZS   6.922149\n",
            "414      Romania          ROU  2007  High-technology exports (% of manufactured exp...  TX.VAL.TECH.MF.ZS   4.414278\n"
          ]
        }
      ]
    },
    {
      "cell_type": "markdown",
      "source": [
        "The columns of a data frame can be accessed via the [**columns**](https://pandas.pydata.org/docs/reference/api/pandas.DataFrame.columns.html) property which returns a collection of values containing the column names:"
      ],
      "metadata": {
        "id": "wUGaOXQrmQwb"
      }
    },
    {
      "cell_type": "code",
      "source": [
        "# access the columns of the data frame\n",
        "print(\n",
        "    \"The columns of the data base are \\n{}:\".format(\n",
        "      sample_data_frame.columns.values       \n",
        "    )\n",
        ")"
      ],
      "metadata": {
        "colab": {
          "base_uri": "https://localhost:8080/"
        },
        "id": "7DplM0FamaGx",
        "outputId": "1ba3f227-1050-44f6-fbc6-77b3c9e7e8be"
      },
      "execution_count": 22,
      "outputs": [
        {
          "output_type": "stream",
          "name": "stdout",
          "text": [
            "The columns of the data base are \n",
            "['Country Name' 'Country ISO3' 'Year' 'Indicator Name' 'Indicator Code'\n",
            " 'Value']:\n"
          ]
        }
      ]
    },
    {
      "cell_type": "markdown",
      "source": [
        "The values of the columns in a data frame are accessed by passing the column name as an index:"
      ],
      "metadata": {
        "id": "LeBqc92SskgO"
      }
    },
    {
      "cell_type": "code",
      "source": [
        "# accessing the column data by column name\n",
        "column_name = 'Indicator Name'\n",
        "\n",
        "print(\n",
        "    \"The values of the '{}' column are \\n{}\".format(\n",
        "        column_name,\n",
        "        sample_data_frame[column_name]\n",
        "    )\n",
        ")\n",
        "\n",
        "# we can observe in this case that the returned value\n",
        "# is a data series "
      ],
      "metadata": {
        "colab": {
          "base_uri": "https://localhost:8080/"
        },
        "id": "ZotV7iN7s1-e",
        "outputId": "39c72525-207b-4b8c-a319-32a36828dc82"
      },
      "execution_count": 23,
      "outputs": [
        {
          "output_type": "stream",
          "name": "stdout",
          "text": [
            "The values of the 'Indicator Name' column are \n",
            "0      Charges for the use of intellectual property, ...\n",
            "1      Charges for the use of intellectual property, ...\n",
            "2      Charges for the use of intellectual property, ...\n",
            "3      Charges for the use of intellectual property, ...\n",
            "4      Charges for the use of intellectual property, ...\n",
            "                             ...                        \n",
            "410    High-technology exports (% of manufactured exp...\n",
            "411    High-technology exports (% of manufactured exp...\n",
            "412    High-technology exports (% of manufactured exp...\n",
            "413    High-technology exports (% of manufactured exp...\n",
            "414    High-technology exports (% of manufactured exp...\n",
            "Name: Indicator Name, Length: 415, dtype: object\n"
          ]
        }
      ]
    },
    {
      "cell_type": "markdown",
      "source": [
        "Multiple columns may be specified in order to select a subset of a data frame:"
      ],
      "metadata": {
        "id": "lEzKxNqwtsuX"
      }
    },
    {
      "cell_type": "code",
      "source": [
        "# accessing the column data by multiple column names\n",
        "column_names = ['Indicator Name', 'Value']\n",
        "\n",
        "print(\n",
        "    \"The values of the '{}' column are \\n{}\".format(\n",
        "        column_names,\n",
        "        sample_data_frame[column_names]\n",
        "    )\n",
        ")"
      ],
      "metadata": {
        "colab": {
          "base_uri": "https://localhost:8080/"
        },
        "id": "JgnaTCTxsj0x",
        "outputId": "50d9e2ab-ff88-431c-9a71-71295bdf498d"
      },
      "execution_count": 24,
      "outputs": [
        {
          "output_type": "stream",
          "name": "stdout",
          "text": [
            "The values of the '['Indicator Name', 'Value']' column are \n",
            "                                        Indicator Name         Value\n",
            "0    Charges for the use of intellectual property, ...  8.868424e+08\n",
            "1    Charges for the use of intellectual property, ...  9.367352e+08\n",
            "2    Charges for the use of intellectual property, ...  9.623846e+08\n",
            "3    Charges for the use of intellectual property, ...  9.110375e+08\n",
            "4    Charges for the use of intellectual property, ...  8.320201e+08\n",
            "..                                                 ...           ...\n",
            "410  High-technology exports (% of manufactured exp...  1.163584e+01\n",
            "411  High-technology exports (% of manufactured exp...  1.252824e+01\n",
            "412  High-technology exports (% of manufactured exp...  1.036754e+01\n",
            "413  High-technology exports (% of manufactured exp...  6.922149e+00\n",
            "414  High-technology exports (% of manufactured exp...  4.414278e+00\n",
            "\n",
            "[415 rows x 2 columns]\n"
          ]
        }
      ]
    },
    {
      "cell_type": "markdown",
      "source": [
        "Data from a data frame can be removed by using the same drop method, specifying either the axis = 1 parameter or using the columns parameter with the column names: "
      ],
      "metadata": {
        "id": "8SvOVqy9uZz8"
      }
    },
    {
      "cell_type": "code",
      "source": [
        "# drop the data by columns by name\n",
        "# using the axis parameter\n",
        "column_names_for_removal = [\"Country Name\", \"Country ISO3\", \"Indicator Code\"]\n",
        "\n",
        "print(\n",
        "    \"The data in the data frame after removing the columns {} is \\n{}\".format(\n",
        "        column_names_for_removal,\n",
        "        sample_data_frame.drop(\n",
        "            column_names_for_removal,\n",
        "            axis = 1\n",
        "        )        \n",
        "    )\n",
        "  )"
      ],
      "metadata": {
        "colab": {
          "base_uri": "https://localhost:8080/"
        },
        "id": "1D1H-th6vDZK",
        "outputId": "cd77d9b8-38fa-47ea-c1c5-ed74b748dbd4"
      },
      "execution_count": 25,
      "outputs": [
        {
          "output_type": "stream",
          "name": "stdout",
          "text": [
            "The data in the data frame after removing the columns ['Country Name', 'Country ISO3', 'Indicator Code'] is \n",
            "     Year                                     Indicator Name         Value\n",
            "0    2020  Charges for the use of intellectual property, ...  8.868424e+08\n",
            "1    2019  Charges for the use of intellectual property, ...  9.367352e+08\n",
            "2    2018  Charges for the use of intellectual property, ...  9.623846e+08\n",
            "3    2017  Charges for the use of intellectual property, ...  9.110375e+08\n",
            "4    2016  Charges for the use of intellectual property, ...  8.320201e+08\n",
            "..    ...                                                ...           ...\n",
            "410  2011  High-technology exports (% of manufactured exp...  1.163584e+01\n",
            "411  2010  High-technology exports (% of manufactured exp...  1.252824e+01\n",
            "412  2009  High-technology exports (% of manufactured exp...  1.036754e+01\n",
            "413  2008  High-technology exports (% of manufactured exp...  6.922149e+00\n",
            "414  2007  High-technology exports (% of manufactured exp...  4.414278e+00\n",
            "\n",
            "[415 rows x 3 columns]\n"
          ]
        }
      ]
    },
    {
      "cell_type": "code",
      "source": [
        "# dopping the data using directly the columns attributes\n",
        "print(\n",
        "    \"The data in the data frame after removing the columns {} is \\n{}\".format(\n",
        "        column_names_for_removal,\n",
        "        sample_data_frame.drop(\n",
        "            columns = column_names_for_removal\n",
        "        )        \n",
        "    )\n",
        "  )"
      ],
      "metadata": {
        "colab": {
          "base_uri": "https://localhost:8080/"
        },
        "id": "wuDEp0unwPrQ",
        "outputId": "59cc7666-28df-4e5b-9f8b-8b1613af5212"
      },
      "execution_count": 26,
      "outputs": [
        {
          "output_type": "stream",
          "name": "stdout",
          "text": [
            "The data in the data frame after removing the columns ['Country Name', 'Country ISO3', 'Indicator Code'] is \n",
            "     Year                                     Indicator Name         Value\n",
            "0    2020  Charges for the use of intellectual property, ...  8.868424e+08\n",
            "1    2019  Charges for the use of intellectual property, ...  9.367352e+08\n",
            "2    2018  Charges for the use of intellectual property, ...  9.623846e+08\n",
            "3    2017  Charges for the use of intellectual property, ...  9.110375e+08\n",
            "4    2016  Charges for the use of intellectual property, ...  8.320201e+08\n",
            "..    ...                                                ...           ...\n",
            "410  2011  High-technology exports (% of manufactured exp...  1.163584e+01\n",
            "411  2010  High-technology exports (% of manufactured exp...  1.252824e+01\n",
            "412  2009  High-technology exports (% of manufactured exp...  1.036754e+01\n",
            "413  2008  High-technology exports (% of manufactured exp...  6.922149e+00\n",
            "414  2007  High-technology exports (% of manufactured exp...  4.414278e+00\n",
            "\n",
            "[415 rows x 3 columns]\n"
          ]
        }
      ]
    },
    {
      "cell_type": "markdown",
      "source": [
        "The data from a data frame can be acccessed by both the index and column values in order to obtain full data subsets: "
      ],
      "metadata": {
        "id": "H2DryKlxwt4E"
      }
    },
    {
      "cell_type": "code",
      "source": [
        "# selecting data by column names and index ranges\n",
        "column_names = [\"Indicator Name\", \"Value\"]\n",
        "count_values = 10\n",
        "\n",
        "print(\n",
        "    \"The data the data frame with columns {} and the first {} index values are: \\n{}\".format(\n",
        "        column_names,\n",
        "        count_values,\n",
        "        sample_data_frame[column_names][0:count_values]\n",
        "    )\n",
        ")"
      ],
      "metadata": {
        "colab": {
          "base_uri": "https://localhost:8080/"
        },
        "id": "1c86416gxGv0",
        "outputId": "685b7e90-0d59-4f04-a63a-5c91014278d1"
      },
      "execution_count": 27,
      "outputs": [
        {
          "output_type": "stream",
          "name": "stdout",
          "text": [
            "The data the data frame with columns ['Indicator Name', 'Value'] and the first 10 index values are: \n",
            "                                      Indicator Name         Value\n",
            "0  Charges for the use of intellectual property, ...  8.868424e+08\n",
            "1  Charges for the use of intellectual property, ...  9.367352e+08\n",
            "2  Charges for the use of intellectual property, ...  9.623846e+08\n",
            "3  Charges for the use of intellectual property, ...  9.110375e+08\n",
            "4  Charges for the use of intellectual property, ...  8.320201e+08\n",
            "5  Charges for the use of intellectual property, ...  8.344480e+08\n",
            "6  Charges for the use of intellectual property, ...  9.012962e+08\n",
            "7  Charges for the use of intellectual property, ...  8.798034e+08\n",
            "8  Charges for the use of intellectual property, ...  4.525252e+08\n",
            "9  Charges for the use of intellectual property, ...  4.824162e+08\n"
          ]
        }
      ]
    },
    {
      "cell_type": "markdown",
      "source": [
        "The data frame values can be accessed as well by using logical masking (boolean indexes):"
      ],
      "metadata": {
        "id": "iOgnl0emzQl4"
      }
    },
    {
      "cell_type": "code",
      "source": [
        "# using logical masking for selecting data frame records\n",
        "print(\n",
        "        \"The records related to Agricultural Land, from 1990 onwards, are: \\n{}\".format(\n",
        "            sample_data_frame[\n",
        "              (sample_data_frame[\"Year\"] > 1990) &\n",
        "              (sample_data_frame[\"Indicator Name\"] == \"High-technology exports (current US$)\") \t\n",
        "            ]\n",
        "        )\n",
        "  )"
      ],
      "metadata": {
        "colab": {
          "base_uri": "https://localhost:8080/"
        },
        "id": "s7fGKJtPzhiM",
        "outputId": "8e34dca3-ba61-43f8-92f9-a44fd583ee50"
      },
      "execution_count": 28,
      "outputs": [
        {
          "output_type": "stream",
          "name": "stdout",
          "text": [
            "The records related to Agricultural Land, from 1990 onwards, are: \n",
            "    Country Name Country ISO3  Year                         Indicator Name  Indicator Code         Value\n",
            "387      Romania          ROU  2020  High-technology exports (current US$)  TX.VAL.TECH.CD  6.984613e+09\n",
            "388      Romania          ROU  2019  High-technology exports (current US$)  TX.VAL.TECH.CD  6.994469e+09\n",
            "389      Romania          ROU  2018  High-technology exports (current US$)  TX.VAL.TECH.CD  6.636988e+09\n",
            "390      Romania          ROU  2017  High-technology exports (current US$)  TX.VAL.TECH.CD  5.558595e+09\n",
            "391      Romania          ROU  2016  High-technology exports (current US$)  TX.VAL.TECH.CD  5.254484e+09\n",
            "392      Romania          ROU  2015  High-technology exports (current US$)  TX.VAL.TECH.CD  4.436063e+09\n",
            "393      Romania          ROU  2014  High-technology exports (current US$)  TX.VAL.TECH.CD  4.471137e+09\n",
            "394      Romania          ROU  2013  High-technology exports (current US$)  TX.VAL.TECH.CD  3.679008e+09\n",
            "395      Romania          ROU  2012  High-technology exports (current US$)  TX.VAL.TECH.CD  3.649893e+09\n",
            "396      Romania          ROU  2011  High-technology exports (current US$)  TX.VAL.TECH.CD  5.673719e+09\n",
            "397      Romania          ROU  2010  High-technology exports (current US$)  TX.VAL.TECH.CD  4.856809e+09\n",
            "398      Romania          ROU  2009  High-technology exports (current US$)  TX.VAL.TECH.CD  3.328037e+09\n",
            "399      Romania          ROU  2008  High-technology exports (current US$)  TX.VAL.TECH.CD  2.623561e+09\n",
            "400      Romania          ROU  2007  High-technology exports (current US$)  TX.VAL.TECH.CD  1.417611e+09\n"
          ]
        }
      ]
    }
  ],
  "metadata": {
    "kernelspec": {
      "display_name": "Python 3",
      "language": "python",
      "name": "python3"
    },
    "language_info": {
      "codemirror_mode": {
        "name": "ipython",
        "version": 3
      },
      "file_extension": ".py",
      "mimetype": "text/x-python",
      "name": "python",
      "nbconvert_exporter": "python",
      "pygments_lexer": "ipython3",
      "version": "3.7.3"
    },
    "colab": {
      "name": "004_Advanced_Indexing_And_Slicing.ipynb",
      "provenance": [],
      "collapsed_sections": []
    }
  },
  "nbformat": 4,
  "nbformat_minor": 0
}