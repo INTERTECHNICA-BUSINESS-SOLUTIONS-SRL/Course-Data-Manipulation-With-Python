{
  "cells": [
    {
      "cell_type": "markdown",
      "metadata": {
        "id": "KDuU6OSWXKo4"
      },
      "source": [
        "![*INTERTECHNICA - SOLON EDUCATIONAL PROGRAMS - TECHNOLOGY LINE*](https://solon.intertechnica.com/assets/IntertechnicaSolonEducationalPrograms-TechnologyLine.png)"
      ]
    },
    {
      "cell_type": "markdown",
      "metadata": {
        "id": "OeBbVwSSXKo9"
      },
      "source": [
        "# Data Manipulation with Python - The Pandas Library - Homework"
      ]
    },
    {
      "cell_type": "markdown",
      "metadata": {
        "id": "uUhqqWdPXKpA"
      },
      "source": [
        "*Basic initialization of the workspace.*"
      ]
    },
    {
      "cell_type": "code",
      "source": [
        "!python -m pip install numpy\n",
        "import numpy as np\n",
        "print (\"NumPy installed at version: {}\".format(np.__version__))"
      ],
      "metadata": {
        "colab": {
          "base_uri": "https://localhost:8080/"
        },
        "id": "OJzCFKioH6UR",
        "outputId": "ac5a256a-d6d9-4aa3-baa5-88573136c467"
      },
      "execution_count": 1,
      "outputs": [
        {
          "output_type": "stream",
          "name": "stdout",
          "text": [
            "Requirement already satisfied: numpy in /usr/local/lib/python3.7/dist-packages (1.21.5)\n",
            "NumPy installed at version: 1.21.5\n"
          ]
        }
      ]
    },
    {
      "cell_type": "code",
      "execution_count": 2,
      "metadata": {
        "id": "AjAZRU7GXKpE",
        "outputId": "83dd5986-7458-41b6-b489-036c5127bbb7",
        "colab": {
          "base_uri": "https://localhost:8080/"
        }
      },
      "outputs": [
        {
          "output_type": "stream",
          "name": "stdout",
          "text": [
            "Requirement already satisfied: pandas in /usr/local/lib/python3.7/dist-packages (1.3.5)\n",
            "Requirement already satisfied: numpy>=1.17.3 in /usr/local/lib/python3.7/dist-packages (from pandas) (1.21.5)\n",
            "Requirement already satisfied: pytz>=2017.3 in /usr/local/lib/python3.7/dist-packages (from pandas) (2018.9)\n",
            "Requirement already satisfied: python-dateutil>=2.7.3 in /usr/local/lib/python3.7/dist-packages (from pandas) (2.8.2)\n",
            "Requirement already satisfied: six>=1.5 in /usr/local/lib/python3.7/dist-packages (from python-dateutil>=2.7.3->pandas) (1.15.0)\n",
            "Pandas installed at version: 1.3.5\n"
          ]
        }
      ],
      "source": [
        "!python -m pip install pandas\n",
        "import pandas as pd\n",
        "print (\"Pandas installed at version: {}\".format(pd.__version__))\n",
        "\n",
        "#adjust pandas DataFrame display for a wider target \n",
        "pd.set_option('display.expand_frame_repr', False)"
      ]
    },
    {
      "cell_type": "markdown",
      "source": [
        "## 1. Loading and exploring data"
      ],
      "metadata": {
        "id": "27VaKyVQBnk-"
      }
    },
    {
      "cell_type": "markdown",
      "source": [
        "We will use a dataset containing data about RON exchange rates in relation with several currencies EUR, USD and CHF. The data covers the years starting from 2010 to 2021."
      ],
      "metadata": {
        "id": "QGJPaoN3BruC"
      }
    },
    {
      "cell_type": "markdown",
      "source": [
        "We will load the data into a DataFrame object in order to perform further processing."
      ],
      "metadata": {
        "id": "omzLNi1mBwgE"
      }
    },
    {
      "cell_type": "code",
      "source": [
        "# load the data into a dataframe object\n",
        "# no index column is expected\n",
        "raw_data = pd.read_csv(\n",
        "    \"https://raw.githubusercontent.com/INTERTECHNICA-BUSINESS-SOLUTIONS-SRL/CourseDataManipulationWithPython/main/Common/data/RON_Exchange_Rates.csv\",\n",
        "    index_col = None\n",
        ")"
      ],
      "metadata": {
        "id": "bDjg6B8AB7W_"
      },
      "execution_count": 3,
      "outputs": []
    },
    {
      "cell_type": "markdown",
      "source": [
        "We need to convert the DATE column into a datetime format so it can be processed as date-time information."
      ],
      "metadata": {
        "id": "nRUh-XCSDxcB"
      }
    },
    {
      "cell_type": "code",
      "source": [
        "# using Pandas in-built support for converting string to date-time\n",
        "data = raw_data.copy()\n",
        "data[\"DATE\"] = pd.to_datetime(data[\"DATE\"])"
      ],
      "metadata": {
        "id": "H2CAarTRCWe-"
      },
      "execution_count": 4,
      "outputs": []
    },
    {
      "cell_type": "markdown",
      "source": [
        "Let's explore records from the cleaned dataset."
      ],
      "metadata": {
        "id": "mCo4nRZNFSuZ"
      }
    },
    {
      "cell_type": "code",
      "source": [
        "# display records from the cleaned dataset\n",
        "print(\n",
        "    \"Sample records from the cleaned dataset are: \\n{}\\n\".format(\n",
        "        data\n",
        "    )\n",
        ")"
      ],
      "metadata": {
        "colab": {
          "base_uri": "https://localhost:8080/"
        },
        "id": "CFZ4WOdHFXlz",
        "outputId": "24c0c8e8-8682-4044-e19e-5466e7d2e89a"
      },
      "execution_count": 5,
      "outputs": [
        {
          "output_type": "stream",
          "name": "stdout",
          "text": [
            "Sample records from the cleaned dataset are: \n",
            "           DATE     EUR     USD     CHF\n",
            "0    2010-01-04  4.2265  2.9401  2.8419\n",
            "1    2010-01-05  4.2077  2.9186  2.8345\n",
            "2    2010-01-06  4.1620  2.8987  2.8051\n",
            "3    2010-01-07  4.1721  2.9089  2.8158\n",
            "4    2010-01-08  4.1679  2.9143  2.8134\n",
            "...         ...     ...     ...     ...\n",
            "3025 2021-12-27  4.9492  4.3725  4.7604\n",
            "3026 2021-12-28  4.9491  4.3683  4.7668\n",
            "3027 2021-12-29  4.9490  4.3849  4.7722\n",
            "3028 2021-12-30  4.9486  4.3735  4.7713\n",
            "3029 2021-12-31  4.9481  4.3707  4.7884\n",
            "\n",
            "[3030 rows x 4 columns]\n",
            "\n"
          ]
        }
      ]
    },
    {
      "cell_type": "markdown",
      "source": [
        "Let's explore basic information regarding the data."
      ],
      "metadata": {
        "id": "ryXJ43ANFvHq"
      }
    },
    {
      "cell_type": "code",
      "source": [
        "# exploring the number of records\n",
        "print(\n",
        "  \"The number of records is {}.\".format(data.shape[0])\n",
        ")"
      ],
      "metadata": {
        "colab": {
          "base_uri": "https://localhost:8080/"
        },
        "id": "aiMsaCo_Fxr5",
        "outputId": "1fab1994-36f5-4f9c-8ad7-f5a6900f9217"
      },
      "execution_count": 6,
      "outputs": [
        {
          "output_type": "stream",
          "name": "stdout",
          "text": [
            "The number of records is 3030.\n"
          ]
        }
      ]
    },
    {
      "cell_type": "code",
      "source": [
        "# exploring the DATE column basic information\n",
        "print(\n",
        "  \"Basic information about the DATE column is: \\n{}.\".format(\n",
        "      data[\"DATE\"].describe(datetime_is_numeric=True)\n",
        "  )\n",
        ")"
      ],
      "metadata": {
        "colab": {
          "base_uri": "https://localhost:8080/"
        },
        "id": "AC-c8uUBF-af",
        "outputId": "d8249e2f-60e0-4a9f-ecba-feb519bd18b3"
      },
      "execution_count": 7,
      "outputs": [
        {
          "output_type": "stream",
          "name": "stdout",
          "text": [
            "Basic information about the DATE column is: \n",
            "count                             3030\n",
            "mean     2015-12-25 19:40:30.891089152\n",
            "min                2010-01-04 00:00:00\n",
            "25%                2012-12-19 06:00:00\n",
            "50%                2015-12-21 12:00:00\n",
            "75%                2018-12-27 18:00:00\n",
            "max                2021-12-31 00:00:00\n",
            "Name: DATE, dtype: object.\n"
          ]
        }
      ]
    },
    {
      "cell_type": "code",
      "source": [
        "# exploring the EUR column basic information\n",
        "print(\n",
        "  \"Basic information about the EUR column is: \\n{}.\".format(\n",
        "      data[\"EUR\"].describe()\n",
        "  )\n",
        ")"
      ],
      "metadata": {
        "colab": {
          "base_uri": "https://localhost:8080/"
        },
        "id": "-j6cTo_WGxc6",
        "outputId": "c7c362ab-9caa-4fec-e56c-2e5503b7364a"
      },
      "execution_count": 8,
      "outputs": [
        {
          "output_type": "stream",
          "name": "stdout",
          "text": [
            "Basic information about the EUR column is: \n",
            "count    3030.000000\n",
            "mean        4.534709\n",
            "std         0.216551\n",
            "min         4.065300\n",
            "25%         4.408525\n",
            "50%         4.497950\n",
            "75%         4.667625\n",
            "max         4.949500\n",
            "Name: EUR, dtype: float64.\n"
          ]
        }
      ]
    },
    {
      "cell_type": "code",
      "source": [
        "# HOMEWORK: explore the USD information"
      ],
      "metadata": {
        "id": "ayi5_aqMG7rJ"
      },
      "execution_count": 9,
      "outputs": []
    },
    {
      "cell_type": "code",
      "source": [
        "# HOMEWORK: explore the CHF information"
      ],
      "metadata": {
        "id": "jT7qWMnPG8OE"
      },
      "execution_count": 10,
      "outputs": []
    },
    {
      "cell_type": "markdown",
      "source": [
        "## 2. Expanding the dataset"
      ],
      "metadata": {
        "id": "fea0zpqxHGdz"
      }
    },
    {
      "cell_type": "markdown",
      "source": [
        "We would like to expand the data in the dataset - adding the year, month and day as a separate piece of information."
      ],
      "metadata": {
        "id": "eIyEVoK3HMvf"
      }
    },
    {
      "cell_type": "code",
      "source": [
        "# adding the years information\n",
        "data[\"YEAR\"] = data[\"DATE\"].dt.year"
      ],
      "metadata": {
        "id": "J2maBcXmHR61"
      },
      "execution_count": 11,
      "outputs": []
    },
    {
      "cell_type": "code",
      "source": [
        "# adding the months information\n",
        "data[\"MONTH\"] = data[\"DATE\"].dt.month\n",
        "data[\"MONTH_NAME\"] = data[\"DATE\"].dt.month_name()"
      ],
      "metadata": {
        "id": "KSH43zgDH5Fn"
      },
      "execution_count": 12,
      "outputs": []
    },
    {
      "cell_type": "code",
      "source": [
        "# HOMEWORK: insert the days information as well"
      ],
      "metadata": {
        "id": "1mWwUHC5H5QV"
      },
      "execution_count": 13,
      "outputs": []
    },
    {
      "cell_type": "code",
      "source": [
        "# display records from the cleaned dataset\n",
        "print(\n",
        "    \"Sample records from the expanded dataset are: \\n{}\\n\".format(\n",
        "      data\n",
        "    )\n",
        ")"
      ],
      "metadata": {
        "colab": {
          "base_uri": "https://localhost:8080/"
        },
        "id": "1tuzvcOKJUvY",
        "outputId": "ecfcc676-8243-4fef-a818-f74ddf13f1e0"
      },
      "execution_count": 14,
      "outputs": [
        {
          "output_type": "stream",
          "name": "stdout",
          "text": [
            "Sample records from the expanded dataset are: \n",
            "           DATE     EUR     USD     CHF  YEAR  MONTH MONTH_NAME\n",
            "0    2010-01-04  4.2265  2.9401  2.8419  2010      1    January\n",
            "1    2010-01-05  4.2077  2.9186  2.8345  2010      1    January\n",
            "2    2010-01-06  4.1620  2.8987  2.8051  2010      1    January\n",
            "3    2010-01-07  4.1721  2.9089  2.8158  2010      1    January\n",
            "4    2010-01-08  4.1679  2.9143  2.8134  2010      1    January\n",
            "...         ...     ...     ...     ...   ...    ...        ...\n",
            "3025 2021-12-27  4.9492  4.3725  4.7604  2021     12   December\n",
            "3026 2021-12-28  4.9491  4.3683  4.7668  2021     12   December\n",
            "3027 2021-12-29  4.9490  4.3849  4.7722  2021     12   December\n",
            "3028 2021-12-30  4.9486  4.3735  4.7713  2021     12   December\n",
            "3029 2021-12-31  4.9481  4.3707  4.7884  2021     12   December\n",
            "\n",
            "[3030 rows x 7 columns]\n",
            "\n"
          ]
        }
      ]
    },
    {
      "cell_type": "markdown",
      "source": [
        "## 3. Additional feature engineering"
      ],
      "metadata": {
        "id": "fWehUF4HJt7M"
      }
    },
    {
      "cell_type": "markdown",
      "source": [
        "In order to improve further the relevance of the datase, we will enhance it further with additional features."
      ],
      "metadata": {
        "id": "98lx6_ERJ-9g"
      }
    },
    {
      "cell_type": "code",
      "source": [
        "# calculate EUR change from the previous day\n",
        "EUR_changes = data[\"EUR\"].diff(periods = 1)\n",
        "EUR_changes[0] = 0\n",
        "EUR_pct_changes = data[\"EUR\"].pct_change(periods = 1)\n",
        "EUR_pct_changes[0] = 0\n",
        "\n",
        "data[\"EUR_CHANGE_PREV_DAY\"] = EUR_changes\n",
        "data[\"EUR_PCT_CHANGE_PREV_DAY\"] = EUR_pct_changes"
      ],
      "metadata": {
        "id": "6CjhK79JKFlM"
      },
      "execution_count": 15,
      "outputs": []
    },
    {
      "cell_type": "code",
      "source": [
        "# HOMEWORK: add the USD change from the previous day"
      ],
      "metadata": {
        "id": "Fkv1iKfdMLQv"
      },
      "execution_count": 16,
      "outputs": []
    },
    {
      "cell_type": "code",
      "source": [
        "# HOMEWORK: add the CHF change from the previous day"
      ],
      "metadata": {
        "id": "hIN7XOdYMUOs"
      },
      "execution_count": 17,
      "outputs": []
    },
    {
      "cell_type": "code",
      "source": [
        "# display records from the cleaned dataset\n",
        "print(\n",
        "    \"Sample records from the dataset with engineered features are: \\n{}\\n\".format(\n",
        "      data\n",
        "  )\n",
        ")"
      ],
      "metadata": {
        "colab": {
          "base_uri": "https://localhost:8080/"
        },
        "id": "dlwVn6-kTnPW",
        "outputId": "7c0be171-1faf-4ad6-8d10-ef0e436c7ffa"
      },
      "execution_count": 18,
      "outputs": [
        {
          "output_type": "stream",
          "name": "stdout",
          "text": [
            "Sample records from the dataset with engineered features are: \n",
            "           DATE     EUR     USD     CHF  YEAR  MONTH MONTH_NAME  EUR_CHANGE_PREV_DAY  EUR_PCT_CHANGE_PREV_DAY\n",
            "0    2010-01-04  4.2265  2.9401  2.8419  2010      1    January               0.0000                 0.000000\n",
            "1    2010-01-05  4.2077  2.9186  2.8345  2010      1    January              -0.0188                -0.004448\n",
            "2    2010-01-06  4.1620  2.8987  2.8051  2010      1    January              -0.0457                -0.010861\n",
            "3    2010-01-07  4.1721  2.9089  2.8158  2010      1    January               0.0101                 0.002427\n",
            "4    2010-01-08  4.1679  2.9143  2.8134  2010      1    January              -0.0042                -0.001007\n",
            "...         ...     ...     ...     ...   ...    ...        ...                  ...                      ...\n",
            "3025 2021-12-27  4.9492  4.3725  4.7604  2021     12   December               0.0002                 0.000040\n",
            "3026 2021-12-28  4.9491  4.3683  4.7668  2021     12   December              -0.0001                -0.000020\n",
            "3027 2021-12-29  4.9490  4.3849  4.7722  2021     12   December              -0.0001                -0.000020\n",
            "3028 2021-12-30  4.9486  4.3735  4.7713  2021     12   December              -0.0004                -0.000081\n",
            "3029 2021-12-31  4.9481  4.3707  4.7884  2021     12   December              -0.0005                -0.000101\n",
            "\n",
            "[3030 rows x 9 columns]\n",
            "\n"
          ]
        }
      ]
    },
    {
      "cell_type": "markdown",
      "source": [
        "## 4. Data consolidation"
      ],
      "metadata": {
        "id": "I0iex9ddeIhk"
      }
    },
    {
      "cell_type": "markdown",
      "source": [
        "We will consolidate the data by aggregating it at different levels."
      ],
      "metadata": {
        "id": "0aedpOlCeP3g"
      }
    },
    {
      "cell_type": "code",
      "source": [
        "# aggregate the data on YEAR and MONTH level\n",
        "# for min, max and mean aggregations\n",
        "currency_aggregate = data.groupby([\"YEAR\", \"MONTH\", \"MONTH_NAME\"]).agg({\n",
        "    # we aggregate EUR information for min, mean and max values\n",
        "    \"EUR\": [\"min\", \"mean\", \"max\"],\n",
        "    # we aggregate EUR_CHANGE_PREV_DAY information for min, mean and max values    \n",
        "    \"EUR_CHANGE_PREV_DAY\": [\"min\", \"mean\", \"max\"]\n",
        "  })\n",
        "\n",
        "# drop the first level from the aggregation columns\n",
        "currency_aggregate = currency_aggregate.droplevel(0, axis = 1)\n",
        "\n",
        "# set the related columns\n",
        "currency_aggregate.columns = [\n",
        "        \"EUR_MIN\", \n",
        "        \"EUR_AVG\", \n",
        "        \"EUR_MAX\", \n",
        "        \"EUR_CHANGE_PREV_DAY_MIN\",\n",
        "        \"EUR_CHANGE_PREV_DAY_AVG\",\n",
        "        \"EUR_CHANGE_PREV_DAY_MAX\",\n",
        "      ]"
      ],
      "metadata": {
        "id": "_N_5uxNbgzqV"
      },
      "execution_count": 19,
      "outputs": []
    },
    {
      "cell_type": "code",
      "source": [
        "# HOMEWORK: add the USD aggregated information"
      ],
      "metadata": {
        "id": "njNcC0jKh5f5"
      },
      "execution_count": 20,
      "outputs": []
    },
    {
      "cell_type": "code",
      "source": [
        "# HOMEWORK: add the CHF aggregated information"
      ],
      "metadata": {
        "id": "ArLacFITh5se"
      },
      "execution_count": 21,
      "outputs": []
    },
    {
      "cell_type": "code",
      "source": [
        "# display records from the aggregated dataset\n",
        "print(\n",
        "    \"Sample records from the dataset with aggregated data are: \\n{}\\n\".format(\n",
        "      currency_aggregate\n",
        "  )\n",
        ")"
      ],
      "metadata": {
        "colab": {
          "base_uri": "https://localhost:8080/"
        },
        "id": "0NoedBstibUS",
        "outputId": "d17448ae-c77f-455a-c11b-43a301285a33"
      },
      "execution_count": 22,
      "outputs": [
        {
          "output_type": "stream",
          "name": "stdout",
          "text": [
            "Sample records from the dataset with aggregated data are: \n",
            "                       EUR_MIN   EUR_AVG  EUR_MAX  EUR_CHANGE_PREV_DAY_MIN  EUR_CHANGE_PREV_DAY_AVG  EUR_CHANGE_PREV_DAY_MAX\n",
            "YEAR MONTH MONTH_NAME                                                                                                       \n",
            "2010 1     January      4.1008  4.140895   4.2265                  -0.0457                -0.005225                   0.0244\n",
            "     2     February     4.0805  4.117930   4.1397                  -0.0415                -0.000735                   0.0250\n",
            "     3     March        4.0653  4.087861   4.1092                  -0.0152                -0.000500                   0.0229\n",
            "     4     April        4.0908  4.128533   4.1597                  -0.0137                 0.001514                   0.0220\n",
            "     5     May          4.1275  4.174270   4.1998                  -0.0233                 0.002580                   0.0341\n",
            "...                        ...       ...      ...                      ...                      ...                      ...\n",
            "2021 8     August       4.9118  4.922927   4.9349                  -0.0049                 0.000682                   0.0112\n",
            "     9     September    4.9345  4.946455   4.9495                  -0.0050                 0.000559                   0.0059\n",
            "     10    October      4.9467  4.948110   4.9490                  -0.0018                 0.000086                   0.0016\n",
            "     11    November     4.9476  4.948795   4.9491                  -0.0013                 0.000005                   0.0013\n",
            "     12    December     4.9481  4.948886   4.9492                  -0.0005                -0.000041                   0.0003\n",
            "\n",
            "[144 rows x 6 columns]\n",
            "\n"
          ]
        }
      ]
    },
    {
      "cell_type": "markdown",
      "source": [
        "For reporting purposes we will consolidate both daily information for EUR(such as daily value) with aggregated information (such as average monthly value)."
      ],
      "metadata": {
        "id": "auywBefEpNjC"
      }
    },
    {
      "cell_type": "code",
      "source": [
        "# extract EUR related information\n",
        "EUR_data = data[[\n",
        "                 \"DATE\", \n",
        "                 \"YEAR\", \n",
        "                 \"MONTH\", \n",
        "                 \"MONTH_NAME\", \n",
        "                 \"EUR\",\n",
        "                 \"EUR_CHANGE_PREV_DAY\",\n",
        "                 \"EUR_PCT_CHANGE_PREV_DAY\",\n",
        "          ]]"
      ],
      "metadata": {
        "id": "tkdb6dRwp2jf"
      },
      "execution_count": 23,
      "outputs": []
    },
    {
      "cell_type": "code",
      "source": [
        "# flatten currency aggregate\n",
        "flattened_currency_aggregate = currency_aggregate.reset_index()\n",
        "EUR_aggregated_data = flattened_currency_aggregate[[\n",
        "                                                  \"YEAR\",\n",
        "                                                  \"MONTH\",\n",
        "                                                  \"EUR_MIN\",\n",
        "                                                  \"EUR_AVG\",\n",
        "                                                  \"EUR_MAX\",\n",
        "                                                  \"EUR_CHANGE_PREV_DAY_MIN\",\n",
        "                                                  \"EUR_CHANGE_PREV_DAY_AVG\",\n",
        "                                                  \"EUR_CHANGE_PREV_DAY_MAX\"\n",
        "                                              ]]"
      ],
      "metadata": {
        "id": "Cgzgu9hwqg5Z"
      },
      "execution_count": 24,
      "outputs": []
    },
    {
      "cell_type": "code",
      "source": [
        "# merge data from different data frames\n",
        "EUR_report_data = EUR_data.merge(\n",
        "    EUR_aggregated_data, \n",
        "    how=\"inner\", \n",
        "    left_on=[\"YEAR\", \"MONTH\"], \n",
        "    right_on=[\"YEAR\", \"MONTH\"]\n",
        "  )"
      ],
      "metadata": {
        "id": "n9LLeii7mr3u"
      },
      "execution_count": 25,
      "outputs": []
    },
    {
      "cell_type": "code",
      "source": [
        "# display records from report dataset\n",
        "print(\n",
        "    \"Sample records from the dataset with report data are: \\n{}\\n\".format(\n",
        "      EUR_report_data\n",
        "  )\n",
        ")"
      ],
      "metadata": {
        "colab": {
          "base_uri": "https://localhost:8080/"
        },
        "id": "JpbOY9fFnWsS",
        "outputId": "090270e8-8cd0-43a0-a9d0-9aee3a8e6766"
      },
      "execution_count": 26,
      "outputs": [
        {
          "output_type": "stream",
          "name": "stdout",
          "text": [
            "Sample records from the dataset with report data are: \n",
            "           DATE  YEAR  MONTH MONTH_NAME     EUR  EUR_CHANGE_PREV_DAY  EUR_PCT_CHANGE_PREV_DAY  EUR_MIN   EUR_AVG  EUR_MAX  EUR_CHANGE_PREV_DAY_MIN  EUR_CHANGE_PREV_DAY_AVG  EUR_CHANGE_PREV_DAY_MAX\n",
            "0    2010-01-04  2010      1    January  4.2265               0.0000                 0.000000   4.1008  4.140895   4.2265                  -0.0457                -0.005225                   0.0244\n",
            "1    2010-01-05  2010      1    January  4.2077              -0.0188                -0.004448   4.1008  4.140895   4.2265                  -0.0457                -0.005225                   0.0244\n",
            "2    2010-01-06  2010      1    January  4.1620              -0.0457                -0.010861   4.1008  4.140895   4.2265                  -0.0457                -0.005225                   0.0244\n",
            "3    2010-01-07  2010      1    January  4.1721               0.0101                 0.002427   4.1008  4.140895   4.2265                  -0.0457                -0.005225                   0.0244\n",
            "4    2010-01-08  2010      1    January  4.1679              -0.0042                -0.001007   4.1008  4.140895   4.2265                  -0.0457                -0.005225                   0.0244\n",
            "...         ...   ...    ...        ...     ...                  ...                      ...      ...       ...      ...                      ...                      ...                      ...\n",
            "3025 2021-12-27  2021     12   December  4.9492               0.0002                 0.000040   4.9481  4.948886   4.9492                  -0.0005                -0.000041                   0.0003\n",
            "3026 2021-12-28  2021     12   December  4.9491              -0.0001                -0.000020   4.9481  4.948886   4.9492                  -0.0005                -0.000041                   0.0003\n",
            "3027 2021-12-29  2021     12   December  4.9490              -0.0001                -0.000020   4.9481  4.948886   4.9492                  -0.0005                -0.000041                   0.0003\n",
            "3028 2021-12-30  2021     12   December  4.9486              -0.0004                -0.000081   4.9481  4.948886   4.9492                  -0.0005                -0.000041                   0.0003\n",
            "3029 2021-12-31  2021     12   December  4.9481              -0.0005                -0.000101   4.9481  4.948886   4.9492                  -0.0005                -0.000041                   0.0003\n",
            "\n",
            "[3030 rows x 13 columns]\n",
            "\n"
          ]
        }
      ]
    },
    {
      "cell_type": "code",
      "source": [
        "# HOMEWORK: create and print USD report data"
      ],
      "metadata": {
        "id": "C-DhZum3s_qw"
      },
      "execution_count": 27,
      "outputs": []
    },
    {
      "cell_type": "code",
      "source": [
        "# HOMEWORK: create and print CHF report data"
      ],
      "metadata": {
        "id": "wiEv3NKotFLF"
      },
      "execution_count": 28,
      "outputs": []
    },
    {
      "cell_type": "code",
      "source": [
        "# OPTIONAL HOMEWORK: add engineered features comparing daily values with monthly mean values"
      ],
      "metadata": {
        "id": "EvVFtiXXthQU"
      },
      "execution_count": 29,
      "outputs": []
    },
    {
      "cell_type": "markdown",
      "source": [
        "## 5. Extract data insights"
      ],
      "metadata": {
        "id": "lYXZPUrXsxym"
      }
    },
    {
      "cell_type": "markdown",
      "source": [
        "We will simulate an investment model where financials are just stored in EUR currency. \n",
        "We would like to calculate the monthly compound rate for such a scenario and determine which scenario has the highest daily compound rate.  "
      ],
      "metadata": {
        "id": "OWXnrPKDuUH9"
      }
    },
    {
      "cell_type": "markdown",
      "source": [
        "First of all, let's determine the EUR differences at 90, 180 and 360 days time intervals."
      ],
      "metadata": {
        "id": "n0F3A6ZVQ_DN"
      }
    },
    {
      "cell_type": "code",
      "source": [
        "# we determine EUR differences at 90, 180 and 360 days \n",
        "# basically 3, 6 and 12 calendar months\n",
        "diff_90 = data[\"EUR\"].diff(periods = 90)\n",
        "diff_180 = data[\"EUR\"].diff(periods = 180)\n",
        "diff_360 = data[\"EUR\"].diff(periods = 360)"
      ],
      "metadata": {
        "id": "VrNy7dCTNJqj"
      },
      "execution_count": 30,
      "outputs": []
    },
    {
      "cell_type": "markdown",
      "source": [
        "For processing, we will focus only on data from 2021."
      ],
      "metadata": {
        "id": "ENBOAdN0RKZe"
      }
    },
    {
      "cell_type": "code",
      "source": [
        "# select te data strictly for 2021\n",
        "data_2021 = data[data[\"YEAR\"] == 2021][\"EUR\"]\n",
        "diff_90_2021 = diff_90[data_2021.index]\n",
        "diff_180_2021 = diff_180[data_2021.index]\n",
        "diff_360_2021 = diff_360[data_2021.index]"
      ],
      "metadata": {
        "id": "0pYOMRqDvaYw"
      },
      "execution_count": 31,
      "outputs": []
    },
    {
      "cell_type": "markdown",
      "source": [
        "For each of this period, we will calculate the associated the monthly compound interest rates associated with the differences in EUR values.  "
      ],
      "metadata": {
        "id": "tJ4nRtucRR8F"
      }
    },
    {
      "cell_type": "code",
      "source": [
        "# calculate monthly compound interest rates for\n",
        "# 3, 6 and 12 calendar months\n",
        "compound_interest_rates_3_months = ((data_2021 /(data_2021 - diff_90_2021)) ** (1/3) - 1) \n",
        "compound_interest_rates_6_months = ((data_2021 /(data_2021 - diff_180_2021)) ** (1/6) - 1)\n",
        "compound_interest_rates_12_months = ((data_2021 /(data_2021 - diff_360_2021)) ** (1/12) - 1)"
      ],
      "metadata": {
        "id": "qm5hdfvAv9yu"
      },
      "execution_count": 32,
      "outputs": []
    },
    {
      "cell_type": "code",
      "source": [
        "# display interest rates information\n",
        "print(\n",
        "    \"The average monthly compound interest rates are as follows: \\n\\\n",
        "    90 days (3 months): \\t {:.2f}%\\n\\\n",
        "    180 days (6 months): \\t {:.2f}%\\n\\\n",
        "    360 days (12 months): \\t {:.2f}%\\n\".format(\n",
        "      np.average(compound_interest_rates_3_months) * 100,\n",
        "      np.average(compound_interest_rates_6_months) * 100,\n",
        "      np.average(compound_interest_rates_12_months) * 100,\n",
        "    )\n",
        ")\n"
      ],
      "metadata": {
        "colab": {
          "base_uri": "https://localhost:8080/"
        },
        "id": "lJMac0hBR3Wd",
        "outputId": "5f37975f-45f4-4a6d-fc93-cc7d192d8f84"
      },
      "execution_count": 33,
      "outputs": [
        {
          "output_type": "stream",
          "name": "stdout",
          "text": [
            "The average monthly compound interest rates are as follows: \n",
            "    90 days (3 months): \t 0.20%\n",
            "    180 days (6 months): \t 0.20%\n",
            "    360 days (12 months): \t 0.22%\n",
            "\n"
          ]
        }
      ]
    },
    {
      "cell_type": "markdown",
      "source": [
        "According to this data, purchasing and storing EUR currency with 360 days in advance will provide - on average - a compound monthly interest rate of 0.22% in 2021 (the best option in this scenario)."
      ],
      "metadata": {
        "id": "L05u2Hl_SfZ7"
      }
    },
    {
      "cell_type": "code",
      "source": [
        "# HOMEWORK: determine compound interests and optimal choice for USD in the same scenario"
      ],
      "metadata": {
        "id": "S2SNWaHIpVNA"
      },
      "execution_count": 34,
      "outputs": []
    },
    {
      "cell_type": "code",
      "source": [
        "# HOMEWORK: determine compound interests and optimal choice for CHF in the same scenario"
      ],
      "metadata": {
        "id": "Xf8fmWrGpjKF"
      },
      "execution_count": 35,
      "outputs": []
    },
    {
      "cell_type": "code",
      "source": [
        "# OPTIONAL HOMEWORK: determine the optimal choice for an opportunistic policy\n",
        "# (i.e. calculating maximum instead of average compound interest rate) for\n",
        "# each of the EUR, USD and CHF currencies"
      ],
      "metadata": {
        "id": "Z2MFWZQfpnc6"
      },
      "execution_count": 36,
      "outputs": []
    }
  ],
  "metadata": {
    "kernelspec": {
      "display_name": "Python 3",
      "language": "python",
      "name": "python3"
    },
    "language_info": {
      "codemirror_mode": {
        "name": "ipython",
        "version": 3
      },
      "file_extension": ".py",
      "mimetype": "text/x-python",
      "name": "python",
      "nbconvert_exporter": "python",
      "pygments_lexer": "ipython3",
      "version": "3.7.3"
    },
    "colab": {
      "name": "008_Pandas_Homework.ipynb",
      "provenance": [],
      "collapsed_sections": []
    }
  },
  "nbformat": 4,
  "nbformat_minor": 0
}