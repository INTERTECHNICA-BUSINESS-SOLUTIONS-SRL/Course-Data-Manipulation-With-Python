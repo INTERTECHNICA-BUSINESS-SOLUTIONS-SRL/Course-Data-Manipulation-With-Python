{
  "cells": [
    {
      "cell_type": "markdown",
      "metadata": {
        "id": "A1V_i26w0s0s"
      },
      "source": [
        "![*INTERTECHNICA - SOLON EDUCATIONAL PROGRAMS - TECHNOLOGY LINE*](https://solon.intertechnica.com/assets/IntertechnicaSolonEducationalPrograms-TechnologyLine.png)"
      ]
    },
    {
      "cell_type": "markdown",
      "metadata": {
        "id": "_kLFQUxq0s01"
      },
      "source": [
        "# Data Manipulation with Python - The Pandas Library - Installing Pandas"
      ]
    },
    {
      "cell_type": "markdown",
      "metadata": {
        "id": "2UWkz-4j0s03"
      },
      "source": [
        "*Pandas is a fast, powerful, flexible and easy to use open source data analysis and manipulation tool built on top of the Python programming language. It is one of the most useful libraries both for data manipulation, data analysis and data science*"
      ]
    },
    {
      "cell_type": "markdown",
      "metadata": {
        "id": "kPyML7_f0s04"
      },
      "source": [
        "## 1. Installing and Importing Pandas"
      ]
    },
    {
      "cell_type": "markdown",
      "metadata": {
        "id": "F4V1O2m-0s05"
      },
      "source": [
        "Pandas can be installed by using the following command (usually it comes pre-installed in conda-like environments):"
      ]
    },
    {
      "cell_type": "code",
      "execution_count": 1,
      "metadata": {
        "colab": {
          "base_uri": "https://localhost:8080/"
        },
        "id": "vOUFEVsz0s06",
        "outputId": "61e5c9cf-3040-4338-9059-30638a4a7605"
      },
      "outputs": [
        {
          "output_type": "stream",
          "name": "stdout",
          "text": [
            "Requirement already satisfied: pandas in /usr/local/lib/python3.7/dist-packages (1.1.5)\n",
            "Requirement already satisfied: pytz>=2017.2 in /usr/local/lib/python3.7/dist-packages (from pandas) (2018.9)\n",
            "Requirement already satisfied: numpy>=1.15.4 in /usr/local/lib/python3.7/dist-packages (from pandas) (1.19.5)\n",
            "Requirement already satisfied: python-dateutil>=2.7.3 in /usr/local/lib/python3.7/dist-packages (from pandas) (2.8.2)\n",
            "Requirement already satisfied: six>=1.5 in /usr/local/lib/python3.7/dist-packages (from python-dateutil>=2.7.3->pandas) (1.15.0)\n"
          ]
        }
      ],
      "source": [
        "!python -m pip install pandas"
      ]
    },
    {
      "cell_type": "markdown",
      "metadata": {
        "id": "YtvqakXd0s09"
      },
      "source": [
        "Pandas can be imported as any other Python Module via the **import** statement. "
      ]
    },
    {
      "cell_type": "code",
      "execution_count": 2,
      "metadata": {
        "id": "1yohMhNF0s0_"
      },
      "outputs": [],
      "source": [
        "import pandas as pd"
      ]
    },
    {
      "cell_type": "markdown",
      "source": [
        "The Pandas version can be verified by accessing the __version__ attribute of the package."
      ],
      "metadata": {
        "id": "q1T_qj-k5wi8"
      }
    },
    {
      "cell_type": "code",
      "source": [
        "print (\"You are using Pandas version {}\".format(pd.__version__))"
      ],
      "metadata": {
        "colab": {
          "base_uri": "https://localhost:8080/"
        },
        "id": "TcDi16Lo5vqR",
        "outputId": "78113a8b-98f6-4d5c-b5b6-a385c36e6874"
      },
      "execution_count": 3,
      "outputs": [
        {
          "output_type": "stream",
          "name": "stdout",
          "text": [
            "You are using Pandas version 1.1.5\n"
          ]
        }
      ]
    }
  ],
  "metadata": {
    "kernelspec": {
      "display_name": "Python 3",
      "language": "python",
      "name": "python3"
    },
    "language_info": {
      "codemirror_mode": {
        "name": "ipython",
        "version": 3
      },
      "file_extension": ".py",
      "mimetype": "text/x-python",
      "name": "python",
      "nbconvert_exporter": "python",
      "pygments_lexer": "ipython3",
      "version": "3.7.3"
    },
    "colab": {
      "name": "001_Installing_Pandas.ipynb",
      "provenance": [],
      "collapsed_sections": []
    }
  },
  "nbformat": 4,
  "nbformat_minor": 0
}