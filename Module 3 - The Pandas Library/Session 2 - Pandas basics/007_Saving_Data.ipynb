{
  "cells": [
    {
      "cell_type": "markdown",
      "metadata": {
        "id": "KDuU6OSWXKo4"
      },
      "source": [
        "![*INTERTECHNICA - SOLON EDUCATIONAL PROGRAMS - TECHNOLOGY LINE*](https://solon.intertechnica.com/assets/IntertechnicaSolonEducationalPrograms-TechnologyLine.png)"
      ]
    },
    {
      "cell_type": "markdown",
      "metadata": {
        "id": "OeBbVwSSXKo9"
      },
      "source": [
        "# Data Manipulation with Python - The Pandas Library - Saving Data"
      ]
    },
    {
      "cell_type": "markdown",
      "metadata": {
        "id": "uUhqqWdPXKpA"
      },
      "source": [
        "*Basic initialization of the workspace.*"
      ]
    },
    {
      "cell_type": "code",
      "source": [
        "!python -m pip install numpy\n",
        "import numpy as np\n",
        "print (\"NumPy installed at version: {}\".format(np.__version__))"
      ],
      "metadata": {
        "colab": {
          "base_uri": "https://localhost:8080/"
        },
        "id": "OJzCFKioH6UR",
        "outputId": "b72e06e9-86d7-40ca-d7e9-740d04801670"
      },
      "execution_count": 1,
      "outputs": [
        {
          "output_type": "stream",
          "name": "stdout",
          "text": [
            "Requirement already satisfied: numpy in /usr/local/lib/python3.7/dist-packages (1.19.5)\n",
            "NumPy installed at version: 1.19.5\n"
          ]
        }
      ]
    },
    {
      "cell_type": "code",
      "execution_count": 2,
      "metadata": {
        "id": "AjAZRU7GXKpE",
        "outputId": "0df97cb3-3fcf-4873-8f07-624dc375616d",
        "colab": {
          "base_uri": "https://localhost:8080/"
        }
      },
      "outputs": [
        {
          "output_type": "stream",
          "name": "stdout",
          "text": [
            "Requirement already satisfied: pandas in /usr/local/lib/python3.7/dist-packages (1.1.5)\n",
            "Requirement already satisfied: numpy>=1.15.4 in /usr/local/lib/python3.7/dist-packages (from pandas) (1.19.5)\n",
            "Requirement already satisfied: python-dateutil>=2.7.3 in /usr/local/lib/python3.7/dist-packages (from pandas) (2.8.2)\n",
            "Requirement already satisfied: pytz>=2017.2 in /usr/local/lib/python3.7/dist-packages (from pandas) (2018.9)\n",
            "Requirement already satisfied: six>=1.5 in /usr/local/lib/python3.7/dist-packages (from python-dateutil>=2.7.3->pandas) (1.15.0)\n",
            "Pandas installed at version: 1.1.5\n"
          ]
        }
      ],
      "source": [
        "!python -m pip install pandas\n",
        "import pandas as pd\n",
        "print (\"Pandas installed at version: {}\".format(pd.__version__))\n",
        "\n",
        "#adjust pandas DataFrame display for a wider target \n",
        "pd.set_option('display.expand_frame_repr', False)"
      ]
    },
    {
      "cell_type": "markdown",
      "source": [
        "Load sample data for processing:"
      ],
      "metadata": {
        "id": "WoSU6abCESv6"
      }
    },
    {
      "cell_type": "code",
      "source": [
        "# load EU quality of life indicator \n",
        "quality_of_life_data_frame = pd.read_csv(\n",
        "    \"https://raw.githubusercontent.com/INTERTECHNICA-BUSINESS-SOLUTIONS-SRL/CourseDataManipulationWithPython/main/Module%203%20-%20The%20Pandas%20Library/Session%202%20-%20Pandas%20basics/data/EU_Quality_Of_Life.csv\",\n",
        " )\n",
        "print(\n",
        "   \"Loaded quality of life data frame with shape {}\".format(\n",
        "       quality_of_life_data_frame.shape\n",
        "   ) \n",
        ")"
      ],
      "metadata": {
        "id": "yxQNVd_YTSJJ",
        "outputId": "00feed08-4349-4e09-fcc6-565a10af6deb",
        "colab": {
          "base_uri": "https://localhost:8080/"
        }
      },
      "execution_count": 3,
      "outputs": [
        {
          "output_type": "stream",
          "name": "stdout",
          "text": [
            "Loaded quality of life data frame with shape (6315, 6)\n"
          ]
        }
      ]
    },
    {
      "cell_type": "markdown",
      "metadata": {
        "id": "LlxTCVx0XKpJ"
      },
      "source": [
        "## 1. Data Saving"
      ]
    },
    {
      "cell_type": "markdown",
      "source": [
        "Let's clean up the raw data by removing the records with missing values:"
      ],
      "metadata": {
        "id": "k3JQEYtUt5wl"
      }
    },
    {
      "cell_type": "code",
      "source": [
        "# remove records where data is empty\n",
        "clean_quality_of_life_data_frame = quality_of_life_data_frame.drop(\n",
        "    quality_of_life_data_frame.index[np.isnan(quality_of_life_data_frame[\"OBS_VALUE\"])],\n",
        "    axis = 0\n",
        " )\n",
        "\n",
        "print(\n",
        "    \"Removing empty data has dropped {} records\".format(\n",
        "        quality_of_life_data_frame.shape[0] - clean_quality_of_life_data_frame.shape[0]\n",
        "    )\n",
        ")"
      ],
      "metadata": {
        "id": "Anc3Cf9xwE6x",
        "outputId": "ce8b1b42-9cce-4902-efae-f4b2d107d5d1",
        "colab": {
          "base_uri": "https://localhost:8080/"
        }
      },
      "execution_count": 4,
      "outputs": [
        {
          "output_type": "stream",
          "name": "stdout",
          "text": [
            "Removing empty data has dropped 131 records\n"
          ]
        }
      ]
    },
    {
      "cell_type": "code",
      "source": [
        "# remove redundant values\n",
        "previous_row_counts = clean_quality_of_life_data_frame.shape[0]\n",
        "clean_quality_of_life_data_frame = clean_quality_of_life_data_frame[\n",
        "     (clean_quality_of_life_data_frame[\"isced11\"] != \"TOTAL\")\n",
        "     &\n",
        "     (clean_quality_of_life_data_frame[\"sex\"] != \"T\")\n",
        "     &\n",
        "     (clean_quality_of_life_data_frame[\"age\"] != \"Y_GE16\")\n",
        "     &\n",
        "     (clean_quality_of_life_data_frame[\"age\"] != \"Y_GE65\")\n",
        "    ]   \n",
        "\n",
        "print(\n",
        "    \"Removing redundant data has dropped {} records\".format(\n",
        "        previous_row_counts - clean_quality_of_life_data_frame.shape[0]\n",
        "    )\n",
        ")"
      ],
      "metadata": {
        "colab": {
          "base_uri": "https://localhost:8080/"
        },
        "id": "cqfCK__2Hynv",
        "outputId": "a7cbd9a9-43e9-4072-d111-71c96cada96c"
      },
      "execution_count": 5,
      "outputs": [
        {
          "output_type": "stream",
          "name": "stdout",
          "text": [
            "Removing redundant data has dropped 3721 records\n"
          ]
        }
      ]
    },
    {
      "cell_type": "code",
      "source": [
        "# ensure that the resulted data frame has \n",
        "# the 2013 and 2018 data as column values \n",
        "quality_of_life_2013_data = clean_quality_of_life_data_frame[clean_quality_of_life_data_frame[\"TIME_PERIOD\"] == 2013]\n",
        "quality_of_life_2018_data = clean_quality_of_life_data_frame[clean_quality_of_life_data_frame[\"TIME_PERIOD\"] == 2018]\n",
        "merged_data = pd.merge(\n",
        "    quality_of_life_2013_data,\n",
        "    quality_of_life_2018_data,\n",
        "    on = [\"geo\", \"isced11\", \"sex\", \"age\"],\n",
        "    how = \"inner\"\n",
        ")\n",
        "\n",
        "print(\n",
        "    \"A sample of merged data results is \\n{}\".format(\n",
        "        merged_data[0:10]\n",
        "    )\n",
        ")"
      ],
      "metadata": {
        "colab": {
          "base_uri": "https://localhost:8080/"
        },
        "id": "smJseBfbBTRH",
        "outputId": "ce0316f6-0b67-47fb-8799-d08e9b362206"
      },
      "execution_count": 6,
      "outputs": [
        {
          "output_type": "stream",
          "name": "stdout",
          "text": [
            "A sample of merged data results is \n",
            "  isced11 sex     age geo  TIME_PERIOD_x  OBS_VALUE_x  TIME_PERIOD_y  OBS_VALUE_y\n",
            "0   ED0-2   F  Y16-24  AT           2013          8.2           2018          8.0\n",
            "1   ED0-2   F  Y16-24  BE           2013          7.7           2018          7.8\n",
            "2   ED0-2   F  Y16-24  BG           2013          5.5           2018          6.3\n",
            "3   ED0-2   F  Y16-24  CY           2013          7.5           2018          7.9\n",
            "4   ED0-2   F  Y16-24  CZ           2013          7.8           2018          8.2\n",
            "5   ED0-2   F  Y16-24  DE           2013          7.4           2018          7.7\n",
            "6   ED0-2   F  Y16-24  DK           2013          8.3           2018          7.2\n",
            "7   ED0-2   F  Y16-24  EE           2013          7.3           2018          7.9\n",
            "8   ED0-2   F  Y16-24  EL           2013          7.0           2018          7.2\n",
            "9   ED0-2   F  Y16-24  ES           2013          7.3           2018          7.6\n"
          ]
        }
      ]
    },
    {
      "cell_type": "code",
      "source": [
        "# create a clean data frame\n",
        "result_data = pd.DataFrame(\n",
        "    data = {\n",
        "        \"geo\": merged_data[\"geo\"],\n",
        "        \"age\": merged_data[\"age\"],\n",
        "        \"sex\": merged_data[\"sex\"],\n",
        "        \"isced11\": merged_data[\"isced11\"],\n",
        "        \"OBS_VALUE_2013\": merged_data[\"OBS_VALUE_x\"],\n",
        "        \"OBS_VALUE_2018\": merged_data[\"OBS_VALUE_y\"]\n",
        "    }\n",
        ")\n",
        "\n",
        "result_data = result_data.sort_values(\n",
        "    [\"geo\", \"age\", \"sex\", \"isced11\"]\n",
        ")\n",
        "\n",
        "print(\n",
        "    \"A sample of clean data results is \\n{}\".format(\n",
        "        result_data[0:10]\n",
        "    )\n",
        ")"
      ],
      "metadata": {
        "colab": {
          "base_uri": "https://localhost:8080/"
        },
        "id": "HBlJFe3CETrI",
        "outputId": "eb75d385-679d-42f1-dbe5-73acbc128a45"
      },
      "execution_count": 7,
      "outputs": [
        {
          "output_type": "stream",
          "name": "stdout",
          "text": [
            "A sample of clean data results is \n",
            "    geo     age sex isced11  OBS_VALUE_2013  OBS_VALUE_2018\n",
            "0    AT  Y16-24   F   ED0-2             8.2             8.0\n",
            "375  AT  Y16-24   F   ED3_4             8.4             8.5\n",
            "754  AT  Y16-24   F   ED5-8             8.4             8.5\n",
            "188  AT  Y16-24   M   ED0-2             8.3             8.4\n",
            "564  AT  Y16-24   M   ED3_4             8.5             8.3\n",
            "32   AT  Y25-34   F   ED0-2             6.8             7.7\n",
            "407  AT  Y25-34   F   ED3_4             8.2             8.0\n",
            "777  AT  Y25-34   F   ED5-8             8.6             8.4\n",
            "219  AT  Y25-34   M   ED0-2             7.3             7.4\n",
            "596  AT  Y25-34   M   ED3_4             8.1             8.0\n"
          ]
        }
      ]
    },
    {
      "cell_type": "markdown",
      "source": [
        "In case of big data, the cleanup and processing operation can be lengty and expensive. It is preferrable to save the processed data and load it later for futher processing."
      ],
      "metadata": {
        "id": "HRHLIp97WRFU"
      }
    },
    {
      "cell_type": "markdown",
      "source": [
        "In order to save the processed data into a CSV format we can use the [**to_csv**](https://pandas.pydata.org/docs/reference/api/pandas.DataFrame.to_csv.html) method of the data frame:"
      ],
      "metadata": {
        "id": "04EGGVFTU1sB"
      }
    },
    {
      "cell_type": "code",
      "source": [
        "result_data.to_csv(\"processed_data.csv\")"
      ],
      "metadata": {
        "id": "kqTwJv4wU08X"
      },
      "execution_count": 8,
      "outputs": []
    },
    {
      "cell_type": "markdown",
      "source": [
        "The [**to_excel**](https://pandas.pydata.org/docs/reference/api/pandas.DataFrame.to_excel.html) method allows saving of the data in Excel format:"
      ],
      "metadata": {
        "id": "ebE_diY-VYYW"
      }
    },
    {
      "cell_type": "code",
      "source": [
        "result_data.to_excel(\"processed_data.xlsx\")"
      ],
      "metadata": {
        "id": "mNKqaL7wVXsI"
      },
      "execution_count": 9,
      "outputs": []
    },
    {
      "cell_type": "markdown",
      "source": [
        "In case of really high volume of data, it is prefferable to save it in a format that is open source and designed to handle such data volumes and complexities. The **parquet** format is extensively used for this purpose, saving data in this format can be done via the [**to_parquet**](https://pandas.pydata.org/docs/reference/api/pandas.DataFrame.to_parquet.html) method. "
      ],
      "metadata": {
        "id": "z-Ed-iUgW7jS"
      }
    },
    {
      "cell_type": "code",
      "source": [
        "result_data.to_parquet(\"processed_data.parquet\")"
      ],
      "metadata": {
        "id": "jrLMiAyKWpjW"
      },
      "execution_count": 10,
      "outputs": []
    }
  ],
  "metadata": {
    "kernelspec": {
      "display_name": "Python 3",
      "language": "python",
      "name": "python3"
    },
    "language_info": {
      "codemirror_mode": {
        "name": "ipython",
        "version": 3
      },
      "file_extension": ".py",
      "mimetype": "text/x-python",
      "name": "python",
      "nbconvert_exporter": "python",
      "pygments_lexer": "ipython3",
      "version": "3.7.3"
    },
    "colab": {
      "name": "007_Saving_Data.ipynb",
      "provenance": [],
      "collapsed_sections": []
    }
  },
  "nbformat": 4,
  "nbformat_minor": 0
}