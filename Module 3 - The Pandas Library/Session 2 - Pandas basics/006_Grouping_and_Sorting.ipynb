{
  "cells": [
    {
      "cell_type": "markdown",
      "metadata": {
        "id": "KDuU6OSWXKo4"
      },
      "source": [
        "![*INTERTECHNICA - SOLON EDUCATIONAL PROGRAMS - TECHNOLOGY LINE*](https://solon.intertechnica.com/assets/IntertechnicaSolonEducationalPrograms-TechnologyLine.png)"
      ]
    },
    {
      "cell_type": "markdown",
      "metadata": {
        "id": "OeBbVwSSXKo9"
      },
      "source": [
        "# Data Manipulation with Python - The Pandas Library - Grouping and Sorting"
      ]
    },
    {
      "cell_type": "markdown",
      "metadata": {
        "id": "uUhqqWdPXKpA"
      },
      "source": [
        "*Basic initialization of the workspace.*"
      ]
    },
    {
      "cell_type": "code",
      "source": [
        "!python -m pip install numpy\n",
        "import numpy as np\n",
        "print (\"NumPy installed at version: {}\".format(np.__version__))"
      ],
      "metadata": {
        "colab": {
          "base_uri": "https://localhost:8080/"
        },
        "id": "OJzCFKioH6UR",
        "outputId": "f2345e41-cfd3-4ce2-90be-11bb0635572f"
      },
      "execution_count": 1,
      "outputs": [
        {
          "output_type": "stream",
          "name": "stdout",
          "text": [
            "Requirement already satisfied: numpy in /usr/local/lib/python3.7/dist-packages (1.19.5)\n",
            "NumPy installed at version: 1.19.5\n"
          ]
        }
      ]
    },
    {
      "cell_type": "code",
      "execution_count": 2,
      "metadata": {
        "id": "AjAZRU7GXKpE",
        "colab": {
          "base_uri": "https://localhost:8080/"
        },
        "outputId": "14d5b37c-cf35-444b-cc72-a84fa6a4a4b3"
      },
      "outputs": [
        {
          "output_type": "stream",
          "name": "stdout",
          "text": [
            "Requirement already satisfied: pandas in /usr/local/lib/python3.7/dist-packages (1.1.5)\n",
            "Requirement already satisfied: numpy>=1.15.4 in /usr/local/lib/python3.7/dist-packages (from pandas) (1.19.5)\n",
            "Requirement already satisfied: python-dateutil>=2.7.3 in /usr/local/lib/python3.7/dist-packages (from pandas) (2.8.2)\n",
            "Requirement already satisfied: pytz>=2017.2 in /usr/local/lib/python3.7/dist-packages (from pandas) (2018.9)\n",
            "Requirement already satisfied: six>=1.5 in /usr/local/lib/python3.7/dist-packages (from python-dateutil>=2.7.3->pandas) (1.15.0)\n",
            "Pandas installed at version: 1.1.5\n"
          ]
        }
      ],
      "source": [
        "!python -m pip install pandas\n",
        "import pandas as pd\n",
        "print (\"Pandas installed at version: {}\".format(pd.__version__))\n",
        "\n",
        "#adjust pandas DataFrame display for a wider target \n",
        "pd.set_option('display.expand_frame_repr', False)"
      ]
    },
    {
      "cell_type": "markdown",
      "source": [
        "Load sample data for processing:"
      ],
      "metadata": {
        "id": "WoSU6abCESv6"
      }
    },
    {
      "cell_type": "code",
      "source": [
        "# load EU quality of life indicator \n",
        "quality_of_life_data_frame = pd.read_csv(\n",
        "    \"https://raw.githubusercontent.com/INTERTECHNICA-BUSINESS-SOLUTIONS-SRL/CourseDataManipulationWithPython/main/Module%203%20-%20The%20Pandas%20Library/Session%202%20-%20Pandas%20basics/data/EU_Quality_Of_Life.csv\",\n",
        " )\n",
        "print(\n",
        "   \"Loaded quality of life data frame with shape {}\".format(\n",
        "       quality_of_life_data_frame.shape\n",
        "   ) \n",
        ")"
      ],
      "metadata": {
        "id": "yxQNVd_YTSJJ",
        "colab": {
          "base_uri": "https://localhost:8080/"
        },
        "outputId": "52a1af05-2062-43f4-f742-3d4ab0ff4ce0"
      },
      "execution_count": 3,
      "outputs": [
        {
          "output_type": "stream",
          "name": "stdout",
          "text": [
            "Loaded quality of life data frame with shape (6315, 6)\n"
          ]
        }
      ]
    },
    {
      "cell_type": "markdown",
      "metadata": {
        "id": "LlxTCVx0XKpJ"
      },
      "source": [
        "## 1. Data Grouping"
      ]
    },
    {
      "cell_type": "markdown",
      "source": [
        "Data grouping is an extremely important process for data exploration, analysis and decision making. It allows the operators to look at the bigger picture - identifying consolidated information from granular data.  "
      ],
      "metadata": {
        "id": "DwQTc3Cj9xTH"
      }
    },
    {
      "cell_type": "markdown",
      "source": [
        "Exploring the data before proceeding to grouping we can identify the following fields:\n",
        "\n",
        "*   **isced11** - encodes the **International Standard Classification of Education (ISCED) 2011** data associated with the observation;\n",
        "*   **sex** - encodes the sex value associated with the observation (M/F);\n",
        "*   **age** - encodes various age segments associated with the observation;\n",
        "*   **geo** - represents the country code for the observation;\n",
        "*   **TIME_PERIOD** - represents the year of the observation (2013/2018);\n",
        "*   **OBS_VALUE** - represents the perceived quality of life indicator value (higher is better) "
      ],
      "metadata": {
        "id": "k3JQEYtUt5wl"
      }
    },
    {
      "cell_type": "code",
      "source": [
        "# display a data sample\n",
        "print(\n",
        "    \"A sample of quality of data is: \\n{}\".format(\n",
        "        quality_of_life_data_frame.iloc[0:10]\n",
        "    )\n",
        ")"
      ],
      "metadata": {
        "id": "l9OrHuXut47z",
        "colab": {
          "base_uri": "https://localhost:8080/"
        },
        "outputId": "a38b6923-ae19-461c-fa59-7925963ad8f3"
      },
      "execution_count": 4,
      "outputs": [
        {
          "output_type": "stream",
          "name": "stdout",
          "text": [
            "A sample of quality of data is: \n",
            "  isced11 sex     age geo  TIME_PERIOD  OBS_VALUE\n",
            "0   ED0-2   F  Y16-24  AT         2013        8.2\n",
            "1   ED0-2   F  Y16-24  AT         2018        8.0\n",
            "2   ED0-2   F  Y16-24  BE         2013        7.7\n",
            "3   ED0-2   F  Y16-24  BE         2018        7.8\n",
            "4   ED0-2   F  Y16-24  BG         2013        5.5\n",
            "5   ED0-2   F  Y16-24  BG         2018        6.3\n",
            "6   ED0-2   F  Y16-24  CH         2013        NaN\n",
            "7   ED0-2   F  Y16-24  CH         2018        8.4\n",
            "8   ED0-2   F  Y16-24  CY         2013        7.5\n",
            "9   ED0-2   F  Y16-24  CY         2018        7.9\n"
          ]
        }
      ]
    },
    {
      "cell_type": "markdown",
      "source": [
        "We observe that are values with no data, therefore we should drop them:"
      ],
      "metadata": {
        "id": "4lupgxfEv94I"
      }
    },
    {
      "cell_type": "code",
      "source": [
        "# remove records where data is empty\n",
        "clean_quality_of_life_data_frame = quality_of_life_data_frame.drop(\n",
        "    quality_of_life_data_frame.index[np.isnan(quality_of_life_data_frame[\"OBS_VALUE\"])],\n",
        "    axis = 0\n",
        " )\n",
        "\n",
        "print(\n",
        "    \"Removing empty data has dropped {} records\".format(\n",
        "        quality_of_life_data_frame.shape[0] - clean_quality_of_life_data_frame.shape[0]\n",
        "    )\n",
        ")"
      ],
      "metadata": {
        "id": "Anc3Cf9xwE6x",
        "colab": {
          "base_uri": "https://localhost:8080/"
        },
        "outputId": "7ee2866e-1163-4168-fbdb-675e9ed086e0"
      },
      "execution_count": 5,
      "outputs": [
        {
          "output_type": "stream",
          "name": "stdout",
          "text": [
            "Removing empty data has dropped 131 records\n"
          ]
        }
      ]
    },
    {
      "cell_type": "markdown",
      "source": [
        "A simple grouping would be to create data groups associated to each country, this will help us to extract aggregated data for a specific country.\n",
        "\n",
        "The Pandas function that allows aggregation of data is the [**groupby**](https://pandas.pydata.org/docs/reference/api/pandas.DataFrame.groupby.html) function which generates a group by object that can be iterated in order to perform data processing:"
      ],
      "metadata": {
        "id": "ewkm1yckEGV2"
      }
    },
    {
      "cell_type": "code",
      "source": [
        "# create a data grouping by country\n",
        "geo_groups = clean_quality_of_life_data_frame.groupby(\n",
        "    [\"geo\"]\n",
        ")\n",
        "\n",
        "# iterate over the data groups\n",
        "for (geo_key, geo_group) in geo_groups :\n",
        "  print(\n",
        "      \"The group with key [{}] has {} records\".format(\n",
        "        geo_key,\n",
        "        geo_group.shape[0]\n",
        "      )\n",
        "  )"
      ],
      "metadata": {
        "id": "DefQflaPEwNH",
        "colab": {
          "base_uri": "https://localhost:8080/"
        },
        "outputId": "44246f69-1702-474d-abb8-11c28d4075b3"
      },
      "execution_count": 6,
      "outputs": [
        {
          "output_type": "stream",
          "name": "stdout",
          "text": [
            "The group with key [AT] has 191 records\n",
            "The group with key [BE] has 192 records\n",
            "The group with key [BG] has 189 records\n",
            "The group with key [CH] has 129 records\n",
            "The group with key [CY] has 192 records\n",
            "The group with key [CZ] has 189 records\n",
            "The group with key [DE] has 192 records\n",
            "The group with key [DK] has 184 records\n",
            "The group with key [EE] has 191 records\n",
            "The group with key [EL] has 192 records\n",
            "The group with key [ES] has 192 records\n",
            "The group with key [FI] has 190 records\n",
            "The group with key [FR] has 192 records\n",
            "The group with key [HR] has 185 records\n",
            "The group with key [HU] has 191 records\n",
            "The group with key [IE] has 190 records\n",
            "The group with key [IS] has 182 records\n",
            "The group with key [IT] has 191 records\n",
            "The group with key [LT] has 189 records\n",
            "The group with key [LU] has 187 records\n",
            "The group with key [LV] has 190 records\n",
            "The group with key [MT] has 189 records\n",
            "The group with key [NL] has 192 records\n",
            "The group with key [NO] has 192 records\n",
            "The group with key [PL] has 192 records\n",
            "The group with key [PT] has 189 records\n",
            "The group with key [RO] has 190 records\n",
            "The group with key [RS] has 191 records\n",
            "The group with key [SE] has 190 records\n",
            "The group with key [SI] has 188 records\n",
            "The group with key [SK] has 191 records\n",
            "The group with key [TR] has 169 records\n",
            "The group with key [UK] has 191 records\n"
          ]
        }
      ]
    },
    {
      "cell_type": "code",
      "source": [
        "# dispay a group sample\n",
        "group_key = \"RO\"\n",
        "print(\n",
        "    \"The group with key {} has the following data \\n {}\".format(\n",
        "                                              group_key,\n",
        "                                              geo_groups.get_group(group_key)        \n",
        "    )\n",
        ")"
      ],
      "metadata": {
        "id": "tPHHBaI3HVct",
        "colab": {
          "base_uri": "https://localhost:8080/"
        },
        "outputId": "921ae622-0861-4b83-ea73-6dc081be45d6"
      },
      "execution_count": 7,
      "outputs": [
        {
          "output_type": "stream",
          "name": "stdout",
          "text": [
            "The group with key RO has the following data \n",
            "      isced11 sex     age geo  TIME_PERIOD  OBS_VALUE\n",
            "52     ED0-2   F  Y16-24  RO         2013        8.1\n",
            "53     ED0-2   F  Y16-24  RO         2018        8.0\n",
            "118    ED0-2   F  Y25-34  RO         2013        6.9\n",
            "119    ED0-2   F  Y25-34  RO         2018        7.1\n",
            "158    ED0-2   F  Y25-64  RO         2018        6.8\n",
            "...      ...  ..     ...  ..          ...        ...\n",
            "6202   TOTAL   T  Y_GE16  RO         2013        7.1\n",
            "6203   TOTAL   T  Y_GE16  RO         2018        7.3\n",
            "6242   TOTAL   T  Y_GE65  RO         2018        6.6\n",
            "6301   TOTAL   T  Y_GE75  RO         2013        6.1\n",
            "6302   TOTAL   T  Y_GE75  RO         2018        6.3\n",
            "\n",
            "[190 rows x 6 columns]\n"
          ]
        }
      ]
    },
    {
      "cell_type": "markdown",
      "source": [
        "The advantage of using data groups is that they allows data aggregation over their data using different aggregation functions. The aggregation functionality can be accessed via the [**agg**](https://pandas.pydata.org/pandas-docs/version/0.22/generated/pandas.core.groupby.DataFrameGroupBy.agg.html) method associated with the data group object.\n",
        "\n",
        "This allows the specification of the value to aggregate along with the aggreation functions to be applied."
      ],
      "metadata": {
        "id": "FMuShe3jI1zI"
      }
    },
    {
      "cell_type": "markdown",
      "source": [
        "The most relevant aggregation functions supported by the agg function are:\n",
        "\n",
        "*  **count** - returns the count of records;\n",
        "*  **min** - returns the minimum value;\n",
        "*  **mean** - returns the average value;\n",
        "*  **median** - returns the median value;\n",
        "*  **max** - returns the maximum value."
      ],
      "metadata": {
        "id": "GT_aR5NQMfyz"
      }
    },
    {
      "cell_type": "markdown",
      "source": [
        "For example, we can aggregate the values of \"OBS_VALUE\" with different aggregation functions over the country (geo) values: "
      ],
      "metadata": {
        "id": "1GeOqLPIPEMc"
      }
    },
    {
      "cell_type": "code",
      "source": [
        "# extract the aggregation values for the OBS_VALUE\n",
        "print(\n",
        "    \"The OBS_VALUE aggregations over 'geo' are \\n {}\".format(\n",
        "      geo_groups.agg({\"OBS_VALUE\": [\"min\", \"mean\", \"median\", \"max\"]})        \n",
        "    )\n",
        "  )"
      ],
      "metadata": {
        "id": "npN9B26yxZqE",
        "colab": {
          "base_uri": "https://localhost:8080/"
        },
        "outputId": "8c6a8311-7dc3-462b-a1e1-87243f7a5f6a"
      },
      "execution_count": 8,
      "outputs": [
        {
          "output_type": "stream",
          "name": "stdout",
          "text": [
            "The OBS_VALUE aggregations over 'geo' are \n",
            "     OBS_VALUE                      \n",
            "          min      mean median  max\n",
            "geo                                \n",
            "AT        6.5  7.875393   8.00  8.7\n",
            "BE        6.4  7.559896   7.60  8.2\n",
            "BG        3.3  5.080423   5.00  7.1\n",
            "CH        6.6  7.989922   8.00  8.7\n",
            "CY        4.9  6.736458   6.75  7.9\n",
            "CZ        5.0  7.112698   7.10  8.5\n",
            "DE        6.1  7.302604   7.30  8.3\n",
            "DK        5.7  7.913587   7.90  8.8\n",
            "EE        5.6  6.704712   6.60  8.0\n",
            "EL        5.4  6.376562   6.40  7.5\n",
            "ES        6.3  7.234896   7.30  8.2\n",
            "FI        7.2  8.065789   8.10  8.5\n",
            "FR        6.4  7.219792   7.20  8.2\n",
            "HR        4.8  6.476216   6.40  8.1\n",
            "HU        4.4  6.344503   6.30  7.9\n",
            "IE        6.3  7.892105   8.00  8.9\n",
            "IS        6.6  7.908791   7.90  8.5\n",
            "IT        6.1  7.016230   7.00  8.1\n",
            "LT        4.2  6.501587   6.50  8.5\n",
            "LU        6.8  7.555080   7.60  8.4\n",
            "LV        5.5  6.629474   6.50  7.8\n",
            "MT        6.7  7.460317   7.50  8.1\n",
            "NL        7.0  7.759375   7.80  8.2\n",
            "NO        7.2  7.951563   8.00  8.7\n",
            "PL        6.4  7.555208   7.60  8.4\n",
            "PT        4.8  6.784656   6.80  8.3\n",
            "RO        5.9  7.306842   7.30  8.8\n",
            "RS        3.7  5.483246   5.50  7.9\n",
            "SE        7.1  7.863684   7.90  8.5\n",
            "SI        5.4  7.107447   7.10  8.6\n",
            "SK        4.6  6.847120   6.90  8.7\n",
            "TR        5.1  5.827219   5.70  6.9\n",
            "UK        6.1  7.485864   7.50  8.2\n"
          ]
        }
      ]
    },
    {
      "cell_type": "markdown",
      "source": [
        "It is possible to agggregate on multiple levels as well:"
      ],
      "metadata": {
        "id": "iCer8X-2ed2Z"
      }
    },
    {
      "cell_type": "code",
      "source": [
        "# create a data grouping by country and time period\n",
        "geo_time_period_groups = clean_quality_of_life_data_frame.groupby(\n",
        "    [\"geo\", \"TIME_PERIOD\"]\n",
        ")\n",
        "\n",
        "print(\n",
        "    \"The OBS_VALUE aggregations over 'geo' and 'TIME_PERIOD' are \\n {}\".format(\n",
        "      geo_time_period_groups.agg({\"OBS_VALUE\": [\"min\", \"mean\", \"median\", \"max\"]})        \n",
        "    )\n",
        "  )"
      ],
      "metadata": {
        "id": "Z5rRWMKiWJOT",
        "colab": {
          "base_uri": "https://localhost:8080/"
        },
        "outputId": "1c5a3058-ac4b-43db-ae79-5d4858574c23"
      },
      "execution_count": 9,
      "outputs": [
        {
          "output_type": "stream",
          "name": "stdout",
          "text": [
            "The OBS_VALUE aggregations over 'geo' and 'TIME_PERIOD' are \n",
            "                 OBS_VALUE                      \n",
            "                      min      mean median  max\n",
            "geo TIME_PERIOD                                \n",
            "AT  2013              6.7  7.831325   7.80  8.6\n",
            "    2018              6.5  7.909259   8.00  8.7\n",
            "BE  2013              6.4  7.554762   7.60  8.2\n",
            "    2018              6.8  7.563889   7.55  8.2\n",
            "BG  2013              3.3  4.806024   4.80  6.5\n",
            "...                   ...       ...    ...  ...\n",
            "SK  2018              4.8  6.850926   7.00  8.7\n",
            "TR  2013              5.1  5.782258   5.70  6.9\n",
            "    2018              5.1  5.853271   5.80  6.7\n",
            "UK  2013              6.1  7.296386   7.40  8.0\n",
            "    2018              6.8  7.631481   7.60  8.2\n",
            "\n",
            "[66 rows x 4 columns]\n"
          ]
        }
      ]
    },
    {
      "cell_type": "markdown",
      "source": [
        "## 2. Data Sorting"
      ],
      "metadata": {
        "id": "Rz7vNeSBhEey"
      }
    },
    {
      "cell_type": "markdown",
      "source": [
        "The Pandas library offers extended capabilities for data sorting for both data series and data frames. The data sorting capabilities are available via the [**sort_values**](https://pandas.pydata.org/docs/reference/api/pandas.DataFrame.sort_values.html) method. This method accepts the following relevant parameters:\n",
        "\n",
        "*   **by** - the key(s) used for sorting;\n",
        "*   **ascending** - if True, ascending ordering will be used otherwise the sorting is descending."
      ],
      "metadata": {
        "id": "syGi9NFeh7pk"
      }
    },
    {
      "cell_type": "code",
      "source": [
        "# sort values of the data frame by country(ascending) \n",
        "# and year(descending)\n",
        "print(\n",
        "    \"The data frame ordered by country and year is \\n {}\".format(\n",
        "      clean_quality_of_life_data_frame.sort_values(\n",
        "          by = [\"geo\", \"TIME_PERIOD\"],\n",
        "          ascending = [True, False]\n",
        "      )        \n",
        "    )\n",
        "  )"
      ],
      "metadata": {
        "id": "wejP84WrhDyy",
        "colab": {
          "base_uri": "https://localhost:8080/"
        },
        "outputId": "778e0978-ef0c-4a53-ca49-a57fd766f67d"
      },
      "execution_count": 10,
      "outputs": [
        {
          "output_type": "stream",
          "name": "stdout",
          "text": [
            "The data frame ordered by country and year is \n",
            "      isced11 sex     age geo  TIME_PERIOD  OBS_VALUE\n",
            "1      ED0-2   F  Y16-24  AT         2018        8.0\n",
            "67     ED0-2   F  Y25-34  AT         2018        7.7\n",
            "132    ED0-2   F  Y25-64  AT         2018        7.3\n",
            "166    ED0-2   F  Y35-49  AT         2018        7.5\n",
            "232    ED0-2   F  Y50-64  AT         2018        7.1\n",
            "...      ...  ..     ...  ..          ...        ...\n",
            "6016   TOTAL   T  Y35-49  UK         2013        7.1\n",
            "6082   TOTAL   T  Y50-64  UK         2013        7.1\n",
            "6148   TOTAL   T  Y65-74  UK         2013        7.7\n",
            "6214   TOTAL   T  Y_GE16  UK         2013        7.3\n",
            "6313   TOTAL   T  Y_GE75  UK         2013        7.5\n",
            "\n",
            "[6184 rows x 6 columns]\n"
          ]
        }
      ]
    },
    {
      "cell_type": "markdown",
      "source": [
        "The data can be sorted also by the index value using the [**sort_index**](https://pandas.pydata.org/docs/reference/api/pandas.DataFrame.sort_index.html) method:"
      ],
      "metadata": {
        "id": "psfJ0f2rLLyT"
      }
    },
    {
      "cell_type": "code",
      "source": [
        "# sort country means data by country codes descending\n",
        "country_means_aggregate = geo_groups.agg({\"OBS_VALUE\": [\"mean\"]})\n",
        "country_means_data_series = pd.Series(\n",
        "            data = country_means_aggregate.values[:,0],\n",
        "            index = country_means_aggregate.index.values\n",
        "        )\n",
        "\n",
        "print(\n",
        "    \"The sorted (descending) data by index is \\n{}\".format(\n",
        "        country_means_data_series.sort_index(ascending = False)\n",
        "    )\n",
        ")"
      ],
      "metadata": {
        "id": "n8l7WSkALHNY",
        "colab": {
          "base_uri": "https://localhost:8080/"
        },
        "outputId": "e73c4065-c9cb-45b4-c155-87cd0451b944"
      },
      "execution_count": 11,
      "outputs": [
        {
          "output_type": "stream",
          "name": "stdout",
          "text": [
            "The sorted (descending) data by index is \n",
            "UK    7.485864\n",
            "TR    5.827219\n",
            "SK    6.847120\n",
            "SI    7.107447\n",
            "SE    7.863684\n",
            "RS    5.483246\n",
            "RO    7.306842\n",
            "PT    6.784656\n",
            "PL    7.555208\n",
            "NO    7.951563\n",
            "NL    7.759375\n",
            "MT    7.460317\n",
            "LV    6.629474\n",
            "LU    7.555080\n",
            "LT    6.501587\n",
            "IT    7.016230\n",
            "IS    7.908791\n",
            "IE    7.892105\n",
            "HU    6.344503\n",
            "HR    6.476216\n",
            "FR    7.219792\n",
            "FI    8.065789\n",
            "ES    7.234896\n",
            "EL    6.376562\n",
            "EE    6.704712\n",
            "DK    7.913587\n",
            "DE    7.302604\n",
            "CZ    7.112698\n",
            "CY    6.736458\n",
            "CH    7.989922\n",
            "BG    5.080423\n",
            "BE    7.559896\n",
            "AT    7.875393\n",
            "dtype: float64\n"
          ]
        }
      ]
    }
  ],
  "metadata": {
    "kernelspec": {
      "display_name": "Python 3",
      "language": "python",
      "name": "python3"
    },
    "language_info": {
      "codemirror_mode": {
        "name": "ipython",
        "version": 3
      },
      "file_extension": ".py",
      "mimetype": "text/x-python",
      "name": "python",
      "nbconvert_exporter": "python",
      "pygments_lexer": "ipython3",
      "version": "3.7.3"
    },
    "colab": {
      "name": "006_Grouping_and_Sorting.ipynb",
      "provenance": [],
      "collapsed_sections": []
    }
  },
  "nbformat": 4,
  "nbformat_minor": 0
}