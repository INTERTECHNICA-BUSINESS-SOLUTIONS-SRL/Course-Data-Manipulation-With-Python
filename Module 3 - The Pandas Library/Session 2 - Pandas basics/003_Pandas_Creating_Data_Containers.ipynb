{
  "cells": [
    {
      "cell_type": "markdown",
      "metadata": {
        "id": "KDuU6OSWXKo4"
      },
      "source": [
        "![*INTERTECHNICA - SOLON EDUCATIONAL PROGRAMS - TECHNOLOGY LINE*](https://solon.intertechnica.com/assets/IntertechnicaSolonEducationalPrograms-TechnologyLine.png)"
      ]
    },
    {
      "cell_type": "markdown",
      "metadata": {
        "id": "OeBbVwSSXKo9"
      },
      "source": [
        "# Data Manipulation with Python - The Pandas Library - Creating Data Containers"
      ]
    },
    {
      "cell_type": "markdown",
      "metadata": {
        "id": "uUhqqWdPXKpA"
      },
      "source": [
        "*Basic initialization of the workspace.*"
      ]
    },
    {
      "cell_type": "code",
      "source": [
        "!python -m pip install numpy\n",
        "import numpy as np\n",
        "print (\"NumPy installed at version: {}\".format(np.__version__))"
      ],
      "metadata": {
        "colab": {
          "base_uri": "https://localhost:8080/"
        },
        "id": "OJzCFKioH6UR",
        "outputId": "22d8dce2-495e-4e64-bd8b-17bdaec39d12"
      },
      "execution_count": null,
      "outputs": [
        {
          "output_type": "stream",
          "name": "stdout",
          "text": [
            "Requirement already satisfied: numpy in /usr/local/lib/python3.7/dist-packages (1.19.5)\n",
            "NumPy installed at version: 1.19.5\n"
          ]
        }
      ]
    },
    {
      "cell_type": "code",
      "execution_count": null,
      "metadata": {
        "colab": {
          "base_uri": "https://localhost:8080/"
        },
        "id": "AjAZRU7GXKpE",
        "outputId": "8ab7fe99-aef2-4369-8b0d-f88cd61e5445"
      },
      "outputs": [
        {
          "output_type": "stream",
          "name": "stdout",
          "text": [
            "Requirement already satisfied: pandas in /usr/local/lib/python3.7/dist-packages (1.1.5)\n",
            "Requirement already satisfied: python-dateutil>=2.7.3 in /usr/local/lib/python3.7/dist-packages (from pandas) (2.8.2)\n",
            "Requirement already satisfied: numpy>=1.15.4 in /usr/local/lib/python3.7/dist-packages (from pandas) (1.19.5)\n",
            "Requirement already satisfied: pytz>=2017.2 in /usr/local/lib/python3.7/dist-packages (from pandas) (2018.9)\n",
            "Requirement already satisfied: six>=1.5 in /usr/local/lib/python3.7/dist-packages (from python-dateutil>=2.7.3->pandas) (1.15.0)\n",
            "Pandas installed at version: 1.1.5\n"
          ]
        }
      ],
      "source": [
        "!python -m pip install pandas\n",
        "import pandas as pd\n",
        "print (\"Pandas installed at version: {}\".format(pd.__version__))\n",
        "\n",
        "#adjust pandas DataFrame display for a wider target \n",
        "pd.set_option('display.expand_frame_repr', False)"
      ]
    },
    {
      "cell_type": "markdown",
      "metadata": {
        "id": "LlxTCVx0XKpJ"
      },
      "source": [
        "## 1. Pandas data containers"
      ]
    },
    {
      "cell_type": "markdown",
      "metadata": {
        "id": "mAAQKFhCXKpL"
      },
      "source": [
        "The Pandas library support two types kind of of data containers:\n",
        "\n",
        "*   **Series** - an indexed uni-dimensional data container; \n",
        "*   **DataFrame** - an indexed bi-dimensional data container (rows and columns). Each colum from a DataFrame is basically a Data Series, all columns from the DataFrame sharing the same index.\n",
        "\n",
        "In the following we will focus on creating these data containers."
      ]
    },
    {
      "cell_type": "markdown",
      "source": [
        "### 1.1 Creating Data Series"
      ],
      "metadata": {
        "id": "TxLuwAjYG1jg"
      }
    },
    {
      "cell_type": "markdown",
      "source": [
        "Pandas series can be created either from data or by loading data from files."
      ],
      "metadata": {
        "id": "EzfQbEFqHC2H"
      }
    },
    {
      "cell_type": "markdown",
      "source": [
        "#### 1.1.1 Creating Data Series from data"
      ],
      "metadata": {
        "id": "6tLayyl1HalT"
      }
    },
    {
      "cell_type": "markdown",
      "source": [
        "Pandas Data Series can be created directly from existing data such as Python arrays, lists and dictionaries along with NumPy arrays: "
      ],
      "metadata": {
        "id": "asUGoyi4HoV1"
      }
    },
    {
      "cell_type": "code",
      "source": [
        "# creating Pandas series from Python arrays\n",
        "simple_array = [\"One\", \"Two\", \"Three\", \"Four\", \"Five\", \"Six\", \"Seven\", \"Eight\", \"Nine\"]\n",
        "print(\n",
        "    \"The series associated to the array \\n{}\\n is \\n{}\\n\".format(\n",
        "        simple_array,\n",
        "        pd.Series(simple_array)\n",
        "    )\n",
        ")"
      ],
      "metadata": {
        "colab": {
          "base_uri": "https://localhost:8080/"
        },
        "id": "t9mMC2KCIEyN",
        "outputId": "ba06c42c-b901-4f96-dc00-048cd5b13770"
      },
      "execution_count": null,
      "outputs": [
        {
          "output_type": "stream",
          "name": "stdout",
          "text": [
            "The series associated to the array \n",
            "['One', 'Two', 'Three', 'Four', 'Five', 'Six', 'Seven', 'Eight', 'Nine']\n",
            " is \n",
            "0      One\n",
            "1      Two\n",
            "2    Three\n",
            "3     Four\n",
            "4     Five\n",
            "5      Six\n",
            "6    Seven\n",
            "7    Eight\n",
            "8     Nine\n",
            "dtype: object\n",
            "\n"
          ]
        }
      ]
    },
    {
      "cell_type": "code",
      "source": [
        "# creating Pandas series from Python lists\n",
        "simple_list = (1, \"Two\", 3, \"Four\", 5, \"Six\", 7, \"Eight\", 9)\n",
        "print(\n",
        "    \"The series associated to the list \\n{}\\n is \\n{}\\n\".format(\n",
        "        simple_list,\n",
        "        pd.Series(simple_list)\n",
        "    )\n",
        ")"
      ],
      "metadata": {
        "colab": {
          "base_uri": "https://localhost:8080/"
        },
        "id": "FE6AriHAOUPe",
        "outputId": "fbc098b2-3a3d-435a-bf77-151e99a83129"
      },
      "execution_count": null,
      "outputs": [
        {
          "output_type": "stream",
          "name": "stdout",
          "text": [
            "The series associated to the list \n",
            "(1, 'Two', 3, 'Four', 5, 'Six', 7, 'Eight', 9)\n",
            " is \n",
            "0        1\n",
            "1      Two\n",
            "2        3\n",
            "3     Four\n",
            "4        5\n",
            "5      Six\n",
            "6        7\n",
            "7    Eight\n",
            "8        9\n",
            "dtype: object\n",
            "\n"
          ]
        }
      ]
    },
    {
      "cell_type": "code",
      "source": [
        "# creating Pandas series from Python dictionaries\n",
        "# allows also setting the values for the index column\n",
        "simple_dictionary = {1:\"One\", 2: \"Two\", 3:\"Three\", 4:\"Four\", 5:\"Five\", 6:\"Six\", 7:\"Seven\", 8:\"Eight\", 9:\"Nine\"}\n",
        "print(\n",
        "    \"The series associated to the dictionary \\n{}\\n is \\n{}\\n\".format(\n",
        "        simple_dictionary,\n",
        "        pd.Series(simple_dictionary)\n",
        "    )\n",
        ")"
      ],
      "metadata": {
        "colab": {
          "base_uri": "https://localhost:8080/"
        },
        "id": "wnFZrgkL-AdX",
        "outputId": "5982fd73-0969-4cbb-a791-467c8bb51710"
      },
      "execution_count": null,
      "outputs": [
        {
          "output_type": "stream",
          "name": "stdout",
          "text": [
            "The series associated to the dictionary \n",
            "{1: 'One', 2: 'Two', 3: 'Three', 4: 'Four', 5: 'Five', 6: 'Six', 7: 'Seven', 8: 'Eight', 9: 'Nine'}\n",
            " is \n",
            "1      One\n",
            "2      Two\n",
            "3    Three\n",
            "4     Four\n",
            "5     Five\n",
            "6      Six\n",
            "7    Seven\n",
            "8    Eight\n",
            "9     Nine\n",
            "dtype: object\n",
            "\n"
          ]
        }
      ]
    },
    {
      "cell_type": "code",
      "source": [
        "# creating Pandas series from Numpy array\n",
        "numpy_array = np.arange(10) + 1\n",
        "print(\n",
        "    \"The series associated to the NumPy array \\n{}\\n is \\n{}\\n\".format(\n",
        "        numpy_array,\n",
        "        pd.Series(numpy_array)\n",
        "    )\n",
        ")"
      ],
      "metadata": {
        "colab": {
          "base_uri": "https://localhost:8080/"
        },
        "id": "6tfh3CoAOYKV",
        "outputId": "794f54e1-4cae-46ec-e403-3d63d57e0761"
      },
      "execution_count": null,
      "outputs": [
        {
          "output_type": "stream",
          "name": "stdout",
          "text": [
            "The series associated to the NumPy array \n",
            "[ 1  2  3  4  5  6  7  8  9 10]\n",
            " is \n",
            "0     1\n",
            "1     2\n",
            "2     3\n",
            "3     4\n",
            "4     5\n",
            "5     6\n",
            "6     7\n",
            "7     8\n",
            "8     9\n",
            "9    10\n",
            "dtype: int64\n",
            "\n"
          ]
        }
      ]
    },
    {
      "cell_type": "markdown",
      "source": [
        "Pandas series can be created also by specifying its index as well:"
      ],
      "metadata": {
        "id": "qrbb2gYUKgTP"
      }
    },
    {
      "cell_type": "code",
      "source": [
        "# create a time range\n",
        "year = \"2022\"\n",
        "time_period_range = pd.period_range(\n",
        "  year + \"-01-01\", \n",
        "  year + \"-12-31\", \n",
        "  freq = \"M\"\n",
        ")\n",
        "\n",
        "# create a data range for the number of the month in year\n",
        "months= [\n",
        "          pd.Timestamp(str(range_item) + \"-01\").month_name() \n",
        "                            for range_item in time_period_range\n",
        "        ]\n",
        "\n",
        "month_series = pd.Series(\n",
        "    index = time_period_range, \n",
        "    data = months\n",
        ")\n",
        "\n",
        "print(\n",
        "    \"The dates of months in year {} are \\n{}\\n\".format(\n",
        "        year,\n",
        "        month_series\n",
        "    )\n",
        ")"
      ],
      "metadata": {
        "colab": {
          "base_uri": "https://localhost:8080/"
        },
        "id": "sedV7KDTKfUx",
        "outputId": "b2ca210b-7e92-40f3-93d2-a623090b0923"
      },
      "execution_count": null,
      "outputs": [
        {
          "output_type": "stream",
          "name": "stdout",
          "text": [
            "The dates of months in year 2022 are \n",
            "2022-01      January\n",
            "2022-02     February\n",
            "2022-03        March\n",
            "2022-04        April\n",
            "2022-05          May\n",
            "2022-06         June\n",
            "2022-07         July\n",
            "2022-08       August\n",
            "2022-09    September\n",
            "2022-10      October\n",
            "2022-11     November\n",
            "2022-12     December\n",
            "Freq: M, dtype: object\n",
            "\n"
          ]
        }
      ]
    },
    {
      "cell_type": "markdown",
      "source": [
        "#### 1.1.2 Creating Data Series from loaded data"
      ],
      "metadata": {
        "id": "9m6MIOve7L0s"
      }
    },
    {
      "cell_type": "markdown",
      "source": [
        "Pandas allows for the creation of data series from data stored in CSV and Excel files. The functions that allows to load data from CSV and Excel files are [**read_csv**](https://pandas.pydata.org/docs/reference/api/pandas.read_csv.html) and [**read_excel**](https://pandas.pydata.org/docs/reference/api/pandas.read_excel.html).\n",
        "\n",
        "It must be noted that the loaded data is returned as a NumPy DataFrame and it is needed to call the [**squeeze**](https://pandas.pydata.org/docs/reference/api/pandas.DataFrame.squeeze.html) method in order to transform the Pandas DataFrame into a Pandas Series."
      ],
      "metadata": {
        "id": "0swTauvt7Us_"
      }
    },
    {
      "cell_type": "code",
      "source": [
        "# loading the data from the CSV file  \n",
        "# skipping the comment row and using the year as the index column\n",
        "csv_loaded_data = pd.read_csv(\n",
        "   \"https://raw.githubusercontent.com/INTERTECHNICA-BUSINESS-SOLUTIONS-SRL/CourseDataManipulationWithPython/main/Module%203%20-%20The%20Pandas%20Library/Session%202%20-%20Pandas%20basics/data/RO_Urban_Air_Polution.csv\",\n",
        "   skiprows = 1,\n",
        "   index_col = 0  \n",
        ")\n",
        "\n",
        "print(\n",
        "    \"The CSV loaded data series is \\n{}\".format(\n",
        "        csv_loaded_data.squeeze()\n",
        "      )\n",
        ")"
      ],
      "metadata": {
        "colab": {
          "base_uri": "https://localhost:8080/"
        },
        "id": "XyCVzi4x_rNR",
        "outputId": "9c80255e-48b2-42ca-bd4f-7da4407bf68e"
      },
      "execution_count": null,
      "outputs": [
        {
          "output_type": "stream",
          "name": "stdout",
          "text": [
            "The CSV loaded data series is \n",
            "Year\n",
            "1990    20.32\n",
            "1995    18.57\n",
            "2000    17.70\n",
            "2005    17.16\n",
            "2010    17.06\n",
            "2011    17.64\n",
            "2012    16.32\n",
            "2013    15.37\n",
            "2014    15.01\n",
            "2015    15.43\n",
            "2016    14.54\n",
            "2017    14.61\n",
            "Name: Air Pollution Mean Exposure, dtype: float64\n"
          ]
        }
      ]
    },
    {
      "cell_type": "code",
      "source": [
        "# loading the data from the Excel file  \n",
        "# skipping the comment row and using the year as the index column\n",
        "excel_loaded_data = pd.read_excel(\n",
        "   \"https://raw.githubusercontent.com/INTERTECHNICA-BUSINESS-SOLUTIONS-SRL/CourseDataManipulationWithPython/main/Module%203%20-%20The%20Pandas%20Library/Session%202%20-%20Pandas%20basics/data/RO_Urban_Air_Polution.xlsx\",\n",
        "   skiprows = 1,\n",
        "   index_col = 0  \n",
        ")\n",
        "\n",
        "print(\n",
        "    \"The Excel loaded data series is \\n{}\".format(\n",
        "        excel_loaded_data.squeeze()\n",
        "      )\n",
        ")"
      ],
      "metadata": {
        "colab": {
          "base_uri": "https://localhost:8080/"
        },
        "id": "orOo8RtnF-yz",
        "outputId": "dd57dcbc-8483-4160-a888-26dcec556b9b"
      },
      "execution_count": null,
      "outputs": [
        {
          "output_type": "stream",
          "name": "stdout",
          "text": [
            "The Excel loaded data series is \n",
            "Year\n",
            "1990    20.32\n",
            "1995    18.57\n",
            "2000    17.70\n",
            "2005    17.16\n",
            "2010    17.06\n",
            "2011    17.64\n",
            "2012    16.32\n",
            "2013    15.37\n",
            "2014    15.01\n",
            "2015    15.43\n",
            "2016    14.54\n",
            "2017    14.61\n",
            "Name: Air Pollution Mean Exposure, dtype: float64\n"
          ]
        }
      ]
    },
    {
      "cell_type": "markdown",
      "source": [
        "### 1.2 DataFrame "
      ],
      "metadata": {
        "id": "2hJJVQk_HW0b"
      }
    },
    {
      "cell_type": "markdown",
      "source": [
        "As with Data Series, the Panda's DataFrame objects can be created from regular Python data objects or they can be created from data loaded from the data files."
      ],
      "metadata": {
        "id": "b2NzL4oUvij_"
      }
    },
    {
      "cell_type": "markdown",
      "source": [
        "#### 1.2.1 Creating DataFrames from data"
      ],
      "metadata": {
        "id": "5WSdlxfbwXE1"
      }
    },
    {
      "cell_type": "markdown",
      "source": [
        "Pandas DataFrames can be created - as well - directly from existing data such as Python arrays, lists and dictionaries along with NumPy arrays: "
      ],
      "metadata": {
        "id": "upi8L27N02Uk"
      }
    },
    {
      "cell_type": "code",
      "source": [
        "# create the raw data needed for dataframe creation\n",
        "index_values = [0, 1, 2, 3, 4, 5, 6, 7, 8, 9]\n",
        "numeric_values = [1, 2, 3, 4, 5, 6, 7, 8, 9, 10]\n",
        "en_literals = [\"one\", \"two\", \"three\", \"four\", \"five\", \"six\", \"seven\", \"eight\", \"nine\", \"ten\"]\n",
        "fr_literals = [\"un\", \"deux\", \"trois\", \"quatre\", \"cinq\", \"six\", \"sept\", \"huit\", \"neuf\", \"dix\"]\n",
        "column_names = [\"EN\", \"FR\"]"
      ],
      "metadata": {
        "id": "5eZnFLzR1GcU"
      },
      "execution_count": null,
      "outputs": []
    },
    {
      "cell_type": "code",
      "source": [
        "# create the dataframe using a dictionary format\n",
        "dictionary_data = {\n",
        "    \"EN\": en_literals,\n",
        "    \"FR\": fr_literals\n",
        "}\n",
        "\n",
        "print(\n",
        "    \"The created data frame is \\n{}\\n\".format(\n",
        "        pd.DataFrame(\n",
        "          data = dictionary_data,\n",
        "          index = index_values\n",
        "        )\n",
        "    )\n",
        ")"
      ],
      "metadata": {
        "colab": {
          "base_uri": "https://localhost:8080/"
        },
        "id": "giRQwwvUFGZS",
        "outputId": "61eb4136-2398-4331-a0cb-68e3b75923b3"
      },
      "execution_count": null,
      "outputs": [
        {
          "output_type": "stream",
          "name": "stdout",
          "text": [
            "The created data frame is \n",
            "      EN      FR\n",
            "0    one      un\n",
            "1    two    deux\n",
            "2  three   trois\n",
            "3   four  quatre\n",
            "4   five    cinq\n",
            "5    six     six\n",
            "6  seven    sept\n",
            "7  eight    huit\n",
            "8   nine    neuf\n",
            "9    ten     dix\n",
            "\n"
          ]
        }
      ]
    },
    {
      "cell_type": "code",
      "source": [
        "# create the dataframe data created \n",
        "# by vstack function\n",
        "numpy_data = np.vstack((en_literals, fr_literals)).T\n",
        "\n",
        "print(\n",
        "    \"The created data frame is \\n{}\\n\".format(\n",
        "        pd.DataFrame(\n",
        "          data = numpy_data,\n",
        "          columns = column_names,\n",
        "          index = index_values,\n",
        "        )\n",
        "    )\n",
        ")"
      ],
      "metadata": {
        "colab": {
          "base_uri": "https://localhost:8080/"
        },
        "id": "ZlRlan8iOPe3",
        "outputId": "1167baa7-f9cd-4698-c622-e9b3123c8ef9"
      },
      "execution_count": null,
      "outputs": [
        {
          "output_type": "stream",
          "name": "stdout",
          "text": [
            "The created data frame is \n",
            "      EN      FR\n",
            "0    one      un\n",
            "1    two    deux\n",
            "2  three   trois\n",
            "3   four  quatre\n",
            "4   five    cinq\n",
            "5    six     six\n",
            "6  seven    sept\n",
            "7  eight    huit\n",
            "8   nine    neuf\n",
            "9    ten     dix\n",
            "\n"
          ]
        }
      ]
    },
    {
      "cell_type": "code",
      "source": [
        "# create data series specifying simultaneously the column names, values and\n",
        "# data types (using data series)\n",
        "created_data_frame = pd.DataFrame(\n",
        "                      data = {\n",
        "                          \"numeric_value\": pd.Series(data = numeric_values, dtype = np.dtype(\"i\")),\n",
        "                          \"EN\":  pd.Series(data = en_literals, dtype = np.dtype(\"U16\")), \n",
        "                          \"FR\":  pd.Series(data = fr_literals, dtype = np.dtype(\"U16\"))\n",
        "                      }\n",
        "                    )\n",
        "\n",
        "print(\n",
        "    \"The created data frame is \\n{}\\n\".format(\n",
        "        created_data_frame\n",
        "    )\n",
        ")"
      ],
      "metadata": {
        "colab": {
          "base_uri": "https://localhost:8080/"
        },
        "id": "uS86TkqXe3oR",
        "outputId": "a014a753-0f30-4927-b912-b0e17e3243dc"
      },
      "execution_count": null,
      "outputs": [
        {
          "output_type": "stream",
          "name": "stdout",
          "text": [
            "The created data frame is \n",
            "   numeric_value     EN      FR\n",
            "0              1    one      un\n",
            "1              2    two    deux\n",
            "2              3  three   trois\n",
            "3              4   four  quatre\n",
            "4              5   five    cinq\n",
            "5              6    six     six\n",
            "6              7  seven    sept\n",
            "7              8  eight    huit\n",
            "8              9   nine    neuf\n",
            "9             10    ten     dix\n",
            "\n"
          ]
        }
      ]
    },
    {
      "cell_type": "markdown",
      "source": [
        "### 1.2.2 Creating DataFrames from loaded data"
      ],
      "metadata": {
        "id": "HH9PysOOS4rD"
      }
    },
    {
      "cell_type": "markdown",
      "source": [
        "The same functions [**read_csv**](https://pandas.pydata.org/docs/reference/api/pandas.read_csv.html) and [**read_excel**](https://pandas.pydata.org/docs/reference/api/pandas.read_excel.html) are used to created DataFrames from data stored in data files.\n",
        "\n",
        "On a succesful execution, the functions will return full fledget DataFrame objects."
      ],
      "metadata": {
        "id": "GigiCGvXTKBy"
      }
    },
    {
      "cell_type": "code",
      "source": [
        "# loading the data from the CSV file \n",
        "# containing the science and technology data for Romania\n",
        "csv_loaded_data = pd.read_csv(\n",
        "   \"https://raw.githubusercontent.com/INTERTECHNICA-BUSINESS-SOLUTIONS-SRL/CourseDataManipulationWithPython/main/Module%203%20-%20The%20Pandas%20Library/Session%202%20-%20Pandas%20basics/data/RO_Science_And_Technology.csv\",\n",
        ")\n",
        "\n",
        "print(\n",
        "    \"The data loaded from the data file is \\n{}\\n with the data types \\n{}\\n\".format(\n",
        "      csv_loaded_data,\n",
        "      csv_loaded_data.dtypes   \n",
        "    )\n",
        ")"
      ],
      "metadata": {
        "colab": {
          "base_uri": "https://localhost:8080/"
        },
        "id": "_pDFJVlxZ6Iw",
        "outputId": "e1f318e4-5d3c-4e06-aef9-3204068f88a8"
      },
      "execution_count": null,
      "outputs": [
        {
          "output_type": "stream",
          "name": "stdout",
          "text": [
            "The data loaded from the data file is \n",
            "    Country Name Country ISO3  Year                                     Indicator Name     Indicator Code         Value\n",
            "0        Romania          ROU  2020  Charges for the use of intellectual property, ...     BM.GSR.ROYL.CD  8.868424e+08\n",
            "1        Romania          ROU  2019  Charges for the use of intellectual property, ...     BM.GSR.ROYL.CD  9.367352e+08\n",
            "2        Romania          ROU  2018  Charges for the use of intellectual property, ...     BM.GSR.ROYL.CD  9.623846e+08\n",
            "3        Romania          ROU  2017  Charges for the use of intellectual property, ...     BM.GSR.ROYL.CD  9.110375e+08\n",
            "4        Romania          ROU  2016  Charges for the use of intellectual property, ...     BM.GSR.ROYL.CD  8.320201e+08\n",
            "..           ...          ...   ...                                                ...                ...           ...\n",
            "410      Romania          ROU  2011  High-technology exports (% of manufactured exp...  TX.VAL.TECH.MF.ZS  1.163584e+01\n",
            "411      Romania          ROU  2010  High-technology exports (% of manufactured exp...  TX.VAL.TECH.MF.ZS  1.252824e+01\n",
            "412      Romania          ROU  2009  High-technology exports (% of manufactured exp...  TX.VAL.TECH.MF.ZS  1.036754e+01\n",
            "413      Romania          ROU  2008  High-technology exports (% of manufactured exp...  TX.VAL.TECH.MF.ZS  6.922149e+00\n",
            "414      Romania          ROU  2007  High-technology exports (% of manufactured exp...  TX.VAL.TECH.MF.ZS  4.414278e+00\n",
            "\n",
            "[415 rows x 6 columns]\n",
            " with the data types \n",
            "Country Name       object\n",
            "Country ISO3       object\n",
            "Year                int64\n",
            "Indicator Name     object\n",
            "Indicator Code     object\n",
            "Value             float64\n",
            "dtype: object\n",
            "\n"
          ]
        }
      ]
    },
    {
      "cell_type": "code",
      "source": [
        "# loading the data from the Excel file\n",
        "# containing the science and technology data for Romania\n",
        "excel_loaded_data = pd.read_excel(\n",
        "    \"https://github.com/INTERTECHNICA-BUSINESS-SOLUTIONS-SRL/CourseDataManipulationWithPython/raw/main/Module%203%20-%20The%20Pandas%20Library/Session%202%20-%20Pandas%20basics/data/RO_Science_And_Technology.xlsx\",\n",
        " )\n",
        "\n",
        "print(\n",
        "    \"The data loaded from the data file is \\n{}\\n with the data types \\n{}\\n\".format(\n",
        "      excel_loaded_data,\n",
        "      excel_loaded_data.dtypes   \n",
        "    )\n",
        ")"
      ],
      "metadata": {
        "colab": {
          "base_uri": "https://localhost:8080/"
        },
        "id": "BpG9LBGAfB2C",
        "outputId": "076b5c25-4ba9-4208-b00e-7e777074ee06"
      },
      "execution_count": null,
      "outputs": [
        {
          "output_type": "stream",
          "name": "stdout",
          "text": [
            "The data loaded from the data file is \n",
            "    Country Name Country ISO3  Year                                     Indicator Name     Indicator Code         Value\n",
            "0        Romania          ROU  2020  Charges for the use of intellectual property, ...     BM.GSR.ROYL.CD  8.868424e+08\n",
            "1        Romania          ROU  2019  Charges for the use of intellectual property, ...     BM.GSR.ROYL.CD  9.367352e+08\n",
            "2        Romania          ROU  2018  Charges for the use of intellectual property, ...     BM.GSR.ROYL.CD  9.623846e+08\n",
            "3        Romania          ROU  2017  Charges for the use of intellectual property, ...     BM.GSR.ROYL.CD  9.110375e+08\n",
            "4        Romania          ROU  2016  Charges for the use of intellectual property, ...     BM.GSR.ROYL.CD  8.320201e+08\n",
            "..           ...          ...   ...                                                ...                ...           ...\n",
            "410      Romania          ROU  2011  High-technology exports (% of manufactured exp...  TX.VAL.TECH.MF.ZS  1.163584e+01\n",
            "411      Romania          ROU  2010  High-technology exports (% of manufactured exp...  TX.VAL.TECH.MF.ZS  1.252824e+01\n",
            "412      Romania          ROU  2009  High-technology exports (% of manufactured exp...  TX.VAL.TECH.MF.ZS  1.036754e+01\n",
            "413      Romania          ROU  2008  High-technology exports (% of manufactured exp...  TX.VAL.TECH.MF.ZS  6.922149e+00\n",
            "414      Romania          ROU  2007  High-technology exports (% of manufactured exp...  TX.VAL.TECH.MF.ZS  4.414278e+00\n",
            "\n",
            "[415 rows x 6 columns]\n",
            " with the data types \n",
            "Country Name       object\n",
            "Country ISO3       object\n",
            "Year                int64\n",
            "Indicator Name     object\n",
            "Indicator Code     object\n",
            "Value             float64\n",
            "dtype: object\n",
            "\n"
          ]
        }
      ]
    }
  ],
  "metadata": {
    "kernelspec": {
      "display_name": "Python 3",
      "language": "python",
      "name": "python3"
    },
    "language_info": {
      "codemirror_mode": {
        "name": "ipython",
        "version": 3
      },
      "file_extension": ".py",
      "mimetype": "text/x-python",
      "name": "python",
      "nbconvert_exporter": "python",
      "pygments_lexer": "ipython3",
      "version": "3.7.3"
    },
    "colab": {
      "name": "003_Pandas_Creating_Data_Containers.ipynb",
      "provenance": [],
      "collapsed_sections": []
    }
  },
  "nbformat": 4,
  "nbformat_minor": 0
}