{
  "cells": [
    {
      "cell_type": "markdown",
      "metadata": {
        "id": "KDuU6OSWXKo4"
      },
      "source": [
        "![*INTERTECHNICA - SOLON EDUCATIONAL PROGRAMS - TECHNOLOGY LINE*](https://solon.intertechnica.com/assets/IntertechnicaSolonEducationalPrograms-TechnologyLine.png)"
      ]
    },
    {
      "cell_type": "markdown",
      "metadata": {
        "id": "OeBbVwSSXKo9"
      },
      "source": [
        "# Data Manipulation with Python - The Pandas Library - Creating Pandas Data Containers"
      ]
    },
    {
      "cell_type": "markdown",
      "metadata": {
        "id": "uUhqqWdPXKpA"
      },
      "source": [
        "*Basic initialization of the workspace.*"
      ]
    },
    {
      "cell_type": "code",
      "source": [
        "!python -m pip install numpy\n",
        "import numpy as np\n",
        "print (\"NumPy installed at version: {}\".format(np.__version__))"
      ],
      "metadata": {
        "colab": {
          "base_uri": "https://localhost:8080/"
        },
        "id": "OJzCFKioH6UR",
        "outputId": "919a8e42-16fe-43e9-ff83-a653300ba3cf"
      },
      "execution_count": 1,
      "outputs": [
        {
          "output_type": "stream",
          "name": "stdout",
          "text": [
            "Requirement already satisfied: numpy in /usr/local/lib/python3.7/dist-packages (1.19.5)\n",
            "NumPy installed at version: 1.19.5\n"
          ]
        }
      ]
    },
    {
      "cell_type": "code",
      "execution_count": 2,
      "metadata": {
        "colab": {
          "base_uri": "https://localhost:8080/"
        },
        "id": "AjAZRU7GXKpE",
        "outputId": "f46bbc57-77a3-4033-c8b8-cd51cbc84f56"
      },
      "outputs": [
        {
          "output_type": "stream",
          "name": "stdout",
          "text": [
            "Requirement already satisfied: pandas in /usr/local/lib/python3.7/dist-packages (1.1.5)\n",
            "Requirement already satisfied: pytz>=2017.2 in /usr/local/lib/python3.7/dist-packages (from pandas) (2018.9)\n",
            "Requirement already satisfied: python-dateutil>=2.7.3 in /usr/local/lib/python3.7/dist-packages (from pandas) (2.8.2)\n",
            "Requirement already satisfied: numpy>=1.15.4 in /usr/local/lib/python3.7/dist-packages (from pandas) (1.19.5)\n",
            "Requirement already satisfied: six>=1.5 in /usr/local/lib/python3.7/dist-packages (from python-dateutil>=2.7.3->pandas) (1.15.0)\n",
            "Pandas installed at version: 1.1.5\n"
          ]
        }
      ],
      "source": [
        "!python -m pip install pandas\n",
        "import pandas as pd\n",
        "print (\"Pandas installed at version: {}\".format(pd.__version__))\n",
        "\n",
        "#adjust pandas DataFrame display for a wider target \n",
        "pd.set_option('display.expand_frame_repr', False)"
      ]
    },
    {
      "cell_type": "markdown",
      "metadata": {
        "id": "LlxTCVx0XKpJ"
      },
      "source": [
        "## 1. Pandas data containers"
      ]
    },
    {
      "cell_type": "markdown",
      "metadata": {
        "id": "mAAQKFhCXKpL"
      },
      "source": [
        "The Pandas library support two types kind of of data containers:\n",
        "\n",
        "*   **Series** - an indexed uni-dimensional data container; \n",
        "*   **DataFrame** - an indexed bi-dimensional data container (rows and columns). Each colum from a DataFrame is basically a Data Series, all columns from the DataFrame sharing the same index.\n",
        "\n",
        "In the following we will focus on creating these data containers."
      ]
    },
    {
      "cell_type": "markdown",
      "source": [
        "### 1.1 Creating Data Series"
      ],
      "metadata": {
        "id": "TxLuwAjYG1jg"
      }
    },
    {
      "cell_type": "markdown",
      "source": [
        "Pandas series can be created either from data or by loading data from files."
      ],
      "metadata": {
        "id": "EzfQbEFqHC2H"
      }
    },
    {
      "cell_type": "markdown",
      "source": [
        "#### 1.1.1 Creating Data Series from data"
      ],
      "metadata": {
        "id": "6tLayyl1HalT"
      }
    },
    {
      "cell_type": "markdown",
      "source": [
        "Pandas Data Series can be created directly from existing data such as Python arrays, lists and dictionaries along with NumPy arrays: "
      ],
      "metadata": {
        "id": "asUGoyi4HoV1"
      }
    },
    {
      "cell_type": "code",
      "source": [
        "# creating Pandas series from Python arrays\n",
        "simple_array = [\"One\", \"Two\", \"Three\", \"Four\", \"Five\", \"Six\", \"Seven\", \"Eight\", \"Nine\"]\n",
        "print(\n",
        "    \"The series associated to the array \\n{}\\n is \\n{}\\n\".format(\n",
        "        simple_array,\n",
        "        pd.Series(simple_array)\n",
        "    )\n",
        ")"
      ],
      "metadata": {
        "colab": {
          "base_uri": "https://localhost:8080/"
        },
        "id": "t9mMC2KCIEyN",
        "outputId": "0da46657-427d-4867-9c35-bca0d5d89b78"
      },
      "execution_count": 3,
      "outputs": [
        {
          "output_type": "stream",
          "name": "stdout",
          "text": [
            "The series associated to the array \n",
            "['One', 'Two', 'Three', 'Four', 'Five', 'Six', 'Seven', 'Eight', 'Nine']\n",
            " is \n",
            "0      One\n",
            "1      Two\n",
            "2    Three\n",
            "3     Four\n",
            "4     Five\n",
            "5      Six\n",
            "6    Seven\n",
            "7    Eight\n",
            "8     Nine\n",
            "dtype: object\n",
            "\n"
          ]
        }
      ]
    },
    {
      "cell_type": "code",
      "source": [
        "# creating Pandas series from Python lists\n",
        "simple_list = (1, \"Two\", 3, \"Four\", 5, \"Six\", 7, \"Eight\", 9)\n",
        "print(\n",
        "    \"The series associated to the list \\n{}\\n is \\n{}\\n\".format(\n",
        "        simple_list,\n",
        "        pd.Series(simple_list)\n",
        "    )\n",
        ")"
      ],
      "metadata": {
        "colab": {
          "base_uri": "https://localhost:8080/"
        },
        "id": "FE6AriHAOUPe",
        "outputId": "78bd4087-45c4-4677-e338-ce13c2a4c294"
      },
      "execution_count": 4,
      "outputs": [
        {
          "output_type": "stream",
          "name": "stdout",
          "text": [
            "The series associated to the list \n",
            "(1, 'Two', 3, 'Four', 5, 'Six', 7, 'Eight', 9)\n",
            " is \n",
            "0        1\n",
            "1      Two\n",
            "2        3\n",
            "3     Four\n",
            "4        5\n",
            "5      Six\n",
            "6        7\n",
            "7    Eight\n",
            "8        9\n",
            "dtype: object\n",
            "\n"
          ]
        }
      ]
    },
    {
      "cell_type": "code",
      "source": [
        "# creating Pandas series from Python dictionaries\n",
        "# allows also setting the values for the index column\n",
        "simple_dictionary = {1:\"One\", 2: \"Two\", 3:\"Three\", 4:\"Four\", 5:\"Five\", 6:\"Six\", 7:\"Seven\", 8:\"Eight\", 9:\"Nine\"}\n",
        "print(\n",
        "    \"The series associated to the dictionary \\n{}\\n is \\n{}\\n\".format(\n",
        "        simple_dictionary,\n",
        "        pd.Series(simple_dictionary)\n",
        "    )\n",
        ")"
      ],
      "metadata": {
        "colab": {
          "base_uri": "https://localhost:8080/"
        },
        "id": "wnFZrgkL-AdX",
        "outputId": "eb98a584-ecf5-4fbd-dea8-fa265aa4d0cd"
      },
      "execution_count": 5,
      "outputs": [
        {
          "output_type": "stream",
          "name": "stdout",
          "text": [
            "The series associated to the dictionary \n",
            "{1: 'One', 2: 'Two', 3: 'Three', 4: 'Four', 5: 'Five', 6: 'Six', 7: 'Seven', 8: 'Eight', 9: 'Nine'}\n",
            " is \n",
            "1      One\n",
            "2      Two\n",
            "3    Three\n",
            "4     Four\n",
            "5     Five\n",
            "6      Six\n",
            "7    Seven\n",
            "8    Eight\n",
            "9     Nine\n",
            "dtype: object\n",
            "\n"
          ]
        }
      ]
    },
    {
      "cell_type": "code",
      "source": [
        "# creating Pandas series from Numpy array\n",
        "numpy_array = np.arange(10) + 1\n",
        "print(\n",
        "    \"The series associated to the NumPy array \\n{}\\n is \\n{}\\n\".format(\n",
        "        numpy_array,\n",
        "        pd.Series(numpy_array)\n",
        "    )\n",
        ")"
      ],
      "metadata": {
        "colab": {
          "base_uri": "https://localhost:8080/"
        },
        "id": "6tfh3CoAOYKV",
        "outputId": "fce6e2b9-ac1c-4a2f-d130-e05f563b255d"
      },
      "execution_count": 6,
      "outputs": [
        {
          "output_type": "stream",
          "name": "stdout",
          "text": [
            "The series associated to the NumPy array \n",
            "[ 1  2  3  4  5  6  7  8  9 10]\n",
            " is \n",
            "0     1\n",
            "1     2\n",
            "2     3\n",
            "3     4\n",
            "4     5\n",
            "5     6\n",
            "6     7\n",
            "7     8\n",
            "8     9\n",
            "9    10\n",
            "dtype: int64\n",
            "\n"
          ]
        }
      ]
    },
    {
      "cell_type": "markdown",
      "source": [
        "Pandas series can be created also by specifying its index as well:"
      ],
      "metadata": {
        "id": "qrbb2gYUKgTP"
      }
    },
    {
      "cell_type": "code",
      "source": [
        "# create a time range\n",
        "year = \"2022\"\n",
        "time_period_range = pd.period_range(\n",
        "  year + \"-01-01\", \n",
        "  year + \"-12-31\", \n",
        "  freq = \"M\"\n",
        ")\n",
        "\n",
        "# create a data range for the number of the month in year\n",
        "months= [\n",
        "          pd.Timestamp(str(range_item) + \"-01\").month_name() \n",
        "                            for range_item in time_period_range\n",
        "        ]\n",
        "\n",
        "month_series = pd.Series(\n",
        "    index = time_period_range, \n",
        "    data = months\n",
        ")\n",
        "\n",
        "print(\n",
        "    \"The dates of months in year {} are \\n{}\\n\".format(\n",
        "        year,\n",
        "        month_series\n",
        "    )\n",
        ")"
      ],
      "metadata": {
        "colab": {
          "base_uri": "https://localhost:8080/"
        },
        "id": "sedV7KDTKfUx",
        "outputId": "d6a68fd8-2ca7-4fcc-fbb0-853ad70b8aa0"
      },
      "execution_count": 7,
      "outputs": [
        {
          "output_type": "stream",
          "name": "stdout",
          "text": [
            "The dates of months in year 2022 are \n",
            "2022-01      January\n",
            "2022-02     February\n",
            "2022-03        March\n",
            "2022-04        April\n",
            "2022-05          May\n",
            "2022-06         June\n",
            "2022-07         July\n",
            "2022-08       August\n",
            "2022-09    September\n",
            "2022-10      October\n",
            "2022-11     November\n",
            "2022-12     December\n",
            "Freq: M, dtype: object\n",
            "\n"
          ]
        }
      ]
    },
    {
      "cell_type": "markdown",
      "source": [
        "#### 1.1.2 Creating Data Series from loaded data"
      ],
      "metadata": {
        "id": "9m6MIOve7L0s"
      }
    },
    {
      "cell_type": "markdown",
      "source": [
        "Pandas allows for the creation of data series from data stored in CSV and Excel files. The functions that allows to load data from CSV and Excel files are [**read_csv**](https://pandas.pydata.org/docs/reference/api/pandas.read_csv.html) and [**read_excel**](https://pandas.pydata.org/docs/reference/api/pandas.read_excel.html).\n",
        "\n",
        "It must be noted that the loaded data is returned as a NumPy DataFrame and it is needed to call the [**squeeze**](https://pandas.pydata.org/docs/reference/api/pandas.DataFrame.squeeze.html) method in order to transform the Pandas DataFrame into a Pandas Series."
      ],
      "metadata": {
        "id": "0swTauvt7Us_"
      }
    },
    {
      "cell_type": "code",
      "source": [
        "# loading the data from the CSV file  \n",
        "# skipping the comment row and using the year as the index column\n",
        "csv_loaded_data = pd.read_csv(\n",
        "   \"https://raw.githubusercontent.com/INTERTECHNICA-BUSINESS-SOLUTIONS-SRL/CourseDataManipulationWithPython/main/Module%203%20-%20The%20Pandas%20Library/Session%202%20-%20Pandas%20basics/data/RO_Urban_Air_Polution.csv\",\n",
        "   skiprows = 1,\n",
        "   index_col = 0  \n",
        ")\n",
        "\n",
        "print(\n",
        "    \"The CSV loaded data series is \\n{}\".format(\n",
        "        csv_loaded_data.squeeze()\n",
        "      )\n",
        ")"
      ],
      "metadata": {
        "colab": {
          "base_uri": "https://localhost:8080/"
        },
        "id": "XyCVzi4x_rNR",
        "outputId": "4f1f3d42-4387-4a5e-9d76-9ecc384d8488"
      },
      "execution_count": 8,
      "outputs": [
        {
          "output_type": "stream",
          "name": "stdout",
          "text": [
            "The CSV loaded data series is \n",
            "Year\n",
            "1990    20.32\n",
            "1995    18.57\n",
            "2000    17.70\n",
            "2005    17.16\n",
            "2010    17.06\n",
            "2011    17.64\n",
            "2012    16.32\n",
            "2013    15.37\n",
            "2014    15.01\n",
            "2015    15.43\n",
            "2016    14.54\n",
            "2017    14.61\n",
            "Name: Air Pollution Mean Exposure, dtype: float64\n"
          ]
        }
      ]
    },
    {
      "cell_type": "code",
      "source": [
        "# loading the data from the Excel file  \n",
        "# skipping the comment row and using the year as the index column\n",
        "excel_loaded_data = pd.read_excel(\n",
        "   \"https://raw.githubusercontent.com/INTERTECHNICA-BUSINESS-SOLUTIONS-SRL/CourseDataManipulationWithPython/main/Module%203%20-%20The%20Pandas%20Library/Session%202%20-%20Pandas%20basics/data/RO_Urban_Air_Polution.xlsx\",\n",
        "   skiprows = 1,\n",
        "   index_col = 0  \n",
        ")\n",
        "\n",
        "print(\n",
        "    \"The Excel loaded data series is \\n{}\".format(\n",
        "        excel_loaded_data.squeeze()\n",
        "      )\n",
        ")"
      ],
      "metadata": {
        "colab": {
          "base_uri": "https://localhost:8080/"
        },
        "id": "orOo8RtnF-yz",
        "outputId": "2d8ec050-ef51-44a8-e37c-48de498fad5d"
      },
      "execution_count": 9,
      "outputs": [
        {
          "output_type": "stream",
          "name": "stdout",
          "text": [
            "The Excel loaded data series is \n",
            "Year\n",
            "1990    20.32\n",
            "1995    18.57\n",
            "2000    17.70\n",
            "2005    17.16\n",
            "2010    17.06\n",
            "2011    17.64\n",
            "2012    16.32\n",
            "2013    15.37\n",
            "2014    15.01\n",
            "2015    15.43\n",
            "2016    14.54\n",
            "2017    14.61\n",
            "Name: Air Pollution Mean Exposure, dtype: float64\n"
          ]
        }
      ]
    },
    {
      "cell_type": "markdown",
      "source": [
        "### 1.2 DataFrame "
      ],
      "metadata": {
        "id": "2hJJVQk_HW0b"
      }
    },
    {
      "cell_type": "markdown",
      "source": [
        "As with Data Series, the Panda's DataFrame objects can be created from regular Python data objects or they can be created from data loaded from the data files."
      ],
      "metadata": {
        "id": "b2NzL4oUvij_"
      }
    },
    {
      "cell_type": "markdown",
      "source": [
        "#### 1.2.1 Creating DataFrames from data"
      ],
      "metadata": {
        "id": "5WSdlxfbwXE1"
      }
    },
    {
      "cell_type": "markdown",
      "source": [
        "Pandas DataFrames can be created - as well - directly from existing data such as Python arrays, lists and dictionaries along with NumPy arrays: "
      ],
      "metadata": {
        "id": "upi8L27N02Uk"
      }
    },
    {
      "cell_type": "code",
      "source": [
        "# create the raw data as regular Python strings\n",
        "en_literals = [\"one\", \"two\", \"three\", \"four\", \"five\", \"six\", \"seven\", \"eight\", \"nine\"]\n",
        "fr_literals = [\"un\", \"deux\", \"trois\", \"quatre\", \"cinq\", \"six\", \"sept\", \"huit\", \"neuf\"]\n",
        "\n",
        "# create the data necessary for the dataframe creation \n",
        "# (data, column names, index values)\n",
        "data = zip(en_literals, fr_literals)\n",
        "column_names = [\"EN\", \"FR\"]\n",
        "index_values = np.arange(9) + 1\n",
        "\n",
        "print(\n",
        "    \"The created data frame is \\n{}\\n\".format(\n",
        "        pd.DataFrame(\n",
        "          data = data,\n",
        "          columns = column_names,\n",
        "          index = index_values\n",
        "        )\n",
        "    )\n",
        ")\n"
      ],
      "metadata": {
        "colab": {
          "base_uri": "https://localhost:8080/"
        },
        "id": "5eZnFLzR1GcU",
        "outputId": "cba1d965-d0f8-4103-f4c0-d7bc7f9c12d3"
      },
      "execution_count": 10,
      "outputs": [
        {
          "output_type": "stream",
          "name": "stdout",
          "text": [
            "The created data frame is \n",
            "      EN      FR\n",
            "1    one      un\n",
            "2    two    deux\n",
            "3  three   trois\n",
            "4   four  quatre\n",
            "5   five    cinq\n",
            "6    six     six\n",
            "7  seven    sept\n",
            "8  eight    huit\n",
            "9   nine    neuf\n",
            "\n"
          ]
        }
      ]
    },
    {
      "cell_type": "code",
      "source": [
        "# create the dctionary data necessary for the dataframe creation \n",
        "# (data, column names, index values)\n",
        "dictionary_data = {\n",
        "    \"EN\": en_literals,\n",
        "    \"FR\": fr_literals\n",
        "}\n",
        "\n",
        "print(\n",
        "    \"The created data frame is \\n{}\\n\".format(\n",
        "        pd.DataFrame(\n",
        "          data = dictionary_data,\n",
        "          index = index_values\n",
        "        )\n",
        "    )\n",
        ")"
      ],
      "metadata": {
        "colab": {
          "base_uri": "https://localhost:8080/"
        },
        "id": "giRQwwvUFGZS",
        "outputId": "b6989c18-741e-464c-f890-cefeb2d2c6ec"
      },
      "execution_count": 11,
      "outputs": [
        {
          "output_type": "stream",
          "name": "stdout",
          "text": [
            "The created data frame is \n",
            "      EN      FR\n",
            "1    one      un\n",
            "2    two    deux\n",
            "3  three   trois\n",
            "4   four  quatre\n",
            "5   five    cinq\n",
            "6    six     six\n",
            "7  seven    sept\n",
            "8  eight    huit\n",
            "9   nine    neuf\n",
            "\n"
          ]
        }
      ]
    },
    {
      "cell_type": "code",
      "source": [
        "# create the numpy data \n",
        "# using vstack function\n",
        "numpy_data = np.vstack((en_literals, fr_literals)).T\n",
        "\n",
        "print(\n",
        "    \"The created data frame is \\n{}\\n\".format(\n",
        "        pd.DataFrame(\n",
        "          data = numpy_data,\n",
        "          columns = column_names,\n",
        "          index = index_values,\n",
        "        )\n",
        "    )\n",
        ")"
      ],
      "metadata": {
        "colab": {
          "base_uri": "https://localhost:8080/"
        },
        "id": "ZlRlan8iOPe3",
        "outputId": "5fe5d6a4-7960-4cc1-ba08-4083ef407716"
      },
      "execution_count": 12,
      "outputs": [
        {
          "output_type": "stream",
          "name": "stdout",
          "text": [
            "The created data frame is \n",
            "      EN      FR\n",
            "1    one      un\n",
            "2    two    deux\n",
            "3  three   trois\n",
            "4   four  quatre\n",
            "5   five    cinq\n",
            "6    six     six\n",
            "7  seven    sept\n",
            "8  eight    huit\n",
            "9   nine    neuf\n",
            "\n"
          ]
        }
      ]
    },
    {
      "cell_type": "markdown",
      "source": [
        "### 1.2.2 Creating DataFrames from loaded data"
      ],
      "metadata": {
        "id": "HH9PysOOS4rD"
      }
    },
    {
      "cell_type": "markdown",
      "source": [
        "The same functions [**read_csv**](https://pandas.pydata.org/docs/reference/api/pandas.read_csv.html) and [**read_excel**](https://pandas.pydata.org/docs/reference/api/pandas.read_excel.html) are used to created DataFrames from data stored in data files.\n",
        "\n",
        "On a succesful execution, the functions will return full fledget DataFrame objects."
      ],
      "metadata": {
        "id": "GigiCGvXTKBy"
      }
    },
    {
      "cell_type": "code",
      "source": [
        "# loading the data from the CSV file \n",
        "# containing climate change data for Romania \n",
        "csv_loaded_data = pd.read_csv(\n",
        "   \"https://raw.githubusercontent.com/INTERTECHNICA-BUSINESS-SOLUTIONS-SRL/CourseDataManipulationWithPython/main/Module%203%20-%20The%20Pandas%20Library/Session%202%20-%20Pandas%20basics/data/RO_Climate_Change.csv\",\n",
        ")\n",
        "\n",
        "print(\n",
        "    \"The data loaded from the data file is \\n{}\\n with the data types \\n{}\\n\".format(\n",
        "      csv_loaded_data,\n",
        "      csv_loaded_data.dtypes   \n",
        "    )\n",
        ")"
      ],
      "metadata": {
        "colab": {
          "base_uri": "https://localhost:8080/"
        },
        "id": "_pDFJVlxZ6Iw",
        "outputId": "3113138b-07cc-4dfa-ac86-5870048298d9"
      },
      "execution_count": 13,
      "outputs": [
        {
          "output_type": "stream",
          "name": "stdout",
          "text": [
            "The data loaded from the data file is \n",
            "     Country Name Country ISO3  Year                            Indicator Name     Indicator Code       Value\n",
            "0         Romania          ROU  2018                Agricultural land (sq. km)     AG.LND.AGRI.K2  134140.000\n",
            "1         Romania          ROU  2017                Agricultural land (sq. km)     AG.LND.AGRI.K2  133780.000\n",
            "2         Romania          ROU  2016                Agricultural land (sq. km)     AG.LND.AGRI.K2  135210.000\n",
            "3         Romania          ROU  2015                Agricultural land (sq. km)     AG.LND.AGRI.K2  138580.000\n",
            "4         Romania          ROU  2014                Agricultural land (sq. km)     AG.LND.AGRI.K2  138300.000\n",
            "...           ...          ...   ...                                       ...                ...         ...\n",
            "1903      Romania          ROU  1964  Urban population (% of total population)  SP.URB.TOTL.IN.ZS      36.989\n",
            "1904      Romania          ROU  1963  Urban population (% of total population)  SP.URB.TOTL.IN.ZS      36.284\n",
            "1905      Romania          ROU  1962  Urban population (% of total population)  SP.URB.TOTL.IN.ZS      35.586\n",
            "1906      Romania          ROU  1961  Urban population (% of total population)  SP.URB.TOTL.IN.ZS      34.894\n",
            "1907      Romania          ROU  1960  Urban population (% of total population)  SP.URB.TOTL.IN.ZS      34.209\n",
            "\n",
            "[1908 rows x 6 columns]\n",
            " with the data types \n",
            "Country Name       object\n",
            "Country ISO3       object\n",
            "Year                int64\n",
            "Indicator Name     object\n",
            "Indicator Code     object\n",
            "Value             float64\n",
            "dtype: object\n",
            "\n"
          ]
        }
      ]
    },
    {
      "cell_type": "code",
      "source": [
        "# loading the data from the Excel file\n",
        "# using the same climate change data  \n",
        "excel_loaded_data = pd.read_excel(\n",
        "    \"https://raw.githubusercontent.com/INTERTECHNICA-BUSINESS-SOLUTIONS-SRL/CourseDataManipulationWithPython/main/Module%203%20-%20The%20Pandas%20Library/Session%202%20-%20Pandas%20basics/data/RO_Climate_Change.xlsx\",\n",
        " )\n",
        "\n",
        "print(\n",
        "    \"The data loaded from the data file is \\n{}\\n with the data types \\n{}\\n\".format(\n",
        "      excel_loaded_data,\n",
        "      excel_loaded_data.dtypes   \n",
        "    )\n",
        ")"
      ],
      "metadata": {
        "colab": {
          "base_uri": "https://localhost:8080/"
        },
        "id": "BpG9LBGAfB2C",
        "outputId": "8dc02e66-1944-4857-f99b-cc2548858f61"
      },
      "execution_count": 14,
      "outputs": [
        {
          "output_type": "stream",
          "name": "stdout",
          "text": [
            "The data loaded from the data file is \n",
            "     Country Name Country ISO3  Year                            Indicator Name     Indicator Code       Value\n",
            "0         Romania          ROU  2018                Agricultural land (sq. km)     AG.LND.AGRI.K2  134140.000\n",
            "1         Romania          ROU  2017                Agricultural land (sq. km)     AG.LND.AGRI.K2  133780.000\n",
            "2         Romania          ROU  2016                Agricultural land (sq. km)     AG.LND.AGRI.K2  135210.000\n",
            "3         Romania          ROU  2015                Agricultural land (sq. km)     AG.LND.AGRI.K2  138580.000\n",
            "4         Romania          ROU  2014                Agricultural land (sq. km)     AG.LND.AGRI.K2  138300.000\n",
            "...           ...          ...   ...                                       ...                ...         ...\n",
            "1903      Romania          ROU  1964  Urban population (% of total population)  SP.URB.TOTL.IN.ZS      36.989\n",
            "1904      Romania          ROU  1963  Urban population (% of total population)  SP.URB.TOTL.IN.ZS      36.284\n",
            "1905      Romania          ROU  1962  Urban population (% of total population)  SP.URB.TOTL.IN.ZS      35.586\n",
            "1906      Romania          ROU  1961  Urban population (% of total population)  SP.URB.TOTL.IN.ZS      34.894\n",
            "1907      Romania          ROU  1960  Urban population (% of total population)  SP.URB.TOTL.IN.ZS      34.209\n",
            "\n",
            "[1908 rows x 6 columns]\n",
            " with the data types \n",
            "Country Name       object\n",
            "Country ISO3       object\n",
            "Year                int64\n",
            "Indicator Name     object\n",
            "Indicator Code     object\n",
            "Value             float64\n",
            "dtype: object\n",
            "\n"
          ]
        }
      ]
    }
  ],
  "metadata": {
    "kernelspec": {
      "display_name": "Python 3",
      "language": "python",
      "name": "python3"
    },
    "language_info": {
      "codemirror_mode": {
        "name": "ipython",
        "version": 3
      },
      "file_extension": ".py",
      "mimetype": "text/x-python",
      "name": "python",
      "nbconvert_exporter": "python",
      "pygments_lexer": "ipython3",
      "version": "3.7.3"
    },
    "colab": {
      "name": "003_Creating_Pandas_Data_Containers.ipynb",
      "provenance": [],
      "collapsed_sections": []
    }
  },
  "nbformat": 4,
  "nbformat_minor": 0
}