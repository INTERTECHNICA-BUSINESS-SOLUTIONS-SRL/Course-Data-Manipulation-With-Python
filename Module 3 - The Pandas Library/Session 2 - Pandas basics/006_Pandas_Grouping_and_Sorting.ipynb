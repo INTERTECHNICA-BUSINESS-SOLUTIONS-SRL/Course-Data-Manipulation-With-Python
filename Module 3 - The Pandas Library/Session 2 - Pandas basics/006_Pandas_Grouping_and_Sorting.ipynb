{
  "cells": [
    {
      "cell_type": "markdown",
      "metadata": {
        "id": "KDuU6OSWXKo4"
      },
      "source": [
        "![*INTERTECHNICA - SOLON EDUCATIONAL PROGRAMS - TECHNOLOGY LINE*](https://solon.intertechnica.com/assets/IntertechnicaSolonEducationalPrograms-TechnologyLine.png)"
      ]
    },
    {
      "cell_type": "markdown",
      "metadata": {
        "id": "OeBbVwSSXKo9"
      },
      "source": [
        "# Data Manipulation with Python - The Pandas Library - Grouping and Sorting"
      ]
    },
    {
      "cell_type": "markdown",
      "metadata": {
        "id": "uUhqqWdPXKpA"
      },
      "source": [
        "*Basic initialization of the workspace.*"
      ]
    },
    {
      "cell_type": "code",
      "source": [
        "!python -m pip install numpy\n",
        "import numpy as np\n",
        "print (\"NumPy installed at version: {}\".format(np.__version__))"
      ],
      "metadata": {
        "colab": {
          "base_uri": "https://localhost:8080/"
        },
        "id": "OJzCFKioH6UR",
        "outputId": "6c3b8828-d27d-4fdf-f0ef-0db81b2c5435"
      },
      "execution_count": 1,
      "outputs": [
        {
          "output_type": "stream",
          "name": "stdout",
          "text": [
            "Requirement already satisfied: numpy in /usr/local/lib/python3.7/dist-packages (1.19.5)\n",
            "NumPy installed at version: 1.19.5\n"
          ]
        }
      ]
    },
    {
      "cell_type": "code",
      "execution_count": 2,
      "metadata": {
        "id": "AjAZRU7GXKpE",
        "outputId": "7133676d-51e9-483f-fb79-f02381a39eee",
        "colab": {
          "base_uri": "https://localhost:8080/"
        }
      },
      "outputs": [
        {
          "output_type": "stream",
          "name": "stdout",
          "text": [
            "Requirement already satisfied: pandas in /usr/local/lib/python3.7/dist-packages (1.1.5)\n",
            "Requirement already satisfied: python-dateutil>=2.7.3 in /usr/local/lib/python3.7/dist-packages (from pandas) (2.8.2)\n",
            "Requirement already satisfied: pytz>=2017.2 in /usr/local/lib/python3.7/dist-packages (from pandas) (2018.9)\n",
            "Requirement already satisfied: numpy>=1.15.4 in /usr/local/lib/python3.7/dist-packages (from pandas) (1.19.5)\n",
            "Requirement already satisfied: six>=1.5 in /usr/local/lib/python3.7/dist-packages (from python-dateutil>=2.7.3->pandas) (1.15.0)\n",
            "Pandas installed at version: 1.1.5\n"
          ]
        }
      ],
      "source": [
        "!python -m pip install pandas\n",
        "import pandas as pd\n",
        "print (\"Pandas installed at version: {}\".format(pd.__version__))\n",
        "\n",
        "#adjust pandas DataFrame display for a wider target \n",
        "pd.set_option('display.expand_frame_repr', False)"
      ]
    },
    {
      "cell_type": "markdown",
      "source": [
        "Load sample data for processing:"
      ],
      "metadata": {
        "id": "WoSU6abCESv6"
      }
    },
    {
      "cell_type": "code",
      "source": [
        "# load EU quality of life indicator \n",
        "quality_of_life_data_frame = pd.read_csv(\n",
        "    \"https://raw.githubusercontent.com/INTERTECHNICA-BUSINESS-SOLUTIONS-SRL/CourseDataManipulationWithPython/main/Module%203%20-%20The%20Pandas%20Library/Session%202%20-%20Pandas%20basics/data/EU_Quality_Of_Life.csv\",\n",
        " )\n",
        "print(\n",
        "   \"Loaded quality of life data frame with shape {}\".format(\n",
        "       quality_of_life_data_frame.shape\n",
        "   ) \n",
        ")"
      ],
      "metadata": {
        "id": "yxQNVd_YTSJJ",
        "outputId": "be69bf04-ffa5-45d3-9a6b-5d3193734b9c",
        "colab": {
          "base_uri": "https://localhost:8080/"
        }
      },
      "execution_count": 3,
      "outputs": [
        {
          "output_type": "stream",
          "name": "stdout",
          "text": [
            "Loaded quality of life data frame with shape (6315, 6)\n"
          ]
        }
      ]
    },
    {
      "cell_type": "markdown",
      "metadata": {
        "id": "LlxTCVx0XKpJ"
      },
      "source": [
        "## 1. Data Grouping"
      ]
    },
    {
      "cell_type": "markdown",
      "source": [
        "Data grouping is an extremely important process for data exploration, analysis and decision making. It allows the operators to look at the bigger picture - identifying consolidated information from granular data.  "
      ],
      "metadata": {
        "id": "DwQTc3Cj9xTH"
      }
    },
    {
      "cell_type": "markdown",
      "source": [
        "Exploring the data before proceeding to grouping we can identify the following fields:\n",
        "\n",
        "*   **isced11** - encodes the **International Standard Classification of Education (ISCED) 2011** data associated with the observation;\n",
        "*   **sex** - encodes the sex value associated with the observation (M/F);\n",
        "*   **age** - encodes various age segments associated with the observation;\n",
        "*   **geo** - represents the country code for the observation;\n",
        "*   **TIME_PERIOD** - represents the year of the observation (2013/2018);\n",
        "*   **OBS_VALUE** - represents the perceived quality of life indicator value (higher is better) "
      ],
      "metadata": {
        "id": "k3JQEYtUt5wl"
      }
    },
    {
      "cell_type": "code",
      "source": [
        "# display a data sample\n",
        "print(\n",
        "    \"A sample of quality of data is: \\n{}\".format(\n",
        "        quality_of_life_data_frame.iloc[0:10]\n",
        "    )\n",
        ")"
      ],
      "metadata": {
        "id": "l9OrHuXut47z",
        "outputId": "00cb6ca2-8af3-4315-def9-55ffdda34402",
        "colab": {
          "base_uri": "https://localhost:8080/"
        }
      },
      "execution_count": 4,
      "outputs": [
        {
          "output_type": "stream",
          "name": "stdout",
          "text": [
            "A sample of quality of data is: \n",
            "  isced11 sex     age geo  TIME_PERIOD  OBS_VALUE\n",
            "0   ED0-2   F  Y16-24  AT         2013        8.2\n",
            "1   ED0-2   F  Y16-24  AT         2018        8.0\n",
            "2   ED0-2   F  Y16-24  BE         2013        7.7\n",
            "3   ED0-2   F  Y16-24  BE         2018        7.8\n",
            "4   ED0-2   F  Y16-24  BG         2013        5.5\n",
            "5   ED0-2   F  Y16-24  BG         2018        6.3\n",
            "6   ED0-2   F  Y16-24  CH         2013        NaN\n",
            "7   ED0-2   F  Y16-24  CH         2018        8.4\n",
            "8   ED0-2   F  Y16-24  CY         2013        7.5\n",
            "9   ED0-2   F  Y16-24  CY         2018        7.9\n"
          ]
        }
      ]
    },
    {
      "cell_type": "markdown",
      "source": [
        "We observe that are values with no data, therefore we should drop them:"
      ],
      "metadata": {
        "id": "4lupgxfEv94I"
      }
    },
    {
      "cell_type": "code",
      "source": [
        "# remove records where data is empty\n",
        "clean_quality_of_life_data_frame = quality_of_life_data_frame.drop(\n",
        "    quality_of_life_data_frame.index[np.isnan(quality_of_life_data_frame[\"OBS_VALUE\"])],\n",
        "    axis = 0\n",
        " )\n",
        "\n",
        "print(\n",
        "    \"Removing empty data has dropped {} records\".format(\n",
        "        quality_of_life_data_frame.shape[0] - clean_quality_of_life_data_frame.shape[0]\n",
        "    )\n",
        ")"
      ],
      "metadata": {
        "id": "Anc3Cf9xwE6x",
        "outputId": "1c1f2f5e-a1f9-47f9-ed9c-a17b60b3481b",
        "colab": {
          "base_uri": "https://localhost:8080/"
        }
      },
      "execution_count": 5,
      "outputs": [
        {
          "output_type": "stream",
          "name": "stdout",
          "text": [
            "Removing empty data has dropped 131 records\n"
          ]
        }
      ]
    },
    {
      "cell_type": "code",
      "source": [
        "# remove redundant values\n",
        "previous_row_counts = clean_quality_of_life_data_frame.shape[0]\n",
        "clean_quality_of_life_data_frame = clean_quality_of_life_data_frame[\n",
        "     (clean_quality_of_life_data_frame[\"isced11\"] != \"TOTAL\")\n",
        "     &\n",
        "     (clean_quality_of_life_data_frame[\"sex\"] != \"T\")\n",
        "     &\n",
        "     (clean_quality_of_life_data_frame[\"age\"] != \"Y_GE16\")\n",
        "     &\n",
        "     (clean_quality_of_life_data_frame[\"age\"] != \"Y_GE65\")\n",
        "    ]   \n",
        "\n",
        "print(\n",
        "    \"Removing redundant data has dropped {} records\".format(\n",
        "        previous_row_counts - clean_quality_of_life_data_frame.shape[0]\n",
        "    )\n",
        ")"
      ],
      "metadata": {
        "colab": {
          "base_uri": "https://localhost:8080/"
        },
        "id": "m-Id3s7rKOCq",
        "outputId": "12fb7606-c53f-464b-f5de-bccacfa846f4"
      },
      "execution_count": 6,
      "outputs": [
        {
          "output_type": "stream",
          "name": "stdout",
          "text": [
            "Removing redundant data has dropped 3721 records\n"
          ]
        }
      ]
    },
    {
      "cell_type": "markdown",
      "source": [
        "A simple grouping would be to create data groups associated to each country, this will help us to extract aggregated data for a specific country.\n",
        "\n",
        "The Pandas function that allows aggregation of data is the [**groupby**](https://pandas.pydata.org/docs/reference/api/pandas.DataFrame.groupby.html) function which generates a group by object that can be iterated in order to perform data processing:"
      ],
      "metadata": {
        "id": "ewkm1yckEGV2"
      }
    },
    {
      "cell_type": "code",
      "source": [
        "# create a data grouping by country\n",
        "geo_groups = clean_quality_of_life_data_frame.groupby(\n",
        "    [\"geo\"]\n",
        ")\n",
        "\n",
        "# iterate over the data groups\n",
        "for (geo_key, geo_group) in geo_groups :\n",
        "  print(\n",
        "      \"The group with key [{}] has {} records\".format(\n",
        "        geo_key,\n",
        "        geo_group.shape[0]\n",
        "      )\n",
        "  )"
      ],
      "metadata": {
        "id": "DefQflaPEwNH",
        "outputId": "56db02cd-1a25-4228-b61c-ef34b8ca18a9",
        "colab": {
          "base_uri": "https://localhost:8080/"
        }
      },
      "execution_count": 7,
      "outputs": [
        {
          "output_type": "stream",
          "name": "stdout",
          "text": [
            "The group with key [AT] has 77 records\n",
            "The group with key [BE] has 78 records\n",
            "The group with key [BG] has 75 records\n",
            "The group with key [CH] has 42 records\n",
            "The group with key [CY] has 78 records\n",
            "The group with key [CZ] has 75 records\n",
            "The group with key [DE] has 78 records\n",
            "The group with key [DK] has 71 records\n",
            "The group with key [EE] has 77 records\n",
            "The group with key [EL] has 78 records\n",
            "The group with key [ES] has 78 records\n",
            "The group with key [FI] has 76 records\n",
            "The group with key [FR] has 78 records\n",
            "The group with key [HR] has 73 records\n",
            "The group with key [HU] has 77 records\n",
            "The group with key [IE] has 76 records\n",
            "The group with key [IS] has 70 records\n",
            "The group with key [IT] has 77 records\n",
            "The group with key [LT] has 75 records\n",
            "The group with key [LU] has 73 records\n",
            "The group with key [LV] has 76 records\n",
            "The group with key [MT] has 75 records\n",
            "The group with key [NL] has 78 records\n",
            "The group with key [NO] has 78 records\n",
            "The group with key [PL] has 78 records\n",
            "The group with key [PT] has 75 records\n",
            "The group with key [RO] has 76 records\n",
            "The group with key [RS] has 77 records\n",
            "The group with key [SE] has 76 records\n",
            "The group with key [SI] has 74 records\n",
            "The group with key [SK] has 77 records\n",
            "The group with key [TR] has 64 records\n",
            "The group with key [UK] has 77 records\n"
          ]
        }
      ]
    },
    {
      "cell_type": "code",
      "source": [
        "# dispay a group sample\n",
        "group_key = \"RO\"\n",
        "print(\n",
        "    \"The group with key {} has the following data \\n {}\".format(\n",
        "                                              group_key,\n",
        "                                              geo_groups.get_group(group_key)        \n",
        "    )\n",
        ")"
      ],
      "metadata": {
        "id": "tPHHBaI3HVct",
        "outputId": "3fb5c8f6-6954-41a6-9355-9121385af5ea",
        "colab": {
          "base_uri": "https://localhost:8080/"
        }
      },
      "execution_count": 8,
      "outputs": [
        {
          "output_type": "stream",
          "name": "stdout",
          "text": [
            "The group with key RO has the following data \n",
            "      isced11 sex     age geo  TIME_PERIOD  OBS_VALUE\n",
            "52     ED0-2   F  Y16-24  RO         2013        8.1\n",
            "53     ED0-2   F  Y16-24  RO         2018        8.0\n",
            "118    ED0-2   F  Y25-34  RO         2013        6.9\n",
            "119    ED0-2   F  Y25-34  RO         2018        7.1\n",
            "158    ED0-2   F  Y25-64  RO         2018        6.8\n",
            "...      ...  ..     ...  ..          ...        ...\n",
            "3970   ED5-8   M  Y50-64  RO         2018        8.0\n",
            "4034   ED5-8   M  Y65-74  RO         2013        7.6\n",
            "4035   ED5-8   M  Y65-74  RO         2018        8.0\n",
            "4197   ED5-8   M  Y_GE75  RO         2013        7.7\n",
            "4198   ED5-8   M  Y_GE75  RO         2018        7.2\n",
            "\n",
            "[76 rows x 6 columns]\n"
          ]
        }
      ]
    },
    {
      "cell_type": "markdown",
      "source": [
        "The advantage of using data groups is that they allows data aggregation over their data using different aggregation functions. The aggregation functionality can be accessed via the [**agg**](https://pandas.pydata.org/pandas-docs/version/0.22/generated/pandas.core.groupby.DataFrameGroupBy.agg.html) method associated with the data group object.\n",
        "\n",
        "This allows the specification of the value to aggregate along with the aggreation functions to be applied."
      ],
      "metadata": {
        "id": "FMuShe3jI1zI"
      }
    },
    {
      "cell_type": "markdown",
      "source": [
        "The most relevant aggregation functions supported by the agg function are:\n",
        "\n",
        "*  **count** - returns the count of records;\n",
        "*  **min** - returns the minimum value;\n",
        "*  **mean** - returns the average value;\n",
        "*  **median** - returns the median value;\n",
        "*  **max** - returns the maximum value."
      ],
      "metadata": {
        "id": "GT_aR5NQMfyz"
      }
    },
    {
      "cell_type": "markdown",
      "source": [
        "For example, we can aggregate the values of \"OBS_VALUE\" with different aggregation functions over the country (geo) values: "
      ],
      "metadata": {
        "id": "1GeOqLPIPEMc"
      }
    },
    {
      "cell_type": "code",
      "source": [
        "# extract the aggregation values for the OBS_VALUE\n",
        "print(\n",
        "    \"The OBS_VALUE aggregations over 'geo' are \\n {}\".format(\n",
        "      geo_groups.agg({\"OBS_VALUE\": [\"min\", \"mean\", \"median\", \"max\"]})        \n",
        "    )\n",
        "  )"
      ],
      "metadata": {
        "id": "npN9B26yxZqE",
        "outputId": "208f2062-697e-4d3b-d277-5bb5e923ca93",
        "colab": {
          "base_uri": "https://localhost:8080/"
        }
      },
      "execution_count": 9,
      "outputs": [
        {
          "output_type": "stream",
          "name": "stdout",
          "text": [
            "The OBS_VALUE aggregations over 'geo' are \n",
            "     OBS_VALUE                      \n",
            "          min      mean median  max\n",
            "geo                                \n",
            "AT        6.5  7.850649   8.00  8.7\n",
            "BE        6.4  7.556410   7.60  8.2\n",
            "BG        3.3  5.090667   5.00  7.1\n",
            "CH        6.6  7.890476   8.00  8.7\n",
            "CY        4.9  6.743590   6.80  7.9\n",
            "CZ        5.0  7.045333   7.10  8.3\n",
            "DE        6.1  7.282051   7.40  8.3\n",
            "DK        6.6  7.900000   7.90  8.8\n",
            "EE        5.6  6.688312   6.50  8.0\n",
            "EL        5.4  6.401282   6.40  7.5\n",
            "ES        6.3  7.280769   7.30  8.2\n",
            "FI        7.2  8.047368   8.10  8.5\n",
            "FR        6.4  7.242308   7.20  8.2\n",
            "HR        4.8  6.541096   6.50  8.1\n",
            "HU        4.4  6.366234   6.50  7.9\n",
            "IE        6.3  7.878947   7.90  8.9\n",
            "IS        6.6  7.895714   7.90  8.5\n",
            "IT        6.1  7.057143   7.10  8.1\n",
            "LT        4.2  6.534667   6.50  8.5\n",
            "LU        6.8  7.539726   7.60  8.4\n",
            "LV        5.5  6.638158   6.50  7.8\n",
            "MT        6.7  7.497333   7.60  8.1\n",
            "NL        7.0  7.751282   7.80  8.2\n",
            "NO        7.2  7.935897   7.95  8.7\n",
            "PL        6.4  7.551282   7.60  8.4\n",
            "PT        5.5  6.905333   7.00  8.3\n",
            "RO        5.9  7.352632   7.40  8.8\n",
            "RS        3.7  5.541558   5.50  7.9\n",
            "SE        7.1  7.852632   7.90  8.5\n",
            "SI        5.4  7.110811   7.20  8.6\n",
            "SK        4.6  6.810390   7.00  8.7\n",
            "TR        5.1  5.879687   5.85  6.9\n",
            "UK        6.1  7.442857   7.50  8.2\n"
          ]
        }
      ]
    },
    {
      "cell_type": "markdown",
      "source": [
        "It is possible to agggregate on multiple levels as well:"
      ],
      "metadata": {
        "id": "iCer8X-2ed2Z"
      }
    },
    {
      "cell_type": "code",
      "source": [
        "# create a data grouping by country and time period\n",
        "geo_time_period_groups = clean_quality_of_life_data_frame.groupby(\n",
        "    [\"geo\", \"TIME_PERIOD\"]\n",
        ")\n",
        "\n",
        "print(\n",
        "    \"The OBS_VALUE aggregations over 'geo' and 'TIME_PERIOD' are \\n {}\".format(\n",
        "      geo_time_period_groups.agg({\"OBS_VALUE\": [\"min\", \"mean\", \"median\", \"max\"]})        \n",
        "    )\n",
        "  )"
      ],
      "metadata": {
        "id": "Z5rRWMKiWJOT",
        "outputId": "d86a4c0b-2885-4db1-e772-b3bf2be495af",
        "colab": {
          "base_uri": "https://localhost:8080/"
        }
      },
      "execution_count": 10,
      "outputs": [
        {
          "output_type": "stream",
          "name": "stdout",
          "text": [
            "The OBS_VALUE aggregations over 'geo' and 'TIME_PERIOD' are \n",
            "                 OBS_VALUE                      \n",
            "                      min      mean median  max\n",
            "geo TIME_PERIOD                                \n",
            "AT  2013              6.7  7.808571   7.90  8.6\n",
            "    2018              6.5  7.885714   8.00  8.7\n",
            "BE  2013              6.4  7.550000   7.60  8.2\n",
            "    2018              6.8  7.561905   7.60  8.2\n",
            "BG  2013              3.3  4.791429   4.60  6.5\n",
            "...                   ...       ...    ...  ...\n",
            "SK  2018              4.8  6.838095   7.05  8.7\n",
            "TR  2013              5.1  5.843478   5.80  6.9\n",
            "    2018              5.1  5.900000   6.00  6.7\n",
            "UK  2013              6.1  7.282857   7.40  8.0\n",
            "    2018              6.8  7.576190   7.60  8.2\n",
            "\n",
            "[65 rows x 4 columns]\n"
          ]
        }
      ]
    },
    {
      "cell_type": "markdown",
      "source": [
        "## 2. Data Sorting"
      ],
      "metadata": {
        "id": "Rz7vNeSBhEey"
      }
    },
    {
      "cell_type": "markdown",
      "source": [
        "The Pandas library offers extended capabilities for data sorting for both data series and data frames. The data sorting capabilities are available via the [**sort_values**](https://pandas.pydata.org/docs/reference/api/pandas.DataFrame.sort_values.html) method. This method accepts the following relevant parameters:\n",
        "\n",
        "*   **by** - the key(s) used for sorting;\n",
        "*   **ascending** - if True, ascending ordering will be used otherwise the sorting is descending."
      ],
      "metadata": {
        "id": "syGi9NFeh7pk"
      }
    },
    {
      "cell_type": "code",
      "source": [
        "# sort values of the data frame by country(ascending) \n",
        "# and year(descending)\n",
        "print(\n",
        "    \"The data frame ordered by country and year is \\n {}\".format(\n",
        "      clean_quality_of_life_data_frame.sort_values(\n",
        "          by = [\"geo\", \"TIME_PERIOD\"],\n",
        "          ascending = [True, False]\n",
        "      )        \n",
        "    )\n",
        "  )"
      ],
      "metadata": {
        "id": "wejP84WrhDyy",
        "outputId": "335200bb-c461-4073-f503-579657827f80",
        "colab": {
          "base_uri": "https://localhost:8080/"
        }
      },
      "execution_count": 11,
      "outputs": [
        {
          "output_type": "stream",
          "name": "stdout",
          "text": [
            "The data frame ordered by country and year is \n",
            "      isced11 sex     age geo  TIME_PERIOD  OBS_VALUE\n",
            "1      ED0-2   F  Y16-24  AT         2018        8.0\n",
            "67     ED0-2   F  Y25-34  AT         2018        7.7\n",
            "132    ED0-2   F  Y25-64  AT         2018        7.3\n",
            "166    ED0-2   F  Y35-49  AT         2018        7.5\n",
            "232    ED0-2   F  Y50-64  AT         2018        7.1\n",
            "...      ...  ..     ...  ..          ...        ...\n",
            "3817   ED5-8   M  Y25-34  UK         2013        7.7\n",
            "3915   ED5-8   M  Y35-49  UK         2013        7.4\n",
            "3980   ED5-8   M  Y50-64  UK         2013        7.4\n",
            "4045   ED5-8   M  Y65-74  UK         2013        8.0\n",
            "4208   ED5-8   M  Y_GE75  UK         2013        7.8\n",
            "\n",
            "[2463 rows x 6 columns]\n"
          ]
        }
      ]
    },
    {
      "cell_type": "markdown",
      "source": [
        "The data can be sorted also by the index value using the [**sort_index**](https://pandas.pydata.org/docs/reference/api/pandas.DataFrame.sort_index.html) method:"
      ],
      "metadata": {
        "id": "psfJ0f2rLLyT"
      }
    },
    {
      "cell_type": "code",
      "source": [
        "# sort country means data by country codes descending\n",
        "country_means_aggregate = geo_groups.agg({\"OBS_VALUE\": [\"mean\"]})\n",
        "country_means_data_series = pd.Series(\n",
        "            data = country_means_aggregate.values[:,0],\n",
        "            index = country_means_aggregate.index.values\n",
        "        )\n",
        "\n",
        "print(\n",
        "    \"The sorted (descending) data by index is \\n{}\".format(\n",
        "        country_means_data_series.sort_index(ascending = False)\n",
        "    )\n",
        ")"
      ],
      "metadata": {
        "id": "n8l7WSkALHNY",
        "outputId": "fbfccf49-feb7-46e5-da21-6a286f96098f",
        "colab": {
          "base_uri": "https://localhost:8080/"
        }
      },
      "execution_count": 12,
      "outputs": [
        {
          "output_type": "stream",
          "name": "stdout",
          "text": [
            "The sorted (descending) data by index is \n",
            "UK    7.442857\n",
            "TR    5.879687\n",
            "SK    6.810390\n",
            "SI    7.110811\n",
            "SE    7.852632\n",
            "RS    5.541558\n",
            "RO    7.352632\n",
            "PT    6.905333\n",
            "PL    7.551282\n",
            "NO    7.935897\n",
            "NL    7.751282\n",
            "MT    7.497333\n",
            "LV    6.638158\n",
            "LU    7.539726\n",
            "LT    6.534667\n",
            "IT    7.057143\n",
            "IS    7.895714\n",
            "IE    7.878947\n",
            "HU    6.366234\n",
            "HR    6.541096\n",
            "FR    7.242308\n",
            "FI    8.047368\n",
            "ES    7.280769\n",
            "EL    6.401282\n",
            "EE    6.688312\n",
            "DK    7.900000\n",
            "DE    7.282051\n",
            "CZ    7.045333\n",
            "CY    6.743590\n",
            "CH    7.890476\n",
            "BG    5.090667\n",
            "BE    7.556410\n",
            "AT    7.850649\n",
            "dtype: float64\n"
          ]
        }
      ]
    }
  ],
  "metadata": {
    "kernelspec": {
      "display_name": "Python 3",
      "language": "python",
      "name": "python3"
    },
    "language_info": {
      "codemirror_mode": {
        "name": "ipython",
        "version": 3
      },
      "file_extension": ".py",
      "mimetype": "text/x-python",
      "name": "python",
      "nbconvert_exporter": "python",
      "pygments_lexer": "ipython3",
      "version": "3.7.3"
    },
    "colab": {
      "name": "006_Grouping_and_Sorting.ipynb",
      "provenance": [],
      "collapsed_sections": []
    }
  },
  "nbformat": 4,
  "nbformat_minor": 0
}