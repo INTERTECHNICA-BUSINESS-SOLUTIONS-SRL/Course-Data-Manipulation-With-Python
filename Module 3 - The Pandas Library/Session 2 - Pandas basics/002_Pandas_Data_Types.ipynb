{
  "cells": [
    {
      "cell_type": "markdown",
      "metadata": {
        "id": "KDuU6OSWXKo4"
      },
      "source": [
        "![*INTERTECHNICA - SOLON EDUCATIONAL PROGRAMS - TECHNOLOGY LINE*](https://solon.intertechnica.com/assets/IntertechnicaSolonEducationalPrograms-TechnologyLine.png)"
      ]
    },
    {
      "cell_type": "markdown",
      "metadata": {
        "id": "OeBbVwSSXKo9"
      },
      "source": [
        "# Data Manipulation with Python - The Pandas Library - Pandas Data Types"
      ]
    },
    {
      "cell_type": "markdown",
      "metadata": {
        "id": "uUhqqWdPXKpA"
      },
      "source": [
        "*Basic initialization of the workspace.*"
      ]
    },
    {
      "cell_type": "code",
      "execution_count": 1,
      "metadata": {
        "colab": {
          "base_uri": "https://localhost:8080/"
        },
        "id": "AjAZRU7GXKpE",
        "outputId": "1196d389-fb06-4be9-fc38-bfa9396e8142"
      },
      "outputs": [
        {
          "output_type": "stream",
          "name": "stdout",
          "text": [
            "Requirement already satisfied: pandas in /usr/local/lib/python3.7/dist-packages (1.1.5)\n",
            "Requirement already satisfied: python-dateutil>=2.7.3 in /usr/local/lib/python3.7/dist-packages (from pandas) (2.8.2)\n",
            "Requirement already satisfied: pytz>=2017.2 in /usr/local/lib/python3.7/dist-packages (from pandas) (2018.9)\n",
            "Requirement already satisfied: numpy>=1.15.4 in /usr/local/lib/python3.7/dist-packages (from pandas) (1.19.5)\n",
            "Requirement already satisfied: six>=1.5 in /usr/local/lib/python3.7/dist-packages (from python-dateutil>=2.7.3->pandas) (1.15.0)\n",
            "Pandas installed at version: 1.1.5\n"
          ]
        }
      ],
      "source": [
        "!python -m pip install pandas\n",
        "import pandas as pd\n",
        "print (\"Pandas installed at version: {}\".format(pd.__version__))"
      ]
    },
    {
      "cell_type": "markdown",
      "metadata": {
        "id": "LlxTCVx0XKpJ"
      },
      "source": [
        "## 1. Pandas basic data types"
      ]
    },
    {
      "cell_type": "markdown",
      "metadata": {
        "id": "mAAQKFhCXKpL"
      },
      "source": [
        "The Pandas library supports all the basic data types supported by the NumPy library. Additionally it supports several data types extensions, especially in the area of datetime intervals."
      ]
    },
    {
      "cell_type": "markdown",
      "metadata": {
        "id": "DpV-7c29XKpM"
      },
      "source": [
        "The data type extensions supported by Pandas are the following:"
      ]
    },
    {
      "cell_type": "markdown",
      "metadata": {
        "id": "2hnk51I6XKpO"
      },
      "source": [
        "| Data type\t              | Description                                        | Scalar representation   | Data type code  |\n",
        "|-------------------------|----------------------------------------------------|--------------------------|-----------------|\n",
        "| ``DatetimeTZDtype``     | Timezone aware data time                       | Timestamp                 | datetime64\\[ns, \\<tz\\>\\]       |\n",
        "| ``Categorical``         | A data type dedicated to represent granular information      | Categorical | category    |\n",
        "| ``PeriodDtype``         | Date time periods (time spans)     | Period |period\\[\\<freq\\>\\]  Period\\[\\<freq\\>\\]    |\n",
        "| ``SparseDtype``         | Condensed representation of data      | N/A |Sparse Sparse\\[float\\] Sparse\\[int\\]    |\n",
        "| ``IntervalDtype``         | Representation of interval data (numeric, datetime, etc ...)      | Interval |interval Interval Interval\\[\\<numpy_dtype\\>\\] Interval\\[datetime64\\[ns, \\<tz\\>\\]\\] Interval[timedelta64[\\<freq\\>]]    |\n",
        "| ``Int64Dtype``         | Nullable integer data type (integer with null values) | N/A | Int8 Int16 Int32 Int64 UInt8 UInt16 UInt32 UInt64   |\n",
        "| ``String``         | Representation of text data | str | string   |\n",
        "| ``BooleanDtype``   | Nullable boolean data type (boolean with null values) | boolean | boolean   |"
      ]
    },
    {
      "cell_type": "markdown",
      "source": [
        "We will focus on exploring the most important use cases when working with basic data types.  "
      ],
      "metadata": {
        "id": "0nJ8UjHdyrsO"
      }
    },
    {
      "cell_type": "markdown",
      "source": [
        "### 1.1 Working with date time"
      ],
      "metadata": {
        "id": "6mhu-UR98sN9"
      }
    },
    {
      "cell_type": "markdown",
      "source": [
        "Handling of date and time is an important feature of any development platform. Pandas offers powerful mechanisms for specifying the datetime data and extracting its relevant properties.\n",
        " \n",
        "The fundamental class for handling date time is the [Timestamp](https://pandas.pydata.org/docs/reference/api/pandas.Timestamp.html) class:"
      ],
      "metadata": {
        "id": "iYiXLUi5M_JE"
      }
    },
    {
      "cell_type": "code",
      "source": [
        "# creating timestamp data and extracting its proprieties\n",
        "new_year_2022_date = \"2022-01-01\"\n",
        "\n",
        "timestamp = pd.Timestamp(new_year_2022_date);\n",
        "\n",
        "print(\n",
        "    \"The date {} is represented as timestamp value {}\".format(\n",
        "        new_year_2022_date,\n",
        "        timestamp\n",
        "    )\n",
        ")\n",
        "\n",
        "print(\n",
        "    \"The day associated with it is {} ({})\".format(\n",
        "        timestamp.day,\n",
        "        timestamp.day_name()\n",
        "    )\n",
        ")\n",
        "\n",
        "print(\n",
        "    \"The month associated with it is {} ({})\".format(\n",
        "        timestamp.month,\n",
        "        timestamp.month_name()\n",
        "    )\n",
        ")\n",
        "\n",
        "print(\n",
        "    \"The year associated with it is {}\".format(\n",
        "        timestamp.year\n",
        "    )\n",
        ")\n",
        "\n",
        "print(\n",
        "    \"The day in week and year vales are {} and {}\".format(\n",
        "        timestamp.dayofweek,\n",
        "        timestamp.dayofyear,\n",
        "    )\n",
        ")\n"
      ],
      "metadata": {
        "colab": {
          "base_uri": "https://localhost:8080/"
        },
        "id": "NoCWQDIYNSVr",
        "outputId": "1576cb38-fe9f-4b8d-e0f1-7965730a5bd3"
      },
      "execution_count": 2,
      "outputs": [
        {
          "output_type": "stream",
          "name": "stdout",
          "text": [
            "The date 2022-01-01 is represented as timestamp value 2022-01-01 00:00:00\n",
            "The day associated with it is 1 (Saturday)\n",
            "The month associated with it is 1 (January)\n",
            "The year associated with it is 2022\n",
            "The day in week and year vales are 5 and 1\n"
          ]
        }
      ]
    },
    {
      "cell_type": "markdown",
      "source": [
        "Pandas allows not only for creation of particular data values but also for the creation of time period ranges via the [period_range](https://pandas.pydata.org/docs/reference/api/pandas.period_range.html) function:"
      ],
      "metadata": {
        "id": "a_jklqY6jSll"
      }
    },
    {
      "cell_type": "code",
      "source": [
        "# creating a period range for 2022 with\n",
        "# a quarterly frequence\n",
        "end_year_2022_date = \"2022-12-31\"\n",
        "frequency = \"Q\"\n",
        "time_period_range = pd.period_range(\n",
        "    new_year_2022_date, \n",
        "    end_year_2022_date, \n",
        "    freq = frequency\n",
        "  )\n",
        "\n",
        "print(\n",
        "    \"The period range from {} to {} with a frequency of {} contains the elements \\n{}\".format(\n",
        "      new_year_2022_date, \n",
        "      end_year_2022_date, \n",
        "      frequency,\n",
        "      # convert the values to numpy array\n",
        "      time_period_range.values        \n",
        "    )\n",
        ")"
      ],
      "metadata": {
        "colab": {
          "base_uri": "https://localhost:8080/"
        },
        "id": "3gwtae38hwtq",
        "outputId": "57e4c5b4-4b83-4161-eabf-d09812657174"
      },
      "execution_count": 3,
      "outputs": [
        {
          "output_type": "stream",
          "name": "stdout",
          "text": [
            "The period range from 2022-01-01 to 2022-12-31 with a frequency of Q contains the elements \n",
            "[Period('2022Q1', 'Q-DEC') Period('2022Q2', 'Q-DEC')\n",
            " Period('2022Q3', 'Q-DEC') Period('2022Q4', 'Q-DEC')]\n"
          ]
        }
      ]
    },
    {
      "cell_type": "markdown",
      "source": [
        "Pandas has excellent support as well for modifying datetime data. Datetime modifications can be done via the [DateOffset](https://pandas.pydata.org/docs/reference/api/pandas.tseries.offsets.DateOffset.html) class, adding time units such as months, days and hours:"
      ],
      "metadata": {
        "id": "8jEAWLKu0iGA"
      }
    },
    {
      "cell_type": "code",
      "source": [
        "# create a sample date offset\n",
        "offset = pd.DateOffset(\n",
        "    years = 1,\n",
        "    months = 1,\n",
        "    days = 1,\n",
        "    hours = 1,\n",
        "    minutes = 1\n",
        ")\n",
        "\n",
        "# change the timestamp with the specified date offset\n",
        "new_timestamp = timestamp + offset\n",
        "\n",
        "print(\"The timestamp {} changed with {} is {}\".format(\n",
        "    timestamp,\n",
        "    offset,\n",
        "    new_timestamp\n",
        "))"
      ],
      "metadata": {
        "colab": {
          "base_uri": "https://localhost:8080/"
        },
        "id": "6HF9dkkt0hXf",
        "outputId": "ac0d897e-f530-482a-b0c1-f6af846ff10a"
      },
      "execution_count": 4,
      "outputs": [
        {
          "output_type": "stream",
          "name": "stdout",
          "text": [
            "The timestamp 2022-01-01 00:00:00 changed with <DateOffset: days=1, hours=1, minutes=1, months=1, years=1> is 2023-02-02 01:01:00\n"
          ]
        }
      ]
    },
    {
      "cell_type": "markdown",
      "source": [
        "### 1.2 Working with categorical data"
      ],
      "metadata": {
        "id": "q-1ER-mhT2JR"
      }
    },
    {
      "cell_type": "markdown",
      "source": [
        "Categorical data ensures encoding of data with a relatively fewer discrete values into a representation that is efficient both for storage and also for data analysis. The fundamental class for handling categorical data is [Categorical](https://pandas.pydata.org/docs/reference/api/pandas.Categorical.html):"
      ],
      "metadata": {
        "id": "l7vSnbXeVSqw"
      }
    },
    {
      "cell_type": "code",
      "source": [
        "# creating categorical data and extracting the associated categories and codes\n",
        "categorical_data_raw = [\"One\", \"Two\", \"Three\", \"Two\", \"Four\", \"One\"]\n",
        "categorical_data = pd.Categorical(categorical_data_raw)\n",
        "\n",
        "print(\n",
        "    \"The categorical data \\n{}\\n has been encoded in the categories \\\n",
        "     \\n{}\\n with the following codes \\n{}\\n\".format(\n",
        "      categorical_data_raw,\n",
        "      categorical_data.categories.values,\n",
        "      categorical_data.codes\n",
        "    )    \n",
        ")"
      ],
      "metadata": {
        "colab": {
          "base_uri": "https://localhost:8080/"
        },
        "id": "iX7WR6QkT6bh",
        "outputId": "dd4229fd-8cd4-440a-a915-8c1f76bee290"
      },
      "execution_count": 5,
      "outputs": [
        {
          "output_type": "stream",
          "name": "stdout",
          "text": [
            "The categorical data \n",
            "['One', 'Two', 'Three', 'Two', 'Four', 'One']\n",
            " has been encoded in the categories      \n",
            "['Four' 'One' 'Three' 'Two']\n",
            " with the following codes \n",
            "[1 3 2 3 0 1]\n",
            "\n"
          ]
        }
      ]
    },
    {
      "cell_type": "markdown",
      "source": [
        "### 1.3 Working with interval data"
      ],
      "metadata": {
        "id": "QP0t5QPMsRaV"
      }
    },
    {
      "cell_type": "markdown",
      "source": [
        "Pandas allows the creation of open and closed intervals considering interval limits and incrementing units. The class allowing the interval data is the [Interval](https://pandas.pydata.org/docs/reference/api/pandas.Interval.html). Interval data can be used to verify if a scalar value belongs to an interval or if some intervals are overlaping eachother:"
      ],
      "metadata": {
        "id": "8Jctzh-pHdy7"
      }
    },
    {
      "cell_type": "code",
      "source": [
        "# define numeric intervals \n",
        "numeric_interval_1 = pd.Interval(\n",
        "    left = 0,\n",
        "    right = 10,\n",
        "    closed = \"right\"\n",
        ")\n",
        "\n",
        "numeric_interval_2 = pd.Interval(\n",
        "    left = 10,\n",
        "    right = 20,\n",
        "    closed = \"right\"\n",
        ")\n",
        "\n",
        "# check scalar value appartenence\n",
        "scalar_value = 10\n",
        "\n",
        "print(\n",
        "    \"The scalar {} {} to interval {}\".format(\n",
        "          scalar_value,\n",
        "         \"belongs\" if (scalar_value in numeric_interval_1) \n",
        "          else \"does not belong\",\n",
        "        numeric_interval_1\n",
        "    )\n",
        ")\n",
        "\n",
        "print(\n",
        "    \"The scalar {} {} to interval {}\".format(\n",
        "          scalar_value,\n",
        "         \"belongs\" if (scalar_value in numeric_interval_2) \n",
        "          else \"does not belong\",\n",
        "        numeric_interval_2\n",
        "    )\n",
        ")\n",
        "\n",
        "# check interval range\n",
        "print(\n",
        "    \"The intervals {} and {} {}.\".format(\n",
        "        numeric_interval_1,\n",
        "        numeric_interval_2,\n",
        "        \"overlap\" if (numeric_interval_1.overlaps(numeric_interval_2)) \n",
        "          else \"do not overlap\"\n",
        "\n",
        "    )\n",
        ")\n"
      ],
      "metadata": {
        "colab": {
          "base_uri": "https://localhost:8080/"
        },
        "id": "facvGEMcIfFB",
        "outputId": "8224f8d5-c599-419a-f2a6-e2298b3fa464"
      },
      "execution_count": 6,
      "outputs": [
        {
          "output_type": "stream",
          "name": "stdout",
          "text": [
            "The scalar 10 belongs to interval (0, 10]\n",
            "The scalar 10 does not belong to interval (10, 20]\n",
            "The intervals (0, 10] and (10, 20] do not overlap.\n"
          ]
        }
      ]
    },
    {
      "cell_type": "markdown",
      "source": [
        "The interval data specification can be used to generate data ranges as well:"
      ],
      "metadata": {
        "id": "4cf_HXeET0jx"
      }
    },
    {
      "cell_type": "code",
      "source": [
        "# create the range data based on interval specification\n",
        "left_limit = numeric_interval_1.left if numeric_interval_1.closed_left \\\n",
        "                                     else numeric_interval_1.left + 1\n",
        "\n",
        "right_limit = numeric_interval_1.right + 1 if numeric_interval_1.closed_right \\\n",
        "                                     else numeric_interval_1.right + 1\n",
        "\n",
        "# generate a data range based on these intervals\n",
        "import numpy as np\n",
        "print(\n",
        "    \"The integers in the interval \\n{}\\n are \\n{}\\n\".format(\n",
        "        numeric_interval_1,\n",
        "        np.arange(left_limit, right_limit)\n",
        "    )\n",
        ")"
      ],
      "metadata": {
        "colab": {
          "base_uri": "https://localhost:8080/"
        },
        "id": "I5mA5IG7TnqN",
        "outputId": "ce2796c6-b5e8-4f3b-fec6-076dcacf5e74"
      },
      "execution_count": 7,
      "outputs": [
        {
          "output_type": "stream",
          "name": "stdout",
          "text": [
            "The integers in the interval \n",
            "(0, 10]\n",
            " are \n",
            "[ 1  2  3  4  5  6  7  8  9 10]\n",
            "\n"
          ]
        }
      ]
    }
  ],
  "metadata": {
    "kernelspec": {
      "display_name": "Python 3",
      "language": "python",
      "name": "python3"
    },
    "language_info": {
      "codemirror_mode": {
        "name": "ipython",
        "version": 3
      },
      "file_extension": ".py",
      "mimetype": "text/x-python",
      "name": "python",
      "nbconvert_exporter": "python",
      "pygments_lexer": "ipython3",
      "version": "3.7.3"
    },
    "colab": {
      "name": "002_Pandas_Data_Types.ipynb",
      "provenance": [],
      "collapsed_sections": []
    }
  },
  "nbformat": 4,
  "nbformat_minor": 0
}