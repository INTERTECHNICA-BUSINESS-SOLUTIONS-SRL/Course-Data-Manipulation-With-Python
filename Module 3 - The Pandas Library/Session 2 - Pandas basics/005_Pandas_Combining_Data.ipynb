{
  "cells": [
    {
      "cell_type": "markdown",
      "metadata": {
        "id": "KDuU6OSWXKo4"
      },
      "source": [
        "![*INTERTECHNICA - SOLON EDUCATIONAL PROGRAMS - TECHNOLOGY LINE*](https://solon.intertechnica.com/assets/IntertechnicaSolonEducationalPrograms-TechnologyLine.png)"
      ]
    },
    {
      "cell_type": "markdown",
      "metadata": {
        "id": "OeBbVwSSXKo9"
      },
      "source": [
        "# Data Manipulation with Python - The Pandas Library - Combining Data"
      ]
    },
    {
      "cell_type": "markdown",
      "metadata": {
        "id": "uUhqqWdPXKpA"
      },
      "source": [
        "*Basic initialization of the workspace.*"
      ]
    },
    {
      "cell_type": "code",
      "source": [
        "!python -m pip install numpy\n",
        "import numpy as np\n",
        "print (\"NumPy installed at version: {}\".format(np.__version__))"
      ],
      "metadata": {
        "colab": {
          "base_uri": "https://localhost:8080/"
        },
        "id": "OJzCFKioH6UR",
        "outputId": "5e9dd7c0-086a-4341-e9bf-d9d8a4080e69"
      },
      "execution_count": null,
      "outputs": [
        {
          "output_type": "stream",
          "name": "stdout",
          "text": [
            "Requirement already satisfied: numpy in /usr/local/lib/python3.7/dist-packages (1.19.5)\n",
            "NumPy installed at version: 1.19.5\n"
          ]
        }
      ]
    },
    {
      "cell_type": "code",
      "execution_count": null,
      "metadata": {
        "colab": {
          "base_uri": "https://localhost:8080/"
        },
        "id": "AjAZRU7GXKpE",
        "outputId": "7702653c-d1ed-43c3-f883-b4a0100c038b"
      },
      "outputs": [
        {
          "output_type": "stream",
          "name": "stdout",
          "text": [
            "Requirement already satisfied: pandas in /usr/local/lib/python3.7/dist-packages (1.1.5)\n",
            "Requirement already satisfied: pytz>=2017.2 in /usr/local/lib/python3.7/dist-packages (from pandas) (2018.9)\n",
            "Requirement already satisfied: numpy>=1.15.4 in /usr/local/lib/python3.7/dist-packages (from pandas) (1.19.5)\n",
            "Requirement already satisfied: python-dateutil>=2.7.3 in /usr/local/lib/python3.7/dist-packages (from pandas) (2.8.2)\n",
            "Requirement already satisfied: six>=1.5 in /usr/local/lib/python3.7/dist-packages (from python-dateutil>=2.7.3->pandas) (1.15.0)\n",
            "Pandas installed at version: 1.1.5\n"
          ]
        }
      ],
      "source": [
        "!python -m pip install pandas\n",
        "import pandas as pd\n",
        "print (\"Pandas installed at version: {}\".format(pd.__version__))\n",
        "\n",
        "#adjust pandas DataFrame display for a wider target \n",
        "pd.set_option('display.expand_frame_repr', False)"
      ]
    },
    {
      "cell_type": "markdown",
      "source": [
        "Load sample data for processing:"
      ],
      "metadata": {
        "id": "WoSU6abCESv6"
      }
    },
    {
      "cell_type": "code",
      "source": [
        "# load science and technology data frame\n",
        "science_and_technology_data_frame = pd.read_csv(\n",
        "    \"https://github.com/INTERTECHNICA-BUSINESS-SOLUTIONS-SRL/CourseDataManipulationWithPython/raw/main/Module%203%20-%20The%20Pandas%20Library/Session%202%20-%20Pandas%20basics/data/RO_Science_And_Technology.csv\",\n",
        " )\n",
        "print(\n",
        "   \"Loaded science and technology data frame with shape {}\".format(\n",
        "       science_and_technology_data_frame.shape\n",
        "   ) \n",
        ")"
      ],
      "metadata": {
        "id": "yxQNVd_YTSJJ",
        "colab": {
          "base_uri": "https://localhost:8080/"
        },
        "outputId": "372f5a50-976b-4cd0-add6-a6af4ce1a493"
      },
      "execution_count": null,
      "outputs": [
        {
          "output_type": "stream",
          "name": "stdout",
          "text": [
            "Loaded science and technology data frame with shape (415, 6)\n"
          ]
        }
      ]
    },
    {
      "cell_type": "code",
      "source": [
        "# load poverty data frame\n",
        "poverty_data_frame = pd.read_csv(\n",
        "    \"https://github.com/INTERTECHNICA-BUSINESS-SOLUTIONS-SRL/CourseDataManipulationWithPython/raw/main/Module%203%20-%20The%20Pandas%20Library/Session%202%20-%20Pandas%20basics/data/RO_Poverty.csv\",\n",
        " )\n",
        "print(\n",
        "   \"Loaded poverty data frame with shape {}\".format(\n",
        "       poverty_data_frame.shape\n",
        "   ) \n",
        ")"
      ],
      "metadata": {
        "colab": {
          "base_uri": "https://localhost:8080/"
        },
        "id": "-XtRG3c0EjI2",
        "outputId": "8638fcf1-00e9-48f0-bea3-9fee52b280dc"
      },
      "execution_count": null,
      "outputs": [
        {
          "output_type": "stream",
          "name": "stdout",
          "text": [
            "Loaded poverty data frame with shape (262, 6)\n"
          ]
        }
      ]
    },
    {
      "cell_type": "code",
      "source": [
        "# load education data frame\n",
        "education_data_frame = pd.read_csv(\n",
        "    \"https://github.com/INTERTECHNICA-BUSINESS-SOLUTIONS-SRL/CourseDataManipulationWithPython/raw/main/Module%203%20-%20The%20Pandas%20Library/Session%202%20-%20Pandas%20basics/data/RO_Education.csv\",\n",
        " )\n",
        "print(\n",
        "   \"Loaded science and technology data frame with shape {}\".format(\n",
        "       education_data_frame.shape\n",
        "   ) \n",
        ")"
      ],
      "metadata": {
        "colab": {
          "base_uri": "https://localhost:8080/"
        },
        "outputId": "1fd05d53-ea58-4000-fad9-615e645b005c",
        "id": "ehWjzsRKFUtf"
      },
      "execution_count": null,
      "outputs": [
        {
          "output_type": "stream",
          "name": "stdout",
          "text": [
            "Loaded science and technology data frame with shape (13485, 6)\n"
          ]
        }
      ]
    },
    {
      "cell_type": "markdown",
      "metadata": {
        "id": "LlxTCVx0XKpJ"
      },
      "source": [
        "## 1. Data Preparation"
      ]
    },
    {
      "cell_type": "markdown",
      "source": [
        "The loaded sample data frame has a series of indicators and values encoded in the data frame rows. We can create dedicated data frames that hold the indicators and values on the columns.  "
      ],
      "metadata": {
        "id": "DwQTc3Cj9xTH"
      }
    },
    {
      "cell_type": "markdown",
      "source": [
        "### 1.1 Adding additional columns to a data frame"
      ],
      "metadata": {
        "id": "qdrenwrnFx8g"
      }
    },
    {
      "cell_type": "markdown",
      "source": [
        "Additional columns to a dataframe can be simply done by referring the new column by name and setting its data:"
      ],
      "metadata": {
        "id": "fe4hqZXMF7XW"
      }
    },
    {
      "cell_type": "code",
      "source": [
        "# adding encoding for science and technology data frame\n",
        "science_and_technology_data_frame[\"Topic\"] = \"Science&Technology\"\n",
        "\n",
        "print(\n",
        "    \"Sample encoded records for science and technology data \\n{}\".format(\n",
        "      science_and_technology_data_frame.iloc[0:10]\n",
        "    )\n",
        "  )"
      ],
      "metadata": {
        "colab": {
          "base_uri": "https://localhost:8080/"
        },
        "id": "KbgjuFbTFn4s",
        "outputId": "69ecd1bb-82d1-4af1-84a2-618aa50e20a8"
      },
      "execution_count": null,
      "outputs": [
        {
          "output_type": "stream",
          "name": "stdout",
          "text": [
            "Sample encoded records for science and technology data \n",
            "  Country Name Country ISO3  Year                                     Indicator Name  Indicator Code        Value               Topic\n",
            "0      Romania          ROU  2020  Charges for the use of intellectual property, ...  BM.GSR.ROYL.CD  886842442.5  Science&Technology\n",
            "1      Romania          ROU  2019  Charges for the use of intellectual property, ...  BM.GSR.ROYL.CD  936735170.4  Science&Technology\n",
            "2      Romania          ROU  2018  Charges for the use of intellectual property, ...  BM.GSR.ROYL.CD  962384646.5  Science&Technology\n",
            "3      Romania          ROU  2017  Charges for the use of intellectual property, ...  BM.GSR.ROYL.CD  911037524.1  Science&Technology\n",
            "4      Romania          ROU  2016  Charges for the use of intellectual property, ...  BM.GSR.ROYL.CD  832020078.0  Science&Technology\n",
            "5      Romania          ROU  2015  Charges for the use of intellectual property, ...  BM.GSR.ROYL.CD  834447967.1  Science&Technology\n",
            "6      Romania          ROU  2014  Charges for the use of intellectual property, ...  BM.GSR.ROYL.CD  901296183.0  Science&Technology\n",
            "7      Romania          ROU  2013  Charges for the use of intellectual property, ...  BM.GSR.ROYL.CD  879803422.6  Science&Technology\n",
            "8      Romania          ROU  2012  Charges for the use of intellectual property, ...  BM.GSR.ROYL.CD  452525195.7  Science&Technology\n",
            "9      Romania          ROU  2011  Charges for the use of intellectual property, ...  BM.GSR.ROYL.CD  482416189.5  Science&Technology\n"
          ]
        }
      ]
    },
    {
      "cell_type": "code",
      "source": [
        "# adding encoding for poverty frame\n",
        "poverty_data_frame[\"Topic\"] = \"Poverty\"\n",
        "\n",
        "print(\n",
        "    \"Sample encoded records for poverty data \\n{}\".format(\n",
        "      poverty_data_frame.iloc[0:10]\n",
        "    )\n",
        "  )"
      ],
      "metadata": {
        "colab": {
          "base_uri": "https://localhost:8080/"
        },
        "outputId": "40780dcc-0d85-4079-d13b-a314659ac5f4",
        "id": "c5AqheLHG29S"
      },
      "execution_count": null,
      "outputs": [
        {
          "output_type": "stream",
          "name": "stdout",
          "text": [
            "Sample encoded records for poverty data \n",
            "  Country Name Country ISO3  Year                                     Indicator Name     Indicator Code  Value    Topic\n",
            "0      Romania          ROU  2018  Population living in slums (% of urban populat...  EN.POP.SLUM.UR.ZS   12.1  Poverty\n",
            "1      Romania          ROU  2016  Population living in slums (% of urban populat...  EN.POP.SLUM.UR.ZS   14.4  Poverty\n",
            "2      Romania          ROU  2018                    Income share held by second 20%     SI.DST.02ND.20   11.9  Poverty\n",
            "3      Romania          ROU  2017                    Income share held by second 20%     SI.DST.02ND.20   11.7  Poverty\n",
            "4      Romania          ROU  2016                    Income share held by second 20%     SI.DST.02ND.20   12.1  Poverty\n",
            "5      Romania          ROU  2015                    Income share held by second 20%     SI.DST.02ND.20   11.8  Poverty\n",
            "6      Romania          ROU  2014                    Income share held by second 20%     SI.DST.02ND.20   11.9  Poverty\n",
            "7      Romania          ROU  2013                    Income share held by second 20%     SI.DST.02ND.20   11.4  Poverty\n",
            "8      Romania          ROU  2012                    Income share held by second 20%     SI.DST.02ND.20   11.5  Poverty\n",
            "9      Romania          ROU  2011                    Income share held by second 20%     SI.DST.02ND.20   11.6  Poverty\n"
          ]
        }
      ]
    },
    {
      "cell_type": "code",
      "source": [
        "# adding encoding for science and technology data frame\n",
        "education_data_frame[\"Topic\"] = \"Education\"\n",
        "\n",
        "print(\n",
        "    \"Sample encoded records for education data \\n{}\".format(\n",
        "      education_data_frame.iloc[0:10]\n",
        "    )\n",
        "  )"
      ],
      "metadata": {
        "colab": {
          "base_uri": "https://localhost:8080/"
        },
        "outputId": "3eb83c69-acc7-41a6-cc25-a2dc22cd0767",
        "id": "aZiUmspIHEsg"
      },
      "execution_count": null,
      "outputs": [
        {
          "output_type": "stream",
          "name": "stdout",
          "text": [
            "Sample encoded records for education data \n",
            "  Country Name Country ISO3  Year                                     Indicator Name       Indicator Code  Value      Topic\n",
            "0      Romania          ROU  2010  Barro-Lee: Percentage of female population age...  BAR.NOED.1519.FE.ZS   0.88  Education\n",
            "1      Romania          ROU  2005  Barro-Lee: Percentage of female population age...  BAR.NOED.1519.FE.ZS   0.63  Education\n",
            "2      Romania          ROU  2000  Barro-Lee: Percentage of female population age...  BAR.NOED.1519.FE.ZS   2.24  Education\n",
            "3      Romania          ROU  1995  Barro-Lee: Percentage of female population age...  BAR.NOED.1519.FE.ZS   6.02  Education\n",
            "4      Romania          ROU  1990  Barro-Lee: Percentage of female population age...  BAR.NOED.1519.FE.ZS   1.30  Education\n",
            "5      Romania          ROU  2010  Barro-Lee: Percentage of population age 15-19 ...     BAR.NOED.1519.ZS   0.97  Education\n",
            "6      Romania          ROU  2005  Barro-Lee: Percentage of population age 15-19 ...     BAR.NOED.1519.ZS   0.48  Education\n",
            "7      Romania          ROU  2000  Barro-Lee: Percentage of population age 15-19 ...     BAR.NOED.1519.ZS   2.30  Education\n",
            "8      Romania          ROU  1995  Barro-Lee: Percentage of population age 15-19 ...     BAR.NOED.1519.ZS   5.67  Education\n",
            "9      Romania          ROU  1990  Barro-Lee: Percentage of population age 15-19 ...     BAR.NOED.1519.ZS   1.30  Education\n"
          ]
        }
      ]
    },
    {
      "cell_type": "markdown",
      "source": [
        "### 1.2 Concatenating data frames"
      ],
      "metadata": {
        "id": "fS5484OUHYwh"
      }
    },
    {
      "cell_type": "markdown",
      "source": [
        "We would like to consolidate all the data in the loaded data frames into a single data frame - used as a single source for data processing. This means we would like to join all the rows from the dataframes into a single data frame.\n",
        "\n",
        "This can be done via the [**concat**](https://pandas.pydata.org/docs/reference/api/pandas.concat.html) function from Pandas, making also sure that the axis is set to 0 (rows):"
      ],
      "metadata": {
        "id": "nwq6wCWjTKm-"
      }
    },
    {
      "cell_type": "code",
      "source": [
        "# consolidate the data in a single data frame\n",
        "# we made sure that all the source data frames \n",
        "# have the same structure\n",
        "consolidated_data_frame = pd.concat(\n",
        "    [science_and_technology_data_frame, poverty_data_frame, education_data_frame],\n",
        "    axis = 0 \n",
        ")\n",
        "\n",
        "print(\n",
        "    \"The consolidated data frame has the shape {}\".format(\n",
        "        consolidated_data_frame.shape\n",
        "    )\n",
        "  )\n",
        "\n",
        "# ensure we have all topics in the consolidated data frame\n",
        "consolidated_topics = set(consolidated_data_frame[\"Topic\"])\n",
        "\n",
        "print(\n",
        "    \"The consolidated data frame has the topics {}\".format(\n",
        "        consolidated_topics\n",
        "    )\n",
        "  )"
      ],
      "metadata": {
        "colab": {
          "base_uri": "https://localhost:8080/"
        },
        "id": "JyLpKtP3Htzq",
        "outputId": "9f5bb35b-2959-4e70-a98f-fdafffc87cf8"
      },
      "execution_count": null,
      "outputs": [
        {
          "output_type": "stream",
          "name": "stdout",
          "text": [
            "The consolidated data frame has the shape (14162, 7)\n",
            "The consolidated data frame has the topics {'Science&Technology', 'Poverty', 'Education'}\n"
          ]
        }
      ]
    },
    {
      "cell_type": "markdown",
      "source": [
        "Supposing that we would like to perform a data exploration on the connections between the number of technicians and number of researchers in the topic of science and technology - we would like to create several data frames where data is stored meaningfully:"
      ],
      "metadata": {
        "id": "dVl2W0ayHuJS"
      }
    },
    {
      "cell_type": "code",
      "source": [
        "# extract researchers information\n",
        "researchers_data = consolidated_data_frame[consolidated_data_frame[\"Indicator Name\"] == \"Researchers in R&D (per million people)\"]\n",
        "\n",
        "researchers_data_frame = pd.DataFrame(\n",
        "    data = {\n",
        "        \"Year\" : pd.Series(data = researchers_data[\"Year\"].values, dtype=np.dtype(\"i8\")),\n",
        "        \"Researchers per mil. people\": pd.Series(data = researchers_data[\"Value\"].values, dtype=np.dtype(\"f16\"))\n",
        "      } \n",
        "   )\n",
        "\n",
        "print(\n",
        "    \"Extracted researches data with shape {}\".format(\n",
        "        researchers_data_frame.shape\n",
        "    )\n",
        "  )"
      ],
      "metadata": {
        "colab": {
          "base_uri": "https://localhost:8080/"
        },
        "id": "qHb17MjWKe0V",
        "outputId": "2d79d7fb-e9e9-4734-837e-4e74d846f3fd"
      },
      "execution_count": null,
      "outputs": [
        {
          "output_type": "stream",
          "name": "stdout",
          "text": [
            "Extracted researches data with shape (23, 2)\n"
          ]
        }
      ]
    },
    {
      "cell_type": "code",
      "source": [
        "# extract technicians information\n",
        "technicians_data = consolidated_data_frame[consolidated_data_frame[\"Indicator Name\"] == \"Technicians in R&D (per million people)\"]\n",
        "\n",
        "technicians_data_frame = pd.DataFrame(\n",
        "    data = {\n",
        "        \"Year\" : pd.Series(data = technicians_data[\"Year\"].values, dtype=np.dtype(\"i8\")),\n",
        "        \"Technicians per mil. people\": pd.Series(data = technicians_data[\"Value\"].values, dtype=np.dtype(\"f16\"))\n",
        "      } \n",
        "   )\n",
        "\n",
        "print(\n",
        "    \"Extracted technicians data frame with shape {}\".format(\n",
        "        technicians_data_frame.shape\n",
        "    )\n",
        "  )"
      ],
      "metadata": {
        "colab": {
          "base_uri": "https://localhost:8080/"
        },
        "id": "e4uhyD90NAVu",
        "outputId": "2063dc2c-99f3-4e0a-898c-6c2b96948da7"
      },
      "execution_count": null,
      "outputs": [
        {
          "output_type": "stream",
          "name": "stdout",
          "text": [
            "Extracted technicians data frame with shape (22, 2)\n"
          ]
        }
      ]
    },
    {
      "cell_type": "markdown",
      "source": [
        "We would like to create a data frame that contains both the informations about researchers and technicians.\n",
        "\n",
        "This can be done by the [**merge**](https://pandas.pydata.org/docs/reference/api/pandas.merge.html) function which matches the records by a specified key (default: the index value). It also performs the following retention of data (join type):\n",
        "\n",
        "*  **inner** - keeps the records that match in both data frames;\n",
        "*  **outer** - keeps the records from both data frames;\n",
        "*  **left** - drops the records that do not match in the right hand operator data frame;\n",
        "* **right** - drops the records that do not match in the left hand operator data frame.  \n",
        "\n",
        "It can be used as follows:"
      ],
      "metadata": {
        "id": "f5nueVfEOEv6"
      }
    },
    {
      "cell_type": "code",
      "source": [
        "# perform an outer join between researchers and technicians data frames\n",
        "education_outer_join = pd.merge(\n",
        "    researchers_data_frame, #left hand operand\n",
        "    technicians_data_frame, #right hand operand\n",
        "    on = \"Year\", #join key\n",
        "    how = \"outer\" #join method\n",
        "  )\n",
        "\n",
        "print(\n",
        "    \"The education data in outer join mode is \\n{}\\n\".format(\n",
        "      education_outer_join  \n",
        "    )\n",
        ")\n",
        "\n",
        "# there are no matching records for technicians information\n",
        "# so data has been set to NaN (not a number constant)\n",
        "# we would like to find out where data is missing \n",
        "no_data_records = education_outer_join[\n",
        "  np.isnan(education_outer_join[\"Technicians per mil. people\"])\n",
        "]  \n",
        " \n",
        "print(\n",
        "    \"The records with no information are \\n {}\".format(\n",
        "      no_data_records\n",
        "    )\n",
        ")"
      ],
      "metadata": {
        "colab": {
          "base_uri": "https://localhost:8080/"
        },
        "id": "gqjGF9ffPWNH",
        "outputId": "0875394d-1216-441c-e111-1d45ebc88c28"
      },
      "execution_count": null,
      "outputs": [
        {
          "output_type": "stream",
          "name": "stdout",
          "text": [
            "The education data in outer join mode is \n",
            "    Year  Researchers per mil. people  Technicians per mil. people\n",
            "0   2018                    882.44127                          NaN\n",
            "1   2017                    891.32124                    278.82409\n",
            "2   2016                    911.58518                    275.35469\n",
            "3   2015                    876.22819                    267.40041\n",
            "4   2014                    903.82628                    225.09562\n",
            "5   2013                    922.67455                    248.00355\n",
            "6   2012                    890.67001                    251.88520\n",
            "7   2011                    790.68805                    252.35144\n",
            "8   2010                    966.20415                    153.33240\n",
            "9   2009                    933.76337                    193.38123\n",
            "10  2008                    931.08256                    221.80063\n",
            "11  2007                    894.16331                    207.32912\n",
            "12  2006                    895.76749                    211.73285\n",
            "13  2005                   1071.93762                    233.36285\n",
            "14  2004                    985.12899                    256.04919\n",
            "15  2003                    965.22132                    250.17947\n",
            "16  2002                    928.28200                    294.50966\n",
            "17  2001                    897.07063                    270.67649\n",
            "18  2000                    924.94974                    292.80740\n",
            "19  1999                   1052.68941                    396.58043\n",
            "20  1998                   1223.78928                    512.36773\n",
            "21  1997                   1255.91913                    535.12730\n",
            "22  1996                   1328.74659                    607.61118\n",
            "\n",
            "The records with no information are \n",
            "    Year  Researchers per mil. people  Technicians per mil. people\n",
            "0  2018                    882.44127                          NaN\n"
          ]
        }
      ]
    },
    {
      "cell_type": "markdown",
      "source": [
        "Supposing we would like to retain data where information is present in both data frames, we would use the **inner** join model (even if this leads to loss of information):"
      ],
      "metadata": {
        "id": "uMKyeMtQRFPE"
      }
    },
    {
      "cell_type": "code",
      "source": [
        "# perform an inner join between researchers and technicians data frames\n",
        "education_inner_join = pd.merge(\n",
        "    researchers_data_frame, #left hand operand\n",
        "    technicians_data_frame, #right hand operand\n",
        "    on = \"Year\", #join key\n",
        "    how = \"inner\" #join method\n",
        "  )\n",
        "\n",
        "print(\n",
        "    \"The education data in inner join mode is \\n{}\".format(\n",
        "      education_inner_join  \n",
        "    )\n",
        ")"
      ],
      "metadata": {
        "colab": {
          "base_uri": "https://localhost:8080/"
        },
        "id": "ObsU7hlNQ23f",
        "outputId": "9f8f257d-521d-47b8-d749-936b65b17991"
      },
      "execution_count": null,
      "outputs": [
        {
          "output_type": "stream",
          "name": "stdout",
          "text": [
            "The education data in inner join mode is \n",
            "    Year  Researchers per mil. people  Technicians per mil. people\n",
            "0   2017                    891.32124                    278.82409\n",
            "1   2016                    911.58518                    275.35469\n",
            "2   2015                    876.22819                    267.40041\n",
            "3   2014                    903.82628                    225.09562\n",
            "4   2013                    922.67455                    248.00355\n",
            "5   2012                    890.67001                    251.88520\n",
            "6   2011                    790.68805                    252.35144\n",
            "7   2010                    966.20415                    153.33240\n",
            "8   2009                    933.76337                    193.38123\n",
            "9   2008                    931.08256                    221.80063\n",
            "10  2007                    894.16331                    207.32912\n",
            "11  2006                    895.76749                    211.73285\n",
            "12  2005                   1071.93762                    233.36285\n",
            "13  2004                    985.12899                    256.04919\n",
            "14  2003                    965.22132                    250.17947\n",
            "15  2002                    928.28200                    294.50966\n",
            "16  2001                    897.07063                    270.67649\n",
            "17  2000                    924.94974                    292.80740\n",
            "18  1999                   1052.68941                    396.58043\n",
            "19  1998                   1223.78928                    512.36773\n",
            "20  1997                   1255.91913                    535.12730\n",
            "21  1996                   1328.74659                    607.61118\n"
          ]
        }
      ]
    },
    {
      "cell_type": "markdown",
      "source": [
        "Since we now made sure we have no missing data, we can enhance our information by adding the ratio of technicians to researchers:"
      ],
      "metadata": {
        "id": "FlWwoXjPR9tS"
      }
    },
    {
      "cell_type": "code",
      "source": [
        "# perform an inner join between researchers and technicians data frames\n",
        "education_inner_join[\"Technicians to Researchers Ratio\"] = \\\n",
        " education_inner_join[\"Technicians per mil. people\"] / education_inner_join[\"Researchers per mil. people\"]; \n",
        "\n",
        "print(\n",
        "    \"Education enhanced data sample is \\n{}\".format(\n",
        "      education_inner_join.iloc[0:10]  \n",
        "    )\n",
        ")"
      ],
      "metadata": {
        "colab": {
          "base_uri": "https://localhost:8080/"
        },
        "id": "i8MOCvosScpH",
        "outputId": "95bbb418-d59a-48d6-924d-a1aa2eb0fcb3"
      },
      "execution_count": null,
      "outputs": [
        {
          "output_type": "stream",
          "name": "stdout",
          "text": [
            "Education enhanced data sample is \n",
            "   Year  Researchers per mil. people  Technicians per mil. people  Technicians to Researchers Ratio\n",
            "0  2017                    891.32124                    278.82409                          0.312821\n",
            "1  2016                    911.58518                    275.35469                          0.302061\n",
            "2  2015                    876.22819                    267.40041                          0.305172\n",
            "3  2014                    903.82628                    225.09562                          0.249047\n",
            "4  2013                    922.67455                    248.00355                          0.268788\n",
            "5  2012                    890.67001                    251.88520                          0.282804\n",
            "6  2011                    790.68805                    252.35144                          0.319154\n",
            "7  2010                    966.20415                    153.33240                          0.158696\n",
            "8  2009                    933.76337                    193.38123                          0.207099\n",
            "9  2008                    931.08256                    221.80063                          0.238218\n"
          ]
        }
      ]
    }
  ],
  "metadata": {
    "kernelspec": {
      "display_name": "Python 3",
      "language": "python",
      "name": "python3"
    },
    "language_info": {
      "codemirror_mode": {
        "name": "ipython",
        "version": 3
      },
      "file_extension": ".py",
      "mimetype": "text/x-python",
      "name": "python",
      "nbconvert_exporter": "python",
      "pygments_lexer": "ipython3",
      "version": "3.7.3"
    },
    "colab": {
      "name": "005_Combining_Data.ipynb",
      "provenance": [],
      "collapsed_sections": []
    }
  },
  "nbformat": 4,
  "nbformat_minor": 0
}