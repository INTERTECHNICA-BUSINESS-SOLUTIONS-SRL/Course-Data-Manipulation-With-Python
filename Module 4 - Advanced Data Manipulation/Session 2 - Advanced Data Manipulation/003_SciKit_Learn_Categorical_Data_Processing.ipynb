{
  "cells": [
    {
      "cell_type": "markdown",
      "metadata": {
        "id": "KDuU6OSWXKo4"
      },
      "source": [
        "![*INTERTECHNICA - SOLON EDUCATIONAL PROGRAMS - TECHNOLOGY LINE*](https://solon.intertechnica.com/assets/IntertechnicaSolonEducationalPrograms-TechnologyLine.png)"
      ]
    },
    {
      "cell_type": "markdown",
      "metadata": {
        "id": "OeBbVwSSXKo9"
      },
      "source": [
        "# Data Manipulation with Python - Advanced Data Manipulation - Categorical Data Processing"
      ]
    },
    {
      "cell_type": "markdown",
      "metadata": {
        "id": "uUhqqWdPXKpA"
      },
      "source": [
        "*Basic initialization of the workspace.*"
      ]
    },
    {
      "cell_type": "code",
      "source": [
        "!python -m pip install numpy\n",
        "import numpy as np\n",
        "print (\"NumPy installed at version: {}\".format(np.__version__))"
      ],
      "metadata": {
        "colab": {
          "base_uri": "https://localhost:8080/"
        },
        "id": "OJzCFKioH6UR",
        "outputId": "66a249c7-ed35-401b-d6f7-73563dc0576b"
      },
      "execution_count": 1,
      "outputs": [
        {
          "output_type": "stream",
          "name": "stdout",
          "text": [
            "Requirement already satisfied: numpy in /usr/local/lib/python3.7/dist-packages (1.21.5)\n",
            "NumPy installed at version: 1.21.5\n"
          ]
        }
      ]
    },
    {
      "cell_type": "code",
      "execution_count": 2,
      "metadata": {
        "id": "AjAZRU7GXKpE",
        "outputId": "ce7352d1-ed00-4d27-b1ac-bf06f56ecd6b",
        "colab": {
          "base_uri": "https://localhost:8080/"
        }
      },
      "outputs": [
        {
          "output_type": "stream",
          "name": "stdout",
          "text": [
            "Requirement already satisfied: pandas in /usr/local/lib/python3.7/dist-packages (1.3.5)\n",
            "Requirement already satisfied: pytz>=2017.3 in /usr/local/lib/python3.7/dist-packages (from pandas) (2018.9)\n",
            "Requirement already satisfied: python-dateutil>=2.7.3 in /usr/local/lib/python3.7/dist-packages (from pandas) (2.8.2)\n",
            "Requirement already satisfied: numpy>=1.17.3 in /usr/local/lib/python3.7/dist-packages (from pandas) (1.21.5)\n",
            "Requirement already satisfied: six>=1.5 in /usr/local/lib/python3.7/dist-packages (from python-dateutil>=2.7.3->pandas) (1.15.0)\n",
            "Pandas installed at version: 1.3.5\n"
          ]
        }
      ],
      "source": [
        "!python -m pip install pandas\n",
        "import pandas as pd\n",
        "print (\"Pandas installed at version: {}\".format(pd.__version__))\n",
        "\n",
        "#adjust pandas DataFrame display for a wider target \n",
        "pd.set_option('display.expand_frame_repr', False)\n",
        "\n",
        "# disable warnings for chained assignment\n",
        "pd.set_option('mode.chained_assignment', None)"
      ]
    },
    {
      "cell_type": "code",
      "source": [
        "!python -m pip install sklearn\n",
        "import sklearn as skl\n",
        "import sklearn.preprocessing as sklp\n",
        "\n",
        "print (\"Sklearn installed at version: {}\".format(skl.__version__))"
      ],
      "metadata": {
        "colab": {
          "base_uri": "https://localhost:8080/"
        },
        "id": "PbyxoZM02V84",
        "outputId": "6cf0c3f4-99de-4b6a-b6b7-b1359fb1f2d5"
      },
      "execution_count": 3,
      "outputs": [
        {
          "output_type": "stream",
          "name": "stdout",
          "text": [
            "Requirement already satisfied: sklearn in /usr/local/lib/python3.7/dist-packages (0.0)\n",
            "Requirement already satisfied: scikit-learn in /usr/local/lib/python3.7/dist-packages (from sklearn) (1.0.2)\n",
            "Requirement already satisfied: threadpoolctl>=2.0.0 in /usr/local/lib/python3.7/dist-packages (from scikit-learn->sklearn) (3.1.0)\n",
            "Requirement already satisfied: scipy>=1.1.0 in /usr/local/lib/python3.7/dist-packages (from scikit-learn->sklearn) (1.4.1)\n",
            "Requirement already satisfied: joblib>=0.11 in /usr/local/lib/python3.7/dist-packages (from scikit-learn->sklearn) (1.1.0)\n",
            "Requirement already satisfied: numpy>=1.14.6 in /usr/local/lib/python3.7/dist-packages (from scikit-learn->sklearn) (1.21.5)\n",
            "Sklearn installed at version: 1.0.2\n"
          ]
        }
      ]
    },
    {
      "cell_type": "code",
      "source": [
        "import warnings\n",
        "\n",
        "# supress RuntimeWarnings that are not relevant\n",
        "warnings.filterwarnings(\"ignore\")"
      ],
      "metadata": {
        "id": "iMF0sJ6rN8Fj"
      },
      "execution_count": 4,
      "outputs": []
    },
    {
      "cell_type": "markdown",
      "source": [
        "### 1 Loading Data"
      ],
      "metadata": {
        "id": "mPYkEjtYty65"
      }
    },
    {
      "cell_type": "markdown",
      "source": [
        "We will focus on processing a dataset focused on immigration data. It contains the number of foreign born citizens in different countries, considering different genders in different years. \n",
        "\n",
        "The dataset's values for immigrant stock have been imputed - so no missing data is expected on this feature. Furthermore, the dataset numeric values have also been scaled so they fit the [0,1] interval. \n"
      ],
      "metadata": {
        "id": "jCNn1Jk-t2gz"
      }
    },
    {
      "cell_type": "markdown",
      "source": [
        "#### 1.1 Loading and exploring data"
      ],
      "metadata": {
        "id": "PrWXFgFiugmV"
      }
    },
    {
      "cell_type": "markdown",
      "source": [
        "First of all, loading data and basic exploration of the dataset structure is required. "
      ],
      "metadata": {
        "id": "iQYKBLNHuZ6F"
      }
    },
    {
      "cell_type": "code",
      "source": [
        "# load data for processing\n",
        "loaded_data = pd.read_parquet(\n",
        "    \"https://github.com/INTERTECHNICA-BUSINESS-SOLUTIONS-SRL/CourseDataManipulationWithPython/raw/main/Module%204%20-%20Advanced%20Data%20Manipulation/Session%202%20-%20Advanced%20Data%20Manipulation/data/migration_dataset_numerically_processed.parquet\"\n",
        ")\n",
        "\n",
        "print(\n",
        "    \"A sample of of loaded data is \\n {}\".format(\n",
        "      loaded_data  \n",
        "    )\n",
        ")"
      ],
      "metadata": {
        "id": "mQy9EwjetX3W",
        "colab": {
          "base_uri": "https://localhost:8080/"
        },
        "outputId": "a5d20ff5-33e6-4bde-ad76-3c57979a284e"
      },
      "execution_count": 5,
      "outputs": [
        {
          "output_type": "stream",
          "name": "stdout",
          "text": [
            "A sample of of loaded data is \n",
            "         Year Gender COU_ORIG Origin Country  Origin Country Population  Origin Country Population Scaled COU_DEST Destination Country  Destination Country Population  Destination Country Population Scaled  Immigrant Stock Processed  Immigrant Stock Processed Scaled  Immigrant Stock Imputed Indicator\n",
            "0       2000    MEN      AFG    Afghanistan                 20779957.0                          0.000000      AUS           Australia                      19153000.0                               0.000000                     6500.0                          0.055057                                  0\n",
            "1       2001    MEN      AFG    Afghanistan                 21606992.0                          0.045571      AUS           Australia                      19413000.0                               0.039792                     7410.0                          0.082286                                  0\n",
            "2       2002    MEN      AFG    Afghanistan                 22600774.0                          0.100329      AUS           Australia                      19651400.0                               0.076277                     8710.0                          0.121185                                  0\n",
            "3       2003    MEN      AFG    Afghanistan                 23680871.0                          0.159844      AUS           Australia                      19895400.0                               0.113620                     9260.0                          0.137642                                  0\n",
            "4       2004    MEN      AFG    Afghanistan                 24726689.0                          0.217470      AUS           Australia                      20127400.0                               0.149127                     9810.0                          0.154099                                  0\n",
            "...      ...    ...      ...            ...                        ...                               ...      ...                 ...                             ...                                    ...                        ...                               ...                                ...\n",
            "289669  2016    WMN      ZWE       Zimbabwe                 14030338.0                          0.720743      USA       United States                     323071755.0                               0.864494                    11326.0                          0.470449                                  1\n",
            "289670  2017    WMN      ZWE       Zimbabwe                 14236599.0                          0.789925      USA       United States                     325122128.0                               0.907823                    11769.0                          0.495968                                  1\n",
            "289671  2018    WMN      ZWE       Zimbabwe                 14438812.0                          0.857749      USA       United States                     326838199.0                               0.944086                    12211.0                          0.521429                                  1\n",
            "289672  2019    WMN      ZWE       Zimbabwe                 14645473.0                          0.927064      USA       United States                     328329953.0                               0.975610                    12654.0                          0.546947                                  1\n",
            "289673  2020    WMN      ZWE       Zimbabwe                 14862927.0                          1.000000      USA       United States                     329484123.0                               1.000000                    13096.0                          0.572408                                  1\n",
            "\n",
            "[289674 rows x 13 columns]\n"
          ]
        }
      ]
    },
    {
      "cell_type": "markdown",
      "source": [
        "We can observe that the dataset has several features:\n",
        "\n",
        "*  **Year** - the year of observation;\n",
        "*  **Gender** - the gender of the immigrants;\n",
        "*  **COU_ORIG** - the ISO3 code for the country of origin;\n",
        "*  **Origin Country** - the name of the country of origin (country of birth/nationality);\n",
        "*  **Origin Country Population** - the population in the country of origin;\n",
        "*  **Origin Country Population Scaled** - the population in the country of origin (scaled values);\n",
        "*  **COU_DEST** - the country of destination (country of residence);\n",
        "*  **Destination Country** - the country of residence;\n",
        "*  **Destination Country Population** - the population in the country of destination;\n",
        "*  **Destination Country Population Scaled** - the population in the country of destination (scaled values);\n",
        "*  **Immigrant Stock Processed** - the number of immigrants (foreign born citizens) which was processed by providing imputed values where the original data has been missing;\n",
        "*  **Immigrant Stock Processed Scaled** - the number of immigrants (foreign born citizens) which was processed by providing imputed values where the original data has been missing (scaled values);\n",
        "*  **Immigrant Stock Imputed Indicator** - an indicator specifying if the immigrant stock value is the original one or it has been missing and the actual value is imputed.\n"
      ],
      "metadata": {
        "id": "hsNM6uGxuuND"
      }
    },
    {
      "cell_type": "markdown",
      "source": [
        "#### 1.2 One hot encoding"
      ],
      "metadata": {
        "id": "haJFHoogxakm"
      }
    },
    {
      "cell_type": "markdown",
      "source": [
        "We can observe that several critical data features are in textual format: **Gender**, **COU_ORIG** and **COU_DEST**. Using textual format makes data processing difficult and it is open to textual errors.\n",
        "\n",
        "Therefore we would like to encode thse textual values in a format closer to a numeric format that is easier to process.\n",
        "\n"
      ],
      "metadata": {
        "id": "QEpQqmRi9WuX"
      }
    },
    {
      "cell_type": "markdown",
      "source": [
        "A mechanism used for encoding textual values into a more processable format is creating a binary variables vector having the length equal to the count of all the distinct values for the categorical feature. The vector will have all the values set to False (or 0) for all the categorical values, except the one that is encoded where the values will be True (or 1).\n",
        "\n",
        "This encoding mechanism is call the **one-hot encoding mechanism**."
      ],
      "metadata": {
        "id": "bAjp2ImuyQrt"
      }
    },
    {
      "cell_type": "markdown",
      "source": [
        "The sklearn library supports the one-hot encoding mechanism via the [**OneHotEncoder**](https://scikit-learn.org/stable/modules/generated/sklearn.preprocessing.OneHotEncoder.html) class."
      ],
      "metadata": {
        "id": "YMRwAq7ormZv"
      }
    },
    {
      "cell_type": "markdown",
      "source": [
        "We will use this mechanism to encode the **Gender** features in the first place."
      ],
      "metadata": {
        "id": "Ixmwwuu6tKb9"
      }
    },
    {
      "cell_type": "code",
      "source": [
        "# get the Gender values\n",
        "gender_values = loaded_data[\"Gender\"]\n",
        "\n",
        "# encode the Gender values \n",
        "gender_encoder = sklp.OneHotEncoder(\n",
        "    sparse = False\n",
        ")\n",
        "gender_encoded_values = gender_encoder.fit_transform(gender_values.values.reshape(-1,1))\n",
        "\n",
        "# obtain the feature names\n",
        "gender_feature_names = gender_encoder.get_feature_names_out([\"Gender\"])\n",
        "\n",
        "# create a data frame for encoded values \n",
        "gender_encoded_data = pd.DataFrame(\n",
        "  columns = gender_feature_names,\n",
        "  data = gender_encoded_values    \n",
        ")\n",
        "\n",
        "# join the encoded data\n",
        "processed_data = pd.merge(\n",
        "  loaded_data,\n",
        "  gender_encoded_data, \n",
        "  how = \"inner\",\n",
        "  left_index= True,\n",
        "  right_index= True\n",
        ")\n",
        "\n",
        "# display a data sample\n",
        "print(\n",
        "    \"A sample of the encoded data is as follows \\n{}\".format(\n",
        "        processed_data\n",
        "    )\n",
        ")"
      ],
      "metadata": {
        "id": "-ane2XOQts8q",
        "colab": {
          "base_uri": "https://localhost:8080/"
        },
        "outputId": "1a32aba6-4a83-4cfb-bb64-232f93fef468"
      },
      "execution_count": 6,
      "outputs": [
        {
          "output_type": "stream",
          "name": "stdout",
          "text": [
            "A sample of the encoded data is as follows \n",
            "        Year Gender COU_ORIG Origin Country  Origin Country Population  Origin Country Population Scaled COU_DEST Destination Country  Destination Country Population  Destination Country Population Scaled  Immigrant Stock Processed  Immigrant Stock Processed Scaled  Immigrant Stock Imputed Indicator  Gender_MEN  Gender_WMN\n",
            "0       2000    MEN      AFG    Afghanistan                 20779957.0                          0.000000      AUS           Australia                      19153000.0                               0.000000                     6500.0                          0.055057                                  0         1.0         0.0\n",
            "1       2001    MEN      AFG    Afghanistan                 21606992.0                          0.045571      AUS           Australia                      19413000.0                               0.039792                     7410.0                          0.082286                                  0         1.0         0.0\n",
            "2       2002    MEN      AFG    Afghanistan                 22600774.0                          0.100329      AUS           Australia                      19651400.0                               0.076277                     8710.0                          0.121185                                  0         1.0         0.0\n",
            "3       2003    MEN      AFG    Afghanistan                 23680871.0                          0.159844      AUS           Australia                      19895400.0                               0.113620                     9260.0                          0.137642                                  0         1.0         0.0\n",
            "4       2004    MEN      AFG    Afghanistan                 24726689.0                          0.217470      AUS           Australia                      20127400.0                               0.149127                     9810.0                          0.154099                                  0         1.0         0.0\n",
            "...      ...    ...      ...            ...                        ...                               ...      ...                 ...                             ...                                    ...                        ...                               ...                                ...         ...         ...\n",
            "289669  2016    WMN      ZWE       Zimbabwe                 14030338.0                          0.720743      USA       United States                     323071755.0                               0.864494                    11326.0                          0.470449                                  1         0.0         1.0\n",
            "289670  2017    WMN      ZWE       Zimbabwe                 14236599.0                          0.789925      USA       United States                     325122128.0                               0.907823                    11769.0                          0.495968                                  1         0.0         1.0\n",
            "289671  2018    WMN      ZWE       Zimbabwe                 14438812.0                          0.857749      USA       United States                     326838199.0                               0.944086                    12211.0                          0.521429                                  1         0.0         1.0\n",
            "289672  2019    WMN      ZWE       Zimbabwe                 14645473.0                          0.927064      USA       United States                     328329953.0                               0.975610                    12654.0                          0.546947                                  1         0.0         1.0\n",
            "289673  2020    WMN      ZWE       Zimbabwe                 14862927.0                          1.000000      USA       United States                     329484123.0                               1.000000                    13096.0                          0.572408                                  1         0.0         1.0\n",
            "\n",
            "[289674 rows x 15 columns]\n"
          ]
        }
      ]
    },
    {
      "cell_type": "markdown",
      "source": [
        "We will encode also the country related data for the **COU_ORIG** and **COU_DEST** features. We will encode these values using the same one-hot encoding strategy. "
      ],
      "metadata": {
        "id": "S5vLI8UAUhZE"
      }
    },
    {
      "cell_type": "code",
      "source": [
        "# get the COU_ORIG & COU_DEST values\n",
        "country_values = loaded_data[[\"COU_ORIG\", \"COU_DEST\"]]\n",
        "                             \n",
        "# encode the Gender values \n",
        "countries_encoder = sklp.OneHotEncoder(\n",
        "    sparse = False\n",
        ")\n",
        "country_encoded_values = countries_encoder.fit_transform(country_values)\n",
        "\n",
        "# obtain the feature names\n",
        "country_feature_names = countries_encoder.get_feature_names_out([\"COU_ORIG\", \"COU_DEST\"])\n",
        "\n",
        "# create a data frame for encoded values \n",
        "country_encoded_data = pd.DataFrame(\n",
        "  columns = country_feature_names,\n",
        "  data = country_encoded_values    \n",
        ")\n",
        "\n",
        "# join the encoded data\n",
        "processed_data = pd.merge(\n",
        "    processed_data,\n",
        "    country_encoded_data, \n",
        "    how = \"inner\",\n",
        "    left_index= True,\n",
        "    right_index= True\n",
        "  )\n",
        "\n",
        "# display a data sample\n",
        "print(\n",
        "    \"A sample of the encoded data is as follows \\n{}\".format(\n",
        "        processed_data\n",
        "    )\n",
        ")"
      ],
      "metadata": {
        "colab": {
          "base_uri": "https://localhost:8080/"
        },
        "id": "5SILhg64RutV",
        "outputId": "83466e0b-c7af-44c6-88ff-fdbe28be70d0"
      },
      "execution_count": 7,
      "outputs": [
        {
          "output_type": "stream",
          "name": "stdout",
          "text": [
            "A sample of the encoded data is as follows \n",
            "        Year Gender COU_ORIG Origin Country  Origin Country Population  Origin Country Population Scaled COU_DEST Destination Country  Destination Country Population  Destination Country Population Scaled  ...  COU_DEST_NLD  COU_DEST_NOR  COU_DEST_NZL  COU_DEST_POL  COU_DEST_PRT  COU_DEST_SVK  COU_DEST_SVN  COU_DEST_SWE  COU_DEST_TUR  COU_DEST_USA\n",
            "0       2000    MEN      AFG    Afghanistan                 20779957.0                          0.000000      AUS           Australia                      19153000.0                               0.000000  ...           0.0           0.0           0.0           0.0           0.0           0.0           0.0           0.0           0.0           0.0\n",
            "1       2001    MEN      AFG    Afghanistan                 21606992.0                          0.045571      AUS           Australia                      19413000.0                               0.039792  ...           0.0           0.0           0.0           0.0           0.0           0.0           0.0           0.0           0.0           0.0\n",
            "2       2002    MEN      AFG    Afghanistan                 22600774.0                          0.100329      AUS           Australia                      19651400.0                               0.076277  ...           0.0           0.0           0.0           0.0           0.0           0.0           0.0           0.0           0.0           0.0\n",
            "3       2003    MEN      AFG    Afghanistan                 23680871.0                          0.159844      AUS           Australia                      19895400.0                               0.113620  ...           0.0           0.0           0.0           0.0           0.0           0.0           0.0           0.0           0.0           0.0\n",
            "4       2004    MEN      AFG    Afghanistan                 24726689.0                          0.217470      AUS           Australia                      20127400.0                               0.149127  ...           0.0           0.0           0.0           0.0           0.0           0.0           0.0           0.0           0.0           0.0\n",
            "...      ...    ...      ...            ...                        ...                               ...      ...                 ...                             ...                                    ...  ...           ...           ...           ...           ...           ...           ...           ...           ...           ...           ...\n",
            "289669  2016    WMN      ZWE       Zimbabwe                 14030338.0                          0.720743      USA       United States                     323071755.0                               0.864494  ...           0.0           0.0           0.0           0.0           0.0           0.0           0.0           0.0           0.0           1.0\n",
            "289670  2017    WMN      ZWE       Zimbabwe                 14236599.0                          0.789925      USA       United States                     325122128.0                               0.907823  ...           0.0           0.0           0.0           0.0           0.0           0.0           0.0           0.0           0.0           1.0\n",
            "289671  2018    WMN      ZWE       Zimbabwe                 14438812.0                          0.857749      USA       United States                     326838199.0                               0.944086  ...           0.0           0.0           0.0           0.0           0.0           0.0           0.0           0.0           0.0           1.0\n",
            "289672  2019    WMN      ZWE       Zimbabwe                 14645473.0                          0.927064      USA       United States                     328329953.0                               0.975610  ...           0.0           0.0           0.0           0.0           0.0           0.0           0.0           0.0           0.0           1.0\n",
            "289673  2020    WMN      ZWE       Zimbabwe                 14862927.0                          1.000000      USA       United States                     329484123.0                               1.000000  ...           0.0           0.0           0.0           0.0           0.0           0.0           0.0           0.0           0.0           1.0\n",
            "\n",
            "[289674 rows x 257 columns]\n"
          ]
        }
      ]
    },
    {
      "cell_type": "code",
      "source": [
        "# create the final processed data\n",
        "# retaining only the relevant information\n",
        "\n",
        "columns = [\"Year\", \"Gender\"]\n",
        "columns = np.append(columns, gender_encoder.get_feature_names_out([\"Gender\"]))\n",
        "columns = np.append(columns, [\"COU_ORIG\", \"COU_DEST\", \"Origin Country\", \"Destination Country\"])\n",
        "columns = np.append(columns, countries_encoder.get_feature_names_out([\"COU_ORIG\", \"COU_DEST\"]))\n",
        "columns = np.append(columns, [\n",
        "                              \"Origin Country Population\", \n",
        "                              \"Origin Country Population Scaled\",\n",
        "                              \"Destination Country Population\",\n",
        "                              \"Destination Country Population Scaled\",\n",
        "                              \"Immigrant Stock Processed\",\n",
        "                              \"Immigrant Stock Processed Scaled\",\n",
        "                              \"Immigrant Stock Imputed Indicator\"\n",
        "])\n",
        "\n",
        "final_data = processed_data[columns]\n",
        "\n",
        "# make sure the year remains an integer value\n",
        "final_data[\"Year\"] = final_data[\"Year\"].astype(\"int16\")"
      ],
      "metadata": {
        "id": "TCIkA914zK-Q"
      },
      "execution_count": 8,
      "outputs": []
    },
    {
      "cell_type": "code",
      "source": [
        "# display a sample of the final data\n",
        "print(\n",
        "    \"A sample of final processed data is \\n {}\".format(\n",
        "      final_data\n",
        "    )\n",
        "  )"
      ],
      "metadata": {
        "colab": {
          "base_uri": "https://localhost:8080/"
        },
        "id": "jlLAKP8T4qr1",
        "outputId": "fc3d2bca-1b75-4a90-bcb4-095d81d6b38b"
      },
      "execution_count": 9,
      "outputs": [
        {
          "output_type": "stream",
          "name": "stdout",
          "text": [
            "A sample of final processed data is \n",
            "         Year Gender  Gender_MEN  Gender_WMN COU_ORIG COU_DEST Origin Country Destination Country  COU_ORIG_AFG  COU_ORIG_AGO  ...  COU_DEST_SWE  COU_DEST_TUR  COU_DEST_USA  Origin Country Population  Origin Country Population Scaled  Destination Country Population  Destination Country Population Scaled  Immigrant Stock Processed  Immigrant Stock Processed Scaled  Immigrant Stock Imputed Indicator\n",
            "0       2000    MEN         1.0         0.0      AFG      AUS    Afghanistan           Australia           1.0           0.0  ...           0.0           0.0           0.0                 20779957.0                          0.000000                      19153000.0                               0.000000                     6500.0                          0.055057                                  0\n",
            "1       2001    MEN         1.0         0.0      AFG      AUS    Afghanistan           Australia           1.0           0.0  ...           0.0           0.0           0.0                 21606992.0                          0.045571                      19413000.0                               0.039792                     7410.0                          0.082286                                  0\n",
            "2       2002    MEN         1.0         0.0      AFG      AUS    Afghanistan           Australia           1.0           0.0  ...           0.0           0.0           0.0                 22600774.0                          0.100329                      19651400.0                               0.076277                     8710.0                          0.121185                                  0\n",
            "3       2003    MEN         1.0         0.0      AFG      AUS    Afghanistan           Australia           1.0           0.0  ...           0.0           0.0           0.0                 23680871.0                          0.159844                      19895400.0                               0.113620                     9260.0                          0.137642                                  0\n",
            "4       2004    MEN         1.0         0.0      AFG      AUS    Afghanistan           Australia           1.0           0.0  ...           0.0           0.0           0.0                 24726689.0                          0.217470                      20127400.0                               0.149127                     9810.0                          0.154099                                  0\n",
            "...      ...    ...         ...         ...      ...      ...            ...                 ...           ...           ...  ...           ...           ...           ...                        ...                               ...                             ...                                    ...                        ...                               ...                                ...\n",
            "289669  2016    WMN         0.0         1.0      ZWE      USA       Zimbabwe       United States           0.0           0.0  ...           0.0           0.0           1.0                 14030338.0                          0.720743                     323071755.0                               0.864494                    11326.0                          0.470449                                  1\n",
            "289670  2017    WMN         0.0         1.0      ZWE      USA       Zimbabwe       United States           0.0           0.0  ...           0.0           0.0           1.0                 14236599.0                          0.789925                     325122128.0                               0.907823                    11769.0                          0.495968                                  1\n",
            "289671  2018    WMN         0.0         1.0      ZWE      USA       Zimbabwe       United States           0.0           0.0  ...           0.0           0.0           1.0                 14438812.0                          0.857749                     326838199.0                               0.944086                    12211.0                          0.521429                                  1\n",
            "289672  2019    WMN         0.0         1.0      ZWE      USA       Zimbabwe       United States           0.0           0.0  ...           0.0           0.0           1.0                 14645473.0                          0.927064                     328329953.0                               0.975610                    12654.0                          0.546947                                  1\n",
            "289673  2020    WMN         0.0         1.0      ZWE      USA       Zimbabwe       United States           0.0           0.0  ...           0.0           0.0           1.0                 14862927.0                          1.000000                     329484123.0                               1.000000                    13096.0                          0.572408                                  1\n",
            "\n",
            "[289674 rows x 257 columns]\n"
          ]
        }
      ]
    },
    {
      "cell_type": "code",
      "source": [
        "# save the processed data\n",
        "final_data.to_parquet(\"migration_dataset_fully_processed.parquet\")"
      ],
      "metadata": {
        "id": "1StStaHPotgn"
      },
      "execution_count": 10,
      "outputs": []
    }
  ],
  "metadata": {
    "kernelspec": {
      "display_name": "Python 3",
      "language": "python",
      "name": "python3"
    },
    "language_info": {
      "codemirror_mode": {
        "name": "ipython",
        "version": 3
      },
      "file_extension": ".py",
      "mimetype": "text/x-python",
      "name": "python",
      "nbconvert_exporter": "python",
      "pygments_lexer": "ipython3",
      "version": "3.7.3"
    },
    "colab": {
      "name": "003_SciKit_Learn_Categorical_Data_Processing.ipynb",
      "provenance": [],
      "collapsed_sections": []
    }
  },
  "nbformat": 4,
  "nbformat_minor": 0
}