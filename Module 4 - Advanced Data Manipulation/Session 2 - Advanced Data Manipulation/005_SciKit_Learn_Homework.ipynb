{
  "cells": [
    {
      "cell_type": "markdown",
      "metadata": {
        "id": "KDuU6OSWXKo4"
      },
      "source": [
        "![*INTERTECHNICA - SOLON EDUCATIONAL PROGRAMS - TECHNOLOGY LINE*](https://solon.intertechnica.com/assets/IntertechnicaSolonEducationalPrograms-TechnologyLine.png)"
      ]
    },
    {
      "cell_type": "markdown",
      "metadata": {
        "id": "OeBbVwSSXKo9"
      },
      "source": [
        "# Data Manipulation with Python - Advanced Data Manipulation - Homework"
      ]
    },
    {
      "cell_type": "markdown",
      "metadata": {
        "id": "uUhqqWdPXKpA"
      },
      "source": [
        "*Basic initialization of the workspace.*"
      ]
    },
    {
      "cell_type": "code",
      "source": [
        "!python -m pip install numpy\n",
        "import numpy as np\n",
        "print (\"NumPy installed at version: {}\".format(np.__version__))"
      ],
      "metadata": {
        "colab": {
          "base_uri": "https://localhost:8080/"
        },
        "id": "OJzCFKioH6UR",
        "outputId": "561d92f3-9a8b-4d21-9c64-8f81da963c1d"
      },
      "execution_count": 1,
      "outputs": [
        {
          "output_type": "stream",
          "name": "stdout",
          "text": [
            "Requirement already satisfied: numpy in /usr/local/lib/python3.7/dist-packages (1.21.5)\n",
            "NumPy installed at version: 1.21.5\n"
          ]
        }
      ]
    },
    {
      "cell_type": "code",
      "execution_count": 2,
      "metadata": {
        "id": "AjAZRU7GXKpE",
        "outputId": "764e1e81-41e6-4685-85ea-685708114dbc",
        "colab": {
          "base_uri": "https://localhost:8080/"
        }
      },
      "outputs": [
        {
          "output_type": "stream",
          "name": "stdout",
          "text": [
            "Requirement already satisfied: pandas in /usr/local/lib/python3.7/dist-packages (1.3.5)\n",
            "Requirement already satisfied: python-dateutil>=2.7.3 in /usr/local/lib/python3.7/dist-packages (from pandas) (2.8.2)\n",
            "Requirement already satisfied: pytz>=2017.3 in /usr/local/lib/python3.7/dist-packages (from pandas) (2018.9)\n",
            "Requirement already satisfied: numpy>=1.17.3 in /usr/local/lib/python3.7/dist-packages (from pandas) (1.21.5)\n",
            "Requirement already satisfied: six>=1.5 in /usr/local/lib/python3.7/dist-packages (from python-dateutil>=2.7.3->pandas) (1.15.0)\n",
            "Pandas installed at version: 1.3.5\n"
          ]
        }
      ],
      "source": [
        "!python -m pip install pandas\n",
        "import pandas as pd\n",
        "print (\"Pandas installed at version: {}\".format(pd.__version__))\n",
        "\n",
        "#adjust pandas DataFrame display for a wider target \n",
        "pd.set_option('display.expand_frame_repr', False)\n",
        "\n",
        "# disable warnings for chained assignment\n",
        "pd.set_option('mode.chained_assignment', None)"
      ]
    },
    {
      "cell_type": "code",
      "source": [
        "!python -m pip install sklearn\n",
        "import sklearn as skl\n",
        "import sklearn.base as sklb\n",
        "import sklearn.preprocessing as sklpre\n",
        "import sklearn.pipeline as sklpipe\n",
        "import sklearn.compose as sklcompose\n",
        "\n",
        "print (\"Sklearn installed at version: {}\".format(skl.__version__))"
      ],
      "metadata": {
        "colab": {
          "base_uri": "https://localhost:8080/"
        },
        "id": "PbyxoZM02V84",
        "outputId": "fe1f65ce-f6d0-4797-96fa-ce8e5abfb3d6"
      },
      "execution_count": 3,
      "outputs": [
        {
          "output_type": "stream",
          "name": "stdout",
          "text": [
            "Requirement already satisfied: sklearn in /usr/local/lib/python3.7/dist-packages (0.0)\n",
            "Requirement already satisfied: scikit-learn in /usr/local/lib/python3.7/dist-packages (from sklearn) (1.0.2)\n",
            "Requirement already satisfied: threadpoolctl>=2.0.0 in /usr/local/lib/python3.7/dist-packages (from scikit-learn->sklearn) (3.1.0)\n",
            "Requirement already satisfied: scipy>=1.1.0 in /usr/local/lib/python3.7/dist-packages (from scikit-learn->sklearn) (1.4.1)\n",
            "Requirement already satisfied: numpy>=1.14.6 in /usr/local/lib/python3.7/dist-packages (from scikit-learn->sklearn) (1.21.5)\n",
            "Requirement already satisfied: joblib>=0.11 in /usr/local/lib/python3.7/dist-packages (from scikit-learn->sklearn) (1.1.0)\n",
            "Sklearn installed at version: 1.0.2\n"
          ]
        }
      ]
    },
    {
      "cell_type": "code",
      "source": [
        "import warnings\n",
        "\n",
        "# supress RuntimeWarnings that are not relevant\n",
        "warnings.filterwarnings(\"ignore\")"
      ],
      "metadata": {
        "id": "iMF0sJ6rN8Fj"
      },
      "execution_count": 4,
      "outputs": []
    },
    {
      "cell_type": "markdown",
      "source": [
        "## 1. Loading and exploring data"
      ],
      "metadata": {
        "id": "A-zHvwn8ewiA"
      }
    },
    {
      "cell_type": "markdown",
      "source": [
        "We will use a dataset containing data about RON exchange rates in relation with several currencies EUR, USD and CHF. The data covers the years starting from 2010 to 2021."
      ],
      "metadata": {
        "id": "VMdFTJ8Te4Ag"
      }
    },
    {
      "cell_type": "markdown",
      "source": [
        "We will load the data into a DataFrame object in order to perform further processing."
      ],
      "metadata": {
        "id": "DNlA2Z2oe4zn"
      }
    },
    {
      "cell_type": "code",
      "source": [
        "# load the data into a dataframe object\n",
        "# no index column is expected\n",
        "raw_data = pd.read_csv(\n",
        "    \"https://raw.githubusercontent.com/INTERTECHNICA-BUSINESS-SOLUTIONS-SRL/CourseDataManipulationWithPython/main/Common/data/RON_Exchange_Rates.csv\",\n",
        "    index_col = None\n",
        ")"
      ],
      "metadata": {
        "id": "y7WW5Iq9e_vO"
      },
      "execution_count": 5,
      "outputs": []
    },
    {
      "cell_type": "markdown",
      "source": [
        "## 2. Cleaning and converting data"
      ],
      "metadata": {
        "id": "abzAcw1DgX0v"
      }
    },
    {
      "cell_type": "markdown",
      "source": [
        "Let's convert the data for ensuring its further usability. We will convert the DATE column from string to datetime value."
      ],
      "metadata": {
        "id": "k-p9doolghdi"
      }
    },
    {
      "cell_type": "code",
      "source": [
        "# create a convert date column transformer which transforms string data\n",
        "# into datetime data\n",
        "class ConvertDateColumnTransformer(sklb.BaseEstimator, sklb.TransformerMixin) :\n",
        "  \"\"\"\n",
        "  Converts a column to datetime value\n",
        "  \"\"\"\n",
        "  def __init__(self, features_to_convert):\n",
        "    self._features_to_convert = features_to_convert\n",
        "    self._feature_names_out = None\n",
        "\n",
        "  def fit(self, X, Y = None, ** fit_params) :\n",
        "    return self\n",
        "\n",
        "  def transform(self, X, Y = None, ** fit_params) :\n",
        "    result = X.copy()\n",
        "    \n",
        "    for feature in self._features_to_convert :\n",
        "      result[feature] = pd.to_datetime(result[feature])\n",
        "\n",
        "    self._feature_names_out = result.columns.values\n",
        "\n",
        "    return result\n",
        "\n",
        "  def get_feature_names_out(self, input_features=None) :\n",
        "    return self._feature_names_out\n"
      ],
      "metadata": {
        "id": "rMrGTcfxhcjb"
      },
      "execution_count": 6,
      "outputs": []
    },
    {
      "cell_type": "markdown",
      "source": [
        "Let's test the transformer via a transformation pipeline."
      ],
      "metadata": {
        "id": "1v67eyLTsPsW"
      }
    },
    {
      "cell_type": "code",
      "source": [
        "# create a transformation pipeline\n",
        "# and transform the associated data\n",
        "transformation_pipeline = sklpipe.Pipeline(\n",
        "    steps = [\n",
        "       (\"data conversion\", ConvertDateColumnTransformer([\"DATE\"]))\n",
        "    ]\n",
        ")\n",
        "transformed_clean_data = transformation_pipeline.fit_transform(raw_data)\n",
        "\n",
        "# print the transformed results\n",
        "print(\n",
        "        \"Sample records from the transformed data are \\n{}\\n\\\n",
        "with generated feature names \\n{}\\n\".format(\n",
        "          transformed_clean_data,\n",
        "          transformation_pipeline.get_feature_names_out()\n",
        "        )\n",
        "    )"
      ],
      "metadata": {
        "colab": {
          "base_uri": "https://localhost:8080/"
        },
        "id": "QvLoPc_hsKJS",
        "outputId": "72affe28-d8c3-40a6-d3d5-afe98f7d72d2"
      },
      "execution_count": 7,
      "outputs": [
        {
          "output_type": "stream",
          "name": "stdout",
          "text": [
            "Sample records from the transformed data are \n",
            "           DATE     EUR     USD     CHF\n",
            "0    2010-01-04  4.2265  2.9401  2.8419\n",
            "1    2010-01-05  4.2077  2.9186  2.8345\n",
            "2    2010-01-06  4.1620  2.8987  2.8051\n",
            "3    2010-01-07  4.1721  2.9089  2.8158\n",
            "4    2010-01-08  4.1679  2.9143  2.8134\n",
            "...         ...     ...     ...     ...\n",
            "3025 2021-12-27  4.9492  4.3725  4.7604\n",
            "3026 2021-12-28  4.9491  4.3683  4.7668\n",
            "3027 2021-12-29  4.9490  4.3849  4.7722\n",
            "3028 2021-12-30  4.9486  4.3735  4.7713\n",
            "3029 2021-12-31  4.9481  4.3707  4.7884\n",
            "\n",
            "[3030 rows x 4 columns]\n",
            "with generated feature names \n",
            "['DATE' 'EUR' 'USD' 'CHF']\n",
            "\n"
          ]
        }
      ]
    },
    {
      "cell_type": "code",
      "source": [
        "# HOMEWORK: create a column selection transformer that allows selection \n",
        "# of columns from the input data.\n",
        "# The columns to be selected are specified in the constructor's parameters\n",
        "# test the transformer with a dedicated pipeline."
      ],
      "metadata": {
        "id": "XXBSWquFMWy7"
      },
      "execution_count": 8,
      "outputs": []
    },
    {
      "cell_type": "markdown",
      "source": [
        "## 3. Performing feature engineering"
      ],
      "metadata": {
        "id": "I9f3XQb2qt53"
      }
    },
    {
      "cell_type": "markdown",
      "source": [
        "We will add additional features to the dataset, starting with daily ratios between currencies. \n",
        "\n",
        "For starters, let's create a transformer for column ratios so it is possible to generate ratios between currency values."
      ],
      "metadata": {
        "id": "BV0-ZHjyq-nk"
      }
    },
    {
      "cell_type": "code",
      "source": [
        "# create a columns ratio transformer that calculates the ratio values\n",
        "# for two columns\n",
        "class CalculateColumnsRatio(sklb.BaseEstimator, sklb.TransformerMixin) :\n",
        "  \"\"\"\n",
        "  Calculates the ratio between a numerator currency and denominator currency\n",
        "  \"\"\"\n",
        "  def __init__(self, numerator_feature, denominator_feature):\n",
        "    self._numerator_feature = numerator_feature\n",
        "    self._denominator_feature = denominator_feature\n",
        "    self._feature_names_out = None \n",
        "\n",
        "  def fit(self, X, Y = None, ** fit_params) :\n",
        "    return self\n",
        "\n",
        "  def transform(self, X, Y = None, ** fit_params) :\n",
        "    data_copy = X.copy()\n",
        "\n",
        "    raw_result = data_copy[self._numerator_feature] / data_copy[self._denominator_feature]   \n",
        "    \n",
        "    self._feature_names_out = [\"{}_{}_RATIO\".format(\n",
        "        self._numerator_feature, \n",
        "        self._denominator_feature\n",
        "      )]\n",
        "\n",
        "    result = pd.DataFrame(\n",
        "        {self._feature_names_out[0] : raw_result}\n",
        "    )\n",
        "\n",
        "    return result\n",
        "\n",
        "  def get_feature_names_out(self, input_features=None) :\n",
        "    return self._feature_names_out"
      ],
      "metadata": {
        "id": "BnXaMsNQpfam"
      },
      "execution_count": 9,
      "outputs": []
    },
    {
      "cell_type": "markdown",
      "source": [
        "We can integrate the columns ratio transformer(s) with min-max scaling transformers which are out of the box in Scikit-Learn.\n",
        "\n"
      ],
      "metadata": {
        "id": "ZJ2APcYBOEnf"
      }
    },
    {
      "cell_type": "code",
      "source": [
        "# create a transformation pipeline\n",
        "# and transform data\n",
        "transformation_pipeline = sklpipe.Pipeline(\n",
        "    steps = [\n",
        "        (\n",
        "          \"Date Column Transformer\", \n",
        "          ConvertDateColumnTransformer([\"DATE\"])\n",
        "        ),\n",
        "        (\n",
        "          \"Perform Feature Union\",\n",
        "          sklpipe.FeatureUnion(\n",
        "            [\n",
        "              (\"CURRENCY_RATIO_TRANSFORMER_EUR_USD\", CalculateColumnsRatio(\"EUR\", \"USD\")),\n",
        "              (\"CURRENCY_RATIO_TRANSFORMER_EUR_CHF\", CalculateColumnsRatio(\"EUR\", \"CHF\")),\n",
        "              (\"EUR_SCALER\", sklcompose.ColumnTransformer(\n",
        "                  transformers = [ \n",
        "                    (\n",
        "                      \"EUR_MIN_MAX_SCALER\", \n",
        "                      sklpre.MinMaxScaler(), \n",
        "                      [\"EUR\"]\n",
        "                    )\n",
        "                  ]\n",
        "                )\n",
        "              )        \n",
        "            ]\n",
        "          )\n",
        "        )\n",
        "    ]\n",
        ")\n",
        "transformed_data = transformation_pipeline.fit_transform(raw_data)\n",
        "\n",
        "# print the transformed results\n",
        "print(\n",
        "        \"Sample records from the transformed data are \\n{}\\n\\\n",
        "with generated feature names \\n{}\\n\".format(\n",
        "          transformed_data,\n",
        "          transformation_pipeline.get_feature_names_out()\n",
        "        )\n",
        "    )"
      ],
      "metadata": {
        "colab": {
          "base_uri": "https://localhost:8080/"
        },
        "id": "g4c0HwJ-w13R",
        "outputId": "361ddd62-a19e-4ca5-de22-8f5f6d27a197"
      },
      "execution_count": 10,
      "outputs": [
        {
          "output_type": "stream",
          "name": "stdout",
          "text": [
            "Sample records from the transformed data are \n",
            "[[1.43753614 1.48720926 0.18231169]\n",
            " [1.44168437 1.48445934 0.16104954]\n",
            " [1.43581606 1.48372607 0.1093644 ]\n",
            " ...\n",
            " [1.12864604 1.0370479  0.99943452]\n",
            " [1.13149651 1.03715968 0.99898213]\n",
            " [1.13210699 1.03335143 0.99841665]]\n",
            "with generated feature names \n",
            "['CURRENCY_RATIO_TRANSFORMER_EUR_USD__EUR_USD_RATIO'\n",
            " 'CURRENCY_RATIO_TRANSFORMER_EUR_CHF__EUR_CHF_RATIO'\n",
            " 'EUR_SCALER__EUR_MIN_MAX_SCALER__EUR']\n",
            "\n"
          ]
        }
      ]
    },
    {
      "cell_type": "code",
      "source": [
        "# HOMEWORK: Add currency ratio transformers for USD and CHF currencies"
      ],
      "metadata": {
        "id": "Huwk1RHpLlWq"
      },
      "execution_count": 11,
      "outputs": []
    },
    {
      "cell_type": "code",
      "source": [
        "# HOMEWORK: Include the column selector transformer in the pipeline so that \n",
        "# the DATE, EUR, USD and CHF columns are included in the generated dataset "
      ],
      "metadata": {
        "id": "Ls-0nj4cPG8Y"
      },
      "execution_count": 12,
      "outputs": []
    },
    {
      "cell_type": "code",
      "source": [
        "# HOMEWORK: Save the generated dataset"
      ],
      "metadata": {
        "id": "ohWBtQFnPk19"
      },
      "execution_count": 13,
      "outputs": []
    }
  ],
  "metadata": {
    "kernelspec": {
      "display_name": "Python 3",
      "language": "python",
      "name": "python3"
    },
    "language_info": {
      "codemirror_mode": {
        "name": "ipython",
        "version": 3
      },
      "file_extension": ".py",
      "mimetype": "text/x-python",
      "name": "python",
      "nbconvert_exporter": "python",
      "pygments_lexer": "ipython3",
      "version": "3.7.3"
    },
    "colab": {
      "name": "005_SciKit_Learn_Homework.ipynb",
      "provenance": [],
      "collapsed_sections": []
    }
  },
  "nbformat": 4,
  "nbformat_minor": 0
}