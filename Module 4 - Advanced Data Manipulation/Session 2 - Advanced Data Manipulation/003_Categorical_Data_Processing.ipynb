{
  "cells": [
    {
      "cell_type": "markdown",
      "metadata": {
        "id": "KDuU6OSWXKo4"
      },
      "source": [
        "![*INTERTECHNICA - SOLON EDUCATIONAL PROGRAMS - TECHNOLOGY LINE*](https://solon.intertechnica.com/assets/IntertechnicaSolonEducationalPrograms-TechnologyLine.png)"
      ]
    },
    {
      "cell_type": "markdown",
      "metadata": {
        "id": "OeBbVwSSXKo9"
      },
      "source": [
        "# Data Manipulation with Python - Advanced Data Manipulation - Categorical Data Processing"
      ]
    },
    {
      "cell_type": "markdown",
      "metadata": {
        "id": "uUhqqWdPXKpA"
      },
      "source": [
        "*Basic initialization of the workspace.*"
      ]
    },
    {
      "cell_type": "code",
      "source": [
        "!python -m pip install numpy\n",
        "import numpy as np\n",
        "print (\"NumPy installed at version: {}\".format(np.__version__))"
      ],
      "metadata": {
        "colab": {
          "base_uri": "https://localhost:8080/"
        },
        "id": "OJzCFKioH6UR",
        "outputId": "d045f801-3af6-4fa1-914b-1450494230ca"
      },
      "execution_count": 1,
      "outputs": [
        {
          "output_type": "stream",
          "name": "stdout",
          "text": [
            "Requirement already satisfied: numpy in /usr/local/lib/python3.7/dist-packages (1.19.5)\n",
            "NumPy installed at version: 1.19.5\n"
          ]
        }
      ]
    },
    {
      "cell_type": "code",
      "execution_count": 2,
      "metadata": {
        "id": "AjAZRU7GXKpE",
        "outputId": "f9e9c201-a34b-41e3-828d-8f0a08232c0b",
        "colab": {
          "base_uri": "https://localhost:8080/"
        }
      },
      "outputs": [
        {
          "output_type": "stream",
          "name": "stdout",
          "text": [
            "Requirement already satisfied: pandas in /usr/local/lib/python3.7/dist-packages (1.3.5)\n",
            "Requirement already satisfied: python-dateutil>=2.7.3 in /usr/local/lib/python3.7/dist-packages (from pandas) (2.8.2)\n",
            "Requirement already satisfied: numpy>=1.17.3 in /usr/local/lib/python3.7/dist-packages (from pandas) (1.19.5)\n",
            "Requirement already satisfied: pytz>=2017.3 in /usr/local/lib/python3.7/dist-packages (from pandas) (2018.9)\n",
            "Requirement already satisfied: six>=1.5 in /usr/local/lib/python3.7/dist-packages (from python-dateutil>=2.7.3->pandas) (1.15.0)\n",
            "Pandas installed at version: 1.3.5\n"
          ]
        }
      ],
      "source": [
        "!python -m pip install pandas\n",
        "import pandas as pd\n",
        "print (\"Pandas installed at version: {}\".format(pd.__version__))\n",
        "\n",
        "#adjust pandas DataFrame display for a wider target \n",
        "pd.set_option('display.expand_frame_repr', False)\n",
        "\n",
        "# disable warnings for chained assignment\n",
        "pd.set_option('mode.chained_assignment', None)"
      ]
    },
    {
      "cell_type": "code",
      "source": [
        "!python -m pip install sklearn\n",
        "import sklearn as skl\n",
        "import sklearn.preprocessing as sklp\n",
        "\n",
        "print (\"Sklearn installed at version: {}\".format(skl.__version__))"
      ],
      "metadata": {
        "colab": {
          "base_uri": "https://localhost:8080/"
        },
        "id": "PbyxoZM02V84",
        "outputId": "6bfa347c-f8f6-4ce7-e4e7-5501209a8a60"
      },
      "execution_count": 3,
      "outputs": [
        {
          "output_type": "stream",
          "name": "stdout",
          "text": [
            "Requirement already satisfied: sklearn in /usr/local/lib/python3.7/dist-packages (0.0)\n",
            "Requirement already satisfied: scikit-learn in /usr/local/lib/python3.7/dist-packages (from sklearn) (1.0.2)\n",
            "Requirement already satisfied: numpy>=1.14.6 in /usr/local/lib/python3.7/dist-packages (from scikit-learn->sklearn) (1.19.5)\n",
            "Requirement already satisfied: threadpoolctl>=2.0.0 in /usr/local/lib/python3.7/dist-packages (from scikit-learn->sklearn) (3.1.0)\n",
            "Requirement already satisfied: scipy>=1.1.0 in /usr/local/lib/python3.7/dist-packages (from scikit-learn->sklearn) (1.4.1)\n",
            "Requirement already satisfied: joblib>=0.11 in /usr/local/lib/python3.7/dist-packages (from scikit-learn->sklearn) (1.1.0)\n",
            "Sklearn installed at version: 1.0.2\n"
          ]
        }
      ]
    },
    {
      "cell_type": "code",
      "source": [
        "import warnings\n",
        "\n",
        "# supress RuntimeWarnings that are not relevant\n",
        "warnings.filterwarnings(\"ignore\")"
      ],
      "metadata": {
        "id": "iMF0sJ6rN8Fj"
      },
      "execution_count": 4,
      "outputs": []
    },
    {
      "cell_type": "markdown",
      "source": [
        "### 1 Loading Data"
      ],
      "metadata": {
        "id": "mPYkEjtYty65"
      }
    },
    {
      "cell_type": "markdown",
      "source": [
        "We will focus on processing a dataset focused on immigration data. It contains the number of foreign born citizens in different countries, considering different genders in different years. \n",
        "\n",
        "The dataset's values for immigrant stock have been imputed - so no missing data is expected on this feature.\n"
      ],
      "metadata": {
        "id": "jCNn1Jk-t2gz"
      }
    },
    {
      "cell_type": "markdown",
      "source": [
        "#### 1.1 Loading and exploring data"
      ],
      "metadata": {
        "id": "PrWXFgFiugmV"
      }
    },
    {
      "cell_type": "markdown",
      "source": [
        "First of all, loading data and basic exploration of the dataset structure is required. "
      ],
      "metadata": {
        "id": "iQYKBLNHuZ6F"
      }
    },
    {
      "cell_type": "code",
      "source": [
        "# load data for processing\n",
        "loaded_data = pd.read_parquet(\n",
        "    \"https://github.com/INTERTECHNICA-BUSINESS-SOLUTIONS-SRL/CourseDataManipulationWithPython/raw/main/Module%204%20-%20Advanced%20Data%20Manipulation/Session%202%20-%20Advanced%20Data%20Manipulation/data/migration_dataset_numerically_processed.parquet\"\n",
        ")\n",
        "\n",
        "print(\n",
        "    \"A sample of of loaded data is \\n {}\".format(\n",
        "      loaded_data[0:10]  \n",
        "    )\n",
        ")"
      ],
      "metadata": {
        "id": "mQy9EwjetX3W",
        "colab": {
          "base_uri": "https://localhost:8080/"
        },
        "outputId": "6775446b-f164-4105-dbc9-73006cd97876"
      },
      "execution_count": 5,
      "outputs": [
        {
          "output_type": "stream",
          "name": "stdout",
          "text": [
            "A sample of of loaded data is \n",
            "    Year Gender COU_ORIG Origin Country  Origin Country Population  Origin Country Population Scaled COU_DEST Destination Country  Destination Country Population  Destination Country Population Scaled  Immigrant Stock Processed  Immigrant Stock Processed Scaled  Immigrant Stock Imputed Indicator\n",
            "0  2000    MEN      AFG    Afghanistan                 20779957.0                          0.000000      AUS           Australia                      19153000.0                               0.000000                     6500.0                          0.055057                                  0\n",
            "1  2001    MEN      AFG    Afghanistan                 21606992.0                          0.045571      AUS           Australia                      19413000.0                               0.039792                     7410.0                          0.082286                                  0\n",
            "2  2002    MEN      AFG    Afghanistan                 22600774.0                          0.100329      AUS           Australia                      19651400.0                               0.076277                     8710.0                          0.121185                                  0\n",
            "3  2003    MEN      AFG    Afghanistan                 23680871.0                          0.159844      AUS           Australia                      19895400.0                               0.113620                     9260.0                          0.137642                                  0\n",
            "4  2004    MEN      AFG    Afghanistan                 24726689.0                          0.217470      AUS           Australia                      20127400.0                               0.149127                     9810.0                          0.154099                                  0\n",
            "5  2005    MEN      AFG    Afghanistan                 25654274.0                          0.268581      AUS           Australia                      20394800.0                               0.190051                    10600.0                          0.177738                                  0\n",
            "6  2006    MEN      AFG    Afghanistan                 26433058.0                          0.311493      AUS           Australia                      20697900.0                               0.236439                    12170.0                          0.224716                                  0\n",
            "7  2007    MEN      AFG    Afghanistan                 27100542.0                          0.348273      AUS           Australia                      20827600.0                               0.256289                    13280.0                          0.257929                                  0\n",
            "8  2008    MEN      AFG    Afghanistan                 27722281.0                          0.382531      AUS           Australia                      21249200.0                               0.320812                    14230.0                          0.286355                                  0\n",
            "9  2009    MEN      AFG    Afghanistan                 28394806.0                          0.419588      AUS           Australia                      21691700.0                               0.388534                    15360.0                          0.320168                                  0\n"
          ]
        }
      ]
    },
    {
      "cell_type": "markdown",
      "source": [
        "We can observe that the dataset has several features:\n",
        "\n",
        "*  **Year** - the year of observation;\n",
        "*  **Gender** - the gender of the immigrants;\n",
        "*  **COU_ORIG** - the ISO3 code for the country of origin;\n",
        "*  **Origin Country** - the name of the country of origin (country of birth/nationality);\n",
        "*  **Origin Country Population** - the population in the country of origin;\n",
        "*  **Origin Country Population Scaled** - the population in the country of origin (scaled values);\n",
        "*  **COU_DEST** - the country of destination (country of residence);\n",
        "*  **Destination Country** - the country of residence;\n",
        "*  **Destination Country Population** - the population in the country of destination;\n",
        "*  **Destination Country Population Scaled** - the population in the country of destination (scaled values);\n",
        "*  **Immigrant Stock Processed** - the number of immigrants (foreign born citizens) which was processed by providing imputed values where the original data has been missing;\n",
        "*  **Immigrant Stock Processed Scaled** - the number of immigrants (foreign born citizens) which was processed by providing imputed values where the original data has been missing (scaled values);\n",
        "*  **Immigrant Stock Imputed Indicator** - an indicator specifying if the immigrant stock value is the original one or it has been missing and the actual value is imputed.\n"
      ],
      "metadata": {
        "id": "hsNM6uGxuuND"
      }
    },
    {
      "cell_type": "markdown",
      "source": [
        "#### 1.2 Feature scaling"
      ],
      "metadata": {
        "id": "haJFHoogxakm"
      }
    },
    {
      "cell_type": "markdown",
      "source": [
        "We can observe that several critical data features are in textual format: **Gender**, **COU_ORIG** and **COU_DEST**. Using textual format makes data processing difficult and it is open to textual errors.\n",
        "\n",
        "Therefore we would like to encode thse textual values in a format closer to a numeric format that is easier to process.\n",
        "\n"
      ],
      "metadata": {
        "id": "QEpQqmRi9WuX"
      }
    },
    {
      "cell_type": "markdown",
      "source": [
        "A mechanism used for encoding textual values into a more processable format is creating a binary variables vector having the length equal to the count of all the distinct values for the categorical feature. The vector will have all the values set to False (or 0) for all the categorical values, except the one that is encoded where the values will be True (or 1).\n",
        "\n",
        "This encoding mechanism is call the **one-hot encoding mechanism**."
      ],
      "metadata": {
        "id": "bAjp2ImuyQrt"
      }
    },
    {
      "cell_type": "markdown",
      "source": [
        "The sklearn library supports the one-hot encoding mechanism via the [OneHotEncoder](https://scikit-learn.org/stable/modules/generated/sklearn.preprocessing.OneHotEncoder.html) class."
      ],
      "metadata": {
        "id": "YMRwAq7ormZv"
      }
    },
    {
      "cell_type": "markdown",
      "source": [
        "We will use this mechanism to encode the **Gender** features in the first place."
      ],
      "metadata": {
        "id": "Ixmwwuu6tKb9"
      }
    },
    {
      "cell_type": "code",
      "source": [
        "# get the Gender values\n",
        "gender_values = loaded_data[\"Gender\"]\n",
        "\n",
        "# encode the Gender values \n",
        "gender_encoder = sklp.OneHotEncoder(\n",
        "    sparse = False\n",
        ")\n",
        "gender_encoded_values = gender_encoder.fit_transform(gender_values.values.reshape(-1,1))\n",
        "\n",
        "# obtain the feature names\n",
        "gender_feature_names = gender_encoder.get_feature_names_out([\"Gender\"])\n",
        "\n",
        "# create a data frame for encoded values \n",
        "gender_encoded_data = pd.DataFrame(\n",
        "  columns = gender_feature_names,\n",
        "  data = gender_encoded_values    \n",
        ")\n",
        "\n",
        "# join the encoded data\n",
        "processed_data = pd.merge(\n",
        "  loaded_data,\n",
        "  gender_encoded_data, \n",
        "  how = \"inner\",\n",
        "  left_index= True,\n",
        "  right_index= True\n",
        ")\n",
        "\n",
        "# display a data sample\n",
        "print(\n",
        "    \"A sample of the encoded data is as follows \\n{}\".format(\n",
        "        processed_data[0:10]\n",
        "    )\n",
        ")"
      ],
      "metadata": {
        "id": "-ane2XOQts8q",
        "colab": {
          "base_uri": "https://localhost:8080/"
        },
        "outputId": "84f619cd-5863-4a86-e4e7-02cdaa94a5f4"
      },
      "execution_count": 6,
      "outputs": [
        {
          "output_type": "stream",
          "name": "stdout",
          "text": [
            "A sample of the encoded data is as follows \n",
            "   Year Gender COU_ORIG Origin Country  Origin Country Population  Origin Country Population Scaled COU_DEST Destination Country  Destination Country Population  Destination Country Population Scaled  Immigrant Stock Processed  Immigrant Stock Processed Scaled  Immigrant Stock Imputed Indicator  Gender_MEN  Gender_WMN\n",
            "0  2000    MEN      AFG    Afghanistan                 20779957.0                          0.000000      AUS           Australia                      19153000.0                               0.000000                     6500.0                          0.055057                                  0         1.0         0.0\n",
            "1  2001    MEN      AFG    Afghanistan                 21606992.0                          0.045571      AUS           Australia                      19413000.0                               0.039792                     7410.0                          0.082286                                  0         1.0         0.0\n",
            "2  2002    MEN      AFG    Afghanistan                 22600774.0                          0.100329      AUS           Australia                      19651400.0                               0.076277                     8710.0                          0.121185                                  0         1.0         0.0\n",
            "3  2003    MEN      AFG    Afghanistan                 23680871.0                          0.159844      AUS           Australia                      19895400.0                               0.113620                     9260.0                          0.137642                                  0         1.0         0.0\n",
            "4  2004    MEN      AFG    Afghanistan                 24726689.0                          0.217470      AUS           Australia                      20127400.0                               0.149127                     9810.0                          0.154099                                  0         1.0         0.0\n",
            "5  2005    MEN      AFG    Afghanistan                 25654274.0                          0.268581      AUS           Australia                      20394800.0                               0.190051                    10600.0                          0.177738                                  0         1.0         0.0\n",
            "6  2006    MEN      AFG    Afghanistan                 26433058.0                          0.311493      AUS           Australia                      20697900.0                               0.236439                    12170.0                          0.224716                                  0         1.0         0.0\n",
            "7  2007    MEN      AFG    Afghanistan                 27100542.0                          0.348273      AUS           Australia                      20827600.0                               0.256289                    13280.0                          0.257929                                  0         1.0         0.0\n",
            "8  2008    MEN      AFG    Afghanistan                 27722281.0                          0.382531      AUS           Australia                      21249200.0                               0.320812                    14230.0                          0.286355                                  0         1.0         0.0\n",
            "9  2009    MEN      AFG    Afghanistan                 28394806.0                          0.419588      AUS           Australia                      21691700.0                               0.388534                    15360.0                          0.320168                                  0         1.0         0.0\n"
          ]
        }
      ]
    },
    {
      "cell_type": "markdown",
      "source": [
        "We will encode also the country related data for the **COU_ORIG** and **COU_DEST** features. We will encode these values "
      ],
      "metadata": {
        "id": "S5vLI8UAUhZE"
      }
    },
    {
      "cell_type": "code",
      "source": [
        "# get the COU_ORIG & COU_DEST values\n",
        "country_values = loaded_data[[\"COU_ORIG\", \"COU_DEST\"]]\n",
        "                             \n",
        "# encode the Gender values \n",
        "countries_encoder = sklp.OneHotEncoder(\n",
        "    sparse = False\n",
        ")\n",
        "country_encoded_values = countries_encoder.fit_transform(country_values)\n",
        "\n",
        "# obtain the feature names\n",
        "country_feature_names = countries_encoder.get_feature_names_out([\"COU_ORIG\", \"COU_DEST\"])\n",
        "\n",
        "# create a data frame for encoded values \n",
        "country_encoded_data = pd.DataFrame(\n",
        "  columns = country_feature_names,\n",
        "  data = country_encoded_values    \n",
        ")\n",
        "\n",
        "# join the encoded data\n",
        "processed_data = pd.merge(\n",
        "    processed_data,\n",
        "    country_encoded_data, \n",
        "    how = \"inner\",\n",
        "    left_index= True,\n",
        "    right_index= True\n",
        "  )\n",
        "\n",
        "# display a data sample\n",
        "print(\n",
        "    \"A sample of the encoded data is as follows \\n{}\".format(\n",
        "        processed_data[0:10]\n",
        "    )\n",
        ")"
      ],
      "metadata": {
        "colab": {
          "base_uri": "https://localhost:8080/"
        },
        "id": "5SILhg64RutV",
        "outputId": "3fff9421-438f-4813-801a-943053d85750"
      },
      "execution_count": 7,
      "outputs": [
        {
          "output_type": "stream",
          "name": "stdout",
          "text": [
            "A sample of the encoded data is as follows \n",
            "   Year Gender COU_ORIG Origin Country  Origin Country Population  Origin Country Population Scaled COU_DEST Destination Country  Destination Country Population  Destination Country Population Scaled  Immigrant Stock Processed  Immigrant Stock Processed Scaled  Immigrant Stock Imputed Indicator  Gender_MEN  Gender_WMN  COU_ORIG_AFG  COU_ORIG_AGO  COU_ORIG_ALB  COU_ORIG_AND  COU_ORIG_ARE  COU_ORIG_ARG  COU_ORIG_ARM  COU_ORIG_ATG  COU_ORIG_AUS  COU_ORIG_AUT  COU_ORIG_AZE  COU_ORIG_BDI  COU_ORIG_BEL  COU_ORIG_BEN  COU_ORIG_BFA  COU_ORIG_BGD  COU_ORIG_BGR  COU_ORIG_BHR  COU_ORIG_BHS  COU_ORIG_BIH  COU_ORIG_BLR  COU_ORIG_BLZ  COU_ORIG_BMU  COU_ORIG_BOL  COU_ORIG_BRA  ...  COU_ORIG_WSM  COU_ORIG_YEM  COU_ORIG_YUCS  COU_ORIG_YYY  COU_ORIG_ZAF  COU_ORIG_ZMB  COU_ORIG_ZWE  COU_DEST_AUS  COU_DEST_AUT  COU_DEST_BEL  COU_DEST_CAN  COU_DEST_CHE  COU_DEST_CHL  COU_DEST_CZE  COU_DEST_DEU  COU_DEST_DNK  COU_DEST_ESP  COU_DEST_EST  COU_DEST_FIN  COU_DEST_FRA  COU_DEST_GBR  COU_DEST_GRC  COU_DEST_HUN  COU_DEST_IRL  COU_DEST_ISL  COU_DEST_ISR  COU_DEST_ITA  COU_DEST_LUX  COU_DEST_LVA  COU_DEST_MEX  COU_DEST_NLD  COU_DEST_NOR  COU_DEST_NZL  COU_DEST_POL  COU_DEST_PRT  COU_DEST_SVK  COU_DEST_SVN  COU_DEST_SWE  COU_DEST_TUR  COU_DEST_USA\n",
            "0  2000    MEN      AFG    Afghanistan                 20779957.0                          0.000000      AUS           Australia                      19153000.0                               0.000000                     6500.0                          0.055057                                  0         1.0         0.0           1.0           0.0           0.0           0.0           0.0           0.0           0.0           0.0           0.0           0.0           0.0           0.0           0.0           0.0           0.0           0.0           0.0           0.0           0.0           0.0           0.0           0.0           0.0           0.0           0.0  ...           0.0           0.0            0.0           0.0           0.0           0.0           0.0           1.0           0.0           0.0           0.0           0.0           0.0           0.0           0.0           0.0           0.0           0.0           0.0           0.0           0.0           0.0           0.0           0.0           0.0           0.0           0.0           0.0           0.0           0.0           0.0           0.0           0.0           0.0           0.0           0.0           0.0           0.0           0.0           0.0\n",
            "1  2001    MEN      AFG    Afghanistan                 21606992.0                          0.045571      AUS           Australia                      19413000.0                               0.039792                     7410.0                          0.082286                                  0         1.0         0.0           1.0           0.0           0.0           0.0           0.0           0.0           0.0           0.0           0.0           0.0           0.0           0.0           0.0           0.0           0.0           0.0           0.0           0.0           0.0           0.0           0.0           0.0           0.0           0.0           0.0  ...           0.0           0.0            0.0           0.0           0.0           0.0           0.0           1.0           0.0           0.0           0.0           0.0           0.0           0.0           0.0           0.0           0.0           0.0           0.0           0.0           0.0           0.0           0.0           0.0           0.0           0.0           0.0           0.0           0.0           0.0           0.0           0.0           0.0           0.0           0.0           0.0           0.0           0.0           0.0           0.0\n",
            "2  2002    MEN      AFG    Afghanistan                 22600774.0                          0.100329      AUS           Australia                      19651400.0                               0.076277                     8710.0                          0.121185                                  0         1.0         0.0           1.0           0.0           0.0           0.0           0.0           0.0           0.0           0.0           0.0           0.0           0.0           0.0           0.0           0.0           0.0           0.0           0.0           0.0           0.0           0.0           0.0           0.0           0.0           0.0           0.0  ...           0.0           0.0            0.0           0.0           0.0           0.0           0.0           1.0           0.0           0.0           0.0           0.0           0.0           0.0           0.0           0.0           0.0           0.0           0.0           0.0           0.0           0.0           0.0           0.0           0.0           0.0           0.0           0.0           0.0           0.0           0.0           0.0           0.0           0.0           0.0           0.0           0.0           0.0           0.0           0.0\n",
            "3  2003    MEN      AFG    Afghanistan                 23680871.0                          0.159844      AUS           Australia                      19895400.0                               0.113620                     9260.0                          0.137642                                  0         1.0         0.0           1.0           0.0           0.0           0.0           0.0           0.0           0.0           0.0           0.0           0.0           0.0           0.0           0.0           0.0           0.0           0.0           0.0           0.0           0.0           0.0           0.0           0.0           0.0           0.0           0.0  ...           0.0           0.0            0.0           0.0           0.0           0.0           0.0           1.0           0.0           0.0           0.0           0.0           0.0           0.0           0.0           0.0           0.0           0.0           0.0           0.0           0.0           0.0           0.0           0.0           0.0           0.0           0.0           0.0           0.0           0.0           0.0           0.0           0.0           0.0           0.0           0.0           0.0           0.0           0.0           0.0\n",
            "4  2004    MEN      AFG    Afghanistan                 24726689.0                          0.217470      AUS           Australia                      20127400.0                               0.149127                     9810.0                          0.154099                                  0         1.0         0.0           1.0           0.0           0.0           0.0           0.0           0.0           0.0           0.0           0.0           0.0           0.0           0.0           0.0           0.0           0.0           0.0           0.0           0.0           0.0           0.0           0.0           0.0           0.0           0.0           0.0  ...           0.0           0.0            0.0           0.0           0.0           0.0           0.0           1.0           0.0           0.0           0.0           0.0           0.0           0.0           0.0           0.0           0.0           0.0           0.0           0.0           0.0           0.0           0.0           0.0           0.0           0.0           0.0           0.0           0.0           0.0           0.0           0.0           0.0           0.0           0.0           0.0           0.0           0.0           0.0           0.0\n",
            "5  2005    MEN      AFG    Afghanistan                 25654274.0                          0.268581      AUS           Australia                      20394800.0                               0.190051                    10600.0                          0.177738                                  0         1.0         0.0           1.0           0.0           0.0           0.0           0.0           0.0           0.0           0.0           0.0           0.0           0.0           0.0           0.0           0.0           0.0           0.0           0.0           0.0           0.0           0.0           0.0           0.0           0.0           0.0           0.0  ...           0.0           0.0            0.0           0.0           0.0           0.0           0.0           1.0           0.0           0.0           0.0           0.0           0.0           0.0           0.0           0.0           0.0           0.0           0.0           0.0           0.0           0.0           0.0           0.0           0.0           0.0           0.0           0.0           0.0           0.0           0.0           0.0           0.0           0.0           0.0           0.0           0.0           0.0           0.0           0.0\n",
            "6  2006    MEN      AFG    Afghanistan                 26433058.0                          0.311493      AUS           Australia                      20697900.0                               0.236439                    12170.0                          0.224716                                  0         1.0         0.0           1.0           0.0           0.0           0.0           0.0           0.0           0.0           0.0           0.0           0.0           0.0           0.0           0.0           0.0           0.0           0.0           0.0           0.0           0.0           0.0           0.0           0.0           0.0           0.0           0.0  ...           0.0           0.0            0.0           0.0           0.0           0.0           0.0           1.0           0.0           0.0           0.0           0.0           0.0           0.0           0.0           0.0           0.0           0.0           0.0           0.0           0.0           0.0           0.0           0.0           0.0           0.0           0.0           0.0           0.0           0.0           0.0           0.0           0.0           0.0           0.0           0.0           0.0           0.0           0.0           0.0\n",
            "7  2007    MEN      AFG    Afghanistan                 27100542.0                          0.348273      AUS           Australia                      20827600.0                               0.256289                    13280.0                          0.257929                                  0         1.0         0.0           1.0           0.0           0.0           0.0           0.0           0.0           0.0           0.0           0.0           0.0           0.0           0.0           0.0           0.0           0.0           0.0           0.0           0.0           0.0           0.0           0.0           0.0           0.0           0.0           0.0  ...           0.0           0.0            0.0           0.0           0.0           0.0           0.0           1.0           0.0           0.0           0.0           0.0           0.0           0.0           0.0           0.0           0.0           0.0           0.0           0.0           0.0           0.0           0.0           0.0           0.0           0.0           0.0           0.0           0.0           0.0           0.0           0.0           0.0           0.0           0.0           0.0           0.0           0.0           0.0           0.0\n",
            "8  2008    MEN      AFG    Afghanistan                 27722281.0                          0.382531      AUS           Australia                      21249200.0                               0.320812                    14230.0                          0.286355                                  0         1.0         0.0           1.0           0.0           0.0           0.0           0.0           0.0           0.0           0.0           0.0           0.0           0.0           0.0           0.0           0.0           0.0           0.0           0.0           0.0           0.0           0.0           0.0           0.0           0.0           0.0           0.0  ...           0.0           0.0            0.0           0.0           0.0           0.0           0.0           1.0           0.0           0.0           0.0           0.0           0.0           0.0           0.0           0.0           0.0           0.0           0.0           0.0           0.0           0.0           0.0           0.0           0.0           0.0           0.0           0.0           0.0           0.0           0.0           0.0           0.0           0.0           0.0           0.0           0.0           0.0           0.0           0.0\n",
            "9  2009    MEN      AFG    Afghanistan                 28394806.0                          0.419588      AUS           Australia                      21691700.0                               0.388534                    15360.0                          0.320168                                  0         1.0         0.0           1.0           0.0           0.0           0.0           0.0           0.0           0.0           0.0           0.0           0.0           0.0           0.0           0.0           0.0           0.0           0.0           0.0           0.0           0.0           0.0           0.0           0.0           0.0           0.0           0.0  ...           0.0           0.0            0.0           0.0           0.0           0.0           0.0           1.0           0.0           0.0           0.0           0.0           0.0           0.0           0.0           0.0           0.0           0.0           0.0           0.0           0.0           0.0           0.0           0.0           0.0           0.0           0.0           0.0           0.0           0.0           0.0           0.0           0.0           0.0           0.0           0.0           0.0           0.0           0.0           0.0\n",
            "\n",
            "[10 rows x 257 columns]\n"
          ]
        }
      ]
    },
    {
      "cell_type": "code",
      "source": [
        "# create the final processed data\n",
        "# retaining only the relevant information\n",
        "\n",
        "columns = [\"Year\", \"Gender\"]\n",
        "columns = np.append(columns, gender_encoder.get_feature_names_out([\"Gender\"]))\n",
        "columns = np.append(columns, [\"COU_ORIG\", \"COU_DEST\", \"Origin Country\", \"Destination Country\"])\n",
        "columns = np.append(columns, countries_encoder.get_feature_names_out([\"COU_ORIG\", \"COU_DEST\"]))\n",
        "columns = np.append(columns, [\n",
        "                              \"Origin Country Population\", \n",
        "                              \"Origin Country Population Scaled\",\n",
        "                              \"Destination Country Population\",\n",
        "                              \"Destination Country Population Scaled\",\n",
        "                              \"Immigrant Stock Processed\",\n",
        "                              \"Immigrant Stock Processed Scaled\",\n",
        "                              \"Immigrant Stock Imputed Indicator\"\n",
        "])\n",
        "\n",
        "final_data = processed_data[columns]\n",
        "\n",
        "# make sure the year remains an integer value\n",
        "final_data[\"Year\"] = final_data[\"Year\"].astype(\"int16\")"
      ],
      "metadata": {
        "id": "TCIkA914zK-Q"
      },
      "execution_count": 8,
      "outputs": []
    },
    {
      "cell_type": "code",
      "source": [
        "# display a sample of the final data\n",
        "print(\n",
        "    \"A sample of final processed data is \\n {}\".format(\n",
        "      final_data[0:10]  \n",
        "    )\n",
        "  )"
      ],
      "metadata": {
        "colab": {
          "base_uri": "https://localhost:8080/"
        },
        "id": "jlLAKP8T4qr1",
        "outputId": "e78f1a71-4b99-47e3-c1f3-a045afc669c5"
      },
      "execution_count": 9,
      "outputs": [
        {
          "output_type": "stream",
          "name": "stdout",
          "text": [
            "A sample of final processed data is \n",
            "    Year Gender  Gender_MEN  Gender_WMN COU_ORIG COU_DEST Origin Country Destination Country  COU_ORIG_AFG  COU_ORIG_AGO  COU_ORIG_ALB  COU_ORIG_AND  COU_ORIG_ARE  COU_ORIG_ARG  COU_ORIG_ARM  COU_ORIG_ATG  COU_ORIG_AUS  COU_ORIG_AUT  COU_ORIG_AZE  COU_ORIG_BDI  COU_ORIG_BEL  COU_ORIG_BEN  COU_ORIG_BFA  COU_ORIG_BGD  COU_ORIG_BGR  COU_ORIG_BHR  COU_ORIG_BHS  COU_ORIG_BIH  COU_ORIG_BLR  COU_ORIG_BLZ  COU_ORIG_BMU  COU_ORIG_BOL  COU_ORIG_BRA  COU_ORIG_BRB  COU_ORIG_BRN  COU_ORIG_BTN  COU_ORIG_BWA  COU_ORIG_CAF  COU_ORIG_CAN  COU_ORIG_CHE  ...  COU_DEST_AUS  COU_DEST_AUT  COU_DEST_BEL  COU_DEST_CAN  COU_DEST_CHE  COU_DEST_CHL  COU_DEST_CZE  COU_DEST_DEU  COU_DEST_DNK  COU_DEST_ESP  COU_DEST_EST  COU_DEST_FIN  COU_DEST_FRA  COU_DEST_GBR  COU_DEST_GRC  COU_DEST_HUN  COU_DEST_IRL  COU_DEST_ISL  COU_DEST_ISR  COU_DEST_ITA  COU_DEST_LUX  COU_DEST_LVA  COU_DEST_MEX  COU_DEST_NLD  COU_DEST_NOR  COU_DEST_NZL  COU_DEST_POL  COU_DEST_PRT  COU_DEST_SVK  COU_DEST_SVN  COU_DEST_SWE  COU_DEST_TUR  COU_DEST_USA  Origin Country Population  Origin Country Population Scaled  Destination Country Population  Destination Country Population Scaled  Immigrant Stock Processed  Immigrant Stock Processed Scaled  Immigrant Stock Imputed Indicator\n",
            "0  2000    MEN         1.0         0.0      AFG      AUS    Afghanistan           Australia           1.0           0.0           0.0           0.0           0.0           0.0           0.0           0.0           0.0           0.0           0.0           0.0           0.0           0.0           0.0           0.0           0.0           0.0           0.0           0.0           0.0           0.0           0.0           0.0           0.0           0.0           0.0           0.0           0.0           0.0           0.0           0.0  ...           1.0           0.0           0.0           0.0           0.0           0.0           0.0           0.0           0.0           0.0           0.0           0.0           0.0           0.0           0.0           0.0           0.0           0.0           0.0           0.0           0.0           0.0           0.0           0.0           0.0           0.0           0.0           0.0           0.0           0.0           0.0           0.0           0.0                 20779957.0                          0.000000                      19153000.0                               0.000000                     6500.0                          0.055057                                  0\n",
            "1  2001    MEN         1.0         0.0      AFG      AUS    Afghanistan           Australia           1.0           0.0           0.0           0.0           0.0           0.0           0.0           0.0           0.0           0.0           0.0           0.0           0.0           0.0           0.0           0.0           0.0           0.0           0.0           0.0           0.0           0.0           0.0           0.0           0.0           0.0           0.0           0.0           0.0           0.0           0.0           0.0  ...           1.0           0.0           0.0           0.0           0.0           0.0           0.0           0.0           0.0           0.0           0.0           0.0           0.0           0.0           0.0           0.0           0.0           0.0           0.0           0.0           0.0           0.0           0.0           0.0           0.0           0.0           0.0           0.0           0.0           0.0           0.0           0.0           0.0                 21606992.0                          0.045571                      19413000.0                               0.039792                     7410.0                          0.082286                                  0\n",
            "2  2002    MEN         1.0         0.0      AFG      AUS    Afghanistan           Australia           1.0           0.0           0.0           0.0           0.0           0.0           0.0           0.0           0.0           0.0           0.0           0.0           0.0           0.0           0.0           0.0           0.0           0.0           0.0           0.0           0.0           0.0           0.0           0.0           0.0           0.0           0.0           0.0           0.0           0.0           0.0           0.0  ...           1.0           0.0           0.0           0.0           0.0           0.0           0.0           0.0           0.0           0.0           0.0           0.0           0.0           0.0           0.0           0.0           0.0           0.0           0.0           0.0           0.0           0.0           0.0           0.0           0.0           0.0           0.0           0.0           0.0           0.0           0.0           0.0           0.0                 22600774.0                          0.100329                      19651400.0                               0.076277                     8710.0                          0.121185                                  0\n",
            "3  2003    MEN         1.0         0.0      AFG      AUS    Afghanistan           Australia           1.0           0.0           0.0           0.0           0.0           0.0           0.0           0.0           0.0           0.0           0.0           0.0           0.0           0.0           0.0           0.0           0.0           0.0           0.0           0.0           0.0           0.0           0.0           0.0           0.0           0.0           0.0           0.0           0.0           0.0           0.0           0.0  ...           1.0           0.0           0.0           0.0           0.0           0.0           0.0           0.0           0.0           0.0           0.0           0.0           0.0           0.0           0.0           0.0           0.0           0.0           0.0           0.0           0.0           0.0           0.0           0.0           0.0           0.0           0.0           0.0           0.0           0.0           0.0           0.0           0.0                 23680871.0                          0.159844                      19895400.0                               0.113620                     9260.0                          0.137642                                  0\n",
            "4  2004    MEN         1.0         0.0      AFG      AUS    Afghanistan           Australia           1.0           0.0           0.0           0.0           0.0           0.0           0.0           0.0           0.0           0.0           0.0           0.0           0.0           0.0           0.0           0.0           0.0           0.0           0.0           0.0           0.0           0.0           0.0           0.0           0.0           0.0           0.0           0.0           0.0           0.0           0.0           0.0  ...           1.0           0.0           0.0           0.0           0.0           0.0           0.0           0.0           0.0           0.0           0.0           0.0           0.0           0.0           0.0           0.0           0.0           0.0           0.0           0.0           0.0           0.0           0.0           0.0           0.0           0.0           0.0           0.0           0.0           0.0           0.0           0.0           0.0                 24726689.0                          0.217470                      20127400.0                               0.149127                     9810.0                          0.154099                                  0\n",
            "5  2005    MEN         1.0         0.0      AFG      AUS    Afghanistan           Australia           1.0           0.0           0.0           0.0           0.0           0.0           0.0           0.0           0.0           0.0           0.0           0.0           0.0           0.0           0.0           0.0           0.0           0.0           0.0           0.0           0.0           0.0           0.0           0.0           0.0           0.0           0.0           0.0           0.0           0.0           0.0           0.0  ...           1.0           0.0           0.0           0.0           0.0           0.0           0.0           0.0           0.0           0.0           0.0           0.0           0.0           0.0           0.0           0.0           0.0           0.0           0.0           0.0           0.0           0.0           0.0           0.0           0.0           0.0           0.0           0.0           0.0           0.0           0.0           0.0           0.0                 25654274.0                          0.268581                      20394800.0                               0.190051                    10600.0                          0.177738                                  0\n",
            "6  2006    MEN         1.0         0.0      AFG      AUS    Afghanistan           Australia           1.0           0.0           0.0           0.0           0.0           0.0           0.0           0.0           0.0           0.0           0.0           0.0           0.0           0.0           0.0           0.0           0.0           0.0           0.0           0.0           0.0           0.0           0.0           0.0           0.0           0.0           0.0           0.0           0.0           0.0           0.0           0.0  ...           1.0           0.0           0.0           0.0           0.0           0.0           0.0           0.0           0.0           0.0           0.0           0.0           0.0           0.0           0.0           0.0           0.0           0.0           0.0           0.0           0.0           0.0           0.0           0.0           0.0           0.0           0.0           0.0           0.0           0.0           0.0           0.0           0.0                 26433058.0                          0.311493                      20697900.0                               0.236439                    12170.0                          0.224716                                  0\n",
            "7  2007    MEN         1.0         0.0      AFG      AUS    Afghanistan           Australia           1.0           0.0           0.0           0.0           0.0           0.0           0.0           0.0           0.0           0.0           0.0           0.0           0.0           0.0           0.0           0.0           0.0           0.0           0.0           0.0           0.0           0.0           0.0           0.0           0.0           0.0           0.0           0.0           0.0           0.0           0.0           0.0  ...           1.0           0.0           0.0           0.0           0.0           0.0           0.0           0.0           0.0           0.0           0.0           0.0           0.0           0.0           0.0           0.0           0.0           0.0           0.0           0.0           0.0           0.0           0.0           0.0           0.0           0.0           0.0           0.0           0.0           0.0           0.0           0.0           0.0                 27100542.0                          0.348273                      20827600.0                               0.256289                    13280.0                          0.257929                                  0\n",
            "8  2008    MEN         1.0         0.0      AFG      AUS    Afghanistan           Australia           1.0           0.0           0.0           0.0           0.0           0.0           0.0           0.0           0.0           0.0           0.0           0.0           0.0           0.0           0.0           0.0           0.0           0.0           0.0           0.0           0.0           0.0           0.0           0.0           0.0           0.0           0.0           0.0           0.0           0.0           0.0           0.0  ...           1.0           0.0           0.0           0.0           0.0           0.0           0.0           0.0           0.0           0.0           0.0           0.0           0.0           0.0           0.0           0.0           0.0           0.0           0.0           0.0           0.0           0.0           0.0           0.0           0.0           0.0           0.0           0.0           0.0           0.0           0.0           0.0           0.0                 27722281.0                          0.382531                      21249200.0                               0.320812                    14230.0                          0.286355                                  0\n",
            "9  2009    MEN         1.0         0.0      AFG      AUS    Afghanistan           Australia           1.0           0.0           0.0           0.0           0.0           0.0           0.0           0.0           0.0           0.0           0.0           0.0           0.0           0.0           0.0           0.0           0.0           0.0           0.0           0.0           0.0           0.0           0.0           0.0           0.0           0.0           0.0           0.0           0.0           0.0           0.0           0.0  ...           1.0           0.0           0.0           0.0           0.0           0.0           0.0           0.0           0.0           0.0           0.0           0.0           0.0           0.0           0.0           0.0           0.0           0.0           0.0           0.0           0.0           0.0           0.0           0.0           0.0           0.0           0.0           0.0           0.0           0.0           0.0           0.0           0.0                 28394806.0                          0.419588                      21691700.0                               0.388534                    15360.0                          0.320168                                  0\n",
            "\n",
            "[10 rows x 257 columns]\n"
          ]
        }
      ]
    },
    {
      "cell_type": "code",
      "source": [
        "# save the processed data\n",
        "final_data.to_parquet(\"migration_dataset_fully_processed.parquet\")"
      ],
      "metadata": {
        "id": "1StStaHPotgn"
      },
      "execution_count": 10,
      "outputs": []
    }
  ],
  "metadata": {
    "kernelspec": {
      "display_name": "Python 3",
      "language": "python",
      "name": "python3"
    },
    "language_info": {
      "codemirror_mode": {
        "name": "ipython",
        "version": 3
      },
      "file_extension": ".py",
      "mimetype": "text/x-python",
      "name": "python",
      "nbconvert_exporter": "python",
      "pygments_lexer": "ipython3",
      "version": "3.7.3"
    },
    "colab": {
      "name": "003_Categorical_Data_Processing.ipynb",
      "provenance": [],
      "collapsed_sections": []
    }
  },
  "nbformat": 4,
  "nbformat_minor": 0
}