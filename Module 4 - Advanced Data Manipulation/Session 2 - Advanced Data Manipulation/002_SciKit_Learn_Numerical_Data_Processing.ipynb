{
  "cells": [
    {
      "cell_type": "markdown",
      "metadata": {
        "id": "KDuU6OSWXKo4"
      },
      "source": [
        "![*INTERTECHNICA - SOLON EDUCATIONAL PROGRAMS - TECHNOLOGY LINE*](https://solon.intertechnica.com/assets/IntertechnicaSolonEducationalPrograms-TechnologyLine.png)"
      ]
    },
    {
      "cell_type": "markdown",
      "metadata": {
        "id": "OeBbVwSSXKo9"
      },
      "source": [
        "# Data Manipulation with Python - Advanced Data Manipulation - Numerical Data Processing"
      ]
    },
    {
      "cell_type": "markdown",
      "metadata": {
        "id": "uUhqqWdPXKpA"
      },
      "source": [
        "*Basic initialization of the workspace.*"
      ]
    },
    {
      "cell_type": "code",
      "source": [
        "!python -m pip install numpy\n",
        "import numpy as np\n",
        "print (\"NumPy installed at version: {}\".format(np.__version__))"
      ],
      "metadata": {
        "colab": {
          "base_uri": "https://localhost:8080/"
        },
        "id": "OJzCFKioH6UR",
        "outputId": "c8b9ca2b-e89f-40c6-e4c0-95451a7ef2d1"
      },
      "execution_count": 1,
      "outputs": [
        {
          "output_type": "stream",
          "name": "stdout",
          "text": [
            "Requirement already satisfied: numpy in /usr/local/lib/python3.7/dist-packages (1.21.5)\n",
            "NumPy installed at version: 1.21.5\n"
          ]
        }
      ]
    },
    {
      "cell_type": "code",
      "execution_count": 2,
      "metadata": {
        "id": "AjAZRU7GXKpE",
        "outputId": "32272665-39b4-45ca-cccd-58cce3755ab5",
        "colab": {
          "base_uri": "https://localhost:8080/"
        }
      },
      "outputs": [
        {
          "output_type": "stream",
          "name": "stdout",
          "text": [
            "Requirement already satisfied: pandas in /usr/local/lib/python3.7/dist-packages (1.3.5)\n",
            "Requirement already satisfied: numpy>=1.17.3 in /usr/local/lib/python3.7/dist-packages (from pandas) (1.21.5)\n",
            "Requirement already satisfied: pytz>=2017.3 in /usr/local/lib/python3.7/dist-packages (from pandas) (2018.9)\n",
            "Requirement already satisfied: python-dateutil>=2.7.3 in /usr/local/lib/python3.7/dist-packages (from pandas) (2.8.2)\n",
            "Requirement already satisfied: six>=1.5 in /usr/local/lib/python3.7/dist-packages (from python-dateutil>=2.7.3->pandas) (1.15.0)\n",
            "Pandas installed at version: 1.3.5\n"
          ]
        }
      ],
      "source": [
        "!python -m pip install pandas\n",
        "import pandas as pd\n",
        "print (\"Pandas installed at version: {}\".format(pd.__version__))\n",
        "\n",
        "#adjust pandas DataFrame display for a wider target \n",
        "pd.set_option('display.expand_frame_repr', False)\n",
        "\n",
        "# disable warnings for chained assignment\n",
        "pd.set_option('mode.chained_assignment', None)"
      ]
    },
    {
      "cell_type": "code",
      "source": [
        "!python -m pip install sklearn\n",
        "import sklearn as skl\n",
        "import sklearn.preprocessing as sklp\n",
        "\n",
        "print (\"Sklearn installed at version: {}\".format(skl.__version__))"
      ],
      "metadata": {
        "colab": {
          "base_uri": "https://localhost:8080/"
        },
        "id": "PbyxoZM02V84",
        "outputId": "b95b06de-279a-49e1-9a9f-f0c4767d979d"
      },
      "execution_count": 3,
      "outputs": [
        {
          "output_type": "stream",
          "name": "stdout",
          "text": [
            "Requirement already satisfied: sklearn in /usr/local/lib/python3.7/dist-packages (0.0)\n",
            "Requirement already satisfied: scikit-learn in /usr/local/lib/python3.7/dist-packages (from sklearn) (1.0.2)\n",
            "Requirement already satisfied: numpy>=1.14.6 in /usr/local/lib/python3.7/dist-packages (from scikit-learn->sklearn) (1.21.5)\n",
            "Requirement already satisfied: joblib>=0.11 in /usr/local/lib/python3.7/dist-packages (from scikit-learn->sklearn) (1.1.0)\n",
            "Requirement already satisfied: threadpoolctl>=2.0.0 in /usr/local/lib/python3.7/dist-packages (from scikit-learn->sklearn) (3.1.0)\n",
            "Requirement already satisfied: scipy>=1.1.0 in /usr/local/lib/python3.7/dist-packages (from scikit-learn->sklearn) (1.4.1)\n",
            "Sklearn installed at version: 1.0.2\n"
          ]
        }
      ]
    },
    {
      "cell_type": "code",
      "source": [
        "import warnings\n",
        "\n",
        "# supress RuntimeWarnings that are not relevant\n",
        "warnings.filterwarnings(\"ignore\")"
      ],
      "metadata": {
        "id": "iMF0sJ6rN8Fj"
      },
      "execution_count": 4,
      "outputs": []
    },
    {
      "cell_type": "markdown",
      "source": [
        "### 1 Loading Data"
      ],
      "metadata": {
        "id": "mPYkEjtYty65"
      }
    },
    {
      "cell_type": "markdown",
      "source": [
        "We will focus on processing a dataset focused on immigration data. It contains the number of foreign born citizens in different countries, considering different genders in different years. \n",
        "\n",
        "The dataset's values for immigrant stock have been imputed - so no missing data is expected on this feature.\n"
      ],
      "metadata": {
        "id": "jCNn1Jk-t2gz"
      }
    },
    {
      "cell_type": "markdown",
      "source": [
        "#### 1.1 Loading and exploring data"
      ],
      "metadata": {
        "id": "PrWXFgFiugmV"
      }
    },
    {
      "cell_type": "markdown",
      "source": [
        "First of all, loading data and basic exploration of the dataset structure is required. "
      ],
      "metadata": {
        "id": "iQYKBLNHuZ6F"
      }
    },
    {
      "cell_type": "code",
      "source": [
        "# load data for processing\n",
        "loaded_data = pd.read_parquet(\n",
        "    \"https://github.com/INTERTECHNICA-BUSINESS-SOLUTIONS-SRL/CourseDataManipulationWithPython/raw/main/Module%204%20-%20Advanced%20Data%20Manipulation/Session%202%20-%20Advanced%20Data%20Manipulation/data/migration_dataset_imputed.parquet\"\n",
        ")\n",
        "\n",
        "print(\n",
        "    \"A sample of of loaded data is \\n {}\".format(\n",
        "      loaded_data\n",
        "    )\n",
        ")"
      ],
      "metadata": {
        "id": "mQy9EwjetX3W",
        "colab": {
          "base_uri": "https://localhost:8080/"
        },
        "outputId": "28c918eb-2b8c-4621-ab9a-fd7449659928"
      },
      "execution_count": 5,
      "outputs": [
        {
          "output_type": "stream",
          "name": "stdout",
          "text": [
            "A sample of of loaded data is \n",
            "         Year Gender COU_ORIG Origin Country  Origin Country Population COU_DEST Destination Country  Destination Country Population  Immigrant Stock Processed  Immigrant Stock Imputed Indicator\n",
            "0       2000    MEN      AFG    Afghanistan                 20779957.0      AUS           Australia                      19153000.0                     6500.0                                  0\n",
            "1       2001    MEN      AFG    Afghanistan                 21606992.0      AUS           Australia                      19413000.0                     7410.0                                  0\n",
            "2       2002    MEN      AFG    Afghanistan                 22600774.0      AUS           Australia                      19651400.0                     8710.0                                  0\n",
            "3       2003    MEN      AFG    Afghanistan                 23680871.0      AUS           Australia                      19895400.0                     9260.0                                  0\n",
            "4       2004    MEN      AFG    Afghanistan                 24726689.0      AUS           Australia                      20127400.0                     9810.0                                  0\n",
            "...      ...    ...      ...            ...                        ...      ...                 ...                             ...                        ...                                ...\n",
            "289669  2016    WMN      ZWE       Zimbabwe                 14030338.0      USA       United States                     323071755.0                    11326.0                                  1\n",
            "289670  2017    WMN      ZWE       Zimbabwe                 14236599.0      USA       United States                     325122128.0                    11769.0                                  1\n",
            "289671  2018    WMN      ZWE       Zimbabwe                 14438812.0      USA       United States                     326838199.0                    12211.0                                  1\n",
            "289672  2019    WMN      ZWE       Zimbabwe                 14645473.0      USA       United States                     328329953.0                    12654.0                                  1\n",
            "289673  2020    WMN      ZWE       Zimbabwe                 14862927.0      USA       United States                     329484123.0                    13096.0                                  1\n",
            "\n",
            "[289674 rows x 10 columns]\n"
          ]
        }
      ]
    },
    {
      "cell_type": "markdown",
      "source": [
        "We can observe that the dataset has several features:\n",
        "\n",
        "*  **Year** - the year of observation;\n",
        "*  **Gender** - the gender of the immigrants;\n",
        "*  **COU_ORIG** - the ISO3 code for the country of origin;\n",
        "*  **Origin Country** - the name of the country of origin (country of birth/nationality);\n",
        "*  **Origin Country Population** - the population in the country of origin;\n",
        "*  **COU_DEST** - the country of destination (country of residence);\n",
        "*  **Destination Country** - the country of residence;\n",
        "*  **Destination Country Population** - the population in the country of destination;\n",
        "*  **Immigrant Stock Processed** - the number of immigrants (foreign born citizens) which was processed by providing imputed values where the original data has been missing;\n",
        "*  **Immigrant Stock Imputed Indicator** - an indicator specifying if the immigrant stock value is the original one or it has been missing and the actual value is imputed.\n"
      ],
      "metadata": {
        "id": "hsNM6uGxuuND"
      }
    },
    {
      "cell_type": "markdown",
      "source": [
        "We are interested in making sure that the numerical features are processed in a manner that is most useful both for data insights and for machine learning processing.\n",
        "\n",
        "First of all, let's find out some statistical information about these features:"
      ],
      "metadata": {
        "id": "QEpQqmRi9WuX"
      }
    },
    {
      "cell_type": "code",
      "source": [
        "# define the target numerical values\n",
        "target_features = [\n",
        "                    \"Immigrant Stock Processed\",\n",
        "                    \"Origin Country Population\",\n",
        "                    \"Destination Country Population\"\n",
        "                  ]\n",
        "\n",
        "# print basic statistics about target features\n",
        "for target_feature in target_features :\n",
        "  target_feature_valid = loaded_data[~np.isnan(loaded_data[target_feature])]\n",
        "\n",
        "  print(\"Target feature: {} \\n\".format(target_feature))\n",
        "  print(\"Min Value: {:.2f}, Max Value: {:.2f}, Average Value: {:.2f}, Standard Deviation {:.2f} \\n\".format(\n",
        "      np.min(target_feature_valid[target_feature]),\n",
        "      np.max(target_feature_valid[target_feature]),\n",
        "      np.average(target_feature_valid[target_feature]),\n",
        "      np.std(target_feature_valid[target_feature])\n",
        "    )\n",
        "  )\n"
      ],
      "metadata": {
        "colab": {
          "base_uri": "https://localhost:8080/"
        },
        "id": "yaYOEZri9VBQ",
        "outputId": "8e55eab8-5cde-4823-8eb9-7b31ff93b79b"
      },
      "execution_count": 6,
      "outputs": [
        {
          "output_type": "stream",
          "name": "stdout",
          "text": [
            "Target feature: Immigrant Stock Processed \n",
            "\n",
            "Min Value: 0.00, Max Value: 11714489.00, Average Value: 6853.38, Standard Deviation 88985.54 \n",
            "\n",
            "Target feature: Origin Country Population \n",
            "\n",
            "Min Value: 9392.00, Max Value: 1410929362.00, Average Value: 34891321.29, Standard Deviation 133379259.47 \n",
            "\n",
            "Target feature: Destination Country Population \n",
            "\n",
            "Min Value: 281205.00, Max Value: 329484123.00, Average Value: 32103057.69, Standard Deviation 56298756.97 \n",
            "\n"
          ]
        }
      ]
    },
    {
      "cell_type": "markdown",
      "source": [
        "#### 1.2 Feature scaling"
      ],
      "metadata": {
        "id": "haJFHoogxakm"
      }
    },
    {
      "cell_type": "markdown",
      "source": [
        "We can observe that there is a lot of variability in the numerical features. \n",
        "\n",
        "Usually, for many machine learning algorithms, a high variability in the data along with a wide interval of values are highly detrimental for algorithmic performance. In many cases, the data should be processed so that it is fit into a clearly defined interval (usually [0,1])."
      ],
      "metadata": {
        "id": "2K2Z2vMuwF4K"
      }
    },
    {
      "cell_type": "markdown",
      "source": [
        "The sklearn library has a strong support for data scaling via the [**MinMaxScaler**](https://scikit-learn.org/stable/modules/generated/sklearn.preprocessing.MinMaxScaler.html#sklearn.preprocessing.MinMaxScaler) or the [**RobustScaler**](https://scikit-learn.org/stable/modules/generated/sklearn.preprocessing.RobustScaler.html#sklearn.preprocessing.RobustScaler) classes.\n",
        "\n",
        "In case the data variability is high, the RobustScaler class is preffered since it is quite resilient to data outliers (data that have extreme or unusual values)."
      ],
      "metadata": {
        "id": "YMRwAq7ormZv"
      }
    },
    {
      "cell_type": "markdown",
      "source": [
        "In case of the **Origin Country Population** and **Destination Country Population** we can scale the features at the country (origin or destination) level. We would like to keep the values in the interval [0,1] and this is done by using the MinMaxScaler for each slice of data associated with an origin or destination country. "
      ],
      "metadata": {
        "id": "Ixmwwuu6tKb9"
      }
    },
    {
      "cell_type": "code",
      "source": [
        "# create a column for origin and destination country population\n",
        "# scaled values\n",
        "loaded_data[\"Origin Country Population Scaled\"] = np.nan\n",
        "loaded_data[\"Destination Country Population Scaled\"] = np.nan\n",
        "\n",
        "# process all origin countries\n",
        "origin_countries = loaded_data[\"COU_ORIG\"]\n",
        "origin_countries = origin_countries.drop_duplicates()\n",
        "\n",
        "for origin_country in origin_countries.values :\n",
        "  # determine the slice of data for the origin country\n",
        "  origin_country_slice = loaded_data[loaded_data[\"COU_ORIG\"] == origin_country]\n",
        "\n",
        "  # scale the data and assign it to the corresponding feature\n",
        "  origin_country_scaler = sklp.MinMaxScaler()\n",
        "  loaded_data.loc[origin_country_slice.index, \"Origin Country Population Scaled\"] = \\\n",
        "    origin_country_scaler.fit_transform(\n",
        "        origin_country_slice[\"Origin Country Population\"].values.reshape((-1,1)) \n",
        "      )\n",
        "\n",
        "# we process the destination countries as well\n",
        "destination_countries = loaded_data[\"COU_DEST\"]\n",
        "destination_countries = destination_countries.drop_duplicates()\n",
        "\n",
        "for destination_country in destination_countries.values :\n",
        "  # slice the data for a specific destination country\n",
        "  destination_country_slice = loaded_data[loaded_data[\"COU_DEST\"] == destination_country]\n",
        "\n",
        "  # scale the data and assign it to the corresponding feature\n",
        "  destination_country_scaler = sklp.MinMaxScaler()\n",
        "  loaded_data.loc[destination_country_slice.index, \"Destination Country Population Scaled\"] = \\\n",
        "    destination_country_scaler.fit_transform(\n",
        "        destination_country_slice[\"Destination Country Population\"].values.reshape((-1,1)) \n",
        "      )"
      ],
      "metadata": {
        "id": "-ane2XOQts8q"
      },
      "execution_count": 7,
      "outputs": []
    },
    {
      "cell_type": "markdown",
      "source": [
        "We will scale the **Immigrant Stock Processed** feature as well, this time over all the applicable (Origin Country, Destination Country) combinations."
      ],
      "metadata": {
        "id": "2IGoe_16Rdh8"
      }
    },
    {
      "cell_type": "code",
      "source": [
        "# get all the applicable (origin country, destination country) combinations\n",
        "country_combinations = loaded_data[[\"COU_ORIG\", \"COU_DEST\"]]\n",
        "country_combinations = country_combinations.drop_duplicates()\n",
        "\n",
        "# create a column for scaled values of Immigrant Stock Processed feature\n",
        "loaded_data[\"Immigrant Stock Processed Scaled\"] = np.nan\n",
        "\n",
        "for origin_country, destination_country in country_combinations.values:\n",
        "  # determine the slice of data for the origin and destination country\n",
        "  data_slice = loaded_data[loaded_data[\"COU_ORIG\"] == origin_country]\n",
        "  data_slice = data_slice[data_slice[\"COU_DEST\"] == destination_country]\n",
        "\n",
        "  # scale the data and assign it to the corresponding feature\n",
        "  immigrant_stock_scaler = sklp.MinMaxScaler()\n",
        "  loaded_data.loc[data_slice.index, \"Immigrant Stock Processed Scaled\"] = \\\n",
        "      immigrant_stock_scaler.fit_transform(\n",
        "        data_slice[\"Immigrant Stock Processed\"].values.reshape((-1,1))\n",
        "      )"
      ],
      "metadata": {
        "id": "WDWG4niMRvYj"
      },
      "execution_count": 8,
      "outputs": []
    },
    {
      "cell_type": "code",
      "source": [
        "# display a data sample\n",
        "print(\n",
        "    \"A sample of the scaled data is as follows \\n{}\".format(\n",
        "        loaded_data\n",
        "    )\n",
        ")"
      ],
      "metadata": {
        "colab": {
          "base_uri": "https://localhost:8080/"
        },
        "id": "6imDfqNdNYNT",
        "outputId": "4fa71180-c97d-483b-9950-0341f6f0ecd4"
      },
      "execution_count": 9,
      "outputs": [
        {
          "output_type": "stream",
          "name": "stdout",
          "text": [
            "A sample of the scaled data is as follows \n",
            "        Year Gender COU_ORIG Origin Country  Origin Country Population COU_DEST Destination Country  Destination Country Population  Immigrant Stock Processed  Immigrant Stock Imputed Indicator  Origin Country Population Scaled  Destination Country Population Scaled  Immigrant Stock Processed Scaled\n",
            "0       2000    MEN      AFG    Afghanistan                 20779957.0      AUS           Australia                      19153000.0                     6500.0                                  0                          0.000000                               0.000000                          0.055057\n",
            "1       2001    MEN      AFG    Afghanistan                 21606992.0      AUS           Australia                      19413000.0                     7410.0                                  0                          0.045571                               0.039792                          0.082286\n",
            "2       2002    MEN      AFG    Afghanistan                 22600774.0      AUS           Australia                      19651400.0                     8710.0                                  0                          0.100329                               0.076277                          0.121185\n",
            "3       2003    MEN      AFG    Afghanistan                 23680871.0      AUS           Australia                      19895400.0                     9260.0                                  0                          0.159844                               0.113620                          0.137642\n",
            "4       2004    MEN      AFG    Afghanistan                 24726689.0      AUS           Australia                      20127400.0                     9810.0                                  0                          0.217470                               0.149127                          0.154099\n",
            "...      ...    ...      ...            ...                        ...      ...                 ...                             ...                        ...                                ...                               ...                                    ...                               ...\n",
            "289669  2016    WMN      ZWE       Zimbabwe                 14030338.0      USA       United States                     323071755.0                    11326.0                                  1                          0.720743                               0.864494                          0.470449\n",
            "289670  2017    WMN      ZWE       Zimbabwe                 14236599.0      USA       United States                     325122128.0                    11769.0                                  1                          0.789925                               0.907823                          0.495968\n",
            "289671  2018    WMN      ZWE       Zimbabwe                 14438812.0      USA       United States                     326838199.0                    12211.0                                  1                          0.857749                               0.944086                          0.521429\n",
            "289672  2019    WMN      ZWE       Zimbabwe                 14645473.0      USA       United States                     328329953.0                    12654.0                                  1                          0.927064                               0.975610                          0.546947\n",
            "289673  2020    WMN      ZWE       Zimbabwe                 14862927.0      USA       United States                     329484123.0                    13096.0                                  1                          1.000000                               1.000000                          0.572408\n",
            "\n",
            "[289674 rows x 13 columns]\n"
          ]
        }
      ]
    },
    {
      "cell_type": "code",
      "source": [
        "# define the target numerical values\n",
        "target_features = [\n",
        "                    \"Immigrant Stock Processed Scaled\",\n",
        "                    \"Origin Country Population Scaled\",\n",
        "                    \"Destination Country Population Scaled\"\n",
        "                  ]\n",
        "\n",
        "# print basic statistics about target features\n",
        "for target_feature in target_features :\n",
        "  target_feature_valid = loaded_data[~np.isnan(loaded_data[target_feature])]\n",
        "\n",
        "  print(\"Target feature: {} \\n\".format(target_feature))\n",
        "  print(\"Min Value: {:.2f}, Max Value: {:.2f}, Average Value: {:.2f}, Standard Deviation {:.2f} \\n\".format(\n",
        "      np.min(target_feature_valid[target_feature]),\n",
        "      np.max(target_feature_valid[target_feature]),\n",
        "      np.average(target_feature_valid[target_feature]),\n",
        "      np.std(target_feature_valid[target_feature])\n",
        "    )\n",
        "  )"
      ],
      "metadata": {
        "colab": {
          "base_uri": "https://localhost:8080/"
        },
        "id": "y0Ahc_9uWCoV",
        "outputId": "6f0bad11-6c31-4c79-c12f-4cc0135b00c5"
      },
      "execution_count": 10,
      "outputs": [
        {
          "output_type": "stream",
          "name": "stdout",
          "text": [
            "Target feature: Immigrant Stock Processed Scaled \n",
            "\n",
            "Min Value: 0.00, Max Value: 1.00, Average Value: 0.21, Standard Deviation 0.32 \n",
            "\n",
            "Target feature: Origin Country Population Scaled \n",
            "\n",
            "Min Value: 0.00, Max Value: 1.00, Average Value: 0.48, Standard Deviation 0.32 \n",
            "\n",
            "Target feature: Destination Country Population Scaled \n",
            "\n",
            "Min Value: 0.00, Max Value: 1.00, Average Value: 0.48, Standard Deviation 0.32 \n",
            "\n"
          ]
        }
      ]
    },
    {
      "cell_type": "markdown",
      "source": [
        "A this point we decide to address only the combination that has a ratio of missing records of 0.4 or less. This is an empirical decision, ratio can vary depending on the data analyst and business needs.\n",
        "\n",
        "Therefore we will leave all the combinations having a ratio of more than 0.4 as is, for the rest we will used data imputation in order to replace missing values with estimated ones.  "
      ],
      "metadata": {
        "id": "WTzziYA905iI"
      }
    },
    {
      "cell_type": "code",
      "source": [
        "# create the final processed data\n",
        "# retaining only the relevant information\n",
        "final_data = loaded_data[[\n",
        "                                \"Year\", \n",
        "                                \"Gender\", \n",
        "                                \"COU_ORIG\", \n",
        "                                \"Origin Country\",\n",
        "                                \"Origin Country Population\",\n",
        "                                \"Origin Country Population Scaled\",\n",
        "                                \"COU_DEST\",\n",
        "                                \"Destination Country\",\n",
        "                                \"Destination Country Population\",\n",
        "                                \"Destination Country Population Scaled\",\n",
        "                                \"Immigrant Stock Processed\",\n",
        "                                \"Immigrant Stock Processed Scaled\",\n",
        "                                \"Immigrant Stock Imputed Indicator\"\n",
        "                               ]]\n",
        "\n",
        "# make sure the year remains an integer value\n",
        "final_data[\"Year\"] = final_data[\"Year\"].astype(\"int16\")"
      ],
      "metadata": {
        "id": "TCIkA914zK-Q"
      },
      "execution_count": 11,
      "outputs": []
    },
    {
      "cell_type": "code",
      "source": [
        "# display a sample of the final data\n",
        "print(\n",
        "    \"A sample of final processed data is \\n {}\".format(\n",
        "      final_data\n",
        "    )\n",
        ")"
      ],
      "metadata": {
        "colab": {
          "base_uri": "https://localhost:8080/"
        },
        "id": "jlLAKP8T4qr1",
        "outputId": "45947698-440c-41ee-b823-924eea6d726a"
      },
      "execution_count": 12,
      "outputs": [
        {
          "output_type": "stream",
          "name": "stdout",
          "text": [
            "A sample of final processed data is \n",
            "         Year Gender COU_ORIG Origin Country  Origin Country Population  Origin Country Population Scaled COU_DEST Destination Country  Destination Country Population  Destination Country Population Scaled  Immigrant Stock Processed  Immigrant Stock Processed Scaled  Immigrant Stock Imputed Indicator\n",
            "0       2000    MEN      AFG    Afghanistan                 20779957.0                          0.000000      AUS           Australia                      19153000.0                               0.000000                     6500.0                          0.055057                                  0\n",
            "1       2001    MEN      AFG    Afghanistan                 21606992.0                          0.045571      AUS           Australia                      19413000.0                               0.039792                     7410.0                          0.082286                                  0\n",
            "2       2002    MEN      AFG    Afghanistan                 22600774.0                          0.100329      AUS           Australia                      19651400.0                               0.076277                     8710.0                          0.121185                                  0\n",
            "3       2003    MEN      AFG    Afghanistan                 23680871.0                          0.159844      AUS           Australia                      19895400.0                               0.113620                     9260.0                          0.137642                                  0\n",
            "4       2004    MEN      AFG    Afghanistan                 24726689.0                          0.217470      AUS           Australia                      20127400.0                               0.149127                     9810.0                          0.154099                                  0\n",
            "...      ...    ...      ...            ...                        ...                               ...      ...                 ...                             ...                                    ...                        ...                               ...                                ...\n",
            "289669  2016    WMN      ZWE       Zimbabwe                 14030338.0                          0.720743      USA       United States                     323071755.0                               0.864494                    11326.0                          0.470449                                  1\n",
            "289670  2017    WMN      ZWE       Zimbabwe                 14236599.0                          0.789925      USA       United States                     325122128.0                               0.907823                    11769.0                          0.495968                                  1\n",
            "289671  2018    WMN      ZWE       Zimbabwe                 14438812.0                          0.857749      USA       United States                     326838199.0                               0.944086                    12211.0                          0.521429                                  1\n",
            "289672  2019    WMN      ZWE       Zimbabwe                 14645473.0                          0.927064      USA       United States                     328329953.0                               0.975610                    12654.0                          0.546947                                  1\n",
            "289673  2020    WMN      ZWE       Zimbabwe                 14862927.0                          1.000000      USA       United States                     329484123.0                               1.000000                    13096.0                          0.572408                                  1\n",
            "\n",
            "[289674 rows x 13 columns]\n"
          ]
        }
      ]
    },
    {
      "cell_type": "code",
      "source": [
        "# save the processed data\n",
        "final_data.to_parquet(\"migration_dataset_numerically_processed.parquet\")"
      ],
      "metadata": {
        "id": "1StStaHPotgn"
      },
      "execution_count": 13,
      "outputs": []
    }
  ],
  "metadata": {
    "kernelspec": {
      "display_name": "Python 3",
      "language": "python",
      "name": "python3"
    },
    "language_info": {
      "codemirror_mode": {
        "name": "ipython",
        "version": 3
      },
      "file_extension": ".py",
      "mimetype": "text/x-python",
      "name": "python",
      "nbconvert_exporter": "python",
      "pygments_lexer": "ipython3",
      "version": "3.7.3"
    },
    "colab": {
      "name": "002_SciKit_Learn_Numerical_Data_Processing.ipynb",
      "provenance": [],
      "collapsed_sections": []
    }
  },
  "nbformat": 4,
  "nbformat_minor": 0
}