{
  "nbformat": 4,
  "nbformat_minor": 0,
  "metadata": {
    "colab": {
      "name": "005_NumPy_Reshaping_and_Broadcasting.ipynb",
      "provenance": [],
      "collapsed_sections": []
    },
    "kernelspec": {
      "name": "python3",
      "display_name": "Python 3"
    },
    "language_info": {
      "name": "python"
    }
  },
  "cells": [
    {
      "cell_type": "markdown",
      "metadata": {
        "id": "KDuU6OSWXKo4"
      },
      "source": [
        "![*INTERTECHNICA - SOLON EDUCATIONAL PROGRAMS - TECHNOLOGY LINE*](https://solon.intertechnica.com/assets/IntertechnicaSolonEducationalPrograms-TechnologyLine.png)"
      ]
    },
    {
      "cell_type": "markdown",
      "metadata": {
        "id": "OeBbVwSSXKo9"
      },
      "source": [
        "# Data Manipulation with Python - The NumPy Library - Reshaping and Broadcasting"
      ]
    },
    {
      "cell_type": "markdown",
      "metadata": {
        "id": "uUhqqWdPXKpA"
      },
      "source": [
        "*Basic initialization of the workspace.*"
      ]
    },
    {
      "cell_type": "code",
      "execution_count": 1,
      "metadata": {
        "colab": {
          "base_uri": "https://localhost:8080/"
        },
        "id": "AjAZRU7GXKpE",
        "outputId": "1d0af88b-3a41-48e2-f2fa-5263dfb4cc65"
      },
      "outputs": [
        {
          "output_type": "stream",
          "name": "stdout",
          "text": [
            "Requirement already satisfied: numpy in /usr/local/lib/python3.7/dist-packages (1.19.5)\n",
            "NumPy installed at version: 1.19.5\n"
          ]
        }
      ],
      "source": [
        "!python -m pip install numpy\n",
        "import numpy as np\n",
        "print (\"NumPy installed at version: {}\".format(np.__version__))"
      ]
    },
    {
      "cell_type": "markdown",
      "source": [
        "## 1. Array reshaping"
      ],
      "metadata": {
        "id": "1dFjbE_IidYI"
      }
    },
    {
      "cell_type": "markdown",
      "source": [
        "Each array in NumPy is defined by the **number of its dimensions and the number of elements associated to each dimension**. Therefore, a NumPy array can be described by a tuple having the number of elements equal to the number of dimensions of that array, each element of the array having a value equal to the number of elements for each dimension.\n",
        "\n",
        "In Numpy, this information is obtained by accessing the **shape** property.\n",
        "\n"
      ],
      "metadata": {
        "id": "6iYD75kEixUG"
      }
    },
    {
      "cell_type": "markdown",
      "source": [
        "First of all, let's construct an unidimensional and a bidimensional array:"
      ],
      "metadata": {
        "id": "1gmL92Ssj0As"
      }
    },
    {
      "cell_type": "code",
      "source": [
        "# constructing the unidimensional array\n",
        "x_one_dimensional = np.array([ 1,   2,   3,   4,   5,   6,   7,   8,   9,  10])\n",
        "\n",
        "# constucting the two-dimensional array\n",
        "x_two_dimensional = np.array(\n",
        "      [[  1,   2,   3,   4,   5,   6,   7,   8,   9,  10],\n",
        "       [ 11,  12,  13,  14,  15,  16,  17,  18,  19,  20],\n",
        "       [ 21,  22,  23,  24,  25,  26,  27,  28,  29,  30],\n",
        "       [ 31,  32,  33,  34,  35,  36,  37,  38,  39,  40],\n",
        "       [ 41,  42,  43,  44,  45,  46,  47,  48,  49,  50],\n",
        "       [ 51,  52,  53,  54,  55,  56,  57,  58,  59,  60],\n",
        "       [ 61,  62,  63,  64,  65,  66,  67,  68,  69,  70],\n",
        "       [ 71,  72,  73,  74,  75,  76,  77,  78,  79,  80],\n",
        "       [ 81,  82,  83,  84,  85,  86,  87,  88,  89,  90],\n",
        "       [ 91,  92,  93,  94,  95,  96,  97,  98,  99, 100]])\n",
        "\n"
      ],
      "metadata": {
        "id": "OJaBjcOvjzKK"
      },
      "execution_count": 2,
      "outputs": []
    },
    {
      "cell_type": "markdown",
      "source": [
        "Let's inspect the shapes of these arrays:"
      ],
      "metadata": {
        "id": "t3g1PsijkZao"
      }
    },
    {
      "cell_type": "code",
      "source": [
        "# printing the one dimensional's array shape\n",
        "print(\"The shape of the uni-dimensional array is {}:\".format(\n",
        "    x_one_dimensional.shape\n",
        "))\n",
        "\n",
        "# printing the two dimensional's array shape\n",
        "print(\"The shape of the bi-dimensional array is {}:\".format(\n",
        "    x_two_dimensional.shape\n",
        "))"
      ],
      "metadata": {
        "colab": {
          "base_uri": "https://localhost:8080/"
        },
        "id": "PA_uI6Eqkcgz",
        "outputId": "90266563-2338-47b1-a0e2-85d6a368a2ff"
      },
      "execution_count": 3,
      "outputs": [
        {
          "output_type": "stream",
          "name": "stdout",
          "text": [
            "The shape of the uni-dimensional array is (10,):\n",
            "The shape of the bi-dimensional array is (10, 10):\n"
          ]
        }
      ]
    },
    {
      "cell_type": "markdown",
      "source": [
        "NumPy allows changing the shape of the array - assuming that the **new shape is compatible with the old one**. This can be done via the **reshape** method which takes as argument a tuple specifying the new shape. "
      ],
      "metadata": {
        "id": "8-JuTq85lPAt"
      }
    },
    {
      "cell_type": "code",
      "source": [
        "# reshape a one-dimensional array so it becomes two-dimensional\n",
        "one_dimensional_new_shape = (5,2)\n",
        "x_one_dimensional_reshaped = x_one_dimensional.reshape(one_dimensional_new_shape)\n",
        "print (\"The one dimensional array reshaped on the new shape {} is: \\n {}\".format(\n",
        "    one_dimensional_new_shape,\n",
        "    x_one_dimensional_reshaped\n",
        "))"
      ],
      "metadata": {
        "colab": {
          "base_uri": "https://localhost:8080/"
        },
        "id": "bwoAo9Eylmsu",
        "outputId": "8f29014b-fbf3-474b-d29b-c34dce72a5a0"
      },
      "execution_count": 4,
      "outputs": [
        {
          "output_type": "stream",
          "name": "stdout",
          "text": [
            "The one dimensional array reshaped on the new shape (5, 2) is: \n",
            " [[ 1  2]\n",
            " [ 3  4]\n",
            " [ 5  6]\n",
            " [ 7  8]\n",
            " [ 9 10]]\n"
          ]
        }
      ]
    },
    {
      "cell_type": "markdown",
      "source": [
        "We can do the same thing for multi-dimensional arrays as well:"
      ],
      "metadata": {
        "id": "Uzy1y0M1mI_x"
      }
    },
    {
      "cell_type": "code",
      "source": [
        "# reshape a two-dimensional array so it becomes three-dimensional\n",
        "two_dimensional_new_shape = (2, 2, 25)\n",
        "x_two_dimensional_reshaped = x_two_dimensional.reshape(two_dimensional_new_shape)\n",
        "print (\"The 2-dimensional array reshaped on the new shape {} is: \\n {}\".format(\n",
        "    two_dimensional_new_shape,\n",
        "    x_two_dimensional_reshaped\n",
        "))"
      ],
      "metadata": {
        "colab": {
          "base_uri": "https://localhost:8080/"
        },
        "id": "ufGR3DLemIYy",
        "outputId": "ef42e724-d085-4925-f474-0bccf74c1881"
      },
      "execution_count": 5,
      "outputs": [
        {
          "output_type": "stream",
          "name": "stdout",
          "text": [
            "The 2-dimensional array reshaped on the new shape (2, 2, 25) is: \n",
            " [[[  1   2   3   4   5   6   7   8   9  10  11  12  13  14  15  16  17\n",
            "    18  19  20  21  22  23  24  25]\n",
            "  [ 26  27  28  29  30  31  32  33  34  35  36  37  38  39  40  41  42\n",
            "    43  44  45  46  47  48  49  50]]\n",
            "\n",
            " [[ 51  52  53  54  55  56  57  58  59  60  61  62  63  64  65  66  67\n",
            "    68  69  70  71  72  73  74  75]\n",
            "  [ 76  77  78  79  80  81  82  83  84  85  86  87  88  89  90  91  92\n",
            "    93  94  95  96  97  98  99 100]]]\n"
          ]
        }
      ]
    },
    {
      "cell_type": "markdown",
      "source": [
        "It is possible to specify -1 for a single element of the tuple, in this case the number of elements for the dimension will be **inferred from the number of elements in the other dimensions**."
      ],
      "metadata": {
        "id": "KZzlOjRSmuU4"
      }
    },
    {
      "cell_type": "code",
      "source": [
        "# reshaping a two dimensional array with a new shape that has an explicit\n",
        "# numbers of elements in one dimension and the other dimension will be \n",
        "# calculated automatically\n",
        "two_dimensional_new_shape = (-1,25)\n",
        "x_two_dimensional_reshaped = x_two_dimensional.reshape(two_dimensional_new_shape)\n",
        "print (\"The 2-dimensional array reshaped on {} is: \\n {} \\n with the new shape {}\".format(\n",
        "    two_dimensional_new_shape,\n",
        "    x_two_dimensional_reshaped,\n",
        "    x_two_dimensional_reshaped.shape\n",
        "))"
      ],
      "metadata": {
        "colab": {
          "base_uri": "https://localhost:8080/"
        },
        "id": "KCkQJMJQqcG5",
        "outputId": "a81577c9-11b7-4425-9457-918422e8d758"
      },
      "execution_count": 6,
      "outputs": [
        {
          "output_type": "stream",
          "name": "stdout",
          "text": [
            "The 2-dimensional array reshaped on (-1, 25) is: \n",
            " [[  1   2   3   4   5   6   7   8   9  10  11  12  13  14  15  16  17  18\n",
            "   19  20  21  22  23  24  25]\n",
            " [ 26  27  28  29  30  31  32  33  34  35  36  37  38  39  40  41  42  43\n",
            "   44  45  46  47  48  49  50]\n",
            " [ 51  52  53  54  55  56  57  58  59  60  61  62  63  64  65  66  67  68\n",
            "   69  70  71  72  73  74  75]\n",
            " [ 76  77  78  79  80  81  82  83  84  85  86  87  88  89  90  91  92  93\n",
            "   94  95  96  97  98  99 100]] \n",
            " with the new shape (4, 25)\n"
          ]
        }
      ]
    },
    {
      "cell_type": "markdown",
      "source": [
        "It is possible to **increase indefinitely the dimensionality of an array** by using tuples with a larger dimension count and value 1 for the elements in the additional dimensions."
      ],
      "metadata": {
        "id": "G0ety31UrN0h"
      }
    },
    {
      "cell_type": "code",
      "source": [
        "# increasing the shape of an array three times without adding additional \n",
        "# elements\n",
        "expaning_new_shape = (1,1,10)\n",
        "x_one_dimensional_expanded = x_one_dimensional.reshape(expaning_new_shape)\n",
        "print (\"The one-dimensional array reshaped as {} is: \\n {}\".format(\n",
        "    expaning_new_shape,\n",
        "    x_one_dimensional_expanded\n",
        "))\n"
      ],
      "metadata": {
        "colab": {
          "base_uri": "https://localhost:8080/"
        },
        "id": "j02mgV2ZrIG4",
        "outputId": "2ddce1f8-4711-404e-b705-f27ec54288b7"
      },
      "execution_count": 7,
      "outputs": [
        {
          "output_type": "stream",
          "name": "stdout",
          "text": [
            "The one-dimensional array reshaped as (1, 1, 10) is: \n",
            " [[[ 1  2  3  4  5  6  7  8  9 10]]]\n"
          ]
        }
      ]
    },
    {
      "cell_type": "markdown",
      "source": [
        "Conversely, we can reduce the dimensionality of an array by **omitting the last dimension(s) value**. Of course, the compatibility between the number of the elements in the array and the shape must be maintained."
      ],
      "metadata": {
        "id": "dGvRVKpPsLYr"
      }
    },
    {
      "cell_type": "code",
      "source": [
        "# decreasing the shape of an array by omitting the last dimension value \n",
        "reducing_new_shape = (10,)\n",
        "x_one_dimensional_reduced = x_one_dimensional_expanded.reshape(reducing_new_shape)\n",
        "print (\"The one-dimensional array reshaped as {} is: \\n {}\".format(\n",
        "    reducing_new_shape,\n",
        "    x_one_dimensional_reduced\n",
        "))\n"
      ],
      "metadata": {
        "colab": {
          "base_uri": "https://localhost:8080/"
        },
        "outputId": "c57f5766-1378-45cd-aa3b-baf590564d87",
        "id": "qWfrt9KEsfTV"
      },
      "execution_count": 8,
      "outputs": [
        {
          "output_type": "stream",
          "name": "stdout",
          "text": [
            "The one-dimensional array reshaped as (10,) is: \n",
            " [ 1  2  3  4  5  6  7  8  9 10]\n"
          ]
        }
      ]
    },
    {
      "cell_type": "markdown",
      "source": [
        "In order to prevent unnecessary shape complexity, NumPy offers the function **squeeze** that removes all shapes of length one.\n",
        "This is often neceessary when dealing with data having redundat formats or dimensions."
      ],
      "metadata": {
        "id": "6QYbjHu9tTAK"
      }
    },
    {
      "cell_type": "code",
      "source": [
        "# removing all shapes of lengt one via np.squeeze \n",
        "x_one_dimensional_squeezed = np.squeeze(x_one_dimensional_expanded)\n",
        "print (\"The array \\n {} \\nwith shape {} can be squeezed to the array \\n {} \\n with shape {}\".format(\n",
        "    x_one_dimensional_expanded,\n",
        "    x_one_dimensional_expanded.shape,\n",
        "    x_one_dimensional_squeezed,\n",
        "    x_one_dimensional_squeezed.shape,\n",
        "))"
      ],
      "metadata": {
        "colab": {
          "base_uri": "https://localhost:8080/"
        },
        "id": "pIAJsfZ_tLm_",
        "outputId": "7d83c793-7ed0-4c01-9d6e-55a949f8d8d9"
      },
      "execution_count": 9,
      "outputs": [
        {
          "output_type": "stream",
          "name": "stdout",
          "text": [
            "The array \n",
            " [[[ 1  2  3  4  5  6  7  8  9 10]]] \n",
            "with shape (1, 1, 10) can be squeezed to the array \n",
            " [ 1  2  3  4  5  6  7  8  9 10] \n",
            " with shape (10,)\n"
          ]
        }
      ]
    },
    {
      "cell_type": "markdown",
      "source": [
        "## 2. Array Broadcasting"
      ],
      "metadata": {
        "id": "-HwWMcaRw5lk"
      }
    },
    {
      "cell_type": "markdown",
      "source": [
        "Numpy facilitates operations between arrays of different shapes, by reshaping them automatically as needed. \n",
        "\n",
        "This mechanism is called **array broadcasting**."
      ],
      "metadata": {
        "id": "I_iOuxNDxCzn"
      }
    },
    {
      "cell_type": "markdown",
      "source": [
        "### 2.1 Broadcasting with scalars"
      ],
      "metadata": {
        "id": "G3-TUaw50Zvd"
      }
    },
    {
      "cell_type": "markdown",
      "source": [
        "One of the most used array broadcasting operation is the **multiplication between an array and a scalar**."
      ],
      "metadata": {
        "id": "QLMScHacxZgQ"
      }
    },
    {
      "cell_type": "code",
      "source": [
        "# multiplication between a scalar and an array\n",
        "x_1d = np.array([ 1, 2, 3, 4, 5, 6, 7, 8, 9, 10])\n",
        "scalar = 2\n",
        "x_1d_multiplied = x_1d * scalar\n",
        "print(\n",
        "  \"The result of multiplication between array \\n {} and \\n scalar {} is : \\n {} \".format(\n",
        "    x_1d,\n",
        "    scalar,\n",
        "    x_1d_multiplied\n",
        "  )\n",
        ")"
      ],
      "metadata": {
        "colab": {
          "base_uri": "https://localhost:8080/"
        },
        "id": "E5i0ItLQxuEl",
        "outputId": "38ba683b-154a-4b6c-e0e4-dda116fa9649"
      },
      "execution_count": 10,
      "outputs": [
        {
          "output_type": "stream",
          "name": "stdout",
          "text": [
            "The result of multiplication between array \n",
            " [ 1  2  3  4  5  6  7  8  9 10] and \n",
            " scalar 2 is : \n",
            " [ 2  4  6  8 10 12 14 16 18 20] \n"
          ]
        }
      ]
    },
    {
      "cell_type": "markdown",
      "source": [
        "In the example above the scalar with the value 2 was broadcasted to the array [2, 2, 2, 2, 2, 2, 2, 2, 2, 2] so its dimensionality matches the one of the target array. This is equivalent to the code bellow:"
      ],
      "metadata": {
        "id": "oZio88Ciys7e"
      }
    },
    {
      "cell_type": "code",
      "source": [
        "# the same operation can be performed without broadcasting\n",
        "scalar_1_broadcasted = np.full(10, 2)\n",
        "x_1d_multiplied_explicit_broadcast = x_1d * scalar_1_broadcasted\n",
        "print(x_1d_multiplied_explicit_broadcast)"
      ],
      "metadata": {
        "colab": {
          "base_uri": "https://localhost:8080/"
        },
        "id": "gesvp3ZvywzB",
        "outputId": "16bcfee1-f2d2-4494-96a2-daa9af1db1e3"
      },
      "execution_count": 11,
      "outputs": [
        {
          "output_type": "stream",
          "name": "stdout",
          "text": [
            "[ 2  4  6  8 10 12 14 16 18 20]\n"
          ]
        }
      ]
    },
    {
      "cell_type": "markdown",
      "source": [
        "The broadcasting mechanism can be used with multi-dimensional arrays, including more complex operations (such as exponential operations):"
      ],
      "metadata": {
        "id": "hZG9mQf2zOVm"
      }
    },
    {
      "cell_type": "code",
      "source": [
        "# using broadcasting with multi-dimensional arrays\n",
        "x_2d = np.array(\n",
        "      [[  1,   2,   3,   4,   5,   6,   7,   8,   9,  10],\n",
        "       [ 11,  12,  13,  14,  15,  16,  17,  18,  19,  20],\n",
        "       [ 21,  22,  23,  24,  25,  26,  27,  28,  29,  30],\n",
        "       [ 31,  32,  33,  34,  35,  36,  37,  38,  39,  40],\n",
        "       [ 41,  42,  43,  44,  45,  46,  47,  48,  49,  50],\n",
        "       [ 51,  52,  53,  54,  55,  56,  57,  58,  59,  60],\n",
        "       [ 61,  62,  63,  64,  65,  66,  67,  68,  69,  70],\n",
        "       [ 71,  72,  73,  74,  75,  76,  77,  78,  79,  80],\n",
        "       [ 81,  82,  83,  84,  85,  86,  87,  88,  89,  90],\n",
        "       [ 91,  92,  93,  94,  95,  96,  97,  98,  99, 100]])\n",
        "scalar = 2\n",
        "x_2d_power = x_2d ** scalar\n",
        "\n",
        "print(\n",
        "  \"The elements of array: \\n {} \\n raised to the power of {} is: \\n {} \".format(\n",
        "    x_2d,\n",
        "    scalar,\n",
        "    x_2d_power\n",
        "  )\n",
        ")"
      ],
      "metadata": {
        "colab": {
          "base_uri": "https://localhost:8080/"
        },
        "id": "IgjtayflzbKY",
        "outputId": "e3688a25-3553-4f18-cc7b-6a1262ead937"
      },
      "execution_count": 12,
      "outputs": [
        {
          "output_type": "stream",
          "name": "stdout",
          "text": [
            "The elements of array: \n",
            " [[  1   2   3   4   5   6   7   8   9  10]\n",
            " [ 11  12  13  14  15  16  17  18  19  20]\n",
            " [ 21  22  23  24  25  26  27  28  29  30]\n",
            " [ 31  32  33  34  35  36  37  38  39  40]\n",
            " [ 41  42  43  44  45  46  47  48  49  50]\n",
            " [ 51  52  53  54  55  56  57  58  59  60]\n",
            " [ 61  62  63  64  65  66  67  68  69  70]\n",
            " [ 71  72  73  74  75  76  77  78  79  80]\n",
            " [ 81  82  83  84  85  86  87  88  89  90]\n",
            " [ 91  92  93  94  95  96  97  98  99 100]] \n",
            " raised to the power of 2 is: \n",
            " [[    1     4     9    16    25    36    49    64    81   100]\n",
            " [  121   144   169   196   225   256   289   324   361   400]\n",
            " [  441   484   529   576   625   676   729   784   841   900]\n",
            " [  961  1024  1089  1156  1225  1296  1369  1444  1521  1600]\n",
            " [ 1681  1764  1849  1936  2025  2116  2209  2304  2401  2500]\n",
            " [ 2601  2704  2809  2916  3025  3136  3249  3364  3481  3600]\n",
            " [ 3721  3844  3969  4096  4225  4356  4489  4624  4761  4900]\n",
            " [ 5041  5184  5329  5476  5625  5776  5929  6084  6241  6400]\n",
            " [ 6561  6724  6889  7056  7225  7396  7569  7744  7921  8100]\n",
            " [ 8281  8464  8649  8836  9025  9216  9409  9604  9801 10000]] \n"
          ]
        }
      ]
    },
    {
      "cell_type": "markdown",
      "source": [
        "### 2.2 Broadcasting with arrays"
      ],
      "metadata": {
        "id": "BH2fOjti0huU"
      }
    },
    {
      "cell_type": "markdown",
      "source": [
        "NumPy works also with arrays, not only with scalars."
      ],
      "metadata": {
        "id": "_2GSR7aU1y1C"
      }
    },
    {
      "cell_type": "markdown",
      "source": [
        "The broadcasting in NumPy follows a strict set of rules to determine the interaction between the two arrays:\n",
        "\n",
        "* **Rule 1**: If the two arrays differ in their number of dimensions, the shape of the one with fewer dimensions is padded with ones on its leading (left) side.\n",
        "* **Rule 2**: If the shape of the two arrays does not match in any dimension, the array with shape equal to 1 in that dimension is stretched to match the other shape.\n",
        "* **Rule 3**: If in any dimension the sizes disagree and neither is equal to 1, an error is raised."
      ],
      "metadata": {
        "id": "K48d_2zX0oMj"
      }
    },
    {
      "cell_type": "markdown",
      "source": [
        "Let's consider the following case of arrays with different dimensions:"
      ],
      "metadata": {
        "id": "nCkGwDep2PEe"
      }
    },
    {
      "cell_type": "code",
      "source": [
        "# create a one dimensional array\n",
        "lh_array = np.array([1,1])\n",
        "\n",
        "# create a two dimensional array\n",
        "rh_array = np.array([[2,3], [4,5]])"
      ],
      "metadata": {
        "id": "5_JMqVGz2Rwe"
      },
      "execution_count": 13,
      "outputs": []
    },
    {
      "cell_type": "markdown",
      "metadata": {
        "id": "CDbx8f_z1spm"
      },
      "source": [
        "The left hand array will be **broadcasted** to the right hand array by duplicating the first row."
      ]
    },
    {
      "cell_type": "markdown",
      "source": [
        "![Array Broadcasting](https://raw.githubusercontent.com/INTERTECHNICA-BUSINESS-SOLUTIONS-SRL/CourseDataManipulationWithPython/main/Module%202%20-%20The%20Numpy%20Library/Session%202%20-%20NumPy%20Basics/images/broadcasting.png)"
      ],
      "metadata": {
        "id": "4UmPtNCt3dbZ"
      }
    },
    {
      "cell_type": "code",
      "source": [
        "# display the result of adding the two arrays\n",
        "result_array = rh_array + lh_array\n",
        "print(\"The shape of result array is: {}\".format(result_array.shape))\n",
        "print(\"The shape of result array is: \\n {}\".format(result_array))"
      ],
      "metadata": {
        "colab": {
          "base_uri": "https://localhost:8080/"
        },
        "id": "GEX8t3Z44jRl",
        "outputId": "b619f2e2-5c8a-45ef-ecd0-9d76d04d0f1c"
      },
      "execution_count": 14,
      "outputs": [
        {
          "output_type": "stream",
          "name": "stdout",
          "text": [
            "The shape of result array is: (2, 2)\n",
            "The shape of result array is: \n",
            " [[3 4]\n",
            " [5 6]]\n"
          ]
        }
      ]
    }
  ]
}