{
  "nbformat": 4,
  "nbformat_minor": 0,
  "metadata": {
    "colab": {
      "name": "004_NumPy_Advanced_Indexing_and_Slicing.ipynb",
      "provenance": [],
      "collapsed_sections": []
    },
    "kernelspec": {
      "name": "python3",
      "display_name": "Python 3"
    },
    "language_info": {
      "name": "python"
    }
  },
  "cells": [
    {
      "cell_type": "markdown",
      "metadata": {
        "id": "KDuU6OSWXKo4"
      },
      "source": [
        "![*INTERTECHNICA - SOLON EDUCATIONAL PROGRAMS - TECHNOLOGY LINE*](https://solon.intertechnica.com/assets/IntertechnicaSolonEducationalPrograms-TechnologyLine.png)"
      ]
    },
    {
      "cell_type": "markdown",
      "metadata": {
        "id": "OeBbVwSSXKo9"
      },
      "source": [
        "# Data Manipulation with Python - The NumPy Library - Advanced Indexing and Slicing"
      ]
    },
    {
      "cell_type": "markdown",
      "metadata": {
        "id": "uUhqqWdPXKpA"
      },
      "source": [
        "*Basic initialization of the workspace.*"
      ]
    },
    {
      "cell_type": "code",
      "execution_count": 1,
      "metadata": {
        "colab": {
          "base_uri": "https://localhost:8080/"
        },
        "id": "AjAZRU7GXKpE",
        "outputId": "3c46b207-c4b4-43d1-a7c9-c3f1d989b5b2"
      },
      "outputs": [
        {
          "output_type": "stream",
          "name": "stdout",
          "text": [
            "Requirement already satisfied: numpy in /usr/local/lib/python3.7/dist-packages (1.19.5)\n",
            "NumPy installed at version: 1.19.5\n"
          ]
        }
      ],
      "source": [
        "!python -m pip install numpy\n",
        "import numpy as np\n",
        "print (\"NumPy installed at version: {}\".format(np.__version__))"
      ]
    },
    {
      "cell_type": "markdown",
      "metadata": {
        "id": "hKMggi-NzVAg"
      },
      "source": [
        "## 1. Advanced Indexing"
      ]
    },
    {
      "cell_type": "markdown",
      "metadata": {
        "id": "ezLuRKPszVAh"
      },
      "source": [
        "By default a NumPy arrows the access of its elements based on a **positional integer incremental index** which starts from zero for its first element up to the array's size minus one for its last element.\n",
        "\n",
        "However, beyond Python's standard array indexing, NumPy allows accessing of elements by index tuples and even logical condition masking.   "
      ]
    },
    {
      "cell_type": "markdown",
      "source": [
        "Before going forward let's initialize some working data:"
      ],
      "metadata": {
        "id": "5XMW2Tyj7NtR"
      }
    },
    {
      "cell_type": "code",
      "execution_count": 2,
      "metadata": {
        "id": "jXuHki2wzVAj"
      },
      "outputs": [],
      "source": [
        "x_1d = np.array([ 1,   2,   3,   4,   5,   6,   7,   8,   9,  10])\n",
        "\n",
        "x_2d = np.array(\n",
        "      [[  1,   2,   3,   4,   5,   6,   7,   8,   9,  10],\n",
        "       [ 11,  12,  13,  14,  15,  16,  17,  18,  19,  20],\n",
        "       [ 21,  22,  23,  24,  25,  26,  27,  28,  29,  30],\n",
        "       [ 31,  32,  33,  34,  35,  36,  37,  38,  39,  40],\n",
        "       [ 41,  42,  43,  44,  45,  46,  47,  48,  49,  50],\n",
        "       [ 51,  52,  53,  54,  55,  56,  57,  58,  59,  60],\n",
        "       [ 61,  62,  63,  64,  65,  66,  67,  68,  69,  70],\n",
        "       [ 71,  72,  73,  74,  75,  76,  77,  78,  79,  80],\n",
        "       [ 81,  82,  83,  84,  85,  86,  87,  88,  89,  90],\n",
        "       [ 91,  92,  93,  94,  95,  96,  97,  98,  99, 100]])"
      ]
    },
    {
      "cell_type": "markdown",
      "metadata": {
        "id": "5tOhdaFTzVAl"
      },
      "source": [
        "Numpy uses two types of advanced indexing: integer indexing and boolean indexing."
      ]
    },
    {
      "cell_type": "markdown",
      "metadata": {
        "id": "0UNb484RzVAm"
      },
      "source": [
        "### 1.1 Advanced integer indexing"
      ]
    },
    {
      "cell_type": "markdown",
      "metadata": {
        "id": "lU4UKAkDzVAn"
      },
      "source": [
        "This kind of indexing is based on using integer arrays in order to select multipe elements of an array. It is possible to use an array of indexes to obtain a sub-set of the array elements from the unidimensional array:"
      ]
    },
    {
      "cell_type": "code",
      "execution_count": 3,
      "metadata": {
        "id": "J4CyP0GMzVAo",
        "outputId": "b9dbb8ca-d2a2-4df3-f88b-2f70981c8d89",
        "colab": {
          "base_uri": "https://localhost:8080/"
        }
      },
      "outputs": [
        {
          "output_type": "stream",
          "name": "stdout",
          "text": [
            "The odd elements in the array can be used via an array of indexes [0, 2, 4, 6, 8] and it is the array [1 3 5 7 9]\n"
          ]
        }
      ],
      "source": [
        "# select the odd elements of the array\n",
        "odd_elements_indexes = [0,2,4,6,8]\n",
        "\n",
        "print(\"The odd elements in the array can be used via an array of indexes {} and it is the array {}\".format(\n",
        "    odd_elements_indexes,\n",
        "    x_1d[odd_elements_indexes]\n",
        "))"
      ]
    },
    {
      "cell_type": "markdown",
      "metadata": {
        "id": "fLpm3tCdzVAq"
      },
      "source": [
        "We can also use multiple arrays of indexes to access multiple elements from multi-dimensional arrays.  \n",
        "In our case we can apply this to the two dimensional array created:"
      ]
    },
    {
      "cell_type": "code",
      "execution_count": 4,
      "metadata": {
        "id": "NlPr1jYGzVAr",
        "outputId": "ed3ae14e-b399-4091-a15d-0bcb8ba0c431",
        "colab": {
          "base_uri": "https://localhost:8080/"
        }
      },
      "outputs": [
        {
          "output_type": "stream",
          "name": "stdout",
          "text": [
            "The elements at index row [0, 1, 2] and index column [0, 1, 2] are [ 1 12 23]\n"
          ]
        }
      ],
      "source": [
        "# select a sub-matrix  with 3x3 size from the orginal one\n",
        "index_row = [0, 1, 2]\n",
        "index_column = [0, 1, 2]\n",
        "print(\"The elements at index row {} and index column {} are {}\".format(\n",
        "    index_row,\n",
        "    index_column,\n",
        "    x_2d[index_row, index_column]\n",
        "))"
      ]
    },
    {
      "cell_type": "markdown",
      "source": [
        "It is important to note that NumPy allows the usage of negative indexes. It the case, the position is calculated from the **end of the array**, not from its beginning. Furthermore, in this case the -1 value represents the position of the last element. "
      ],
      "metadata": {
        "id": "YLQ-4PiwZ0RV"
      }
    },
    {
      "cell_type": "code",
      "source": [
        "# select the last three elements via the negative indexes\n",
        "last_elements_index = [-3 , -2, -1]\n",
        "\n",
        "print(\"The last elements of the the array  are: {}\".format(\n",
        "    x_1d[last_elements_index]\n",
        "))"
      ],
      "metadata": {
        "colab": {
          "base_uri": "https://localhost:8080/"
        },
        "id": "BlCZ1NmiaHX6",
        "outputId": "5efb8144-879c-461d-f23f-406b67505486"
      },
      "execution_count": 5,
      "outputs": [
        {
          "output_type": "stream",
          "name": "stdout",
          "text": [
            "The last elements of the the array  are: [ 8  9 10]\n"
          ]
        }
      ]
    },
    {
      "cell_type": "markdown",
      "metadata": {
        "id": "ATKjVPw0zVAt"
      },
      "source": [
        "### 1.2 Advanced boolean indexing"
      ]
    },
    {
      "cell_type": "markdown",
      "metadata": {
        "id": "D2FDWx24zVAv"
      },
      "source": [
        "This advanced indexing occurs when **using arrays of booleans for indexing**, each **TRUE value from the index array** will select an element from the target array. \n",
        "The array object itself will be used as an element for the boolean expression along with (usually) comparison operators.\n"
      ]
    },
    {
      "cell_type": "markdown",
      "source": [
        "We can use this technique to select the first and the last element from the array:"
      ],
      "metadata": {
        "id": "T-XDbbYq4yJp"
      }
    },
    {
      "cell_type": "code",
      "execution_count": 6,
      "metadata": {
        "id": "u8Z1hK0VzVAv",
        "outputId": "2f2268db-ebc9-4b26-cfee-d9c7d3447061",
        "colab": {
          "base_uri": "https://localhost:8080/"
        }
      },
      "outputs": [
        {
          "output_type": "stream",
          "name": "stdout",
          "text": [
            "The elements selected by the boolean filter [True, False, False, False, False, False, False, False, False, True] are [ 1 10]\n"
          ]
        }
      ],
      "source": [
        "# selecting the first and the last element from the array\n",
        "# using boolean indexing\n",
        "boolean_index_array = [True, False,  False,  False,  False,  False,  False,  False,  False, True]\n",
        "x_1d[boolean_index_array]\n",
        "\n",
        "print(\"The elements selected by the boolean filter {} are {}\".format(\n",
        "    boolean_index_array,\n",
        "    x_1d[boolean_index_array]\n",
        "))"
      ]
    },
    {
      "cell_type": "markdown",
      "source": [
        "We can rewrite the method for selecting the odd elements from the array by using logical expressions as well (so no selection index specification is needed at all):"
      ],
      "metadata": {
        "id": "SInPERMJ5YBv"
      }
    },
    {
      "cell_type": "code",
      "execution_count": 7,
      "metadata": {
        "id": "_49hXqSszVAw",
        "outputId": "b2ad7f53-e9d8-4411-816d-f38ecc55f1cd",
        "colab": {
          "base_uri": "https://localhost:8080/"
        }
      },
      "outputs": [
        {
          "output_type": "stream",
          "name": "stdout",
          "text": [
            "The odd elements in the array [ 1  2  3  4  5  6  7  8  9 10] are [1 3 5 7 9]\n"
          ]
        }
      ],
      "source": [
        "# use the arithmetic and logical expressions from the array\n",
        "# in order to select the odd elements\n",
        "print(\"The odd elements in the array {} are {}\".format(\n",
        "    x_1d,\n",
        "    x_1d[x_1d % 2 == 1]\n",
        "))"
      ]
    },
    {
      "cell_type": "markdown",
      "source": [
        "This logical indexing applies also to multi-dimensional arrays, however we must be careful that this method will flatten the resulted array (it will make it one-dimensional):"
      ],
      "metadata": {
        "id": "yj51SOvM6nH8"
      }
    },
    {
      "cell_type": "code",
      "execution_count": 8,
      "metadata": {
        "id": "PbenTNQmzVAx",
        "outputId": "4c11f5ac-11c8-4ad3-8a26-fbb38664f296",
        "colab": {
          "base_uri": "https://localhost:8080/"
        }
      },
      "outputs": [
        {
          "output_type": "stream",
          "name": "stdout",
          "text": [
            "The powers of 2 in the array \n",
            " [[  1   2   3   4   5   6   7   8   9  10]\n",
            " [ 11  12  13  14  15  16  17  18  19  20]\n",
            " [ 21  22  23  24  25  26  27  28  29  30]\n",
            " [ 31  32  33  34  35  36  37  38  39  40]\n",
            " [ 41  42  43  44  45  46  47  48  49  50]\n",
            " [ 51  52  53  54  55  56  57  58  59  60]\n",
            " [ 61  62  63  64  65  66  67  68  69  70]\n",
            " [ 71  72  73  74  75  76  77  78  79  80]\n",
            " [ 81  82  83  84  85  86  87  88  89  90]\n",
            " [ 91  92  93  94  95  96  97  98  99 100]] \n",
            " are: \n",
            " [ 1  2  4  8 16 32 64]\n"
          ]
        }
      ],
      "source": [
        "# selecting the powers of 2 using boolean indexing\n",
        "print(\"The powers of 2 in the array \\n {} \\n are: \\n {}\".format(\n",
        "    x_2d,\n",
        "    x_2d[np.log2(x_2d).astype(int)  == np.log2(x_2d)]\n",
        "))"
      ]
    },
    {
      "cell_type": "markdown",
      "source": [
        "From a data processing practical perspective, logical indexing is extensively used in removal of invalid data. A first example is the removal of empty values from an array:"
      ],
      "metadata": {
        "id": "4FIuhzAg7KsU"
      }
    },
    {
      "cell_type": "code",
      "execution_count": 9,
      "metadata": {
        "id": "GQHQwA7TzVAz",
        "outputId": "af5d832c-0849-4755-c84d-2b3950bc5b56",
        "colab": {
          "base_uri": "https://localhost:8080/"
        }
      },
      "outputs": [
        {
          "output_type": "stream",
          "name": "stdout",
          "text": [
            "Non-empty elements in the array \n",
            " [None 2 None 4 5 None 7 None None 10] \n",
            " are: \n",
            " [2 4 5 7 10]\n"
          ]
        }
      ],
      "source": [
        "# we will consider an input data with empty values for some\n",
        "# of its elements and create a processed array with all \n",
        "# these empty values removed\n",
        "\n",
        "x_1d_with_empty_data = np.array([ None,   2,   None,   4,   5,   None,   7,   None,   None,  10])\n",
        "\n",
        "print(\"Non-empty elements in the array \\n {} \\n are: \\n {}\".format(\n",
        "    x_1d_with_empty_data,\n",
        "    x_1d_with_empty_data[x_1d_with_empty_data != None]\n",
        "))"
      ]
    },
    {
      "cell_type": "markdown",
      "source": [
        "In a more advanced usage scenario, this method can be used to remove data which has an unexpected format (e.g. non-numeric format):"
      ],
      "metadata": {
        "id": "-2a9mryR7yp3"
      }
    },
    {
      "cell_type": "code",
      "execution_count": 10,
      "metadata": {
        "id": "YHHpZKZxzVA1",
        "outputId": "cc5fd737-328b-4b2f-e85b-c0514f1bf78e",
        "colab": {
          "base_uri": "https://localhost:8080/"
        }
      },
      "outputs": [
        {
          "output_type": "stream",
          "name": "stdout",
          "text": [
            "Numeric elements in the array \n",
            " ['1' '2' 'three' '4' 'Invalid' '6' '7' 'Eight' 'maybe 9' '10'] \n",
            " are: \n",
            " ['1' '2' '4' '6' '7' '10']\n"
          ]
        }
      ],
      "source": [
        "# we will consider an input data with invalid values for some\n",
        "# of its elements and create a processed array with all \n",
        "# these invalid values removed\n",
        "\n",
        "x_1d_with_invalid_data = np.array([ \"1\",   \"2\",   \"three\",   \"4\",   \"Invalid\",   \"6\",   \"7\",   \"Eight\",   \"maybe 9\",  10])\n",
        "\n",
        "print(\"Numeric elements in the array \\n {} \\n are: \\n {}\".format(\n",
        "    x_1d_with_invalid_data,\n",
        "    x_1d_with_invalid_data[np.char.isnumeric(x_1d_with_invalid_data)]\n",
        "))"
      ]
    },
    {
      "cell_type": "markdown",
      "source": [
        "One of the most important important scenario in data systems is the detection of anomalous data. A good example of anomalous data is a data point that significantly differs from the other data points (in statistics this is called an outlier): "
      ],
      "metadata": {
        "id": "NQzDXkov9W2m"
      }
    },
    {
      "cell_type": "code",
      "source": [
        "# we will consider an array where the last element is a statistical outlier \n",
        "# and we will use standard Pyhon functions to highlight it (for demonstration\n",
        "# purposes we will consider the outlier to be at least 3 times the average \n",
        "# value of the array, in production systems the algorithms are more complex)   \n",
        "x_1d_outliers = np.array([ 1,   2,   3,   4,   5,   6,   7,   8,   950,  1000])\n",
        "x_1d_outliers_average = sum (x_1d_outliers) / len(x_1d_outliers)\n",
        "\n",
        "print(\"The outliers in the array \\n {} \\n are: \\n {}\".format(\n",
        "    x_1d_outliers,\n",
        "    x_1d_outliers[x_1d_outliers > 3 * x_1d_outliers_average]\n",
        "))"
      ],
      "metadata": {
        "colab": {
          "base_uri": "https://localhost:8080/"
        },
        "id": "5OQmu6wn88YI",
        "outputId": "cf3ed614-e7dd-4ff7-9851-8ef98ea5e1a1"
      },
      "execution_count": 11,
      "outputs": [
        {
          "output_type": "stream",
          "name": "stdout",
          "text": [
            "The outliers in the array \n",
            " [   1    2    3    4    5    6    7    8  950 1000] \n",
            " are: \n",
            " [ 950 1000]\n"
          ]
        }
      ]
    },
    {
      "cell_type": "markdown",
      "metadata": {
        "id": "X_KxdeR_zVA1"
      },
      "source": [
        "# 2. Slicing"
      ]
    },
    {
      "cell_type": "markdown",
      "source": [
        ""
      ],
      "metadata": {
        "id": "43xGdCX7Usqd"
      }
    },
    {
      "cell_type": "markdown",
      "metadata": {
        "id": "ixK8lld_zVA1"
      },
      "source": [
        "NumPy allows the selection of sub-arrays via the **slice notation**. The process of selecting sub-arrays via the slice notation is called **slicing**."
      ]
    },
    {
      "cell_type": "markdown",
      "metadata": {
        "id": "K5K3xTm5zVA2"
      },
      "source": [
        "The standard notation for slicing is [start:stop:step] where:\n",
        "    \n",
        "* **start** is the start index for the slice. By default the start is 0, this means the beginning of the array;\n",
        "* **stop** is the stop index for the slice (the stop value is not included). By default the stop is -1 so it selects the rest of the array;\n",
        "* **step** is the step using from one index to another. By default the step is 1. \n",
        "\n",
        "This will allow selecting a sub-array from the start index to end index using a specified step. This slice notation can be applied to multiple dimensions as well."
      ]
    },
    {
      "cell_type": "code",
      "execution_count": 12,
      "metadata": {
        "id": "2CVhEhk2zVA3",
        "outputId": "aeba1155-5894-428e-9e16-c0897885b6b7",
        "colab": {
          "base_uri": "https://localhost:8080/"
        }
      },
      "outputs": [
        {
          "output_type": "stream",
          "name": "stdout",
          "text": [
            "The first\n",
            " 3 elements from aray \n",
            " [ 1  2  3  4  5  6  7  8  9 10] \n",
            " are: \n",
            "[1 2 3]\n"
          ]
        }
      ],
      "source": [
        "# selecting the first elements in the array via slice notation\n",
        "elements_length = 3\n",
        "print(\"The first\\n {} elements from aray \\n {} \\n are: \\n{}\".format(\n",
        "    elements_length,\n",
        "    x_1d,\n",
        "    x_1d[0:elements_length]\n",
        "))"
      ]
    },
    {
      "cell_type": "markdown",
      "source": [
        "We can use the slicing notation to select the odd elements in the array:"
      ],
      "metadata": {
        "id": "ef08FMsLRfUq"
      }
    },
    {
      "cell_type": "code",
      "source": [
        "# select the odd elements in the array by using slice notation\n",
        "print(\"The odd elements in the array are: {}\".format(\n",
        "    x_1d[0::2]\n",
        "))"
      ],
      "metadata": {
        "colab": {
          "base_uri": "https://localhost:8080/"
        },
        "id": "vNOxcpe5RkUC",
        "outputId": "c8da214e-48f6-4a51-dbb9-3beb67b8799c"
      },
      "execution_count": 13,
      "outputs": [
        {
          "output_type": "stream",
          "name": "stdout",
          "text": [
            "The odd elements in the array are: [1 3 5 7 9]\n"
          ]
        }
      ]
    },
    {
      "cell_type": "markdown",
      "source": [
        "Using a negative step will reverse the order of element selection (useful for reversing arrays):"
      ],
      "metadata": {
        "id": "vHyfH8lPSQmd"
      }
    },
    {
      "cell_type": "code",
      "source": [
        "# we will use negative steps for reversing the item selection order \n",
        "print(\"The reverse of \\n {} \\n is: \\n {}\".format(\n",
        "    x_1d,\n",
        "    x_1d[::-1]\n",
        "))"
      ],
      "metadata": {
        "colab": {
          "base_uri": "https://localhost:8080/"
        },
        "id": "rc-JMtsvSf8H",
        "outputId": "b1747302-1d62-459e-9f6a-5b97ecf70c3d"
      },
      "execution_count": 14,
      "outputs": [
        {
          "output_type": "stream",
          "name": "stdout",
          "text": [
            "The reverse of \n",
            " [ 1  2  3  4  5  6  7  8  9 10] \n",
            " is: \n",
            " [10  9  8  7  6  5  4  3  2  1]\n"
          ]
        }
      ]
    },
    {
      "cell_type": "markdown",
      "source": [
        "Advanced slicing works on multidimensional arrays as well, allowing for selecting rows from a matrix:"
      ],
      "metadata": {
        "id": "_ueNouFES3K1"
      }
    },
    {
      "cell_type": "code",
      "source": [
        "# using advanced slicing to select the first row from a matrix\n",
        "print(\"The first row from array \\n {} \\n is: \\n{}\".format(\n",
        "    x_2d,\n",
        "    x_2d[0,:]    \n",
        "))"
      ],
      "metadata": {
        "colab": {
          "base_uri": "https://localhost:8080/"
        },
        "id": "y7aEGlAaTIZf",
        "outputId": "5e744e76-7bcc-48e8-dbc7-36a5ca5dd59e"
      },
      "execution_count": 15,
      "outputs": [
        {
          "output_type": "stream",
          "name": "stdout",
          "text": [
            "The first row from array \n",
            " [[  1   2   3   4   5   6   7   8   9  10]\n",
            " [ 11  12  13  14  15  16  17  18  19  20]\n",
            " [ 21  22  23  24  25  26  27  28  29  30]\n",
            " [ 31  32  33  34  35  36  37  38  39  40]\n",
            " [ 41  42  43  44  45  46  47  48  49  50]\n",
            " [ 51  52  53  54  55  56  57  58  59  60]\n",
            " [ 61  62  63  64  65  66  67  68  69  70]\n",
            " [ 71  72  73  74  75  76  77  78  79  80]\n",
            " [ 81  82  83  84  85  86  87  88  89  90]\n",
            " [ 91  92  93  94  95  96  97  98  99 100]] \n",
            " is: \n",
            "[ 1  2  3  4  5  6  7  8  9 10]\n"
          ]
        }
      ]
    },
    {
      "cell_type": "markdown",
      "source": [
        "In the same manner we can select the last column as well:"
      ],
      "metadata": {
        "id": "iPpFvTLQUPIb"
      }
    },
    {
      "cell_type": "code",
      "source": [
        "# using advanced slicing to select the first column from a matrix\n",
        "print(\"The first column from array \\n {} \\n is: \\n{}\".format(\n",
        "    x_2d,\n",
        "    x_2d[:,0]   \n",
        "))"
      ],
      "metadata": {
        "colab": {
          "base_uri": "https://localhost:8080/"
        },
        "outputId": "1ebb3f8a-48c7-4426-e85d-dd4002146eea",
        "id": "DGhvzLFTUaJJ"
      },
      "execution_count": 16,
      "outputs": [
        {
          "output_type": "stream",
          "name": "stdout",
          "text": [
            "The first column from array \n",
            " [[  1   2   3   4   5   6   7   8   9  10]\n",
            " [ 11  12  13  14  15  16  17  18  19  20]\n",
            " [ 21  22  23  24  25  26  27  28  29  30]\n",
            " [ 31  32  33  34  35  36  37  38  39  40]\n",
            " [ 41  42  43  44  45  46  47  48  49  50]\n",
            " [ 51  52  53  54  55  56  57  58  59  60]\n",
            " [ 61  62  63  64  65  66  67  68  69  70]\n",
            " [ 71  72  73  74  75  76  77  78  79  80]\n",
            " [ 81  82  83  84  85  86  87  88  89  90]\n",
            " [ 91  92  93  94  95  96  97  98  99 100]] \n",
            " is: \n",
            "[ 1 11 21 31 41 51 61 71 81 91]\n"
          ]
        }
      ]
    },
    {
      "cell_type": "markdown",
      "source": [
        "We can use advanced slicing notation to even select a sub-matrix from an existing matrix:"
      ],
      "metadata": {
        "id": "XpuZGhE2VfQ-"
      }
    },
    {
      "cell_type": "code",
      "execution_count": 17,
      "metadata": {
        "id": "6mU10AL5zVA6",
        "outputId": "6f75a845-e67f-4428-8170-b7d7516752ee",
        "colab": {
          "base_uri": "https://localhost:8080/"
        }
      },
      "outputs": [
        {
          "output_type": "stream",
          "name": "stdout",
          "text": [
            "The center submatrix with dimensionx 4 x 4 \n",
            " from array \n",
            " [[  1   2   3   4   5   6   7   8   9  10]\n",
            " [ 11  12  13  14  15  16  17  18  19  20]\n",
            " [ 21  22  23  24  25  26  27  28  29  30]\n",
            " [ 31  32  33  34  35  36  37  38  39  40]\n",
            " [ 41  42  43  44  45  46  47  48  49  50]\n",
            " [ 51  52  53  54  55  56  57  58  59  60]\n",
            " [ 61  62  63  64  65  66  67  68  69  70]\n",
            " [ 71  72  73  74  75  76  77  78  79  80]\n",
            " [ 81  82  83  84  85  86  87  88  89  90]\n",
            " [ 91  92  93  94  95  96  97  98  99 100]] \n",
            " is: \n",
            "[[34 35 36 37]\n",
            " [44 45 46 47]\n",
            " [54 55 56 57]\n",
            " [64 65 66 67]]\n"
          ]
        }
      ],
      "source": [
        "# select a 4x4 sub-matrix from an existing matrix \n",
        "center_length = 2\n",
        "\n",
        "column_center = len(x_2d[0])//2  \n",
        "row_center = len(x_2d)//2\n",
        "print(\n",
        "  \"The center submatrix with dimensionx {} x {} \\n from array \\n {} \\n is: \\n{}\"\n",
        "    .format(\n",
        "      center_length * 2,\n",
        "      center_length * 2,\n",
        "      x_2d,\n",
        "      x_2d[\n",
        "          row_center - center_length : row_center + center_length,\n",
        "          column_center - center_length : column_center + center_length\n",
        "          ] \n",
        "    )\n",
        ")"
      ]
    }
  ]
}