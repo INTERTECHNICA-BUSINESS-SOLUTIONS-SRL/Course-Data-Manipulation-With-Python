{
  "nbformat": 4,
  "nbformat_minor": 0,
  "metadata": {
    "colab": {
      "name": "006_NumPy_Useful_Functions.ipynb",
      "provenance": [],
      "collapsed_sections": []
    },
    "kernelspec": {
      "name": "python3",
      "display_name": "Python 3"
    },
    "language_info": {
      "name": "python"
    }
  },
  "cells": [
    {
      "cell_type": "markdown",
      "metadata": {
        "id": "KDuU6OSWXKo4"
      },
      "source": [
        "![*INTERTECHNICA - SOLON EDUCATIONAL PROGRAMS - TECHNOLOGY LINE*](https://solon.intertechnica.com/assets/IntertechnicaSolonEducationalPrograms-TechnologyLine.png)"
      ]
    },
    {
      "cell_type": "markdown",
      "metadata": {
        "id": "OeBbVwSSXKo9"
      },
      "source": [
        "# Data Manipulation with Python - The NumPy Library - Useful Functions"
      ]
    },
    {
      "cell_type": "markdown",
      "metadata": {
        "id": "uUhqqWdPXKpA"
      },
      "source": [
        "*Basic initialization of the workspace.*"
      ]
    },
    {
      "cell_type": "code",
      "execution_count": 1,
      "metadata": {
        "colab": {
          "base_uri": "https://localhost:8080/"
        },
        "id": "AjAZRU7GXKpE",
        "outputId": "57f1d89d-b3d7-4130-f3f5-d67fdcc6d13b"
      },
      "outputs": [
        {
          "output_type": "stream",
          "name": "stdout",
          "text": [
            "Requirement already satisfied: numpy in /usr/local/lib/python3.7/dist-packages (1.19.5)\n",
            "NumPy installed at version: 1.19.5\n"
          ]
        }
      ],
      "source": [
        "!python -m pip install numpy\n",
        "import numpy as np\n",
        "print (\"NumPy installed at version: {}\".format(np.__version__))"
      ]
    },
    {
      "cell_type": "markdown",
      "source": [
        "## 1. Array Manipulation"
      ],
      "metadata": {
        "id": "1dFjbE_IidYI"
      }
    },
    {
      "cell_type": "markdown",
      "source": [
        "NumPy has a large variety of array manipulation functions that allow arrays operations such as concatenation, stacking, deletion and so forth.\n",
        "\n",
        "The full documentation of these functions can be accessed at [Array manipulation routines](https://numpy.org/doc/stable/reference/routines.array-manipulation.html).\n",
        "\n"
      ],
      "metadata": {
        "id": "6iYD75kEixUG"
      }
    },
    {
      "cell_type": "markdown",
      "source": [
        "Let's create first the basic data for understanding these functions:"
      ],
      "metadata": {
        "id": "VMxXQAjktKFs"
      }
    },
    {
      "cell_type": "code",
      "source": [
        "# create several uni dimensional arrays \n",
        "# used for demonstration of functionality\n",
        "array_size_1d = 10\n",
        "\n",
        "arrays_1d_data = [np.arange(array_size_1d) + \n",
        "                    array_size_1d*i \n",
        "                  for i in range(4) ]\n",
        "for i in range(1,5):\n",
        "  globals()[\"array_1d_{}\".format(i)] = arrays_1d_data[i - 1] + 1\n",
        "  print(\n",
        "      \"Created variable {} with values \\n{}\\n\".format(\n",
        "        \"array_1d_{}\".format(i),\n",
        "        globals()[\"array_1d_{}\".format(i)]\n",
        "      )\n",
        "  )\n"
      ],
      "metadata": {
        "colab": {
          "base_uri": "https://localhost:8080/"
        },
        "outputId": "896d1995-d5f3-426d-a88c-4713df632003",
        "id": "CT6uPFlb0f1T"
      },
      "execution_count": 2,
      "outputs": [
        {
          "output_type": "stream",
          "name": "stdout",
          "text": [
            "Created variable array_1d_1 with values \n",
            "[ 1  2  3  4  5  6  7  8  9 10]\n",
            "\n",
            "Created variable array_1d_2 with values \n",
            "[11 12 13 14 15 16 17 18 19 20]\n",
            "\n",
            "Created variable array_1d_3 with values \n",
            "[21 22 23 24 25 26 27 28 29 30]\n",
            "\n",
            "Created variable array_1d_4 with values \n",
            "[31 32 33 34 35 36 37 38 39 40]\n",
            "\n"
          ]
        }
      ]
    },
    {
      "cell_type": "code",
      "source": [
        "# create several two dimensional arrays \n",
        "# used for demonstration of functionality\n",
        "array_row_size_2d = 2\n",
        "array_column_size_2d = 5\n",
        "\n",
        "arrays_2d_data = [np.arange(array_row_size_2d*array_column_size_2d) + \n",
        "                    array_row_size_2d*array_column_size_2d*i \n",
        "                  for i in range(4) ]\n",
        "for i in range(1,5):\n",
        "  globals()[\"array_2d_{}\".format(i)] = arrays_2d_data[i - 1].reshape(\n",
        "                    (array_row_size_2d, array_column_size_2d)\n",
        "                  ) + 1\n",
        "  print(\n",
        "      \"Created variable {} with values \\n{}\\n\".format(\n",
        "        \"array_2d_{}\".format(i),\n",
        "        globals()[\"array_2d_{}\".format(i)]\n",
        "      )\n",
        "  )\n"
      ],
      "metadata": {
        "colab": {
          "base_uri": "https://localhost:8080/"
        },
        "outputId": "883c8740-e1e2-45b4-dab1-d72a685696be",
        "id": "r8bTZJNCHgc-"
      },
      "execution_count": 3,
      "outputs": [
        {
          "output_type": "stream",
          "name": "stdout",
          "text": [
            "Created variable array_2d_1 with values \n",
            "[[ 1  2  3  4  5]\n",
            " [ 6  7  8  9 10]]\n",
            "\n",
            "Created variable array_2d_2 with values \n",
            "[[11 12 13 14 15]\n",
            " [16 17 18 19 20]]\n",
            "\n",
            "Created variable array_2d_3 with values \n",
            "[[21 22 23 24 25]\n",
            " [26 27 28 29 30]]\n",
            "\n",
            "Created variable array_2d_4 with values \n",
            "[[31 32 33 34 35]\n",
            " [36 37 38 39 40]]\n",
            "\n"
          ]
        }
      ]
    },
    {
      "cell_type": "markdown",
      "source": [
        "Array transposition is a basic array manipulation routine, it swaps the rows and columns of a target array. \n",
        "\n",
        "In NumPy this is done by using the **[transpose](https://numpy.org/doc/stable/reference/generated/numpy.transpose.html)** function:"
      ],
      "metadata": {
        "id": "yVnoyM5HzMHF"
      }
    },
    {
      "cell_type": "code",
      "source": [
        "print(\n",
        "    \"The transpose of \\n{}\\n is \\n{}\\n \".format(\n",
        "        array_2d_1,\n",
        "        np.transpose(array_2d_1)\n",
        "    )\n",
        "  )"
      ],
      "metadata": {
        "colab": {
          "base_uri": "https://localhost:8080/"
        },
        "id": "1nenFCyHzKc-",
        "outputId": "ee8b9835-e189-4f2e-9ea3-9dfe967449b9"
      },
      "execution_count": 4,
      "outputs": [
        {
          "output_type": "stream",
          "name": "stdout",
          "text": [
            "The transpose of \n",
            "[[ 1  2  3  4  5]\n",
            " [ 6  7  8  9 10]]\n",
            " is \n",
            "[[ 1  6]\n",
            " [ 2  7]\n",
            " [ 3  8]\n",
            " [ 4  9]\n",
            " [ 5 10]]\n",
            " \n"
          ]
        }
      ]
    },
    {
      "cell_type": "markdown",
      "source": [
        "NumPy's transpose functionality can also be accessed via the **T** property of a NumPy array:"
      ],
      "metadata": {
        "id": "hs3Yae0S1zT-"
      }
    },
    {
      "cell_type": "code",
      "source": [
        "print(\n",
        "    \"The transpose of \\n{}\\n is \\n{}\\n \".format(\n",
        "        array_2d_1,\n",
        "        array_2d_1.T\n",
        "    )\n",
        "  )"
      ],
      "metadata": {
        "colab": {
          "base_uri": "https://localhost:8080/"
        },
        "id": "B6Ui7kiG1ylA",
        "outputId": "205a523b-c723-4c19-d5e9-11a38318e949"
      },
      "execution_count": 5,
      "outputs": [
        {
          "output_type": "stream",
          "name": "stdout",
          "text": [
            "The transpose of \n",
            "[[ 1  2  3  4  5]\n",
            " [ 6  7  8  9 10]]\n",
            " is \n",
            "[[ 1  6]\n",
            " [ 2  7]\n",
            " [ 3  8]\n",
            " [ 4  9]\n",
            " [ 5 10]]\n",
            " \n"
          ]
        }
      ]
    },
    {
      "cell_type": "markdown",
      "source": [
        "One of the most useful operations is array concatenation which **joins a series of arrays along a specific axis (dimension)**.\n",
        "\n",
        "The NumPy function that allows this functionality is the **[concatenate](https://numpy.org/doc/stable/reference/generated/numpy.concatenate.html)** function which has the following relevant parameters:\n",
        "\n",
        "*   (a1, a2, ...): the arrays to concatenate;\n",
        "*   axis - int, optional: the axis along which the arrays will be joined.\n",
        "\n",
        "The function returns the concatenated array.\n"
      ],
      "metadata": {
        "id": "1gmL92Ssj0As"
      }
    },
    {
      "cell_type": "code",
      "source": [
        "# we will use a simple concatenation operation\n",
        "print(\n",
        "    \"Arrays for concatenations are \\n{}\\n and \\n{}\\n\".format(\n",
        "      array_2d_1,\n",
        "      array_2d_2      \n",
        "    )\n",
        "  )\n",
        "\n",
        "for axis_value in range (0,2) :\n",
        "  concatenated_array = np.concatenate(\n",
        "    (array_2d_1, array_2d_2),\n",
        "    axis = axis_value\n",
        "  )\n",
        "  print(\"Arrays concatenated on axis {} generate \\n{}\\n with shape {} \\n\".format(\n",
        "        axis_value, \n",
        "        concatenated_array,\n",
        "        concatenated_array.shape\n",
        "      )\n",
        "  )\n"
      ],
      "metadata": {
        "colab": {
          "base_uri": "https://localhost:8080/"
        },
        "id": "Ya3oHBqpxRAO",
        "outputId": "bdf44d61-cc8b-42bd-e1a8-c37b1180f8ea"
      },
      "execution_count": 6,
      "outputs": [
        {
          "output_type": "stream",
          "name": "stdout",
          "text": [
            "Arrays for concatenations are \n",
            "[[ 1  2  3  4  5]\n",
            " [ 6  7  8  9 10]]\n",
            " and \n",
            "[[11 12 13 14 15]\n",
            " [16 17 18 19 20]]\n",
            "\n",
            "Arrays concatenated on axis 0 generate \n",
            "[[ 1  2  3  4  5]\n",
            " [ 6  7  8  9 10]\n",
            " [11 12 13 14 15]\n",
            " [16 17 18 19 20]]\n",
            " with shape (4, 5) \n",
            "\n",
            "Arrays concatenated on axis 1 generate \n",
            "[[ 1  2  3  4  5 11 12 13 14 15]\n",
            " [ 6  7  8  9 10 16 17 18 19 20]]\n",
            " with shape (2, 10) \n",
            "\n"
          ]
        }
      ]
    },
    {
      "cell_type": "markdown",
      "source": [
        "A similar function is **[stack](https://numpy.org/doc/stable/reference/generated/numpy.stack.html)** which ensures as well the conacatenation of arrays. The difference from concatenation is that the stack function **creates a new dimension** in the concatenation result."
      ],
      "metadata": {
        "id": "qVNwc0aoDudI"
      }
    },
    {
      "cell_type": "code",
      "source": [
        "# we will use the stack function to generate a concatenation result which\n",
        "# generate a new dimension\n",
        "for axis_value in range (0,2) :\n",
        "  stacked_array = np.stack(\n",
        "    (array_2d_1, array_2d_2),\n",
        "    axis = axis_value\n",
        "  )\n",
        "  print(\"Arrays stacked on axis {} generate \\n{}\\n with shape {} \\n\".format(\n",
        "        axis_value, \n",
        "        stacked_array,\n",
        "        stacked_array.shape\n",
        "      )\n",
        "  )"
      ],
      "metadata": {
        "colab": {
          "base_uri": "https://localhost:8080/"
        },
        "id": "rSk_b2dOEZpv",
        "outputId": "cf1231ea-8d3a-4ef4-ffcf-b50e28c89206"
      },
      "execution_count": 7,
      "outputs": [
        {
          "output_type": "stream",
          "name": "stdout",
          "text": [
            "Arrays stacked on axis 0 generate \n",
            "[[[ 1  2  3  4  5]\n",
            "  [ 6  7  8  9 10]]\n",
            "\n",
            " [[11 12 13 14 15]\n",
            "  [16 17 18 19 20]]]\n",
            " with shape (2, 2, 5) \n",
            "\n",
            "Arrays stacked on axis 1 generate \n",
            "[[[ 1  2  3  4  5]\n",
            "  [11 12 13 14 15]]\n",
            "\n",
            " [[ 6  7  8  9 10]\n",
            "  [16 17 18 19 20]]]\n",
            " with shape (2, 2, 5) \n",
            "\n"
          ]
        }
      ]
    },
    {
      "cell_type": "markdown",
      "source": [
        "There are two shortcut functions **[vstack](https://numpy.org/doc/stable/reference/generated/numpy.vstack.html)** and **[hstack](https://numpy.org/doc/stable/reference/generated/numpy.hstack.html)** that ensure concatenation on the first, respecively second axis."
      ],
      "metadata": {
        "id": "AWUArpuFFzBv"
      }
    },
    {
      "cell_type": "code",
      "source": [
        "# the v-stacked result\n",
        "v_stacked_array = np.vstack(\n",
        "  (array_2d_1, array_2d_2)\n",
        ")\n",
        "\n",
        "print(\"Arrays v-stacked generate \\n{}\\n with shape {} \\n\".format(\n",
        "        v_stacked_array,\n",
        "        v_stacked_array.shape\n",
        "      )\n",
        ")\n",
        "\n",
        "# the h-stacked result\n",
        "h_stacked_array = np.hstack(\n",
        "  (array_2d_1, array_2d_2)\n",
        ")\n",
        "\n",
        "print(\"Arrays h-stacked generate \\n{}\\n with shape {} \\n\".format(\n",
        "        h_stacked_array,\n",
        "        h_stacked_array.shape\n",
        "      )\n",
        ")"
      ],
      "metadata": {
        "colab": {
          "base_uri": "https://localhost:8080/"
        },
        "id": "tZXxQWS32Unr",
        "outputId": "ed5d85e6-ed22-4a68-d153-b88646a24858"
      },
      "execution_count": 8,
      "outputs": [
        {
          "output_type": "stream",
          "name": "stdout",
          "text": [
            "Arrays v-stacked generate \n",
            "[[ 1  2  3  4  5]\n",
            " [ 6  7  8  9 10]\n",
            " [11 12 13 14 15]\n",
            " [16 17 18 19 20]]\n",
            " with shape (4, 5) \n",
            "\n",
            "Arrays h-stacked generate \n",
            "[[ 1  2  3  4  5 11 12 13 14 15]\n",
            " [ 6  7  8  9 10 16 17 18 19 20]]\n",
            " with shape (2, 10) \n",
            "\n"
          ]
        }
      ]
    },
    {
      "cell_type": "markdown",
      "source": [
        "It must be noted that in case of record arrays with different types concatenations of arrays does not work due to type incompatibility.\n",
        "\n",
        "However, NumPy has a dedicated **[recfunctions](https://numpy.org/devdocs/user/basics.rec.html)** package that offers support for such operations, basically merging the fields from both arrays.   "
      ],
      "metadata": {
        "id": "EFr3LvhPpVZq"
      }
    },
    {
      "cell_type": "code",
      "source": [
        "# import the numpy package supporting record functions\n",
        "from numpy.lib import recfunctions as rfn\n",
        "\n",
        "# create a record array containing the int and float values of several numbers\n",
        "rec_array_numeric = np.array(\n",
        "    [(1, 1.0), (2, 2.0), (3,3.0)], \n",
        "    dtype=[(\"int_value\", \"<i8\"), (\"float_value\", \"<f16\")]\n",
        "  )\n",
        "\n",
        "# create a record array containing the literal representation of these numbers\n",
        "# in EN and FR\n",
        "rec_array_literal = np.array(\n",
        "    [(\"one\", \"un\"), (\"two\", \"deux\"), (\"three\", \"trois\")],\n",
        "    dtype=[(\"EN\", \"<U250\"), (\"FR\", \"<U250\")]\n",
        "  )\n",
        "\n",
        "# concatenate the arrays based on fields\n",
        "merged_array = rfn.merge_arrays (\n",
        "  (rec_array_numeric, rec_array_literal),\n",
        "  asrecarray=True, \n",
        "  flatten=True\n",
        ")\n",
        "\n",
        "# display the merged array \n",
        "print(\n",
        "    \"The merged array containing all fields is \\n{} \".format(\n",
        "       merged_array \n",
        "    )\n",
        "  )"
      ],
      "metadata": {
        "colab": {
          "base_uri": "https://localhost:8080/"
        },
        "id": "C1-fnxBRkzZT",
        "outputId": "afb29448-909e-4cd9-a7e4-0ac5131e6f05"
      },
      "execution_count": 9,
      "outputs": [
        {
          "output_type": "stream",
          "name": "stdout",
          "text": [
            "The merged array containing all fields is \n",
            "[(1, 1., 'one', 'un') (2, 2., 'two', 'deux') (3, 3., 'three', 'trois')] \n"
          ]
        }
      ]
    },
    {
      "cell_type": "markdown",
      "source": [
        "## 2. Searching and sorting"
      ],
      "metadata": {
        "id": "C75iEa5wIOnq"
      }
    },
    {
      "cell_type": "markdown",
      "source": [
        "An essential feature of NumPy is the **support for sorting and searching** data in arrays."
      ],
      "metadata": {
        "id": "qoeJCwMkIaPP"
      }
    },
    {
      "cell_type": "markdown",
      "source": [
        "Let's generate some support data first:"
      ],
      "metadata": {
        "id": "LBKuK0FWIrD0"
      }
    },
    {
      "cell_type": "code",
      "source": [
        "# generate pseudo-random data\n",
        "import random as rnd\n",
        "\n",
        "rnd.seed(0)\n",
        "random_data_1d = np.array(\n",
        "                  rnd.sample(range(1000), 100),\n",
        "                  dtype = np.int64\n",
        "                )\n",
        "\n",
        "print(\"The generated random data is: \\n{}\\n\".format(random_data_1d))"
      ],
      "metadata": {
        "colab": {
          "base_uri": "https://localhost:8080/"
        },
        "id": "NoiE4RrZIoy9",
        "outputId": "756d950c-2591-41cb-ff2c-cb99fb9dcb42"
      },
      "execution_count": 10,
      "outputs": [
        {
          "output_type": "stream",
          "name": "stdout",
          "text": [
            "The generated random data is: \n",
            "[864 394 776 911 430  41 265 988 523 497 414 940 802 849 310 488 366 597\n",
            " 913 929 223 516 142 288 143 773  97 633 818 256 931 545 722 829 616 923\n",
            " 150 317 101 747  75 920 870 700 338 483 573 103 362 444 323 625 655 934\n",
            " 209 565 984 453 886 533 266  63 824 561  14  95 736 860 408 727 844 803\n",
            " 684 640   1 626 505 847 888 341 249 960 333 720 891  64 195 581 227 244\n",
            " 822 145 909 556 458  93  82 327 896 520]\n",
            "\n"
          ]
        }
      ]
    },
    {
      "cell_type": "markdown",
      "source": [
        "In addition to the functionality provided by boolean indexing, NumPy allows searching for values based on various conditions via the **[where](https://numpy.org/doc/stable/reference/generated/numpy.where.html)** function. This function has the following parameters:\n",
        "\n",
        "*   condition - an array of bolean values: positions where the condition is satisfied or not; \n",
        "*   x: an array from which values are returned if condition is TRUE;\n",
        "*   y: an array from which values are returned if condition is FALSE.\n",
        "\n",
        "If x and y are not specified, **only the index positions where condition is TRUE** is returned.\n",
        "\n"
      ],
      "metadata": {
        "id": "kijNa7HDKpxd"
      }
    },
    {
      "cell_type": "code",
      "source": [
        "# identifies the indexes where value is less than a target value\n",
        "limit_value = 50\n",
        "print(\n",
        "    \"The index positions where values are smaller than {} is \\n{}\\n)\".format(\n",
        "      limit_value,\n",
        "      np.where(random_data_1d < 50)        \n",
        "    )\n",
        ")"
      ],
      "metadata": {
        "colab": {
          "base_uri": "https://localhost:8080/"
        },
        "id": "mgqFsbpdKpY2",
        "outputId": "b173f4dc-c280-439e-feee-f3213f69ebee"
      },
      "execution_count": 11,
      "outputs": [
        {
          "output_type": "stream",
          "name": "stdout",
          "text": [
            "The index positions where values are smaller than 50 is \n",
            "(array([ 5, 64, 74]),)\n",
            ")\n"
          ]
        }
      ]
    },
    {
      "cell_type": "code",
      "source": [
        "# replaces the array values higher than a certain limit with the limit value\n",
        "max_limit_value = 100\n",
        "print(\n",
        "    \"The array where values are limited to {} are \\n {}\".format(\n",
        "      max_limit_value,\n",
        "      np.where(\n",
        "          random_data_1d < max_limit_value,\n",
        "          random_data_1d,\n",
        "          np.full(random_data_1d.shape[0], max_limit_value)\n",
        "        )        \n",
        "    )\n",
        ")"
      ],
      "metadata": {
        "colab": {
          "base_uri": "https://localhost:8080/"
        },
        "outputId": "f1bf1f6c-a376-4417-ccc0-4e82c6b876cd",
        "id": "Dv4or6BeOwKy"
      },
      "execution_count": 12,
      "outputs": [
        {
          "output_type": "stream",
          "name": "stdout",
          "text": [
            "The array where values are limited to 100 are \n",
            " [100 100 100 100 100  41 100 100 100 100 100 100 100 100 100 100 100 100\n",
            " 100 100 100 100 100 100 100 100  97 100 100 100 100 100 100 100 100 100\n",
            " 100 100 100 100  75 100 100 100 100 100 100 100 100 100 100 100 100 100\n",
            " 100 100 100 100 100 100 100  63 100 100  14  95 100 100 100 100 100 100\n",
            " 100 100   1 100 100 100 100 100 100 100 100 100 100  64 100 100 100 100\n",
            " 100 100 100 100 100  93  82 100 100 100]\n"
          ]
        }
      ]
    },
    {
      "cell_type": "markdown",
      "source": [
        "Another important feature provided by NumPy is that related to data sorting. An array can be sorted in NumPy using the **[sort](https://numpy.org/doc/stable/reference/generated/numpy.sort.html)** and **[argsort](https://numpy.org/doc/stable/reference/generated/numpy.argsort.html)** functions. The difference between these two functions is that **sort** returns the sorted array while **argsort** returns an array of indices reflecting the sorted values in the array.\n",
        "\n",
        "Both functions allow the following relevant parameters:\n",
        "\n",
        "*   a - array: the array to be sorted;\n",
        "*   axis - int : the axis considered for sorting in case of multidimensional arrays. Therefore a matrix can be sorted by rows and columns as well.\n",
        "\n"
      ],
      "metadata": {
        "id": "r1aeXNRWepjB"
      }
    },
    {
      "cell_type": "code",
      "source": [
        "# sorts the values in the array\n",
        "print(\n",
        "    \"The sorted array is \\n {}\".format(\n",
        "      np.sort(random_data_1d)\n",
        "    )\n",
        ")"
      ],
      "metadata": {
        "colab": {
          "base_uri": "https://localhost:8080/"
        },
        "id": "xO9vgbMGfuPI",
        "outputId": "eb67afd8-598e-4afa-cb4b-d9f77d8a31f1"
      },
      "execution_count": 13,
      "outputs": [
        {
          "output_type": "stream",
          "name": "stdout",
          "text": [
            "The sorted array is \n",
            " [  1  14  41  63  64  75  82  93  95  97 101 103 142 143 145 150 195 209\n",
            " 223 227 244 249 256 265 266 288 310 317 323 327 333 338 341 362 366 394\n",
            " 408 414 430 444 453 458 483 488 497 505 516 520 523 533 545 556 561 565\n",
            " 573 581 597 616 625 626 633 640 655 684 700 720 722 727 736 747 773 776\n",
            " 802 803 818 822 824 829 844 847 849 860 864 870 886 888 891 896 909 911\n",
            " 913 920 923 929 931 934 940 960 984 988]\n"
          ]
        }
      ]
    },
    {
      "cell_type": "code",
      "source": [
        "# sorts the values in the array and return the new index positions\n",
        "print(\n",
        "    \"The sorted array's indexes are \\n {}\".format(\n",
        "      np.argsort(random_data_1d)\n",
        "    )\n",
        ")"
      ],
      "metadata": {
        "colab": {
          "base_uri": "https://localhost:8080/"
        },
        "id": "qrsAPm06hhJu",
        "outputId": "a1aa1470-4d1e-4673-c880-baddd7f2fd3d"
      },
      "execution_count": 14,
      "outputs": [
        {
          "output_type": "stream",
          "name": "stdout",
          "text": [
            "The sorted array's indexes are \n",
            " [74 64  5 61 85 40 96 95 65 26 38 47 22 24 91 36 86 54 20 88 89 80 29  6\n",
            " 60 23 14 37 50 97 82 44 79 48 16  1 68 10  4 49 57 94 45 15  9 76 21 99\n",
            "  8 59 31 93 63 55 46 87 17 34 51 75 27 73 52 72 43 83 32 69 66 39 25  2\n",
            " 12 71 28 90 62 33 70 77 13 67  0 42 58 78 84 98 92  3 18 41 35 19 30 53\n",
            " 11 81 56  7]\n"
          ]
        }
      ]
    },
    {
      "cell_type": "markdown",
      "source": [
        "## 3. Other useful functions\n",
        "\n"
      ],
      "metadata": {
        "id": "K_F5oXCf3oHq"
      }
    },
    {
      "cell_type": "markdown",
      "source": [
        "NumPy provides a series of mathematical, statistical and linear algebra  functions which are a strong support for data processing and scientific calculations. These functions are described in the section  [Routines](https://numpy.org/doc/stable/reference/routines.html) from the NumPy documentation. \n",
        "\n",
        "We will focus on a subset of them which are most used in practice. "
      ],
      "metadata": {
        "id": "QDZlad3B3y_y"
      }
    },
    {
      "cell_type": "markdown",
      "source": [
        "### 3.1 Statistical functions"
      ],
      "metadata": {
        "id": "5uhuuUHxQl2J"
      }
    },
    {
      "cell_type": "markdown",
      "source": [
        "NumPy offers a rich palette of statistical functions defined in the section [Statistics](https://numpy.org/doc/stable/reference/routines.statistics.html).\n",
        "The most important ones are:\n",
        "\n",
        "*   min, argmin - returns the minimum value and the positional index(es) of the minimal value from the array; \n",
        "*   max, argmax - returns the maximum value and the positional index(es) of the maximal value from the array;\n",
        "*   average - returns the average of the values from the array;\n",
        "*   median - returns the median of the values from the array. \n",
        "\n",
        "\n"
      ],
      "metadata": {
        "id": "p5uUvIYRWKxV"
      }
    },
    {
      "cell_type": "code",
      "source": [
        "# returns the maximal value and its postion from the array\n",
        "print(\n",
        "    \"The maximal value from the array is {} at the positional index {}\".format(\n",
        "      np.max(random_data_1d),\n",
        "      np.argmax(random_data_1d)   \n",
        "    )\n",
        ")"
      ],
      "metadata": {
        "colab": {
          "base_uri": "https://localhost:8080/"
        },
        "id": "CR-W5hhUXItL",
        "outputId": "7f3373c5-d7a2-44f3-b0ca-4306766f1158"
      },
      "execution_count": 15,
      "outputs": [
        {
          "output_type": "stream",
          "name": "stdout",
          "text": [
            "The maximal value from the array is 988 at the positional index 7\n"
          ]
        }
      ]
    },
    {
      "cell_type": "code",
      "source": [
        "# returns the average and the median of values from the array\n",
        "print(\n",
        "    \"The average value from the array is {} and the median value is {}\".format(\n",
        "      np.average(random_data_1d),\n",
        "      np.median(random_data_1d)   \n",
        "    )\n",
        ")"
      ],
      "metadata": {
        "colab": {
          "base_uri": "https://localhost:8080/"
        },
        "id": "rXXzPOW5Xu_Z",
        "outputId": "fc2e9e54-0065-41e4-b3cb-bb120792ac63"
      },
      "execution_count": 16,
      "outputs": [
        {
          "output_type": "stream",
          "name": "stdout",
          "text": [
            "The average value from the array is 531.07 and the median value is 539.0\n"
          ]
        }
      ]
    },
    {
      "cell_type": "markdown",
      "source": [
        "### 3.2 Mathematical functions"
      ],
      "metadata": {
        "id": "MvlkJNc7YVsP"
      }
    },
    {
      "cell_type": "markdown",
      "source": [
        "NumPy also offers a series of mathematical functions describe in the [Mathematical functions](https://numpy.org/doc/stable/reference/routines.math.html) section of the NumPy documentation. \n",
        "\n",
        "We will provide examples for several functions used oftenly in practice. "
      ],
      "metadata": {
        "id": "D92BjQUbYfFu"
      }
    },
    {
      "cell_type": "code",
      "source": [
        "# returns the sum of the values of the elements in the array\n",
        "print(\n",
        "    \"The sum of the values of elements from the array is {}\\n\".format(\n",
        "      np.sum(random_data_1d)  \n",
        "    )\n",
        ")\n",
        "\n",
        "# returns the cummulative sum of the values of the elements in the array\n",
        "print(\n",
        "    \"The sum of the values of elements from the array is \\n{}\\n\".format(\n",
        "      np.cumsum(random_data_1d)  \n",
        "    )\n",
        ")\n",
        "\n",
        "# returns the logaritm of the values of the elements in the array\n",
        "print(\n",
        "    \"The logaritm of the values of elements from the array is \\n{}\\n\".format(\n",
        "      np.log(random_data_1d)  \n",
        "    )\n",
        ")\n",
        "\n",
        "# returns the sinus of the values of the elements in the array\n",
        "print(\n",
        "    \"The sinus of the values of elements from the array is \\n{}\\n\".format(\n",
        "      np.sin(random_data_1d)  \n",
        "    )\n",
        ")"
      ],
      "metadata": {
        "colab": {
          "base_uri": "https://localhost:8080/"
        },
        "id": "q1tEM7A6ZHQd",
        "outputId": "512665ef-5a2b-43cf-f190-582ae17d00c0"
      },
      "execution_count": 17,
      "outputs": [
        {
          "output_type": "stream",
          "name": "stdout",
          "text": [
            "The sum of the values of elements from the array is 53107\n",
            "\n",
            "The sum of the values of elements from the array is \n",
            "[  864  1258  2034  2945  3375  3416  3681  4669  5192  5689  6103  7043\n",
            "  7845  8694  9004  9492  9858 10455 11368 12297 12520 13036 13178 13466\n",
            " 13609 14382 14479 15112 15930 16186 17117 17662 18384 19213 19829 20752\n",
            " 20902 21219 21320 22067 22142 23062 23932 24632 24970 25453 26026 26129\n",
            " 26491 26935 27258 27883 28538 29472 29681 30246 31230 31683 32569 33102\n",
            " 33368 33431 34255 34816 34830 34925 35661 36521 36929 37656 38500 39303\n",
            " 39987 40627 40628 41254 41759 42606 43494 43835 44084 45044 45377 46097\n",
            " 46988 47052 47247 47828 48055 48299 49121 49266 50175 50731 51189 51282\n",
            " 51364 51691 52587 53107]\n",
            "\n",
            "The logaritm of the values of elements from the array is \n",
            "[6.76157277 5.97635091 6.65415252 6.8145429  6.06378521 3.71357207\n",
            " 5.57972983 6.8956827  6.25958146 6.20859003 6.02586597 6.84587988\n",
            " 6.68710861 6.74405919 5.7365723  6.19031541 5.90263333 6.39191711\n",
            " 6.81673588 6.83410874 5.40717177 6.24610677 4.95582706 5.66296048\n",
            " 4.96284463 6.65027905 4.57471098 6.45047042 6.70686234 5.54517744\n",
            " 6.83625928 6.30078579 6.58202514 6.72022016 6.42324696 6.82762923\n",
            " 5.01063529 5.75890177 4.61512052 6.61606519 4.31748811 6.82437367\n",
            " 6.76849321 6.55108034 5.8230459  6.18001665 6.35088572 4.63472899\n",
            " 5.89164421 6.09582456 5.77765232 6.43775165 6.48463524 6.83947644\n",
            " 5.34233425 6.33682573 6.8916259  6.11589213 6.78671695 6.27852142\n",
            " 5.58349631 4.14313473 6.71417053 6.32972091 2.63905733 4.55387689\n",
            " 6.60123012 6.75693239 6.01126717 6.58892648 6.73815249 6.68835471\n",
            " 6.52795792 6.46146818 0.         6.43935037 6.22455843 6.74170069\n",
            " 6.78897174 5.83188248 5.5174529  6.86693328 5.80814249 6.57925121\n",
            " 6.79234443 4.15888308 5.27299956 6.36475076 5.42495002 5.49716823\n",
            " 6.7117404  4.97673374 6.81234509 6.32076829 6.12686918 4.53259949\n",
            " 4.40671925 5.78996017 6.79794041 6.25382881]\n",
            "\n",
            "The sinus of the values of elements from the array is \n",
            "[-0.06198051 -0.96380342 -0.02661142 -0.06183008  0.38775385 -0.15862267\n",
            "  0.89401017  0.99952296  0.99717555  0.58781939 -0.63671476 -0.61611169\n",
            " -0.77950384  0.69612342  0.85088769 -0.86898067  0.99999007  0.09724191\n",
            "  0.93328805 -0.79037781  0.05305349  0.70242924 -0.58779501 -0.85550437\n",
            " -0.99834536  0.16741514  0.37960774 -0.99952202  0.92684114 -0.99920803\n",
            "  0.88596676 -0.99780128 -0.53652204 -0.37134812  0.24531043 -0.58772184\n",
            " -0.71487643  0.29633979  0.45202579 -0.64349199 -0.38778164  0.46766523\n",
            "  0.21936644  0.54397052 -0.9613892  -0.72101682  0.9425346   0.62298863\n",
            " -0.65700932 -0.86008478  0.55140153  0.17601627  0.99975651 -0.81165622\n",
            "  0.99646664 -0.46769187 -0.62995823  0.57340657  0.07081237 -0.87756088\n",
            "  0.86005403  0.1673557   0.78501774  0.97463516  0.99060736  0.68326171\n",
            "  0.76259745 -0.71483427 -0.39589747 -0.96141408  0.88589685 -0.948263\n",
            " -0.76251945 -0.7738525   0.84147098 -0.73323132  0.71485535 -0.94249431\n",
            "  0.87754643  0.99060323 -0.72716319 -0.97051349 -0.00882117 -0.5440717\n",
            " -0.93643025  0.92002604  0.21945467  0.19341424  0.7210586  -0.8645363\n",
            " -0.88996811  0.46774516 -0.88182727  0.06186016 -0.62296505 -0.94828214\n",
            "  0.31322878  0.27093481 -0.60207208 -0.99779528]\n",
            "\n"
          ]
        }
      ]
    },
    {
      "cell_type": "markdown",
      "source": [
        "### 3.3 Matrix operations"
      ],
      "metadata": {
        "id": "8VCpENDwfP48"
      }
    },
    {
      "cell_type": "markdown",
      "source": [
        "NumPy allows as well matrix operations such as matrix multiplication and inverse."
      ],
      "metadata": {
        "id": "iSKN1OBffb5y"
      }
    },
    {
      "cell_type": "markdown",
      "source": [
        "The matrix multiplication operation in NumPy is represented by the **[matmul](https://numpy.org/doc/stable/reference/generated/numpy.matmul.html)** operation which takes as arguments the matrices to be multiplied.\n",
        "\n",
        "Matrix multiplication is used extensively in practice, for example in case of calculating a stock value considering the number of shares and share unit value:"
      ],
      "metadata": {
        "id": "HbLStVNjf4fr"
      }
    },
    {
      "cell_type": "code",
      "source": [
        "#simulate data from two portfolios containing a specific number of shares\n",
        "matrix_shares_portfolio = np.array([\n",
        "  [10, 2, 5],\n",
        "  [ 7, 9, 6]\n",
        "])\n",
        "\n",
        "#the values of shares\n",
        "matrix_shares_values = [10, 8, 12]\n",
        "\n",
        "#calculate the value of the porfolio\n",
        "print(\n",
        "    \"The value of the portfolios with share distribution \\n{}\\n and share values \\n{}\\n is \\n{}\\n\".format(\n",
        "      matrix_shares_portfolio,\n",
        "      matrix_shares_values,\n",
        "      np.matmul(\n",
        "          matrix_shares_portfolio, \n",
        "          matrix_shares_values\n",
        "      )    \n",
        "    )    \n",
        "  )\n"
      ],
      "metadata": {
        "colab": {
          "base_uri": "https://localhost:8080/"
        },
        "id": "7hECbbDHfPJL",
        "outputId": "55c916f7-3f12-4eca-fc0c-928768a0f494"
      },
      "execution_count": 24,
      "outputs": [
        {
          "output_type": "stream",
          "name": "stdout",
          "text": [
            "The value of the portfolios with share distribution \n",
            "[[10  2  5]\n",
            " [ 7  9  6]]\n",
            " and share values \n",
            "[10, 8, 12]\n",
            " is \n",
            "[176 214]\n",
            "\n"
          ]
        }
      ]
    },
    {
      "cell_type": "markdown",
      "source": [
        "NumPy also allows the calculation of a matrix's inverse value via the **[inv](https://numpy.org/doc/stable/reference/generated/numpy.linalg.inv.html)** function from numpy.linalg:"
      ],
      "metadata": {
        "id": "MuWpUAplsypK"
      }
    },
    {
      "cell_type": "code",
      "source": [
        "#initialize a data matrix and calculate its inverse\n",
        "matrix_2d = random_data_1d[:9].reshape(3, 3)\n",
        "matrix_2d_inverse = np.linalg.inv(matrix_2d)\n",
        "\n",
        "# display the matrix inverse\n",
        "print(\n",
        "    \"The inverse of \\n{}\\n is \\n{}\\n\".format(\n",
        "        matrix_2d,\n",
        "        matrix_2d_inverse\n",
        "    )\n",
        "  )\n",
        "\n",
        "# explore if their product is close to identity matrix\n",
        "print(\n",
        "    \"Their product is \\n{}\\n which is close to the identity matrix (considering rounding errors)\".format(\n",
        "      np.matmul(\n",
        "        matrix_2d, \n",
        "        matrix_2d_inverse\n",
        "      )    \n",
        "    )\n",
        "  )"
      ],
      "metadata": {
        "colab": {
          "base_uri": "https://localhost:8080/"
        },
        "id": "H9_viUfItA8o",
        "outputId": "bb109e33-87b6-4e55-db61-0796254a7b20"
      },
      "execution_count": 40,
      "outputs": [
        {
          "output_type": "stream",
          "name": "stdout",
          "text": [
            "The inverse of \n",
            "[[864 394 776]\n",
            " [911 430  41]\n",
            " [265 988 523]]\n",
            " is \n",
            "[[ 3.14703081e-04  9.56876103e-04 -5.41953176e-04]\n",
            " [-7.94665304e-04  4.20268622e-04  1.14613626e-03]\n",
            " [ 1.34174571e-03 -1.27877164e-03  2.14817769e-05]]\n",
            "\n",
            "Their product is \n",
            "[[ 1.00000000e+00 -1.73472348e-16  5.99563801e-17]\n",
            " [ 1.08420217e-18  1.00000000e+00 -3.70661618e-17]\n",
            " [ 1.36609474e-17  3.90312782e-17  1.00000000e+00]]\n",
            " which is close to the identity matrix (considering rounding errors)\n"
          ]
        }
      ]
    }
  ]
}