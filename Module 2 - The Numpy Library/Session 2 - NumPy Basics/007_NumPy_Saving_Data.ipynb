{
  "cells": [
    {
      "cell_type": "markdown",
      "metadata": {
        "id": "KDuU6OSWXKo4"
      },
      "source": [
        "![*INTERTECHNICA - SOLON EDUCATIONAL PROGRAMS - TECHNOLOGY LINE*](https://solon.intertechnica.com/assets/IntertechnicaSolonEducationalPrograms-TechnologyLine.png)"
      ]
    },
    {
      "cell_type": "markdown",
      "metadata": {
        "id": "OeBbVwSSXKo9"
      },
      "source": [
        "# Data Manipulation with Python - The NumPy Library - Array Creation"
      ]
    },
    {
      "cell_type": "markdown",
      "metadata": {
        "id": "uUhqqWdPXKpA"
      },
      "source": [
        "*Basic initialization of the workspace.*"
      ]
    },
    {
      "cell_type": "code",
      "execution_count": 1,
      "metadata": {
        "colab": {
          "base_uri": "https://localhost:8080/"
        },
        "id": "AjAZRU7GXKpE",
        "outputId": "9386a534-7c6b-40a3-a6d5-81f98b5e0597"
      },
      "outputs": [
        {
          "output_type": "stream",
          "name": "stdout",
          "text": [
            "Requirement already satisfied: numpy in /usr/local/lib/python3.7/dist-packages (1.21.5)\n",
            "NumPy installed at version: 1.21.5\n"
          ]
        }
      ],
      "source": [
        "!python -m pip install numpy\n",
        "import numpy as np\n",
        "print (\"NumPy installed at version: {}\".format(np.__version__))"
      ]
    },
    {
      "cell_type": "markdown",
      "metadata": {
        "id": "yLG0L8VPF9oH"
      },
      "source": [
        "## 1.1 Loading data for further processing"
      ]
    },
    {
      "cell_type": "markdown",
      "metadata": {
        "id": "Ml7NZT0NF9oH"
      },
      "source": [
        "We will load the CSV data from a data stream so that it can be processed further: "
      ]
    },
    {
      "cell_type": "code",
      "execution_count": 2,
      "metadata": {
        "id": "kiFYoI5LF9oI",
        "colab": {
          "base_uri": "https://localhost:8080/"
        },
        "outputId": "361a13ce-1c61-48eb-8ca5-37d5fffcb537"
      },
      "outputs": [
        {
          "output_type": "stream",
          "name": "stdout",
          "text": [
            " A sample of the CSV loaded data is: \n",
            " [('Finland',  1, 7.77 ,  5540.72 ) ('Denmark',  2, 7.6  ,  5792.202)\n",
            " ('Norway',  3, 7.555,  5421.241) ('Iceland',  4, 7.492,   341.243)\n",
            " ('Netherlands',  5, 7.49 , 17134.871)\n",
            " ('Switzerland',  6, 7.48 ,  8654.622) ('Sweden',  7, 7.344, 10099.265)\n",
            " ('New Zealand',  8, 7.31 ,  4822.233) ('Canada',  9, 7.277, 37742.152)\n",
            " ('Austria', 10, 7.246,  9006.398)]\n"
          ]
        }
      ],
      "source": [
        "# import packages for remote data load\n",
        "import requests\n",
        "import io\n",
        "\n",
        "# read data remotely\n",
        "data_url = \"https://raw.githubusercontent.com/INTERTECHNICA-BUSINESS-SOLUTIONS-SRL/CourseDataManipulationWithPython/main/Module%202%20-%20The%20Numpy%20Library/Session%202%20-%20NumPy%20Basics/data/country_happines_rank_2020.csv\"\n",
        "response = requests.get(data_url)\n",
        "\n",
        "# load the string data into a record array\n",
        "loaded_data = np.loadtxt(\n",
        "    io.StringIO(response.text), \n",
        "    skiprows = 1, \n",
        "    delimiter = \",\", \n",
        "    dtype = {\"names\" : (\"Country\", \"Rank\", \"Score\", \"Population\"),\n",
        "            \"formats\": (\"U20\", \"int8\", \"float16\", \"float32\")}\n",
        ")\n",
        "\n",
        "print(\" A sample of the CSV loaded data is: \\n {}\".format(loaded_data[0:10]))"
      ]
    },
    {
      "cell_type": "markdown",
      "metadata": {
        "id": "IErvSLmbcz6W"
      },
      "source": [
        "## 1.2 Processing the loaded data "
      ]
    },
    {
      "cell_type": "markdown",
      "source": [
        "We will process the data, adding a percentual difference relative to the previous country in the ranking:"
      ],
      "metadata": {
        "id": "BIiyQQ1ic67C"
      }
    },
    {
      "cell_type": "code",
      "source": [
        "# iterate over the elements in the array and calculate the percentual difference\n",
        "# based on \n",
        "loaded_data_size = loaded_data.shape[0]\n",
        "loaded_data_scores = loaded_data[\"Score\"]\n",
        "percentual_difference_data = [100 * (loaded_data_scores[i] - loaded_data_scores[i+1]) / loaded_data_scores[i] \\\n",
        "                              for i in range(0, loaded_data_size -1 ) ]\n",
        "percentual_increase_data = np.append(\n",
        "    percentual_difference_data,\n",
        "    0\n",
        ")\n",
        "\n",
        "# create a record array having the procentual difference values\n",
        "percentual_difference = np.array(\n",
        "  percentual_difference_data,\n",
        "  dtype=[(\"Percentual Increase\", \"<f16\")]  \n",
        ")"
      ],
      "metadata": {
        "id": "YrllsdHLdpIm"
      },
      "execution_count": 3,
      "outputs": []
    },
    {
      "cell_type": "code",
      "source": [
        "from numpy.lib import recfunctions as rfn\n",
        "\n",
        "# merge the original array with the percentual differences\n",
        "merged_array = rfn.merge_arrays (\n",
        "  (loaded_data, percentual_difference),\n",
        "  asrecarray=True, \n",
        "  flatten=True\n",
        ")\n",
        "\n",
        "print(\n",
        "    \" A sample of the merged data is: \\n{}\\n with the data structure \\n{}\".format(\n",
        "        merged_array[0:10],\n",
        "        merged_array.dtype\n",
        "    )\n",
        "  )"
      ],
      "metadata": {
        "colab": {
          "base_uri": "https://localhost:8080/"
        },
        "id": "zn2lUWfzkX9K",
        "outputId": "853efaa2-699a-4e34-825d-ccb0002d5144"
      },
      "execution_count": 4,
      "outputs": [
        {
          "output_type": "stream",
          "name": "stdout",
          "text": [
            " A sample of the merged data is: \n",
            "[('Finland',  1, 7.77 ,  5540.72 , 2.1618904 )\n",
            " ('Denmark',  2, 7.6  ,  5792.202, 0.61664954)\n",
            " ('Norway',  3, 7.555,  5421.241, 0.82730093)\n",
            " ('Iceland',  4, 7.492,   341.243, 0.05213764)\n",
            " ('Netherlands',  5, 7.49 , 17134.871, 0.10432968)\n",
            " ('Switzerland',  6, 7.48 ,  8654.622, 1.82767624)\n",
            " ('Sweden',  7, 7.344, 10099.265, 0.4787234 )\n",
            " ('New Zealand',  8, 7.31 ,  4822.233, 0.42757883)\n",
            " ('Canada',  9, 7.277, 37742.152, 0.42941492)\n",
            " ('Austria', 10, 7.246,  9006.398, 0.26954178)]\n",
            " with the data structure \n",
            "(numpy.record, [('Country', '<U20'), ('Rank', 'i1'), ('Score', '<f2'), ('Population', '<f4'), ('Percentual Increase', '<f16')])\n"
          ]
        }
      ]
    },
    {
      "cell_type": "markdown",
      "metadata": {
        "id": "4IPBV5G6uC46"
      },
      "source": [
        "## 1.3 Saving the loaded data "
      ]
    },
    {
      "cell_type": "markdown",
      "source": [
        "Once the data has been loaded and processed, the next natural step would be to store it for further processing. The NumPy library supports the saving of data in CSV format via the [**savetxt**](https://numpy.org/doc/stable/reference/generated/numpy.savetxt.html) function.\n",
        "\n",
        "The function's parameters allow extensive customization, such as the file (or data stream) for storing the data, the format used for saving it or the characters used for delimiters and new line.  "
      ],
      "metadata": {
        "id": "zDO1GNSGuHKD"
      }
    },
    {
      "cell_type": "code",
      "source": [
        "# save the data in a CSV format\n",
        "np.savetxt(\n",
        "    # the filename\n",
        "    \"./country_happines_rank_2020_processed.csv\",\n",
        "    # the data\n",
        "    merged_array,\n",
        "    # the CSV data\n",
        "    header = \",\".join(merged_array.dtype.names),\n",
        "    # the format for saved data\n",
        "    fmt = [\"%s\", \"%d\", \"%f\", \"%f\", \"%f\"],\n",
        "    \n",
        "    # the delimiter character\n",
        "    delimiter = \",\"\n",
        ")"
      ],
      "metadata": {
        "id": "_S7D6ylI17Oc"
      },
      "execution_count": 5,
      "outputs": []
    },
    {
      "cell_type": "markdown",
      "source": [
        "Let's display a sample of the content of the file as well:"
      ],
      "metadata": {
        "id": "if7TZK4ga7Ww"
      }
    },
    {
      "cell_type": "code",
      "source": [
        "# open the file\n",
        "csv_file = open(\"./country_happines_rank_2020_processed.csv\")\n",
        "\n",
        "# display a content sample\n",
        "content = csv_file.readlines()\n",
        "print(\n",
        "    \"A sample of the \"\n",
        ")\n",
        "\n",
        "content[0:10]"
      ],
      "metadata": {
        "colab": {
          "base_uri": "https://localhost:8080/"
        },
        "id": "HQwL0f7JbG8l",
        "outputId": "4ba7d2b2-d89f-42d0-f1fd-e8e64c3be82d"
      },
      "execution_count": 7,
      "outputs": [
        {
          "output_type": "execute_result",
          "data": {
            "text/plain": [
              "['# Country,Rank,Score,Population,Percentual Increase\\n',\n",
              " 'Finland,1,7.769531,5540.720215,2.161890\\n',\n",
              " 'Denmark,2,7.601562,5792.202148,0.616650\\n',\n",
              " 'Norway,3,7.554688,5421.241211,0.827301\\n',\n",
              " 'Iceland,4,7.492188,341.243011,0.052138\\n',\n",
              " 'Netherlands,5,7.488281,17134.871094,0.104330\\n',\n",
              " 'Switzerland,6,7.480469,8654.622070,1.827676\\n',\n",
              " 'Sweden,7,7.343750,10099.264648,0.478723\\n',\n",
              " 'New Zealand,8,7.308594,4822.232910,0.427579\\n',\n",
              " 'Canada,9,7.277344,37742.152344,0.429415\\n']"
            ]
          },
          "metadata": {},
          "execution_count": 7
        }
      ]
    }
  ],
  "metadata": {
    "kernelspec": {
      "display_name": "Python 3",
      "language": "python",
      "name": "python3"
    },
    "language_info": {
      "codemirror_mode": {
        "name": "ipython",
        "version": 3
      },
      "file_extension": ".py",
      "mimetype": "text/x-python",
      "name": "python",
      "nbconvert_exporter": "python",
      "pygments_lexer": "ipython3",
      "version": "3.7.3"
    },
    "colab": {
      "name": "007_NumPy_Saving_Data.ipynb",
      "provenance": [],
      "collapsed_sections": []
    }
  },
  "nbformat": 4,
  "nbformat_minor": 0
}