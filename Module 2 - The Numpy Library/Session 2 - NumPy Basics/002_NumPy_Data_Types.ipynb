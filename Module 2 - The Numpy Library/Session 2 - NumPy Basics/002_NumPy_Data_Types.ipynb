{
  "cells": [
    {
      "cell_type": "markdown",
      "metadata": {
        "id": "KDuU6OSWXKo4"
      },
      "source": [
        "![*INTERTECHNICA - SOLON EDUCATIONAL PROGRAMS - TECHNOLOGY LINE*](https://solon.intertechnica.com/assets/IntertechnicaSolonEducationalPrograms-TechnologyLine.png)"
      ]
    },
    {
      "cell_type": "markdown",
      "metadata": {
        "id": "OeBbVwSSXKo9"
      },
      "source": [
        "# Data Manipulation with Python - The NumPy Library - NumPy Data Types"
      ]
    },
    {
      "cell_type": "markdown",
      "metadata": {
        "id": "uUhqqWdPXKpA"
      },
      "source": [
        "*Basic initialization of the workspace.*"
      ]
    },
    {
      "cell_type": "code",
      "execution_count": 1,
      "metadata": {
        "colab": {
          "base_uri": "https://localhost:8080/"
        },
        "id": "AjAZRU7GXKpE",
        "outputId": "df6c563d-dc34-4455-e239-2b3e864e9d1b"
      },
      "outputs": [
        {
          "output_type": "stream",
          "name": "stdout",
          "text": [
            "Requirement already satisfied: numpy in /usr/local/lib/python3.7/dist-packages (1.19.5)\n",
            "NumPy installed at version: 1.19.5\n"
          ]
        }
      ],
      "source": [
        "!python -m pip install numpy\n",
        "import numpy as np\n",
        "print (\"NumPy installed at version: {}\".format(np.__version__))"
      ]
    },
    {
      "cell_type": "markdown",
      "metadata": {
        "id": "LlxTCVx0XKpJ"
      },
      "source": [
        "## 1. NumPY data types"
      ]
    },
    {
      "cell_type": "markdown",
      "metadata": {
        "id": "mAAQKFhCXKpL"
      },
      "source": [
        "A numpy array is a **container of values** and it is indexed by a **tuple of non-negative integers**.  \n",
        "All the values of a numpy array have the same type.  "
      ]
    },
    {
      "cell_type": "markdown",
      "metadata": {
        "id": "DpV-7c29XKpM"
      },
      "source": [
        "The numpy arrays are represented by the array class in the numpy package.  \n",
        "The types supported by numpy are as follows:"
      ]
    },
    {
      "cell_type": "markdown",
      "metadata": {
        "id": "2hnk51I6XKpO"
      },
      "source": [
        "| Data type\t    | Description |\n",
        "|---------------|-------------|\n",
        "| ``bool_``     | Boolean (True or False) stored as a byte |\n",
        "| ``int_``      | Default integer type (same as C ``long``; normally either ``int64`` or ``int32``)| \n",
        "| ``intc``      | Identical to C ``int`` (normally ``int32`` or ``int64``)| \n",
        "| ``intp``      | Integer used for indexing (same as C ``ssize_t``; normally either ``int32`` or ``int64``)| \n",
        "| ``int8``      | Byte (-128 to 127)| \n",
        "| ``int16``     | Integer (-32768 to 32767)|\n",
        "| ``int32``     | Integer (-2147483648 to 2147483647)|\n",
        "| ``int64``     | Integer (-9223372036854775808 to 9223372036854775807)| \n",
        "| ``uint8``     | Unsigned integer (0 to 255)| \n",
        "| ``uint16``    | Unsigned integer (0 to 65535)| \n",
        "| ``uint32``    | Unsigned integer (0 to 4294967295)| \n",
        "| ``uint64``    | Unsigned integer (0 to 18446744073709551615)| \n",
        "| ``float_``    | Shorthand for ``float64``.| \n",
        "| ``float16``   | Half precision float: sign bit, 5 bits exponent, 10 bits mantissa| \n",
        "| ``float32``   | Single precision float: sign bit, 8 bits exponent, 23 bits mantissa| \n",
        "| ``float64``   | Double precision float: sign bit, 11 bits exponent, 52 bits mantissa| \n",
        "| ``complex_``  | Shorthand for ``complex128``.| \n",
        "| ``complex64`` | Complex number, represented by two 32-bit floats| \n",
        "| ``complex128``| Complex number, represented by two 64-bit floats| "
      ]
    },
    {
      "cell_type": "markdown",
      "source": [
        "In order to ensure a simpler specification for data types, NumPy allows for the usage of textual codes:  "
      ],
      "metadata": {
        "id": "G3sbifDxYD7p"
      }
    },
    {
      "cell_type": "markdown",
      "metadata": {
        "id": "hDFsaPT1XKpU"
      },
      "source": [
        "| Code\t    | Description |\n",
        "|---------------|-------------|\n",
        "|'?'| \tboolean|\n",
        "|'b'| \t(signed) byte|\n",
        "|'B'| \tunsigned byte|\n",
        "|'i'| \t(signed) integer|\n",
        "|'u'| \tunsigned integer|\n",
        "|'f'| \tfloating-point|\n",
        "|'c'| \tcomplex-floating point|\n",
        "|'m'| \ttimedelta|\n",
        "|'M'| \tdatetime|\n",
        "|'O'| \t(Python) objects|\n",
        "|'S', 'a'| \tzero-terminated bytes (not recommended)|\n",
        "|'U'| \tUnicode string|\n",
        "|'V'| \traw data (void)| "
      ]
    },
    {
      "cell_type": "markdown",
      "metadata": {
        "id": "F5fhEKx9XKpQ"
      },
      "source": [
        "These types can be directly accessed from the numpy package or via the __dtype__ method and the associated data type code: "
      ]
    },
    {
      "cell_type": "code",
      "execution_count": 2,
      "metadata": {
        "colab": {
          "base_uri": "https://localhost:8080/"
        },
        "id": "g16b8nCeXKpR",
        "outputId": "88218c92-b28e-4124-931a-238891e19520"
      },
      "outputs": [
        {
          "output_type": "stream",
          "name": "stdout",
          "text": [
            "Integer (16 bites) data type is represented by <class 'numpy.int16'>\n",
            "Float (64 bites) data type is represented by <class 'numpy.float64'>\n"
          ]
        }
      ],
      "source": [
        "# accessing data types by explicit type constants\n",
        "print(\"Integer (16 bites) data type is represented by {}\".format(np.int16))\n",
        "print(\"Float (64 bites) data type is represented by {}\".format(np.float64))"
      ]
    },
    {
      "cell_type": "code",
      "source": [
        "# accessing data types by their associated code\n",
        "print(\"Integer (16 bites) data type is represented by {}\".format(np.dtype(\"i2\")))\n",
        "print(\"Float (64 bites) data type is represented by {}\".format(np.dtype(\"f8\")))"
      ],
      "metadata": {
        "id": "5cI9WrrtZcGs",
        "colab": {
          "base_uri": "https://localhost:8080/"
        },
        "outputId": "526f0495-3ec9-44cc-fcfb-067d75d88691"
      },
      "execution_count": 3,
      "outputs": [
        {
          "output_type": "stream",
          "name": "stdout",
          "text": [
            "Integer (16 bites) data type is represented by int16\n",
            "Float (64 bites) data type is represented by float64\n"
          ]
        }
      ]
    }
  ],
  "metadata": {
    "kernelspec": {
      "display_name": "Python 3",
      "language": "python",
      "name": "python3"
    },
    "language_info": {
      "codemirror_mode": {
        "name": "ipython",
        "version": 3
      },
      "file_extension": ".py",
      "mimetype": "text/x-python",
      "name": "python",
      "nbconvert_exporter": "python",
      "pygments_lexer": "ipython3",
      "version": "3.7.3"
    },
    "colab": {
      "name": "002_NumPy_Data_Types.ipynb",
      "provenance": [],
      "collapsed_sections": []
    }
  },
  "nbformat": 4,
  "nbformat_minor": 0
}