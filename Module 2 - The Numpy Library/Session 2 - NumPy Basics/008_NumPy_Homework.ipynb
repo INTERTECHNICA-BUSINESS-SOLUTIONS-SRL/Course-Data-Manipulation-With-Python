{
  "nbformat": 4,
  "nbformat_minor": 0,
  "metadata": {
    "colab": {
      "name": "008_NumPy_Homework.ipynb",
      "provenance": [],
      "collapsed_sections": []
    },
    "kernelspec": {
      "name": "python3",
      "display_name": "Python 3"
    },
    "language_info": {
      "name": "python"
    }
  },
  "cells": [
    {
      "cell_type": "markdown",
      "metadata": {
        "id": "KDuU6OSWXKo4"
      },
      "source": [
        "![*INTERTECHNICA - SOLON EDUCATIONAL PROGRAMS - TECHNOLOGY LINE*](https://solon.intertechnica.com/assets/IntertechnicaSolonEducationalPrograms-TechnologyLine.png)"
      ]
    },
    {
      "cell_type": "markdown",
      "metadata": {
        "id": "OeBbVwSSXKo9"
      },
      "source": [
        "# Data Manipulation with Python - The NumPy Library - Homework"
      ]
    },
    {
      "cell_type": "markdown",
      "metadata": {
        "id": "uUhqqWdPXKpA"
      },
      "source": [
        "*Basic initialization of the workspace.*"
      ]
    },
    {
      "cell_type": "code",
      "execution_count": 1,
      "metadata": {
        "colab": {
          "base_uri": "https://localhost:8080/"
        },
        "id": "AjAZRU7GXKpE",
        "outputId": "f8c1ccea-864f-4b08-8a63-43afa31cbe20"
      },
      "outputs": [
        {
          "output_type": "stream",
          "name": "stdout",
          "text": [
            "Requirement already satisfied: numpy in /usr/local/lib/python3.7/dist-packages (1.21.5)\n",
            "NumPy installed at version: 1.21.5\n"
          ]
        }
      ],
      "source": [
        "!python -m pip install numpy\n",
        "import numpy as np\n",
        "print (\"NumPy installed at version: {}\".format(np.__version__))"
      ]
    },
    {
      "cell_type": "code",
      "source": [
        "from numpy.lib import recfunctions as rfn"
      ],
      "metadata": {
        "id": "sI5lgToYuhh2"
      },
      "execution_count": 2,
      "outputs": []
    },
    {
      "cell_type": "markdown",
      "source": [
        "## 1. Loading and exploring data"
      ],
      "metadata": {
        "id": "1dFjbE_IidYI"
      }
    },
    {
      "cell_type": "markdown",
      "source": [
        "We will use a dataset containing data about RON exchange rates in relation with several currencies EUR, USD and CHF.\n",
        "The data covers the years starting from 2010 to 2021\n"
      ],
      "metadata": {
        "id": "6iYD75kEixUG"
      }
    },
    {
      "cell_type": "markdown",
      "source": [
        "First of all let's load data:"
      ],
      "metadata": {
        "id": "E33ZvSx9vGET"
      }
    },
    {
      "cell_type": "code",
      "source": [
        "# import packages for remote data load\n",
        "import requests\n",
        "import io\n",
        "\n",
        "# read data remotely\n",
        "data_url = \"https://raw.githubusercontent.com/INTERTECHNICA-BUSINESS-SOLUTIONS-SRL/CourseDataManipulationWithPython/main/Common/data/RON_Exchange_Rates.csv\"\n",
        "response = requests.get(data_url)\n",
        "\n",
        "# load the string data into a record array\n",
        "raw_data = np.loadtxt(\n",
        "    io.StringIO(response.text), \n",
        "    skiprows = 1, \n",
        "    delimiter = \",\", \n",
        "    dtype = {\"names\" : (\"DATE\", \"EUR\", \"USD\", \"CHF\"),\n",
        "            \"formats\": (\"U20\", \"float64\", \"float64\", \"float64\")}\n",
        ")\n"
      ],
      "metadata": {
        "id": "RKM4QnApvFAe"
      },
      "execution_count": 3,
      "outputs": []
    },
    {
      "cell_type": "markdown",
      "source": [
        "The loaded data does not have yet a format that is directly usable for data processing; the DATE field has a textual format.\n",
        "\n",
        "We need to convert this column to a date time format that is more appropriate (more precisely to a datetime format)."
      ],
      "metadata": {
        "id": "VBM66QdfxON5"
      }
    },
    {
      "cell_type": "code",
      "source": [
        "# we will used datetime to convert textual values to date\n",
        "from datetime import datetime\n",
        "raw_date_string = [datetime.strptime(date, '%m/%d/%Y').strftime(\"%Y-%m-%d\") for date in raw_data[\"DATE\"]]\n",
        "\n",
        "# converting standard date strings to numpy datetime\n",
        "date_data = np.array(raw_date_string, np.datetime64)"
      ],
      "metadata": {
        "id": "prWEn7TwxNfs"
      },
      "execution_count": 4,
      "outputs": []
    },
    {
      "cell_type": "markdown",
      "source": [
        "Once data is converted, we need to create a new array where all the data is converted to the desired format."
      ],
      "metadata": {
        "id": "NAOBi0CtCusC"
      }
    },
    {
      "cell_type": "code",
      "source": [
        "# create a new array containing data formatted to the target format\n",
        "data = np.array(\n",
        "    # create a tuple list based on various pieces of information \n",
        "    # from the loaded data\n",
        "    list(zip(date_data, raw_data[\"EUR\"], raw_data[\"USD\"], raw_data[\"CHF\"])),\n",
        "    dtype = [(\"DATE\",'M8[D]'), (\"EUR\", \"float64\"), (\"USD\", \"float64\"), (\"CHF\", \"float64\")]\n",
        ")"
      ],
      "metadata": {
        "id": "9ggo1DT3v_0b"
      },
      "execution_count": 5,
      "outputs": []
    },
    {
      "cell_type": "markdown",
      "source": [
        "Let's explore basic information regarding the data."
      ],
      "metadata": {
        "id": "F8x20jWlDNyi"
      }
    },
    {
      "cell_type": "code",
      "source": [
        "# exploring the number of records\n",
        "print(\n",
        "  \"The number of records is {}.\".format(data.shape[0])\n",
        ")"
      ],
      "metadata": {
        "colab": {
          "base_uri": "https://localhost:8080/"
        },
        "id": "7zcbllGGDNWF",
        "outputId": "8acc6e24-05c4-4972-ac50-9009aecdec57"
      },
      "execution_count": 6,
      "outputs": [
        {
          "output_type": "stream",
          "name": "stdout",
          "text": [
            "The number of records is 3030.\n"
          ]
        }
      ]
    },
    {
      "cell_type": "code",
      "source": [
        "# explore the DATE information\n",
        "print(\n",
        "    \"The earliest date is {} and the latest is {}\".format(\n",
        "        np.min(data[\"DATE\"]),\n",
        "        np.max(data[\"DATE\"])\n",
        "    )\n",
        ")"
      ],
      "metadata": {
        "colab": {
          "base_uri": "https://localhost:8080/"
        },
        "id": "Xf4-OW7lDiv0",
        "outputId": "f3b8c279-c448-45c8-f22f-de8f4db0262f"
      },
      "execution_count": 7,
      "outputs": [
        {
          "output_type": "stream",
          "name": "stdout",
          "text": [
            "The earliest date is 2010-01-04 and the latest is 2021-12-31\n"
          ]
        }
      ]
    },
    {
      "cell_type": "code",
      "source": [
        "# explore the EUR information\n",
        "print(\n",
        "    \"The statisical information for EUR is: \\n\\n\\\n",
        "        min \\t: {} \\n\\\n",
        "        max \\t: {} \\n\\\n",
        "        mean \\t: {}\\n\\\n",
        "        median \\t: {} \\n\\\n",
        "    \".format(\n",
        "        np.min(data[\"EUR\"]),\n",
        "        np.max(data[\"EUR\"]),\n",
        "        np.average(data[\"EUR\"]),\n",
        "        np.median(data[\"EUR\"])\n",
        "    )\n",
        ")"
      ],
      "metadata": {
        "colab": {
          "base_uri": "https://localhost:8080/"
        },
        "id": "PCPswl1_D7B_",
        "outputId": "1a8fb6e5-de72-4929-db49-edc2e85bd005"
      },
      "execution_count": 8,
      "outputs": [
        {
          "output_type": "stream",
          "name": "stdout",
          "text": [
            "The statisical information for EUR is: \n",
            "\n",
            "        min \t: 4.0653 \n",
            "        max \t: 4.9495 \n",
            "        mean \t: 4.534709141914191\n",
            "        median \t: 4.4979499999999994 \n",
            "    \n"
          ]
        }
      ]
    },
    {
      "cell_type": "code",
      "source": [
        "# HOMEWORK: explore the USD information"
      ],
      "metadata": {
        "id": "oPa_ofMtEsIf"
      },
      "execution_count": 9,
      "outputs": []
    },
    {
      "cell_type": "code",
      "source": [
        "# HOMEWORK: explore the CHF information"
      ],
      "metadata": {
        "id": "OtSiibd7Evo1"
      },
      "execution_count": 10,
      "outputs": []
    },
    {
      "cell_type": "markdown",
      "source": [
        "## 2. Expanding the dataset"
      ],
      "metadata": {
        "id": "8x9ADB25E8TL"
      }
    },
    {
      "cell_type": "markdown",
      "source": [
        "We would like to expand the data in the dataset - adding the year, month and day as a separate piece of information."
      ],
      "metadata": {
        "id": "25omYC1vFAfQ"
      }
    },
    {
      "cell_type": "code",
      "source": [
        "# extracting the years information\n",
        "years_data = [data.astype(object).year for data in data[\"DATE\"]]\n",
        "years = np.array(years_data, dtype=[(\"YEAR\", \"i8\")])\n",
        "\n",
        "# merging information in the record array\n",
        "data = rfn.merge_arrays (\n",
        "  (data, years),\n",
        "  asrecarray = True, \n",
        "  flatten = True\n",
        ")"
      ],
      "metadata": {
        "id": "zyCKOL3_tusC"
      },
      "execution_count": 11,
      "outputs": []
    },
    {
      "cell_type": "code",
      "source": [
        "# use calendar library for month names\n",
        "import calendar\n",
        "\n",
        "# extracting the months information\n",
        "months_data = [data.astype(object).month for data in data[\"DATE\"]]\n",
        "month_names_data = [calendar.month_name[month] for month in months_data]\n",
        "\n",
        "months = np.array(months_data, dtype=[(\"MONTH\", \"i8\")])\n",
        "month_names = np.array(month_names_data, dtype=[(\"MONTH_NAME\", \"U20\")])\n",
        "\n",
        "# merging information in the record array\n",
        "data = rfn.merge_arrays (\n",
        "  (data, months, month_names),\n",
        "  asrecarray=True, \n",
        "  flatten=True\n",
        ")"
      ],
      "metadata": {
        "id": "0UkumWscvSTE"
      },
      "execution_count": 12,
      "outputs": []
    },
    {
      "cell_type": "code",
      "source": [
        "# HOMEWORK: insert the days information as well"
      ],
      "metadata": {
        "id": "wnDpa2U0vyvs"
      },
      "execution_count": 13,
      "outputs": []
    },
    {
      "cell_type": "code",
      "source": [
        "# print the expanded dataset\n",
        "print(\n",
        "    \"The expanded dataset is: \\n{}\\n with the columns: \\n{}\\n\".format(\n",
        "        data,\n",
        "        data.dtype.names\n",
        "    )\n",
        ")"
      ],
      "metadata": {
        "colab": {
          "base_uri": "https://localhost:8080/"
        },
        "id": "o6IsFyK4v9mV",
        "outputId": "8284dc02-9076-4108-f23a-4babceab855d"
      },
      "execution_count": 14,
      "outputs": [
        {
          "output_type": "stream",
          "name": "stdout",
          "text": [
            "The expanded dataset is: \n",
            "[('2010-01-04', 4.2265, 2.9401, 2.8419, 2010,  1, 'January')\n",
            " ('2010-01-05', 4.2077, 2.9186, 2.8345, 2010,  1, 'January')\n",
            " ('2010-01-06', 4.162 , 2.8987, 2.8051, 2010,  1, 'January') ...\n",
            " ('2021-12-29', 4.949 , 4.3849, 4.7722, 2021, 12, 'December')\n",
            " ('2021-12-30', 4.9486, 4.3735, 4.7713, 2021, 12, 'December')\n",
            " ('2021-12-31', 4.9481, 4.3707, 4.7884, 2021, 12, 'December')]\n",
            " with the columns: \n",
            "('DATE', 'EUR', 'USD', 'CHF', 'YEAR', 'MONTH', 'MONTH_NAME')\n",
            "\n"
          ]
        }
      ]
    },
    {
      "cell_type": "markdown",
      "source": [
        "## 3. Additional feature engineering"
      ],
      "metadata": {
        "id": "RzKKBVn93luv"
      }
    },
    {
      "cell_type": "markdown",
      "source": [
        "In order to improve further the relevance of the datase, we will enhance it further with additional features."
      ],
      "metadata": {
        "id": "ggVy1XnqFpzV"
      }
    },
    {
      "cell_type": "code",
      "source": [
        "# calculate the EUR_USD and EUR_CHF ratios\n",
        "EUR_USD_ratio = np.array(data[\"EUR\"] / data[\"USD\"], dtype = [(\"EUR_USD_RATIO\", \"float64\")])\n",
        "EUR_CHF_ratio = np.array(data[\"EUR\"] / data[\"CHF\"], dtype = [(\"EUR_CHF_RATIO\", \"float64\")])\n",
        "\n",
        "# merging information in the record array\n",
        "data = rfn.merge_arrays (\n",
        "  (data, EUR_USD_ratio, EUR_CHF_ratio),\n",
        "  asrecarray=True, \n",
        "  flatten=True\n",
        ")"
      ],
      "metadata": {
        "id": "3E_q3dUpxjS9"
      },
      "execution_count": 15,
      "outputs": []
    },
    {
      "cell_type": "code",
      "source": [
        "# HOMEWORK: add the USD_EUR and USD_CHF ratios"
      ],
      "metadata": {
        "id": "wUFjcUtDHalK"
      },
      "execution_count": 16,
      "outputs": []
    },
    {
      "cell_type": "code",
      "source": [
        "# HOMEWORK: add the CHF_EUR and CHF_USD ratios"
      ],
      "metadata": {
        "id": "2R1RAa2HHjPS"
      },
      "execution_count": 17,
      "outputs": []
    },
    {
      "cell_type": "code",
      "source": [
        "# print the feature engineered dataset\n",
        "print(\n",
        "    \"The dataset with engineered features is: \\n{}\\n with the columns: \\n{}\\n\".format(\n",
        "        data,\n",
        "        data.dtype.names\n",
        "    )\n",
        ")"
      ],
      "metadata": {
        "colab": {
          "base_uri": "https://localhost:8080/"
        },
        "id": "R172P24SQLc5",
        "outputId": "d8739653-68ce-46fb-f7f0-5c61535ee569"
      },
      "execution_count": 18,
      "outputs": [
        {
          "output_type": "stream",
          "name": "stdout",
          "text": [
            "The dataset with engineered features is: \n",
            "[('2010-01-04', 4.2265, 2.9401, 2.8419, 2010,  1, 'January', 1.43753614, 1.48720926)\n",
            " ('2010-01-05', 4.2077, 2.9186, 2.8345, 2010,  1, 'January', 1.44168437, 1.48445934)\n",
            " ('2010-01-06', 4.162 , 2.8987, 2.8051, 2010,  1, 'January', 1.43581606, 1.48372607)\n",
            " ...\n",
            " ('2021-12-29', 4.949 , 4.3849, 4.7722, 2021, 12, 'December', 1.12864604, 1.0370479 )\n",
            " ('2021-12-30', 4.9486, 4.3735, 4.7713, 2021, 12, 'December', 1.13149651, 1.03715968)\n",
            " ('2021-12-31', 4.9481, 4.3707, 4.7884, 2021, 12, 'December', 1.13210699, 1.03335143)]\n",
            " with the columns: \n",
            "('DATE', 'EUR', 'USD', 'CHF', 'YEAR', 'MONTH', 'MONTH_NAME', 'EUR_USD_RATIO', 'EUR_CHF_RATIO')\n",
            "\n"
          ]
        }
      ]
    },
    {
      "cell_type": "markdown",
      "source": [
        "## 4. Data consolidation"
      ],
      "metadata": {
        "id": "rcfMl9MGH0kn"
      }
    },
    {
      "cell_type": "markdown",
      "source": [
        "We will consolidate the data by calculating aggregations at the different levels. "
      ],
      "metadata": {
        "id": "kE6iBk0FH-0Q"
      }
    },
    {
      "cell_type": "code",
      "source": [
        "# calculate the min, max, average values for EUR at year level\n",
        "dataset_years = set(data[\"YEAR\"])\n",
        "dataset_EUR = []\n",
        "\n",
        "# extract the dataset for EUR record\n",
        "for year in dataset_years :\n",
        "  # obtain the dataset associated to the year \n",
        "  year_dataset = data[data[\"YEAR\"] == year] \n",
        "\n",
        "  # extract the consolidated dataset for the year\n",
        "  record_EUR = (\n",
        "      year, \n",
        "      # get max value for EUR\n",
        "      np.max(year_dataset[\"EUR\"]),\n",
        "      # get min value for EUR\n",
        "      np.min(year_dataset[\"EUR\"]),\n",
        "      # get average value for EUR\n",
        "      np.average(year_dataset[\"EUR\"]),\n",
        "      # get the month where EUR had the maximum value\n",
        "      year_dataset[np.argmax(year_dataset[\"EUR\"])][\"MONTH\"],\n",
        "      # get the month names where EUR had the maximum value\n",
        "      year_dataset[np.argmax(year_dataset[\"EUR\"])][\"MONTH_NAME\"],      \n",
        "      # get the month where EUR had the minimum value\n",
        "      year_dataset[np.argmin(year_dataset[\"EUR\"])][\"MONTH\"],\n",
        "      # get the month names where EUR had the minimum value\n",
        "      year_dataset[np.argmin(year_dataset[\"EUR\"])][\"MONTH_NAME\"],      \n",
        "    )\n",
        "  \n",
        "  # add data to the dataset\n",
        "  dataset_EUR.append(record_EUR)  \n",
        "\n",
        "# create a consolidated dataset\n",
        "dataset_consolidated = np.array(\n",
        "    dataset_EUR,\n",
        "    dtype = [\n",
        "             (\"YEAR\", \"i8\"), \n",
        "             (\"MAX_EUR\", \"float64\"),\n",
        "             (\"MIN_EUR\", \"float64\"),\n",
        "             (\"AVG_EUR\", \"float64\"),\n",
        "             (\"MONTH_EUR_MAX\", \"i8\"),\n",
        "             (\"MONTH_NAME_EUR_MAX\", \"U20\"),\n",
        "             (\"MONTH_EUR_MIN\", \"i8\"),\n",
        "             (\"MONTH_NAME_EUR_MIN\", \"U20\"),\n",
        "            ]  \n",
        "  )\n",
        "\n",
        "# sort dataset by year\n",
        "np.recarray.sort(\n",
        "     dataset_consolidated,\n",
        "     order = \"YEAR\"\n",
        " )"
      ],
      "metadata": {
        "id": "xA33woa9ITEi"
      },
      "execution_count": 19,
      "outputs": []
    },
    {
      "cell_type": "code",
      "source": [
        "# HOMEWORK: add the USD information to the consolidated dataset"
      ],
      "metadata": {
        "id": "8UbVv50MJ7KK"
      },
      "execution_count": 20,
      "outputs": []
    },
    {
      "cell_type": "code",
      "source": [
        "# HOMEWORK: add the CHF information to the consolidated dataset"
      ],
      "metadata": {
        "id": "SE-8qUyQQd9u"
      },
      "execution_count": 21,
      "outputs": []
    },
    {
      "cell_type": "code",
      "source": [
        "# print the consolidated array\n",
        "print(\n",
        "    \"The consolidated dataset is: \\n{}\\n with the columns: \\n{}\\n\".format(\n",
        "        dataset_consolidated,\n",
        "        dataset_consolidated.dtype.names\n",
        "    )\n",
        ")"
      ],
      "metadata": {
        "colab": {
          "base_uri": "https://localhost:8080/"
        },
        "id": "UligMetwNzKB",
        "outputId": "8a0c5788-cf22-411f-83a2-84ed54878d17"
      },
      "execution_count": 22,
      "outputs": [
        {
          "output_type": "stream",
          "name": "stdout",
          "text": [
            "The consolidated dataset is: \n",
            "[(2010, 4.3688, 4.0653, 4.21098949,  6, 'June', 3, 'March')\n",
            " (2011, 4.362 , 4.0735, 4.23767804, 11, 'November', 4, 'April')\n",
            " (2012, 4.6481, 4.3219, 4.45725952,  8, 'August', 1, 'January')\n",
            " (2013, 4.5535, 4.3072, 4.41860119,  6, 'June', 5, 'May')\n",
            " (2014, 4.5447, 4.3845, 4.4440381 ,  1, 'January', 7, 'July')\n",
            " (2015, 4.5381, 4.3965, 4.44457154, 12, 'December', 4, 'April')\n",
            " (2016, 4.5411, 4.4444, 4.49002835, 12, 'December', 7, 'July')\n",
            " (2017, 4.6597, 4.4888, 4.56798996, 12, 'December', 2, 'February')\n",
            " (2018, 4.6695, 4.6206, 4.65352892,  6, 'June', 8, 'August')\n",
            " (2019, 4.7808, 4.6634, 4.74536653, 11, 'November', 1, 'January')\n",
            " (2020, 4.875 , 4.7642, 4.83761673,  9, 'September', 2, 'February')\n",
            " (2021, 4.9495, 4.8691, 4.92075827,  9, 'September', 1, 'January')]\n",
            " with the columns: \n",
            "('YEAR', 'MAX_EUR', 'MIN_EUR', 'AVG_EUR', 'MONTH_EUR_MAX', 'MONTH_NAME_EUR_MAX', 'MONTH_EUR_MIN', 'MONTH_NAME_EUR_MIN')\n",
            "\n"
          ]
        }
      ]
    },
    {
      "cell_type": "code",
      "source": [
        "# OPTIONAL HOMEWORK: consolidate the information about min, max, average currency rate values\n",
        "# at the year and month level"
      ],
      "metadata": {
        "id": "ZdnLXPHjVfh5"
      },
      "execution_count": 23,
      "outputs": []
    },
    {
      "cell_type": "markdown",
      "source": [
        "## 5. Extract data insights"
      ],
      "metadata": {
        "id": "oDkHPkH8RbL2"
      }
    },
    {
      "cell_type": "markdown",
      "source": [
        "Determine the months where EUR rate had its maximum value in each year and also how many times this happened for each of such month."
      ],
      "metadata": {
        "id": "iIp_ppwCRgwE"
      }
    },
    {
      "cell_type": "code",
      "source": [
        "# determine the months where EUR rate had its maximum value in each year\n",
        "# along with how many times this happened in each year\n",
        "max_EUR_rate_months, count_max_EUR_rate_months = np.unique(\n",
        "    dataset_consolidated[\"MONTH_NAME_EUR_MAX\"], return_counts = True\n",
        "  )\n",
        "\n",
        "# display the information\n",
        "displayable_counts = [str(count) + \" time(s)\" for count in count_max_EUR_rate_months ]\n",
        "print(\n",
        "    \"The months where EUR rate had its maximum yearly value \\\n",
        "along with the frequency of such occurences are: \\n{}\".format(\n",
        "      dict(zip(max_EUR_rate_months, displayable_counts))\n",
        "    )\n",
        "  )"
      ],
      "metadata": {
        "colab": {
          "base_uri": "https://localhost:8080/"
        },
        "id": "fTaL_BtxR0fS",
        "outputId": "a0930699-b891-4076-9f90-75c64fcd823b"
      },
      "execution_count": 24,
      "outputs": [
        {
          "output_type": "stream",
          "name": "stdout",
          "text": [
            "The months where EUR rate had its maximum yearly value along with the frequency of such occurences are: \n",
            "{'August': '1 time(s)', 'December': '3 time(s)', 'January': '1 time(s)', 'June': '3 time(s)', 'November': '2 time(s)', 'September': '2 time(s)'}\n"
          ]
        }
      ]
    },
    {
      "cell_type": "code",
      "source": [
        "# HOMEWORK: determine the months where EUR rate had its minimum value in each year."
      ],
      "metadata": {
        "id": "OLfLCH9QlfeI"
      },
      "execution_count": 25,
      "outputs": []
    },
    {
      "cell_type": "code",
      "source": [
        "# OPTIONAL HOMEWORK: determine the same information for the USD and CHF currencies"
      ],
      "metadata": {
        "id": "HHuOZkQZl06W"
      },
      "execution_count": 26,
      "outputs": []
    }
  ]
}