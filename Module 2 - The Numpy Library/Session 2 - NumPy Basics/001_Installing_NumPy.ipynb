{
  "cells": [
    {
      "cell_type": "markdown",
      "metadata": {
        "id": "A1V_i26w0s0s"
      },
      "source": [
        "![*INTERTECHNICA - SOLON EDUCATIONAL PROGRAMS - TECHNOLOGY LINE*](https://solon.intertechnica.com/assets/IntertechnicaSolonEducationalPrograms-TechnologyLine.png)"
      ]
    },
    {
      "cell_type": "markdown",
      "metadata": {
        "id": "_kLFQUxq0s01"
      },
      "source": [
        "# Data Manipulation with Python - The NumPy Library - Installing Numpy"
      ]
    },
    {
      "cell_type": "markdown",
      "metadata": {
        "id": "2UWkz-4j0s03"
      },
      "source": [
        "*Numpy is the core library for scientific computing in Python. \n",
        "It provides a high-performance multidimensional array object, and the tools for working with these arrays.*"
      ]
    },
    {
      "cell_type": "markdown",
      "metadata": {
        "id": "kPyML7_f0s04"
      },
      "source": [
        "## 1. Installing and Importing numpy"
      ]
    },
    {
      "cell_type": "markdown",
      "metadata": {
        "id": "F4V1O2m-0s05"
      },
      "source": [
        "Numpy can be installed by using the following command (usually it comes pre-installed in conda-like environments):"
      ]
    },
    {
      "cell_type": "code",
      "execution_count": 1,
      "metadata": {
        "colab": {
          "base_uri": "https://localhost:8080/"
        },
        "id": "vOUFEVsz0s06",
        "outputId": "e4c5eb3b-0114-4de7-afca-3d80a970dcaa"
      },
      "outputs": [
        {
          "output_type": "stream",
          "name": "stdout",
          "text": [
            "Requirement already satisfied: numpy in /usr/local/lib/python3.7/dist-packages (1.19.5)\n"
          ]
        }
      ],
      "source": [
        "!python -m pip install numpy"
      ]
    },
    {
      "cell_type": "markdown",
      "metadata": {
        "id": "YtvqakXd0s09"
      },
      "source": [
        "Numpy can be imported as any other Python Module via the **import** statement. "
      ]
    },
    {
      "cell_type": "code",
      "execution_count": 2,
      "metadata": {
        "id": "1yohMhNF0s0_"
      },
      "outputs": [],
      "source": [
        "import numpy as np"
      ]
    },
    {
      "cell_type": "markdown",
      "source": [
        "The NumPy version can be verified by accessing the __version__ attribute of the numpy package."
      ],
      "metadata": {
        "id": "q1T_qj-k5wi8"
      }
    },
    {
      "cell_type": "code",
      "source": [
        "print (\"You are using numpy version {}\".format(np.__version__))"
      ],
      "metadata": {
        "colab": {
          "base_uri": "https://localhost:8080/"
        },
        "id": "TcDi16Lo5vqR",
        "outputId": "8a5efe1b-9dfd-4b29-d74f-3775a4280cda"
      },
      "execution_count": 3,
      "outputs": [
        {
          "output_type": "stream",
          "name": "stdout",
          "text": [
            "You are using numpy version 1.19.5\n"
          ]
        }
      ]
    }
  ],
  "metadata": {
    "kernelspec": {
      "display_name": "Python 3",
      "language": "python",
      "name": "python3"
    },
    "language_info": {
      "codemirror_mode": {
        "name": "ipython",
        "version": 3
      },
      "file_extension": ".py",
      "mimetype": "text/x-python",
      "name": "python",
      "nbconvert_exporter": "python",
      "pygments_lexer": "ipython3",
      "version": "3.7.3"
    },
    "colab": {
      "name": "001 - InstallingNumpy.ipynb",
      "provenance": [],
      "collapsed_sections": []
    }
  },
  "nbformat": 4,
  "nbformat_minor": 0
}