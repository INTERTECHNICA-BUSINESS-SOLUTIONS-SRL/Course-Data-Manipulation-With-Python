{
  "cells": [
    {
      "cell_type": "markdown",
      "metadata": {
        "id": "KDuU6OSWXKo4"
      },
      "source": [
        "![*INTERTECHNICA - SOLON EDUCATIONAL PROGRAMS - TECHNOLOGY LINE*](https://solon.intertechnica.com/assets/IntertechnicaSolonEducationalPrograms-TechnologyLine.png)"
      ]
    },
    {
      "cell_type": "markdown",
      "metadata": {
        "id": "OeBbVwSSXKo9"
      },
      "source": [
        "# Data Manipulation with Python - The NumPy Library - Array Creation"
      ]
    },
    {
      "cell_type": "markdown",
      "metadata": {
        "id": "uUhqqWdPXKpA"
      },
      "source": [
        "*Basic initialization of the workspace.*"
      ]
    },
    {
      "cell_type": "code",
      "execution_count": 18,
      "metadata": {
        "colab": {
          "base_uri": "https://localhost:8080/"
        },
        "id": "AjAZRU7GXKpE",
        "outputId": "4258a7b2-2556-41f4-bc77-cc05fceda044"
      },
      "outputs": [
        {
          "output_type": "stream",
          "name": "stdout",
          "text": [
            "Requirement already satisfied: numpy in /usr/local/lib/python3.7/dist-packages (1.19.5)\n",
            "NumPy installed at version: 1.19.5\n"
          ]
        }
      ],
      "source": [
        "!python -m pip install numpy\n",
        "import numpy as np\n",
        "print (\"NumPy installed at version: {}\".format(np.__version__))"
      ]
    },
    {
      "cell_type": "markdown",
      "metadata": {
        "id": "tg_WUT7bF9nh"
      },
      "source": [
        "#1. Creating Arrays"
      ]
    },
    {
      "cell_type": "markdown",
      "source": [
        "##1.1 Creating standard arrays"
      ],
      "metadata": {
        "id": "eDHG2WCRMjFo"
      }
    },
    {
      "cell_type": "markdown",
      "source": [
        "Standard arrays are the foundation of data representation in NumPy. They have all the information in the array having a single data type."
      ],
      "metadata": {
        "id": "6G2IPgCDMtxr"
      }
    },
    {
      "cell_type": "markdown",
      "metadata": {
        "id": "1daj8lGSF9nq"
      },
      "source": [
        "One of the simplest methods to create a NumPy array is to create it from standard Python arrays:"
      ]
    },
    {
      "cell_type": "code",
      "execution_count": 19,
      "metadata": {
        "id": "F2KssqXtF9ns",
        "outputId": "729a345c-7c49-4ae9-d66e-9369374ebcb2",
        "colab": {
          "base_uri": "https://localhost:8080/"
        }
      },
      "outputs": [
        {
          "output_type": "stream",
          "name": "stdout",
          "text": [
            "The simple array's values are: \n",
            " [ 1  2  3  4  5  6  7  8  9 10] \n"
          ]
        }
      ],
      "source": [
        "x_1d = np.array([ 1,   2,   3,   4,   5,   6,   7,   8,   9,  10])\n",
        "print(\"The simple array's values are: \\n {} \".format(x_1d))"
      ]
    },
    {
      "cell_type": "code",
      "execution_count": 20,
      "metadata": {
        "id": "J2okb2F9F9nv",
        "outputId": "ea24dd61-0cc2-4a25-cbb5-76c6e50051a3",
        "colab": {
          "base_uri": "https://localhost:8080/"
        }
      },
      "outputs": [
        {
          "output_type": "stream",
          "name": "stdout",
          "text": [
            "The two dimensional array's values are: \n",
            " [[  1   2   3   4   5   6   7   8   9  10]\n",
            " [ 11  12  13  14  15  16  17  18  19  20]\n",
            " [ 21  22  23  24  25  26  27  28  29  30]\n",
            " [ 31  32  33  34  35  36  37  38  39  40]\n",
            " [ 41  42  43  44  45  46  47  48  49  50]\n",
            " [ 51  52  53  54  55  56  57  58  59  60]\n",
            " [ 61  62  63  64  65  66  67  68  69  70]\n",
            " [ 71  72  73  74  75  76  77  78  79  80]\n",
            " [ 81  82  83  84  85  86  87  88  89  90]\n",
            " [ 91  92  93  94  95  96  97  98  99 100]] \n"
          ]
        }
      ],
      "source": [
        "x_2d = np.array(\n",
        "      [[  1,   2,   3,   4,   5,   6,   7,   8,   9,  10],\n",
        "       [ 11,  12,  13,  14,  15,  16,  17,  18,  19,  20],\n",
        "       [ 21,  22,  23,  24,  25,  26,  27,  28,  29,  30],\n",
        "       [ 31,  32,  33,  34,  35,  36,  37,  38,  39,  40],\n",
        "       [ 41,  42,  43,  44,  45,  46,  47,  48,  49,  50],\n",
        "       [ 51,  52,  53,  54,  55,  56,  57,  58,  59,  60],\n",
        "       [ 61,  62,  63,  64,  65,  66,  67,  68,  69,  70],\n",
        "       [ 71,  72,  73,  74,  75,  76,  77,  78,  79,  80],\n",
        "       [ 81,  82,  83,  84,  85,  86,  87,  88,  89,  90],\n",
        "       [ 91,  92,  93,  94,  95,  96,  97,  98,  99, 100]])\n",
        "\n",
        "print(\"The two dimensional array's values are: \\n {} \".format(x_2d))"
      ]
    },
    {
      "cell_type": "markdown",
      "metadata": {
        "id": "pjk0Ts2wF9nx"
      },
      "source": [
        "NumPy also allows creation of arrays from Python lists:"
      ]
    },
    {
      "cell_type": "code",
      "execution_count": 21,
      "metadata": {
        "id": "w93_FFqtF9ny",
        "colab": {
          "base_uri": "https://localhost:8080/"
        },
        "outputId": "7b110cfc-e1b1-42da-d8e5-808db0408780"
      },
      "outputs": [
        {
          "output_type": "stream",
          "name": "stdout",
          "text": [
            "The values of the array created from list are \n",
            " [ 1  2  3  4  5  6  7  8  9 10] \n"
          ]
        }
      ],
      "source": [
        "x_1d_list = np.array(( 1,   2,   3,   4,   5,   6,   7,   8,   9,  10))\n",
        "\n",
        "print(\"The values of the array created from list are \\n {} \".format(x_1d_list))"
      ]
    },
    {
      "cell_type": "markdown",
      "metadata": {
        "id": "f6vYUdXzG0T6"
      },
      "source": [
        "## 1.2 Specifying data types of array elements"
      ]
    },
    {
      "cell_type": "markdown",
      "metadata": {
        "id": "EDndHMfHHD3F"
      },
      "source": [
        "NumPy allows the specification of the data types during array creation via the __dype__ parameter. "
      ]
    },
    {
      "cell_type": "code",
      "source": [
        "# using a standard Python array for data initialization\n",
        "intialization_data = [0., 1., 2., 3., 4., 5., 6., 7., 8., 9.]\n",
        "\n",
        "# using the same initialization data it is possible to create NumPy array with\n",
        "# different item data types\n",
        "\n",
        "int_array = np.array(intialization_data, dtype= np.int16)\n",
        "float_array = np.array(intialization_data, dtype= np.float16)\n",
        "\n",
        "print(\"The array created with the integer data type items is: \\n {} \".format(int_array))\n",
        "print(\"The array created with the float data type items is: \\n {} \".format(float_array))"
      ],
      "metadata": {
        "colab": {
          "base_uri": "https://localhost:8080/"
        },
        "id": "DgbOfcxOH1uf",
        "outputId": "b9e7f6b3-793c-41fe-fdd5-d8a79b13be12"
      },
      "execution_count": 22,
      "outputs": [
        {
          "output_type": "stream",
          "name": "stdout",
          "text": [
            "The array created with the integer data type items is: \n",
            " [0 1 2 3 4 5 6 7 8 9] \n",
            "The array created with the float data type items is: \n",
            " [0. 1. 2. 3. 4. 5. 6. 7. 8. 9.] \n"
          ]
        }
      ]
    },
    {
      "cell_type": "markdown",
      "source": [
        "## 1.3 Creating record arrays"
      ],
      "metadata": {
        "id": "QwRWipMjPoZX"
      }
    },
    {
      "cell_type": "markdown",
      "metadata": {
        "id": "4GZE5-6JF9n0"
      },
      "source": [
        "However, simple data types array may not be sufficient for in case we need to represent complex data as well. For this case, NumPy provides an additional type of arrays: **record arrays**. \n",
        "\n",
        "Record arrays allow accessing of data **not only by index but also by field names as well**, keeping a close resemblance of functionality with the record (or structure) concept from other programing languages.\n",
        "\n",
        "By using lists it is possible to create **record arrays** as well:"
      ]
    },
    {
      "cell_type": "code",
      "execution_count": 23,
      "metadata": {
        "id": "fSVq4ER3F9n1",
        "outputId": "37437918-73b2-49a9-f205-2e4df05cf5f3",
        "colab": {
          "base_uri": "https://localhost:8080/"
        }
      },
      "outputs": [
        {
          "output_type": "stream",
          "name": "stdout",
          "text": [
            "The values of record array are: \n",
            "[('One', 1) ('Two', 2) ('Three', 3)]\n"
          ]
        }
      ],
      "source": [
        "# record arrays can be created from arrays of tuples containing\n",
        "# the values in the array\n",
        "# these arrays also need the name and the types of their fields\n",
        "# to be specificied at the creation time.\n",
        "\n",
        "x_1d_record = np.array(\n",
        "    [(\"One\", 1), (\"Two\", 2), (\"Three\", 3)],\n",
        "    dtype=[(\"Literal Form\", \"U10\"), (\"Numeric Value\", \"i1\")])\n",
        "\n",
        "print(\"The values of record array are: \\n{}\".format(x_1d_record))"
      ]
    },
    {
      "cell_type": "code",
      "source": [
        "# the record arrays allow accessing of their data \n",
        "# via the field names\n",
        "\n",
        "print(\"Numerical form values are: \\n {}\".format(x_1d_record[\"Numeric Value\"]))\n",
        "print(\"Literal form values are: \\n {}\".format(x_1d_record[\"Literal Form\"]))"
      ],
      "metadata": {
        "colab": {
          "base_uri": "https://localhost:8080/"
        },
        "id": "AQvDLO5BTZ8O",
        "outputId": "7768177f-bb77-47fb-c089-46152aaf3865"
      },
      "execution_count": 24,
      "outputs": [
        {
          "output_type": "stream",
          "name": "stdout",
          "text": [
            "Numerical form values are: \n",
            " [1 2 3]\n",
            "Literal form values are: \n",
            " ['One' 'Two' 'Three']\n"
          ]
        }
      ]
    },
    {
      "cell_type": "markdown",
      "metadata": {
        "id": "-K1KwBAoF9n6"
      },
      "source": [
        "## 1.4 Creating arrays using dedicated functions"
      ]
    },
    {
      "cell_type": "markdown",
      "metadata": {
        "id": "Kd3NXm2VF9n7"
      },
      "source": [
        "NumPy offers the ability to create and initialize arrays without the need to specificy each value from the array. This is done by using dedicated functions that create and initialize arrays based on different algorithms. "
      ]
    },
    {
      "cell_type": "markdown",
      "metadata": {
        "id": "bzuqaFmaF9n7"
      },
      "source": [
        "One of these functions is **arange** which creates a uni-dimensional array and initializes it by default with a sequence of specified length and starting from zero."
      ]
    },
    {
      "cell_type": "code",
      "execution_count": 25,
      "metadata": {
        "id": "RK3AMEiUF9n8",
        "outputId": "2f8db5a4-27f2-46bc-df64-0f78ec74e344",
        "colab": {
          "base_uri": "https://localhost:8080/"
        }
      },
      "outputs": [
        {
          "output_type": "stream",
          "name": "stdout",
          "text": [
            "The array is intialized with a sequence of length 10 starting from 0: \n",
            " [0 1 2 3 4 5 6 7 8 9]\n"
          ]
        }
      ],
      "source": [
        "# creating an array initialized with a sequence of length 10, starting from 0:\n",
        "x_1d_arange = np.arange(10)\n",
        "print(\"The array is intialized with a sequence of length 10 starting from 0: \\n {}\".format(x_1d_arange))"
      ]
    },
    {
      "cell_type": "markdown",
      "metadata": {
        "id": "RQxSbsrQF9n8"
      },
      "source": [
        "Another useful function is **empty** which creates arrays with non-initialized content and various dimensions. "
      ]
    },
    {
      "cell_type": "code",
      "execution_count": 26,
      "metadata": {
        "id": "NzpYslGqF9n9",
        "outputId": "15884c3d-0dfe-476b-b6aa-f48f4b263fdf",
        "colab": {
          "base_uri": "https://localhost:8080/"
        }
      },
      "outputs": [
        {
          "output_type": "stream",
          "name": "stdout",
          "text": [
            "The unitialized array of size 10 has the following values: \n",
            " [4.66239408e-310 2.46151512e-312 6.79038654e-313 2.48273508e-312\n",
            " 2.05833592e-312 5.43472210e-322 0.00000000e+000 0.00000000e+000\n",
            " 0.00000000e+000 0.00000000e+000]\n"
          ]
        }
      ],
      "source": [
        "# creating a non-initialized unidimensional array with length 10 \n",
        "x_1d_empty = np.empty(10)\n",
        "print(\"The unitialized array of size 10 has the following values: \\n {}\".format(x_1d_empty))"
      ]
    },
    {
      "cell_type": "code",
      "execution_count": 27,
      "metadata": {
        "id": "bU-0zMwzF9n-",
        "outputId": "aa162980-5534-4eac-d687-bb7fde2b9891",
        "colab": {
          "base_uri": "https://localhost:8080/"
        }
      },
      "outputs": [
        {
          "output_type": "stream",
          "name": "stdout",
          "text": [
            "The unitialized matrix of size 10x10 has the following values: \n",
            " [[0.45312295 0.81398533 0.75689227 0.57045031 0.23736193 0.7245475\n",
            "  0.62462887 0.58675476 0.20726435 0.02596758]\n",
            " [0.94495315 0.50034402 0.89112753 0.17214315 0.69291615 0.67883403\n",
            "  0.95456079 0.91122453 0.09260818 0.77066613]\n",
            " [0.44785109 0.69660702 0.98238654 0.98001356 0.96110468 0.9281232\n",
            "  0.12998717 0.72710296 0.3242581  0.10067118]\n",
            " [0.99470485 0.94342468 0.31644422 0.72605578 0.50876751 0.19744056\n",
            "  0.97800597 0.5820716  0.17311892 0.08366135]\n",
            " [0.21645218 0.80087516 0.4298721  0.60501183 0.93538641 0.05731942\n",
            "  0.77964217 0.03092757 0.0875072  0.78264553]\n",
            " [0.00409939 0.11272811 0.2798413  0.54348495 0.48151979 0.51922303\n",
            "  0.79467661 0.3571446  0.83808115 0.8671135 ]\n",
            " [0.98623733 0.28077696 0.85820915 0.50892119 0.96653078 0.0228148\n",
            "  0.02134239 0.56356991 0.70446205 0.8861447 ]\n",
            " [0.24979302 0.10217656 0.26702591 0.78698881 0.43585204 0.78360419\n",
            "  0.60658421 0.32234444 0.70274914 0.38436204]\n",
            " [0.05186706 0.4985102  0.32370013 0.10841095 0.69740904 0.67949287\n",
            "  0.57230531 0.8341633  0.18924803 0.84746954]\n",
            " [0.90038963 0.12537542 0.65253143 0.94695096 0.03537427 0.86020217\n",
            "  0.85623215 0.27028873 0.44569832 0.98421092]]\n"
          ]
        }
      ],
      "source": [
        "# creating a non-initialized bi-dimensional array with size 10x10 \n",
        "x_2d_empty = np.empty((10,10))\n",
        "print(\"The unitialized matrix of size 10x10 has the following values: \\n {}\".format(x_2d_empty))"
      ]
    },
    {
      "cell_type": "markdown",
      "metadata": {
        "id": "xImKcj-7F9n_"
      },
      "source": [
        "The **zeros** function can be used to create arrays initialized with 0 values: "
      ]
    },
    {
      "cell_type": "code",
      "execution_count": 28,
      "metadata": {
        "id": "5ymr2R2kF9n_",
        "outputId": "a104b2d8-32da-4ada-d8e1-7331a0358b19",
        "colab": {
          "base_uri": "https://localhost:8080/"
        }
      },
      "outputs": [
        {
          "output_type": "stream",
          "name": "stdout",
          "text": [
            "An array initialized with the value 0: \n",
            " [0. 0. 0. 0. 0. 0. 0. 0. 0. 0.]\n"
          ]
        }
      ],
      "source": [
        "# creating an array and initialize it with 0 value \n",
        "x_1d_zeros = np.zeros(10)\n",
        "print(\"An array initialized with the value 0: \\n {}\".format(x_1d_zeros))"
      ]
    },
    {
      "cell_type": "code",
      "execution_count": 29,
      "metadata": {
        "id": "0ohEy4e5F9oB",
        "outputId": "fe8edf58-c6ec-4c6f-ffa4-e5cd0efddf99",
        "colab": {
          "base_uri": "https://localhost:8080/"
        }
      },
      "outputs": [
        {
          "output_type": "stream",
          "name": "stdout",
          "text": [
            "A matrix initialized with the value 0: \n",
            " [[0. 0. 0. 0. 0. 0. 0. 0. 0. 0.]\n",
            " [0. 0. 0. 0. 0. 0. 0. 0. 0. 0.]\n",
            " [0. 0. 0. 0. 0. 0. 0. 0. 0. 0.]\n",
            " [0. 0. 0. 0. 0. 0. 0. 0. 0. 0.]\n",
            " [0. 0. 0. 0. 0. 0. 0. 0. 0. 0.]\n",
            " [0. 0. 0. 0. 0. 0. 0. 0. 0. 0.]\n",
            " [0. 0. 0. 0. 0. 0. 0. 0. 0. 0.]\n",
            " [0. 0. 0. 0. 0. 0. 0. 0. 0. 0.]\n",
            " [0. 0. 0. 0. 0. 0. 0. 0. 0. 0.]\n",
            " [0. 0. 0. 0. 0. 0. 0. 0. 0. 0.]]\n"
          ]
        }
      ],
      "source": [
        "# numpy allows also allows the creation of multidimensional arrays\n",
        "# that are initialized with teh zero value\n",
        "x_2d_zeros = np.zeros((10,10))\n",
        "print(\"A matrix initialized with the value 0: \\n {}\".format(x_2d_zeros))"
      ]
    },
    {
      "cell_type": "markdown",
      "metadata": {
        "id": "5Qaa_24JF9oB"
      },
      "source": [
        "The **ones** function behaves like **zeros** functions but initializes the array with 1 values. "
      ]
    },
    {
      "cell_type": "markdown",
      "metadata": {
        "id": "w6ri05sLF9oC"
      },
      "source": [
        "The **full** function creates arrays initialized with a specific value and various dimensions:"
      ]
    },
    {
      "cell_type": "code",
      "execution_count": 30,
      "metadata": {
        "id": "iAintYDNF9oD",
        "outputId": "4e7995db-eda2-40ff-e68f-db7e757abcf5",
        "colab": {
          "base_uri": "https://localhost:8080/"
        }
      },
      "outputs": [
        {
          "output_type": "stream",
          "name": "stdout",
          "text": [
            "An array initialized with the value -1: \n",
            " [-1 -1 -1 -1 -1 -1 -1 -1 -1 -1]\n"
          ]
        }
      ],
      "source": [
        "# creating an array with length 10 initialized with the value -1\n",
        "x_1d_full = np.full(10, -1)\n",
        "print(\"An array initialized with the value -1: \\n {}\".format(x_1d_full))"
      ]
    },
    {
      "cell_type": "code",
      "execution_count": 31,
      "metadata": {
        "id": "Hp3NJc1sF9oD",
        "outputId": "c9dbecca-a2ca-44b9-e184-1bb163ccc65a",
        "colab": {
          "base_uri": "https://localhost:8080/"
        }
      },
      "outputs": [
        {
          "output_type": "stream",
          "name": "stdout",
          "text": [
            "A matrix initialized with the value -1: \n",
            " [[-1 -1 -1 -1 -1 -1 -1 -1 -1 -1]\n",
            " [-1 -1 -1 -1 -1 -1 -1 -1 -1 -1]\n",
            " [-1 -1 -1 -1 -1 -1 -1 -1 -1 -1]\n",
            " [-1 -1 -1 -1 -1 -1 -1 -1 -1 -1]\n",
            " [-1 -1 -1 -1 -1 -1 -1 -1 -1 -1]\n",
            " [-1 -1 -1 -1 -1 -1 -1 -1 -1 -1]\n",
            " [-1 -1 -1 -1 -1 -1 -1 -1 -1 -1]\n",
            " [-1 -1 -1 -1 -1 -1 -1 -1 -1 -1]\n",
            " [-1 -1 -1 -1 -1 -1 -1 -1 -1 -1]\n",
            " [-1 -1 -1 -1 -1 -1 -1 -1 -1 -1]]\n"
          ]
        }
      ],
      "source": [
        "# creating a matrix with size 10x10 initialized with the value -1\n",
        "x_2d_full = np.full((10,10), -1)\n",
        "print(\"A matrix initialized with the value -1: \\n {}\".format(x_2d_full))"
      ]
    },
    {
      "cell_type": "markdown",
      "metadata": {
        "id": "acZ-HEnBF9oE"
      },
      "source": [
        "An array can be also created with random-initialized content by using **random** function from **numpy.random** package:"
      ]
    },
    {
      "cell_type": "code",
      "execution_count": 32,
      "metadata": {
        "id": "E3ph8Qj4F9oF",
        "outputId": "c9b37a41-d7c9-4b42-8acd-bfadd9c5d1d0",
        "colab": {
          "base_uri": "https://localhost:8080/"
        }
      },
      "outputs": [
        {
          "output_type": "stream",
          "name": "stdout",
          "text": [
            "An array initialized with random values : \n",
            " [0.69813117 0.81153532 0.71437081 0.93448037 0.31384583 0.98060334\n",
            " 0.92945289 0.69299115 0.73143961 0.56018569]\n"
          ]
        }
      ],
      "source": [
        "# creating an array with length 10 initialized with random values \n",
        "# (continuous uniform distribution)\n",
        "\n",
        "x_1d_random = np.random.random(10)\n",
        "print(\"An array initialized with random values : \\n {}\".format(x_1d_random))"
      ]
    },
    {
      "cell_type": "code",
      "execution_count": 33,
      "metadata": {
        "id": "HHmg2bAUF9oG",
        "outputId": "66a926f2-f069-483b-c177-d9ff0efa59dc",
        "colab": {
          "base_uri": "https://localhost:8080/"
        }
      },
      "outputs": [
        {
          "output_type": "stream",
          "name": "stdout",
          "text": [
            "A matrix initialized with random values : \n",
            " [[0.8335289  0.68501361 0.58698901 0.24498961 0.85731526 0.44837911\n",
            "  0.26204749 0.44643229 0.65750284 0.01573836]\n",
            " [0.34771703 0.96138425 0.62267703 0.90497998 0.34052733 0.87830332\n",
            "  0.72058513 0.72325584 0.53343763 0.28070261]\n",
            " [0.26554679 0.74546412 0.91483399 0.63203577 0.41221213 0.07126426\n",
            "  0.13191451 0.00817626 0.15497715 0.0279649 ]\n",
            " [0.7706395  0.94405119 0.08073474 0.07735681 0.52028745 0.26911091\n",
            "  0.34021234 0.80737584 0.81851471 0.94300796]\n",
            " [0.96101479 0.23888679 0.32615911 0.03041207 0.26850885 0.94456208\n",
            "  0.25830955 0.46926552 0.53854179 0.48167477]\n",
            " [0.97409732 0.8126102  0.71607053 0.36178692 0.61262465 0.42857971\n",
            "  0.07842773 0.05754303 0.36626358 0.42838105]\n",
            " [0.70419913 0.5834547  0.9358273  0.74644734 0.80291737 0.94846215\n",
            "  0.78521285 0.44695404 0.04762247 0.2727418 ]\n",
            " [0.23366449 0.47433807 0.25061257 0.76416789 0.21989346 0.27084472\n",
            "  0.88801353 0.01562867 0.83734231 0.2598803 ]\n",
            " [0.99154648 0.0366127  0.78284778 0.17469415 0.66128229 0.76384915\n",
            "  0.46577565 0.06984908 0.77106101 0.98402488]\n",
            " [0.75505155 0.51552732 0.6677217  0.80901329 0.69448632 0.14307609\n",
            "  0.12187422 0.01828411 0.42846608 0.25474123]]\n"
          ]
        }
      ],
      "source": [
        "# creating a matrix with size 10x10 initialized with random values \n",
        "# (continuous uniform distribution)\n",
        "\n",
        "x_2d_random = np.random.random((10, 10))\n",
        "print(\"A matrix initialized with random values : \\n {}\".format(x_2d_random))"
      ]
    },
    {
      "cell_type": "markdown",
      "metadata": {
        "id": "yLG0L8VPF9oH"
      },
      "source": [
        "## 1.5 Creating arrays using data loading"
      ]
    },
    {
      "cell_type": "markdown",
      "metadata": {
        "id": "Ml7NZT0NF9oH"
      },
      "source": [
        "Numpy allows loading text-based data (in principle CSV data) via the **loadtxt** function. This function allows loading of CSV-based data from text data streams and transform it into an initialized NumPY array. \n",
        "\n",
        "This function allows also the specification of the parameters for loading operation such as: rows to be skipped, the data delimiter or a the specification of the record array to be associated with the data. "
      ]
    },
    {
      "cell_type": "code",
      "execution_count": 34,
      "metadata": {
        "id": "kiFYoI5LF9oI",
        "colab": {
          "base_uri": "https://localhost:8080/"
        },
        "outputId": "3a666baa-9630-44e7-d27b-a932af2f46c9"
      },
      "outputs": [
        {
          "output_type": "stream",
          "name": "stdout",
          "text": [
            "The CSV loaded data is: \n",
            " [('Finland',    1, 7.77 , 5.54072021e+03)\n",
            " ('Denmark',    2, 7.6  , 5.79220215e+03)\n",
            " ('Norway',    3, 7.555, 5.42124121e+03)\n",
            " ('Iceland',    4, 7.492, 3.41243011e+02)\n",
            " ('Netherlands',    5, 7.49 , 1.71348711e+04)\n",
            " ('Switzerland',    6, 7.48 , 8.65462207e+03)\n",
            " ('Sweden',    7, 7.344, 1.00992646e+04)\n",
            " ('New Zealand',    8, 7.31 , 4.82223291e+03)\n",
            " ('Canada',    9, 7.277, 3.77421523e+04)\n",
            " ('Austria',   10, 7.246, 9.00639844e+03)\n",
            " ('Australia',   11, 7.227, 2.54998848e+04)\n",
            " ('Costa Rica',   12, 7.168, 5.09411816e+03)\n",
            " ('Israel',   13, 7.14 , 8.65553516e+03)\n",
            " ('Luxembourg',   14, 7.09 , 6.25978027e+02)\n",
            " ('United Kingdom',   15, 7.055, 6.78860078e+04)\n",
            " ('Ireland',   16, 7.02 , 4.93778613e+03)\n",
            " ('Germany',   17, 6.984, 8.37839453e+04)\n",
            " ('Belgium',   18, 6.92 , 1.15896230e+04)\n",
            " ('United States',   19, 6.89 , 3.31002656e+05)\n",
            " ('Czech Republic',   20, 6.85 , 1.07089814e+04)\n",
            " ('United Arab Emirates',   21, 6.824, 9.89040234e+03)\n",
            " ('Malta',   22, 6.727, 4.41542999e+02)\n",
            " ('Mexico',   23, 6.594, 1.28932750e+05)\n",
            " ('France',   24, 6.594, 6.52735117e+04)\n",
            " ('Taiwan',   25, 6.445, 2.38167754e+04)\n",
            " ('Chile',   26, 6.445, 1.91162012e+04)\n",
            " ('Guatemala',   27, 6.438, 1.79155684e+04)\n",
            " ('Saudi Arabia',   28, 6.375, 3.48138711e+04)\n",
            " ('Qatar',   29, 6.375, 2.88105298e+03)\n",
            " ('Spain',   30, 6.355, 4.67547773e+04)\n",
            " ('Panama',   31, 6.32 , 4.31476709e+03)\n",
            " ('Brazil',   32, 6.3  , 2.12559422e+05)\n",
            " ('Uruguay',   33, 6.293, 3.47372998e+03)\n",
            " ('Singapore',   34, 6.26 , 5.85034180e+03)\n",
            " ('El Salvador',   35, 6.254, 6.48620508e+03)\n",
            " ('Italy',   36, 6.223, 6.04618242e+04)\n",
            " ('Bahrain',   37, 6.2  , 1.70157495e+03)\n",
            " ('Slovakia',   38, 6.2  , 5.45964209e+03)\n",
            " ('Trinidad and Tobago',   39, 6.19 , 1.39948804e+03)\n",
            " ('Poland',   40, 6.184, 3.78466094e+04)\n",
            " ('Uzbekistan',   41, 6.176, 3.34692031e+04)\n",
            " ('Lithuania',   42, 6.15 , 2.72228906e+03)\n",
            " ('Colombia',   43, 6.125, 5.08828906e+04)\n",
            " ('Slovenia',   44, 6.117, 2.07893799e+03)\n",
            " ('Nicaragua',   45, 6.105, 6.62455420e+03)\n",
            " ('Argentina',   47, 6.086, 4.51957734e+04)\n",
            " ('Romania',   48, 6.07 , 1.92376914e+04)\n",
            " ('Ecuador',   50, 6.027, 1.76430547e+04)\n",
            " ('Kuwait',   51, 6.02 , 4.27057080e+03)\n",
            " ('Thailand',   52, 6.008, 6.97999766e+04)\n",
            " ('Latvia',   53, 5.94 , 1.88619800e+03)\n",
            " ('South Korea',   54, 5.895, 5.12691836e+04)\n",
            " ('Estonia',   55, 5.895, 1.32653503e+03)\n",
            " ('Jamaica',   56, 5.89 , 2.96116699e+03)\n",
            " ('Mauritius',   57, 5.887, 1.27176794e+03)\n",
            " ('Japan',   58, 5.887, 1.26476461e+05)\n",
            " ('Honduras',   59, 5.86 , 9.90460742e+03)\n",
            " ('Kazakhstan',   60, 5.81 , 1.87767070e+04)\n",
            " ('Bolivia',   61, 5.777, 1.16730215e+04)\n",
            " ('Hungary',   62, 5.758, 9.66035059e+03)\n",
            " ('Paraguay',   63, 5.742, 7.13253809e+03)\n",
            " ('Cyprus',   64, 5.72 , 1.20735901e+03)\n",
            " ('Peru',   65, 5.695, 3.29718555e+04)\n",
            " ('Portugal',   66, 5.69 , 1.01967090e+04)\n",
            " ('Pakistan',   67, 5.652, 2.20892344e+05)\n",
            " ('Russia',   68, 5.65 , 1.45934469e+05)\n",
            " ('Philippines',   69, 5.633, 1.09581078e+05)\n",
            " ('Serbia',   70, 5.6  , 8.73737109e+03)\n",
            " ('Moldova',   71, 5.527, 4.03396289e+03)\n",
            " ('Libya',   72, 5.523, 6.87129199e+03)\n",
            " ('Montenegro',   73, 5.523, 6.28065979e+02)\n",
            " ('Tajikistan',   74, 5.47 , 9.53764453e+03)\n",
            " ('Croatia',   75, 5.434, 4.10526709e+03)\n",
            " ('Hong Kong',   76, 5.43 , 7.49698096e+03)\n",
            " ('Dominican Republic',   77, 5.426, 1.08479102e+04)\n",
            " ('Bosnia and Herzegovi',   78, 5.387, 3.28081909e+03)\n",
            " ('Turkey',   79, 5.37 , 8.43390703e+04)\n",
            " ('Malaysia',   80, 5.34 , 3.23659980e+04)\n",
            " ('Belarus',   81, 5.324, 9.44932324e+03)\n",
            " ('Greece',   82, 5.285, 1.04230537e+04)\n",
            " ('Mongolia',   83, 5.285, 3.27829004e+03)\n",
            " ('Nigeria',   85, 5.266, 2.06139594e+05)\n",
            " ('Kyrgyzstan',   86, 5.26 , 6.52419482e+03)\n",
            " ('Turkmenistan',   87, 5.246, 6.03120020e+03)\n",
            " ('Algeria',   88, 5.21 , 4.38510430e+04)\n",
            " ('Morocco',   89, 5.207, 3.69105586e+04)\n",
            " ('Azerbaijan',   90, 5.207, 1.01391768e+04)\n",
            " ('Lebanon',   91, 5.195, 6.82544482e+03)\n",
            " ('Indonesia',   92, 5.19 , 2.73523625e+05)\n",
            " ('China',   93, 5.19 , 1.43932375e+06)\n",
            " ('Vietnam',   94, 5.176, 9.73385781e+04)\n",
            " ('Bhutan',   95, 5.082, 7.71607971e+02)\n",
            " ('Cameroon',   96, 5.043, 2.65458633e+04)\n",
            " ('Bulgaria',   97, 5.01 , 6.94844482e+03)\n",
            " ('Ghana',   98, 4.996, 3.10729395e+04)\n",
            " ('Ivory Coast',   99, 4.945, 2.63782734e+04)\n",
            " ('Nepal',  100, 4.914, 2.91368086e+04)\n",
            " ('Jordan',  101, 4.906, 1.02031338e+04)\n",
            " ('Benin',  102, 4.883, 1.21232002e+04)\n",
            " ('Republic of the Cong',  103, 4.812, 5.51808691e+03)\n",
            " ('Gabon',  104, 4.8  , 2.22573389e+03)\n",
            " ('Laos',  105, 4.797, 7.27556006e+03)\n",
            " ('South Africa',  106, 4.723, 5.93086914e+04)\n",
            " ('Albania',  107, 4.72 , 2.87779712e+03)\n",
            " ('Venezuela',  108, 4.707, 2.84359395e+04)\n",
            " ('Cambodia',  109, 4.7  , 1.67189648e+04)\n",
            " ('Palestine',  110, 4.695, 5.10141406e+03)\n",
            " ('Senegal',  111, 4.68 , 1.67439277e+04)\n",
            " ('Somalia',  112, 4.668, 1.58932217e+04)\n",
            " ('Namibia',  113, 4.64 , 2.54090503e+03)\n",
            " ('Niger',  114, 4.63 , 2.42066445e+04)\n",
            " ('Burkina Faso',  115, 4.586, 2.09032734e+04)\n",
            " ('Armenia',  116, 4.56 , 2.96324292e+03)\n",
            " ('Iran',  117, 4.547, 8.39929453e+04)\n",
            " ('Guinea',  118, 4.535, 1.31327949e+04)\n",
            " ('Georgia',  119, 4.52 , 3.98916699e+03)\n",
            " ('Gambia',  120, 4.516, 2.41666797e+03)\n",
            " ('Kenya',  121, 4.508, 5.37712969e+04)\n",
            " ('Mauritania',  122, 4.49 , 4.64965820e+03)\n",
            " ('Mozambique',  123, 4.465, 3.12554355e+04)\n",
            " ('Tunisia',  124, 4.46 , 1.18186191e+04)\n",
            " ('Bangladesh',  125, 4.457, 1.64689391e+05)\n",
            " ('Iraq',  126, 4.438, 4.02224922e+04)\n",
            " ('DR Congo',  127, 4.418, 8.95614062e+04)\n",
            " ('Mali', -128, 4.39 , 2.02508320e+04)\n",
            " ('Sierra Leone', -127, 4.375, 7.97698291e+03)\n",
            " ('Sri Lanka', -126, 4.367, 2.14132480e+04)\n",
            " ('Myanmar', -125, 4.36 , 5.44098008e+04)\n",
            " ('Chad', -124, 4.35 , 1.64258633e+04)\n",
            " ('Ukraine', -123, 4.332, 4.37337617e+04)\n",
            " ('Ethiopia', -122, 4.285, 1.14963586e+05)\n",
            " ('Uganda', -120, 4.188, 4.57410078e+04)\n",
            " ('Egypt', -119, 4.164, 1.02334406e+05)\n",
            " ('Zambia', -118, 4.105, 1.83839551e+04)\n",
            " ('Togo', -117, 4.086, 8.27872363e+03)\n",
            " ('India', -116, 4.016, 1.38000438e+06)\n",
            " ('Liberia', -115, 3.975, 5.05768115e+03)\n",
            " ('Comoros', -114, 3.973, 8.69601013e+02)\n",
            " ('Madagascar', -113, 3.934, 2.76910176e+04)\n",
            " ('Lesotho', -112, 3.803, 2.14224902e+03)\n",
            " ('Burundi', -111, 3.775, 1.18907842e+04)\n",
            " ('Zimbabwe', -110, 3.662, 1.48629238e+04)\n",
            " ('Haiti', -109, 3.598, 1.14025283e+04)\n",
            " ('Botswana', -108, 3.488, 2.35162695e+03)\n",
            " ('Syria', -107, 3.463, 1.75006582e+04)\n",
            " ('Malawi', -106, 3.41 , 1.91299512e+04)\n",
            " ('Yemen', -105, 3.38 , 2.98259648e+04)\n",
            " ('Rwanda', -104, 3.334, 1.29522178e+04)\n",
            " ('Tanzania', -103, 3.23 , 5.97342188e+04)\n",
            " ('Afghanistan', -102, 3.203, 3.89283477e+04)\n",
            " ('Central African Repu', -101, 3.082, 4.82976709e+03)\n",
            " ('South Sudan', -100, 2.854, 1.11937246e+04)]\n"
          ]
        }
      ],
      "source": [
        "# import packages for remote data load\n",
        "import requests\n",
        "import io\n",
        "\n",
        "# read data remotely\n",
        "data_url = \"https://raw.githubusercontent.com/INTERTECHNICA-BUSINESS-SOLUTIONS-SRL/CourseDataManipulationWithPython/main/Module%202%20-%20The%20Numpy%20Library/Session%202%20-%20NumPy%20Basics/data/country_happines_rank_2020.csv\"\n",
        "response = requests.get(data_url)\n",
        "\n",
        "# load the string data into a record array\n",
        "loaded_data = np.loadtxt(\n",
        "    io.StringIO(response.text), \n",
        "    skiprows = 1, \n",
        "    delimiter = \",\", \n",
        "    dtype = {\"names\" : (\"Country\", \"Rank\", \"Score\", \"Population\"),\n",
        "            \"formats\": (\"U20\", \"int8\", \"float16\", \"float32\")}\n",
        ")\n",
        "\n",
        "print(\"The CSV loaded data is: \\n {}\".format(loaded_data))"
      ]
    }
  ],
  "metadata": {
    "kernelspec": {
      "display_name": "Python 3",
      "language": "python",
      "name": "python3"
    },
    "language_info": {
      "codemirror_mode": {
        "name": "ipython",
        "version": 3
      },
      "file_extension": ".py",
      "mimetype": "text/x-python",
      "name": "python",
      "nbconvert_exporter": "python",
      "pygments_lexer": "ipython3",
      "version": "3.7.3"
    },
    "colab": {
      "name": "003_NumPy_Array_Creation.ipynb",
      "provenance": [],
      "collapsed_sections": []
    }
  },
  "nbformat": 4,
  "nbformat_minor": 0
}